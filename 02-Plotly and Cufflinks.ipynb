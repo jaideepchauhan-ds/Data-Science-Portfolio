{
 "cells": [
  {
   "cell_type": "markdown",
   "metadata": {},
   "source": [
    "___\n",
    "\n",
    "<a href='http://www.pieriandata.com'> <img src='../Pierian_Data_Logo.png' /></a>\n",
    "___\n",
    "# Plotly and Cufflinks"
   ]
  },
  {
   "cell_type": "markdown",
   "metadata": {},
   "source": [
    "Plotly is a library that allows you to create interactive plots that you can use in dashboards or websites (you can save them as html files or static images).\n",
    "\n",
    "## Installation\n",
    "\n",
    "In order for this all to work, you'll need to install plotly and cufflinks to call plots directly off of a pandas dataframe. These libraries are not currently available through **conda** but are available through **pip**. Install the libraries at your command line/terminal using:\n",
    "\n",
    "    pip install plotly\n",
    "    pip install cufflinks\n",
    "\n",
    "** NOTE: Make sure you only have one installation of Python on your computer when you do this, otherwise the installation may not work. **\n",
    "\n",
    "## Imports and Set-up"
   ]
  },
  {
   "cell_type": "code",
   "execution_count": 1,
   "metadata": {},
   "outputs": [],
   "source": [
    "import pandas as pd\n",
    "import numpy as np\n",
    "%matplotlib inline"
   ]
  },
  {
   "cell_type": "code",
   "execution_count": 2,
   "metadata": {},
   "outputs": [
    {
     "name": "stdout",
     "output_type": "stream",
     "text": [
      "4.14.1\n"
     ]
    }
   ],
   "source": [
    "from plotly import __version__\n",
    "from plotly.offline import download_plotlyjs, init_notebook_mode, plot, iplot\n",
    "\n",
    "print(__version__) # requires version >= 1.9.0"
   ]
  },
  {
   "cell_type": "code",
   "execution_count": 3,
   "metadata": {},
   "outputs": [],
   "source": [
    "import cufflinks as cf"
   ]
  },
  {
   "cell_type": "code",
   "execution_count": 5,
   "metadata": {},
   "outputs": [
    {
     "data": {
      "text/html": [
       "        <script type=\"text/javascript\">\n",
       "        window.PlotlyConfig = {MathJaxConfig: 'local'};\n",
       "        if (window.MathJax) {MathJax.Hub.Config({SVG: {font: \"STIX-Web\"}});}\n",
       "        if (typeof require !== 'undefined') {\n",
       "        require.undef(\"plotly\");\n",
       "        requirejs.config({\n",
       "            paths: {\n",
       "                'plotly': ['https://cdn.plot.ly/plotly-latest.min']\n",
       "            }\n",
       "        });\n",
       "        require(['plotly'], function(Plotly) {\n",
       "            window._Plotly = Plotly;\n",
       "        });\n",
       "        }\n",
       "        </script>\n",
       "        "
      ]
     },
     "metadata": {},
     "output_type": "display_data"
    }
   ],
   "source": [
    "# For Notebooks\n",
    "init_notebook_mode(connected=True)"
   ]
  },
  {
   "cell_type": "code",
   "execution_count": 6,
   "metadata": {},
   "outputs": [
    {
     "data": {
      "text/html": [
       "        <script type=\"text/javascript\">\n",
       "        window.PlotlyConfig = {MathJaxConfig: 'local'};\n",
       "        if (window.MathJax) {MathJax.Hub.Config({SVG: {font: \"STIX-Web\"}});}\n",
       "        if (typeof require !== 'undefined') {\n",
       "        require.undef(\"plotly\");\n",
       "        requirejs.config({\n",
       "            paths: {\n",
       "                'plotly': ['https://cdn.plot.ly/plotly-latest.min']\n",
       "            }\n",
       "        });\n",
       "        require(['plotly'], function(Plotly) {\n",
       "            window._Plotly = Plotly;\n",
       "        });\n",
       "        }\n",
       "        </script>\n",
       "        "
      ]
     },
     "metadata": {},
     "output_type": "display_data"
    }
   ],
   "source": [
    "# For offline use\n",
    "cf.go_offline()"
   ]
  },
  {
   "cell_type": "markdown",
   "metadata": {},
   "source": [
    "### Fake Data"
   ]
  },
  {
   "cell_type": "code",
   "execution_count": 7,
   "metadata": {},
   "outputs": [],
   "source": [
    "df = pd.DataFrame(np.random.randn(100,4),columns='A B C D'.split())"
   ]
  },
  {
   "cell_type": "code",
   "execution_count": 8,
   "metadata": {},
   "outputs": [
    {
     "data": {
      "text/html": [
       "<div>\n",
       "<style scoped>\n",
       "    .dataframe tbody tr th:only-of-type {\n",
       "        vertical-align: middle;\n",
       "    }\n",
       "\n",
       "    .dataframe tbody tr th {\n",
       "        vertical-align: top;\n",
       "    }\n",
       "\n",
       "    .dataframe thead th {\n",
       "        text-align: right;\n",
       "    }\n",
       "</style>\n",
       "<table border=\"1\" class=\"dataframe\">\n",
       "  <thead>\n",
       "    <tr style=\"text-align: right;\">\n",
       "      <th></th>\n",
       "      <th>A</th>\n",
       "      <th>B</th>\n",
       "      <th>C</th>\n",
       "      <th>D</th>\n",
       "    </tr>\n",
       "  </thead>\n",
       "  <tbody>\n",
       "    <tr>\n",
       "      <th>0</th>\n",
       "      <td>-0.828026</td>\n",
       "      <td>0.748886</td>\n",
       "      <td>1.725380</td>\n",
       "      <td>0.488207</td>\n",
       "    </tr>\n",
       "    <tr>\n",
       "      <th>1</th>\n",
       "      <td>-2.772974</td>\n",
       "      <td>-2.063477</td>\n",
       "      <td>-0.880441</td>\n",
       "      <td>-0.173060</td>\n",
       "    </tr>\n",
       "    <tr>\n",
       "      <th>2</th>\n",
       "      <td>-0.381213</td>\n",
       "      <td>0.158965</td>\n",
       "      <td>1.331117</td>\n",
       "      <td>-0.180293</td>\n",
       "    </tr>\n",
       "    <tr>\n",
       "      <th>3</th>\n",
       "      <td>0.788071</td>\n",
       "      <td>0.982443</td>\n",
       "      <td>-0.211500</td>\n",
       "      <td>0.088974</td>\n",
       "    </tr>\n",
       "    <tr>\n",
       "      <th>4</th>\n",
       "      <td>2.808493</td>\n",
       "      <td>0.517796</td>\n",
       "      <td>-1.167446</td>\n",
       "      <td>0.475908</td>\n",
       "    </tr>\n",
       "  </tbody>\n",
       "</table>\n",
       "</div>"
      ],
      "text/plain": [
       "          A         B         C         D\n",
       "0 -0.828026  0.748886  1.725380  0.488207\n",
       "1 -2.772974 -2.063477 -0.880441 -0.173060\n",
       "2 -0.381213  0.158965  1.331117 -0.180293\n",
       "3  0.788071  0.982443 -0.211500  0.088974\n",
       "4  2.808493  0.517796 -1.167446  0.475908"
      ]
     },
     "execution_count": 8,
     "metadata": {},
     "output_type": "execute_result"
    }
   ],
   "source": [
    "df.head()"
   ]
  },
  {
   "cell_type": "code",
   "execution_count": 9,
   "metadata": {},
   "outputs": [],
   "source": [
    "df2 = pd.DataFrame({'Category':['A','B','C'],'Values':[32,43,50]})"
   ]
  },
  {
   "cell_type": "code",
   "execution_count": 10,
   "metadata": {},
   "outputs": [
    {
     "data": {
      "text/html": [
       "<div>\n",
       "<style scoped>\n",
       "    .dataframe tbody tr th:only-of-type {\n",
       "        vertical-align: middle;\n",
       "    }\n",
       "\n",
       "    .dataframe tbody tr th {\n",
       "        vertical-align: top;\n",
       "    }\n",
       "\n",
       "    .dataframe thead th {\n",
       "        text-align: right;\n",
       "    }\n",
       "</style>\n",
       "<table border=\"1\" class=\"dataframe\">\n",
       "  <thead>\n",
       "    <tr style=\"text-align: right;\">\n",
       "      <th></th>\n",
       "      <th>Category</th>\n",
       "      <th>Values</th>\n",
       "    </tr>\n",
       "  </thead>\n",
       "  <tbody>\n",
       "    <tr>\n",
       "      <th>0</th>\n",
       "      <td>A</td>\n",
       "      <td>32</td>\n",
       "    </tr>\n",
       "    <tr>\n",
       "      <th>1</th>\n",
       "      <td>B</td>\n",
       "      <td>43</td>\n",
       "    </tr>\n",
       "    <tr>\n",
       "      <th>2</th>\n",
       "      <td>C</td>\n",
       "      <td>50</td>\n",
       "    </tr>\n",
       "  </tbody>\n",
       "</table>\n",
       "</div>"
      ],
      "text/plain": [
       "  Category  Values\n",
       "0        A      32\n",
       "1        B      43\n",
       "2        C      50"
      ]
     },
     "execution_count": 10,
     "metadata": {},
     "output_type": "execute_result"
    }
   ],
   "source": [
    "df2.head()"
   ]
  },
  {
   "cell_type": "markdown",
   "metadata": {},
   "source": [
    "## Using Cufflinks and iplot()\n",
    "\n",
    "* scatter\n",
    "* bar\n",
    "* box\n",
    "* spread\n",
    "* ratio\n",
    "* heatmap\n",
    "* surface\n",
    "* histogram\n",
    "* bubble"
   ]
  },
  {
   "cell_type": "markdown",
   "metadata": {},
   "source": [
    "## Scatter"
   ]
  },
  {
   "cell_type": "code",
   "execution_count": 12,
   "metadata": {},
   "outputs": [
    {
     "data": {
      "application/vnd.plotly.v1+json": {
       "config": {
        "linkText": "Export to plot.ly",
        "plotlyServerURL": "https://plot.ly",
        "showLink": true
       },
       "data": [
        {
         "line": {
          "color": "rgba(255, 153, 51, 1.0)",
          "dash": "solid",
          "shape": "linear",
          "width": 1.3
         },
         "marker": {
          "size": 10,
          "symbol": "circle"
         },
         "mode": "markers",
         "name": "B",
         "text": "",
         "type": "scatter",
         "x": [
          -0.8280260723763271,
          -2.77297444794199,
          -0.38121323391729234,
          0.7880707860623422,
          2.8084929576725313,
          -0.1374432130485793,
          1.4665828322027583,
          1.7170018404039853,
          -0.006694875240469727,
          -0.35801270109138483,
          -0.7945315217293085,
          1.107530808756093,
          1.1790484531176757,
          0.36440605216798233,
          -1.5822209826572298,
          -1.2750553918693035,
          -1.2090255857903993,
          0.4590850858171039,
          -0.6285482031372056,
          1.0546402699013748,
          1.5138351311137501,
          0.8734592513564242,
          0.21901261206315306,
          -1.163953212801199,
          -0.335892690218668,
          0.4938820380998607,
          0.06783004821863114,
          1.542059648394881,
          0.49156166686043756,
          0.4633288124694026,
          -0.9489982987198811,
          0.47065989470899516,
          -0.4418890963795218,
          0.44347045975400295,
          0.8144597660455606,
          -0.6531579459403273,
          0.42815418084727563,
          -0.3588910458379977,
          -0.5335759249000853,
          0.6314714718116694,
          -0.8487016591558267,
          1.5846252025402214,
          0.17310725166180807,
          0.27059605517156654,
          -0.4694392142146777,
          0.5838091465034632,
          -0.3432331323029411,
          -0.48966126380907626,
          -2.3796874131530377,
          1.3587330456455726,
          1.1171967076671219,
          -0.20850895799541944,
          -0.3995385709353827,
          -1.8147865778734724,
          0.7161603237047958,
          -1.269138912896145,
          -1.6827178168553847,
          -0.6674891664222559,
          -0.30249711294977955,
          0.6631651824638187,
          2.291182619859816,
          -2.458340895167761,
          0.2899567568659667,
          -0.47300884042820934,
          2.09432237150058,
          0.582786511773274,
          -1.1346112433030937,
          -1.2649618327532324,
          0.34316321337446215,
          -0.19277560479566427,
          0.33379569707167217,
          -1.517505142343097,
          -0.4055330148343431,
          1.3329366341718163,
          3.0880651844214007,
          -1.3533913810566096,
          0.3437532931939382,
          -1.6575292547862113,
          0.7154451417562238,
          -0.12577120476387404,
          -0.1221947706218079,
          0.5829755695712423,
          -1.5671691676011716,
          1.1105896726371092,
          -0.09369513621117644,
          1.0955857442776014,
          -1.4282369786985993,
          -0.05097785455827381,
          -0.5972071263206464,
          -1.256475896277932,
          -1.8851731596449193,
          0.828590542968046,
          -0.4062491091331472,
          0.0807500132107527,
          0.013163707403381393,
          -0.6217284887018927,
          -0.24693675551235092,
          0.06197700019368634,
          0.5634486026666133,
          0.6059138751307764
         ],
         "y": [
          0.7488859249957294,
          -2.063476523426313,
          0.15896478732317448,
          0.9824428266957366,
          0.5177956680669261,
          1.2795287511749251,
          1.3168697401336789,
          -2.5769642163271804,
          -0.5223469831142037,
          1.8181176703709536,
          -0.472385080891169,
          0.5902248057458955,
          0.06501344080504949,
          -0.47080216571861333,
          0.18228275869868904,
          0.23126754721306877,
          0.6149010050060569,
          0.7222076794396597,
          -0.47556970422863515,
          0.460047800114019,
          0.20905587617029056,
          0.7386997197730129,
          0.2963947509662543,
          1.3324755157131947,
          1.0847241543052293,
          0.7238084792303607,
          0.031773286629343866,
          -0.85317652648317,
          -0.3103145393346325,
          -0.03628269694808576,
          -0.3086240085353415,
          -0.8791329349989142,
          -1.4582997557298272,
          1.0563940955502773,
          0.7624476857491007,
          -0.637472747395494,
          0.08463847795218485,
          -1.1360972676061123,
          0.3278612242444931,
          0.6074498411024112,
          -1.9401239947752962,
          -0.6993479106510858,
          1.3059278691514857,
          -0.19424188683695787,
          -1.2604848908802941,
          0.952687783783637,
          -1.546031553055093,
          -0.6993206460498765,
          0.20344776954368982,
          -0.7243873284737312,
          -0.9800294868969891,
          -0.514665260515114,
          1.0336926944205553,
          -0.9088425929534667,
          -1.2397144953831822,
          0.9812633628328463,
          2.7523411232946318,
          -0.7275897094517473,
          0.6909293763885511,
          0.679755401619041,
          -0.3870724045077387,
          0.8660805606258668,
          -1.3245161399204266,
          1.1927202884162393,
          0.08939780005427155,
          -2.806889952909305,
          0.8929360431986725,
          -0.12770744108226054,
          0.21199734276229967,
          1.1372829909715767,
          0.09620678459480445,
          -0.3018606425639405,
          0.9102322118714832,
          -2.309881595960726,
          -1.6100568373409712,
          0.6090688747514684,
          -0.6838011355845027,
          -0.2748716990341536,
          -0.4223440623301072,
          -0.8873989045199661,
          -0.0009738308528003652,
          0.10028669510880826,
          -0.048778800761219,
          1.3184511662605012,
          -2.195277463199274,
          0.34417282099715746,
          0.2628105585137296,
          1.4326207032621394,
          0.2935366035552767,
          0.39908458968185134,
          -1.4759639597995606,
          -0.560377497609232,
          -1.762548372904548,
          1.3007570365012764,
          0.1805535576155475,
          0.4187410435886277,
          -0.008350929356977793,
          -1.4548926844956653,
          -1.074772822423682,
          0.5854026103720574
         ]
        }
       ],
       "layout": {
        "legend": {
         "bgcolor": "#F5F6F9",
         "font": {
          "color": "#4D5663"
         }
        },
        "paper_bgcolor": "#F5F6F9",
        "plot_bgcolor": "#F5F6F9",
        "template": {
         "data": {
          "bar": [
           {
            "error_x": {
             "color": "#2a3f5f"
            },
            "error_y": {
             "color": "#2a3f5f"
            },
            "marker": {
             "line": {
              "color": "#E5ECF6",
              "width": 0.5
             }
            },
            "type": "bar"
           }
          ],
          "barpolar": [
           {
            "marker": {
             "line": {
              "color": "#E5ECF6",
              "width": 0.5
             }
            },
            "type": "barpolar"
           }
          ],
          "carpet": [
           {
            "aaxis": {
             "endlinecolor": "#2a3f5f",
             "gridcolor": "white",
             "linecolor": "white",
             "minorgridcolor": "white",
             "startlinecolor": "#2a3f5f"
            },
            "baxis": {
             "endlinecolor": "#2a3f5f",
             "gridcolor": "white",
             "linecolor": "white",
             "minorgridcolor": "white",
             "startlinecolor": "#2a3f5f"
            },
            "type": "carpet"
           }
          ],
          "choropleth": [
           {
            "colorbar": {
             "outlinewidth": 0,
             "ticks": ""
            },
            "type": "choropleth"
           }
          ],
          "contour": [
           {
            "colorbar": {
             "outlinewidth": 0,
             "ticks": ""
            },
            "colorscale": [
             [
              0,
              "#0d0887"
             ],
             [
              0.1111111111111111,
              "#46039f"
             ],
             [
              0.2222222222222222,
              "#7201a8"
             ],
             [
              0.3333333333333333,
              "#9c179e"
             ],
             [
              0.4444444444444444,
              "#bd3786"
             ],
             [
              0.5555555555555556,
              "#d8576b"
             ],
             [
              0.6666666666666666,
              "#ed7953"
             ],
             [
              0.7777777777777778,
              "#fb9f3a"
             ],
             [
              0.8888888888888888,
              "#fdca26"
             ],
             [
              1,
              "#f0f921"
             ]
            ],
            "type": "contour"
           }
          ],
          "contourcarpet": [
           {
            "colorbar": {
             "outlinewidth": 0,
             "ticks": ""
            },
            "type": "contourcarpet"
           }
          ],
          "heatmap": [
           {
            "colorbar": {
             "outlinewidth": 0,
             "ticks": ""
            },
            "colorscale": [
             [
              0,
              "#0d0887"
             ],
             [
              0.1111111111111111,
              "#46039f"
             ],
             [
              0.2222222222222222,
              "#7201a8"
             ],
             [
              0.3333333333333333,
              "#9c179e"
             ],
             [
              0.4444444444444444,
              "#bd3786"
             ],
             [
              0.5555555555555556,
              "#d8576b"
             ],
             [
              0.6666666666666666,
              "#ed7953"
             ],
             [
              0.7777777777777778,
              "#fb9f3a"
             ],
             [
              0.8888888888888888,
              "#fdca26"
             ],
             [
              1,
              "#f0f921"
             ]
            ],
            "type": "heatmap"
           }
          ],
          "heatmapgl": [
           {
            "colorbar": {
             "outlinewidth": 0,
             "ticks": ""
            },
            "colorscale": [
             [
              0,
              "#0d0887"
             ],
             [
              0.1111111111111111,
              "#46039f"
             ],
             [
              0.2222222222222222,
              "#7201a8"
             ],
             [
              0.3333333333333333,
              "#9c179e"
             ],
             [
              0.4444444444444444,
              "#bd3786"
             ],
             [
              0.5555555555555556,
              "#d8576b"
             ],
             [
              0.6666666666666666,
              "#ed7953"
             ],
             [
              0.7777777777777778,
              "#fb9f3a"
             ],
             [
              0.8888888888888888,
              "#fdca26"
             ],
             [
              1,
              "#f0f921"
             ]
            ],
            "type": "heatmapgl"
           }
          ],
          "histogram": [
           {
            "marker": {
             "colorbar": {
              "outlinewidth": 0,
              "ticks": ""
             }
            },
            "type": "histogram"
           }
          ],
          "histogram2d": [
           {
            "colorbar": {
             "outlinewidth": 0,
             "ticks": ""
            },
            "colorscale": [
             [
              0,
              "#0d0887"
             ],
             [
              0.1111111111111111,
              "#46039f"
             ],
             [
              0.2222222222222222,
              "#7201a8"
             ],
             [
              0.3333333333333333,
              "#9c179e"
             ],
             [
              0.4444444444444444,
              "#bd3786"
             ],
             [
              0.5555555555555556,
              "#d8576b"
             ],
             [
              0.6666666666666666,
              "#ed7953"
             ],
             [
              0.7777777777777778,
              "#fb9f3a"
             ],
             [
              0.8888888888888888,
              "#fdca26"
             ],
             [
              1,
              "#f0f921"
             ]
            ],
            "type": "histogram2d"
           }
          ],
          "histogram2dcontour": [
           {
            "colorbar": {
             "outlinewidth": 0,
             "ticks": ""
            },
            "colorscale": [
             [
              0,
              "#0d0887"
             ],
             [
              0.1111111111111111,
              "#46039f"
             ],
             [
              0.2222222222222222,
              "#7201a8"
             ],
             [
              0.3333333333333333,
              "#9c179e"
             ],
             [
              0.4444444444444444,
              "#bd3786"
             ],
             [
              0.5555555555555556,
              "#d8576b"
             ],
             [
              0.6666666666666666,
              "#ed7953"
             ],
             [
              0.7777777777777778,
              "#fb9f3a"
             ],
             [
              0.8888888888888888,
              "#fdca26"
             ],
             [
              1,
              "#f0f921"
             ]
            ],
            "type": "histogram2dcontour"
           }
          ],
          "mesh3d": [
           {
            "colorbar": {
             "outlinewidth": 0,
             "ticks": ""
            },
            "type": "mesh3d"
           }
          ],
          "parcoords": [
           {
            "line": {
             "colorbar": {
              "outlinewidth": 0,
              "ticks": ""
             }
            },
            "type": "parcoords"
           }
          ],
          "pie": [
           {
            "automargin": true,
            "type": "pie"
           }
          ],
          "scatter": [
           {
            "marker": {
             "colorbar": {
              "outlinewidth": 0,
              "ticks": ""
             }
            },
            "type": "scatter"
           }
          ],
          "scatter3d": [
           {
            "line": {
             "colorbar": {
              "outlinewidth": 0,
              "ticks": ""
             }
            },
            "marker": {
             "colorbar": {
              "outlinewidth": 0,
              "ticks": ""
             }
            },
            "type": "scatter3d"
           }
          ],
          "scattercarpet": [
           {
            "marker": {
             "colorbar": {
              "outlinewidth": 0,
              "ticks": ""
             }
            },
            "type": "scattercarpet"
           }
          ],
          "scattergeo": [
           {
            "marker": {
             "colorbar": {
              "outlinewidth": 0,
              "ticks": ""
             }
            },
            "type": "scattergeo"
           }
          ],
          "scattergl": [
           {
            "marker": {
             "colorbar": {
              "outlinewidth": 0,
              "ticks": ""
             }
            },
            "type": "scattergl"
           }
          ],
          "scattermapbox": [
           {
            "marker": {
             "colorbar": {
              "outlinewidth": 0,
              "ticks": ""
             }
            },
            "type": "scattermapbox"
           }
          ],
          "scatterpolar": [
           {
            "marker": {
             "colorbar": {
              "outlinewidth": 0,
              "ticks": ""
             }
            },
            "type": "scatterpolar"
           }
          ],
          "scatterpolargl": [
           {
            "marker": {
             "colorbar": {
              "outlinewidth": 0,
              "ticks": ""
             }
            },
            "type": "scatterpolargl"
           }
          ],
          "scatterternary": [
           {
            "marker": {
             "colorbar": {
              "outlinewidth": 0,
              "ticks": ""
             }
            },
            "type": "scatterternary"
           }
          ],
          "surface": [
           {
            "colorbar": {
             "outlinewidth": 0,
             "ticks": ""
            },
            "colorscale": [
             [
              0,
              "#0d0887"
             ],
             [
              0.1111111111111111,
              "#46039f"
             ],
             [
              0.2222222222222222,
              "#7201a8"
             ],
             [
              0.3333333333333333,
              "#9c179e"
             ],
             [
              0.4444444444444444,
              "#bd3786"
             ],
             [
              0.5555555555555556,
              "#d8576b"
             ],
             [
              0.6666666666666666,
              "#ed7953"
             ],
             [
              0.7777777777777778,
              "#fb9f3a"
             ],
             [
              0.8888888888888888,
              "#fdca26"
             ],
             [
              1,
              "#f0f921"
             ]
            ],
            "type": "surface"
           }
          ],
          "table": [
           {
            "cells": {
             "fill": {
              "color": "#EBF0F8"
             },
             "line": {
              "color": "white"
             }
            },
            "header": {
             "fill": {
              "color": "#C8D4E3"
             },
             "line": {
              "color": "white"
             }
            },
            "type": "table"
           }
          ]
         },
         "layout": {
          "annotationdefaults": {
           "arrowcolor": "#2a3f5f",
           "arrowhead": 0,
           "arrowwidth": 1
          },
          "autotypenumbers": "strict",
          "coloraxis": {
           "colorbar": {
            "outlinewidth": 0,
            "ticks": ""
           }
          },
          "colorscale": {
           "diverging": [
            [
             0,
             "#8e0152"
            ],
            [
             0.1,
             "#c51b7d"
            ],
            [
             0.2,
             "#de77ae"
            ],
            [
             0.3,
             "#f1b6da"
            ],
            [
             0.4,
             "#fde0ef"
            ],
            [
             0.5,
             "#f7f7f7"
            ],
            [
             0.6,
             "#e6f5d0"
            ],
            [
             0.7,
             "#b8e186"
            ],
            [
             0.8,
             "#7fbc41"
            ],
            [
             0.9,
             "#4d9221"
            ],
            [
             1,
             "#276419"
            ]
           ],
           "sequential": [
            [
             0,
             "#0d0887"
            ],
            [
             0.1111111111111111,
             "#46039f"
            ],
            [
             0.2222222222222222,
             "#7201a8"
            ],
            [
             0.3333333333333333,
             "#9c179e"
            ],
            [
             0.4444444444444444,
             "#bd3786"
            ],
            [
             0.5555555555555556,
             "#d8576b"
            ],
            [
             0.6666666666666666,
             "#ed7953"
            ],
            [
             0.7777777777777778,
             "#fb9f3a"
            ],
            [
             0.8888888888888888,
             "#fdca26"
            ],
            [
             1,
             "#f0f921"
            ]
           ],
           "sequentialminus": [
            [
             0,
             "#0d0887"
            ],
            [
             0.1111111111111111,
             "#46039f"
            ],
            [
             0.2222222222222222,
             "#7201a8"
            ],
            [
             0.3333333333333333,
             "#9c179e"
            ],
            [
             0.4444444444444444,
             "#bd3786"
            ],
            [
             0.5555555555555556,
             "#d8576b"
            ],
            [
             0.6666666666666666,
             "#ed7953"
            ],
            [
             0.7777777777777778,
             "#fb9f3a"
            ],
            [
             0.8888888888888888,
             "#fdca26"
            ],
            [
             1,
             "#f0f921"
            ]
           ]
          },
          "colorway": [
           "#636efa",
           "#EF553B",
           "#00cc96",
           "#ab63fa",
           "#FFA15A",
           "#19d3f3",
           "#FF6692",
           "#B6E880",
           "#FF97FF",
           "#FECB52"
          ],
          "font": {
           "color": "#2a3f5f"
          },
          "geo": {
           "bgcolor": "white",
           "lakecolor": "white",
           "landcolor": "#E5ECF6",
           "showlakes": true,
           "showland": true,
           "subunitcolor": "white"
          },
          "hoverlabel": {
           "align": "left"
          },
          "hovermode": "closest",
          "mapbox": {
           "style": "light"
          },
          "paper_bgcolor": "white",
          "plot_bgcolor": "#E5ECF6",
          "polar": {
           "angularaxis": {
            "gridcolor": "white",
            "linecolor": "white",
            "ticks": ""
           },
           "bgcolor": "#E5ECF6",
           "radialaxis": {
            "gridcolor": "white",
            "linecolor": "white",
            "ticks": ""
           }
          },
          "scene": {
           "xaxis": {
            "backgroundcolor": "#E5ECF6",
            "gridcolor": "white",
            "gridwidth": 2,
            "linecolor": "white",
            "showbackground": true,
            "ticks": "",
            "zerolinecolor": "white"
           },
           "yaxis": {
            "backgroundcolor": "#E5ECF6",
            "gridcolor": "white",
            "gridwidth": 2,
            "linecolor": "white",
            "showbackground": true,
            "ticks": "",
            "zerolinecolor": "white"
           },
           "zaxis": {
            "backgroundcolor": "#E5ECF6",
            "gridcolor": "white",
            "gridwidth": 2,
            "linecolor": "white",
            "showbackground": true,
            "ticks": "",
            "zerolinecolor": "white"
           }
          },
          "shapedefaults": {
           "line": {
            "color": "#2a3f5f"
           }
          },
          "ternary": {
           "aaxis": {
            "gridcolor": "white",
            "linecolor": "white",
            "ticks": ""
           },
           "baxis": {
            "gridcolor": "white",
            "linecolor": "white",
            "ticks": ""
           },
           "bgcolor": "#E5ECF6",
           "caxis": {
            "gridcolor": "white",
            "linecolor": "white",
            "ticks": ""
           }
          },
          "title": {
           "x": 0.05
          },
          "xaxis": {
           "automargin": true,
           "gridcolor": "white",
           "linecolor": "white",
           "ticks": "",
           "title": {
            "standoff": 15
           },
           "zerolinecolor": "white",
           "zerolinewidth": 2
          },
          "yaxis": {
           "automargin": true,
           "gridcolor": "white",
           "linecolor": "white",
           "ticks": "",
           "title": {
            "standoff": 15
           },
           "zerolinecolor": "white",
           "zerolinewidth": 2
          }
         }
        },
        "title": {
         "font": {
          "color": "#4D5663"
         }
        },
        "xaxis": {
         "gridcolor": "#E1E5ED",
         "showgrid": true,
         "tickfont": {
          "color": "#4D5663"
         },
         "title": {
          "font": {
           "color": "#4D5663"
          },
          "text": ""
         },
         "zerolinecolor": "#E1E5ED"
        },
        "yaxis": {
         "gridcolor": "#E1E5ED",
         "showgrid": true,
         "tickfont": {
          "color": "#4D5663"
         },
         "title": {
          "font": {
           "color": "#4D5663"
          },
          "text": ""
         },
         "zerolinecolor": "#E1E5ED"
        }
       }
      },
      "text/html": [
       "<div>                            <div id=\"d08c4ec0-0a93-49bf-8357-90525f00eea2\" class=\"plotly-graph-div\" style=\"height:525px; width:100%;\"></div>            <script type=\"text/javascript\">                require([\"plotly\"], function(Plotly) {                    window.PLOTLYENV=window.PLOTLYENV || {};\n",
       "                    window.PLOTLYENV.BASE_URL='https://plot.ly';                                    if (document.getElementById(\"d08c4ec0-0a93-49bf-8357-90525f00eea2\")) {                    Plotly.newPlot(                        \"d08c4ec0-0a93-49bf-8357-90525f00eea2\",                        [{\"line\": {\"color\": \"rgba(255, 153, 51, 1.0)\", \"dash\": \"solid\", \"shape\": \"linear\", \"width\": 1.3}, \"marker\": {\"size\": 10, \"symbol\": \"circle\"}, \"mode\": \"markers\", \"name\": \"B\", \"text\": \"\", \"type\": \"scatter\", \"x\": [-0.8280260723763271, -2.77297444794199, -0.38121323391729234, 0.7880707860623422, 2.8084929576725313, -0.1374432130485793, 1.4665828322027583, 1.7170018404039853, -0.006694875240469727, -0.35801270109138483, -0.7945315217293085, 1.107530808756093, 1.1790484531176757, 0.36440605216798233, -1.5822209826572298, -1.2750553918693035, -1.2090255857903993, 0.4590850858171039, -0.6285482031372056, 1.0546402699013748, 1.5138351311137501, 0.8734592513564242, 0.21901261206315306, -1.163953212801199, -0.335892690218668, 0.4938820380998607, 0.06783004821863114, 1.542059648394881, 0.49156166686043756, 0.4633288124694026, -0.9489982987198811, 0.47065989470899516, -0.4418890963795218, 0.44347045975400295, 0.8144597660455606, -0.6531579459403273, 0.42815418084727563, -0.3588910458379977, -0.5335759249000853, 0.6314714718116694, -0.8487016591558267, 1.5846252025402214, 0.17310725166180807, 0.27059605517156654, -0.4694392142146777, 0.5838091465034632, -0.3432331323029411, -0.48966126380907626, -2.3796874131530377, 1.3587330456455726, 1.1171967076671219, -0.20850895799541944, -0.3995385709353827, -1.8147865778734724, 0.7161603237047958, -1.269138912896145, -1.6827178168553847, -0.6674891664222559, -0.30249711294977955, 0.6631651824638187, 2.291182619859816, -2.458340895167761, 0.2899567568659667, -0.47300884042820934, 2.09432237150058, 0.582786511773274, -1.1346112433030937, -1.2649618327532324, 0.34316321337446215, -0.19277560479566427, 0.33379569707167217, -1.517505142343097, -0.4055330148343431, 1.3329366341718163, 3.0880651844214007, -1.3533913810566096, 0.3437532931939382, -1.6575292547862113, 0.7154451417562238, -0.12577120476387404, -0.1221947706218079, 0.5829755695712423, -1.5671691676011716, 1.1105896726371092, -0.09369513621117644, 1.0955857442776014, -1.4282369786985993, -0.05097785455827381, -0.5972071263206464, -1.256475896277932, -1.8851731596449193, 0.828590542968046, -0.4062491091331472, 0.0807500132107527, 0.013163707403381393, -0.6217284887018927, -0.24693675551235092, 0.06197700019368634, 0.5634486026666133, 0.6059138751307764], \"y\": [0.7488859249957294, -2.063476523426313, 0.15896478732317448, 0.9824428266957366, 0.5177956680669261, 1.2795287511749251, 1.3168697401336789, -2.5769642163271804, -0.5223469831142037, 1.8181176703709536, -0.472385080891169, 0.5902248057458955, 0.06501344080504949, -0.47080216571861333, 0.18228275869868904, 0.23126754721306877, 0.6149010050060569, 0.7222076794396597, -0.47556970422863515, 0.460047800114019, 0.20905587617029056, 0.7386997197730129, 0.2963947509662543, 1.3324755157131947, 1.0847241543052293, 0.7238084792303607, 0.031773286629343866, -0.85317652648317, -0.3103145393346325, -0.03628269694808576, -0.3086240085353415, -0.8791329349989142, -1.4582997557298272, 1.0563940955502773, 0.7624476857491007, -0.637472747395494, 0.08463847795218485, -1.1360972676061123, 0.3278612242444931, 0.6074498411024112, -1.9401239947752962, -0.6993479106510858, 1.3059278691514857, -0.19424188683695787, -1.2604848908802941, 0.952687783783637, -1.546031553055093, -0.6993206460498765, 0.20344776954368982, -0.7243873284737312, -0.9800294868969891, -0.514665260515114, 1.0336926944205553, -0.9088425929534667, -1.2397144953831822, 0.9812633628328463, 2.7523411232946318, -0.7275897094517473, 0.6909293763885511, 0.679755401619041, -0.3870724045077387, 0.8660805606258668, -1.3245161399204266, 1.1927202884162393, 0.08939780005427155, -2.806889952909305, 0.8929360431986725, -0.12770744108226054, 0.21199734276229967, 1.1372829909715767, 0.09620678459480445, -0.3018606425639405, 0.9102322118714832, -2.309881595960726, -1.6100568373409712, 0.6090688747514684, -0.6838011355845027, -0.2748716990341536, -0.4223440623301072, -0.8873989045199661, -0.0009738308528003652, 0.10028669510880826, -0.048778800761219, 1.3184511662605012, -2.195277463199274, 0.34417282099715746, 0.2628105585137296, 1.4326207032621394, 0.2935366035552767, 0.39908458968185134, -1.4759639597995606, -0.560377497609232, -1.762548372904548, 1.3007570365012764, 0.1805535576155475, 0.4187410435886277, -0.008350929356977793, -1.4548926844956653, -1.074772822423682, 0.5854026103720574]}],                        {\"legend\": {\"bgcolor\": \"#F5F6F9\", \"font\": {\"color\": \"#4D5663\"}}, \"paper_bgcolor\": \"#F5F6F9\", \"plot_bgcolor\": \"#F5F6F9\", \"template\": {\"data\": {\"bar\": [{\"error_x\": {\"color\": \"#2a3f5f\"}, \"error_y\": {\"color\": \"#2a3f5f\"}, \"marker\": {\"line\": {\"color\": \"#E5ECF6\", \"width\": 0.5}}, \"type\": \"bar\"}], \"barpolar\": [{\"marker\": {\"line\": {\"color\": \"#E5ECF6\", \"width\": 0.5}}, \"type\": \"barpolar\"}], \"carpet\": [{\"aaxis\": {\"endlinecolor\": \"#2a3f5f\", \"gridcolor\": \"white\", \"linecolor\": \"white\", \"minorgridcolor\": \"white\", \"startlinecolor\": \"#2a3f5f\"}, \"baxis\": {\"endlinecolor\": \"#2a3f5f\", \"gridcolor\": \"white\", \"linecolor\": \"white\", \"minorgridcolor\": \"white\", \"startlinecolor\": \"#2a3f5f\"}, \"type\": \"carpet\"}], \"choropleth\": [{\"colorbar\": {\"outlinewidth\": 0, \"ticks\": \"\"}, \"type\": \"choropleth\"}], \"contour\": [{\"colorbar\": {\"outlinewidth\": 0, \"ticks\": \"\"}, \"colorscale\": [[0.0, \"#0d0887\"], [0.1111111111111111, \"#46039f\"], [0.2222222222222222, \"#7201a8\"], [0.3333333333333333, \"#9c179e\"], [0.4444444444444444, \"#bd3786\"], [0.5555555555555556, \"#d8576b\"], [0.6666666666666666, \"#ed7953\"], [0.7777777777777778, \"#fb9f3a\"], [0.8888888888888888, \"#fdca26\"], [1.0, \"#f0f921\"]], \"type\": \"contour\"}], \"contourcarpet\": [{\"colorbar\": {\"outlinewidth\": 0, \"ticks\": \"\"}, \"type\": \"contourcarpet\"}], \"heatmap\": [{\"colorbar\": {\"outlinewidth\": 0, \"ticks\": \"\"}, \"colorscale\": [[0.0, \"#0d0887\"], [0.1111111111111111, \"#46039f\"], [0.2222222222222222, \"#7201a8\"], [0.3333333333333333, \"#9c179e\"], [0.4444444444444444, \"#bd3786\"], [0.5555555555555556, \"#d8576b\"], [0.6666666666666666, \"#ed7953\"], [0.7777777777777778, \"#fb9f3a\"], [0.8888888888888888, \"#fdca26\"], [1.0, \"#f0f921\"]], \"type\": \"heatmap\"}], \"heatmapgl\": [{\"colorbar\": {\"outlinewidth\": 0, \"ticks\": \"\"}, \"colorscale\": [[0.0, \"#0d0887\"], [0.1111111111111111, \"#46039f\"], [0.2222222222222222, \"#7201a8\"], [0.3333333333333333, \"#9c179e\"], [0.4444444444444444, \"#bd3786\"], [0.5555555555555556, \"#d8576b\"], [0.6666666666666666, \"#ed7953\"], [0.7777777777777778, \"#fb9f3a\"], [0.8888888888888888, \"#fdca26\"], [1.0, \"#f0f921\"]], \"type\": \"heatmapgl\"}], \"histogram\": [{\"marker\": {\"colorbar\": {\"outlinewidth\": 0, \"ticks\": \"\"}}, \"type\": \"histogram\"}], \"histogram2d\": [{\"colorbar\": {\"outlinewidth\": 0, \"ticks\": \"\"}, \"colorscale\": [[0.0, \"#0d0887\"], [0.1111111111111111, \"#46039f\"], [0.2222222222222222, \"#7201a8\"], [0.3333333333333333, \"#9c179e\"], [0.4444444444444444, \"#bd3786\"], [0.5555555555555556, \"#d8576b\"], [0.6666666666666666, \"#ed7953\"], [0.7777777777777778, \"#fb9f3a\"], [0.8888888888888888, \"#fdca26\"], [1.0, \"#f0f921\"]], \"type\": \"histogram2d\"}], \"histogram2dcontour\": [{\"colorbar\": {\"outlinewidth\": 0, \"ticks\": \"\"}, \"colorscale\": [[0.0, \"#0d0887\"], [0.1111111111111111, \"#46039f\"], [0.2222222222222222, \"#7201a8\"], [0.3333333333333333, \"#9c179e\"], [0.4444444444444444, \"#bd3786\"], [0.5555555555555556, \"#d8576b\"], [0.6666666666666666, \"#ed7953\"], [0.7777777777777778, \"#fb9f3a\"], [0.8888888888888888, \"#fdca26\"], [1.0, \"#f0f921\"]], \"type\": \"histogram2dcontour\"}], \"mesh3d\": [{\"colorbar\": {\"outlinewidth\": 0, \"ticks\": \"\"}, \"type\": \"mesh3d\"}], \"parcoords\": [{\"line\": {\"colorbar\": {\"outlinewidth\": 0, \"ticks\": \"\"}}, \"type\": \"parcoords\"}], \"pie\": [{\"automargin\": true, \"type\": \"pie\"}], \"scatter\": [{\"marker\": {\"colorbar\": {\"outlinewidth\": 0, \"ticks\": \"\"}}, \"type\": \"scatter\"}], \"scatter3d\": [{\"line\": {\"colorbar\": {\"outlinewidth\": 0, \"ticks\": \"\"}}, \"marker\": {\"colorbar\": {\"outlinewidth\": 0, \"ticks\": \"\"}}, \"type\": \"scatter3d\"}], \"scattercarpet\": [{\"marker\": {\"colorbar\": {\"outlinewidth\": 0, \"ticks\": \"\"}}, \"type\": \"scattercarpet\"}], \"scattergeo\": [{\"marker\": {\"colorbar\": {\"outlinewidth\": 0, \"ticks\": \"\"}}, \"type\": \"scattergeo\"}], \"scattergl\": [{\"marker\": {\"colorbar\": {\"outlinewidth\": 0, \"ticks\": \"\"}}, \"type\": \"scattergl\"}], \"scattermapbox\": [{\"marker\": {\"colorbar\": {\"outlinewidth\": 0, \"ticks\": \"\"}}, \"type\": \"scattermapbox\"}], \"scatterpolar\": [{\"marker\": {\"colorbar\": {\"outlinewidth\": 0, \"ticks\": \"\"}}, \"type\": \"scatterpolar\"}], \"scatterpolargl\": [{\"marker\": {\"colorbar\": {\"outlinewidth\": 0, \"ticks\": \"\"}}, \"type\": \"scatterpolargl\"}], \"scatterternary\": [{\"marker\": {\"colorbar\": {\"outlinewidth\": 0, \"ticks\": \"\"}}, \"type\": \"scatterternary\"}], \"surface\": [{\"colorbar\": {\"outlinewidth\": 0, \"ticks\": \"\"}, \"colorscale\": [[0.0, \"#0d0887\"], [0.1111111111111111, \"#46039f\"], [0.2222222222222222, \"#7201a8\"], [0.3333333333333333, \"#9c179e\"], [0.4444444444444444, \"#bd3786\"], [0.5555555555555556, \"#d8576b\"], [0.6666666666666666, \"#ed7953\"], [0.7777777777777778, \"#fb9f3a\"], [0.8888888888888888, \"#fdca26\"], [1.0, \"#f0f921\"]], \"type\": \"surface\"}], \"table\": [{\"cells\": {\"fill\": {\"color\": \"#EBF0F8\"}, \"line\": {\"color\": \"white\"}}, \"header\": {\"fill\": {\"color\": \"#C8D4E3\"}, \"line\": {\"color\": \"white\"}}, \"type\": \"table\"}]}, \"layout\": {\"annotationdefaults\": {\"arrowcolor\": \"#2a3f5f\", \"arrowhead\": 0, \"arrowwidth\": 1}, \"autotypenumbers\": \"strict\", \"coloraxis\": {\"colorbar\": {\"outlinewidth\": 0, \"ticks\": \"\"}}, \"colorscale\": {\"diverging\": [[0, \"#8e0152\"], [0.1, \"#c51b7d\"], [0.2, \"#de77ae\"], [0.3, \"#f1b6da\"], [0.4, \"#fde0ef\"], [0.5, \"#f7f7f7\"], [0.6, \"#e6f5d0\"], [0.7, \"#b8e186\"], [0.8, \"#7fbc41\"], [0.9, \"#4d9221\"], [1, \"#276419\"]], \"sequential\": [[0.0, \"#0d0887\"], [0.1111111111111111, \"#46039f\"], [0.2222222222222222, \"#7201a8\"], [0.3333333333333333, \"#9c179e\"], [0.4444444444444444, \"#bd3786\"], [0.5555555555555556, \"#d8576b\"], [0.6666666666666666, \"#ed7953\"], [0.7777777777777778, \"#fb9f3a\"], [0.8888888888888888, \"#fdca26\"], [1.0, \"#f0f921\"]], \"sequentialminus\": [[0.0, \"#0d0887\"], [0.1111111111111111, \"#46039f\"], [0.2222222222222222, \"#7201a8\"], [0.3333333333333333, \"#9c179e\"], [0.4444444444444444, \"#bd3786\"], [0.5555555555555556, \"#d8576b\"], [0.6666666666666666, \"#ed7953\"], [0.7777777777777778, \"#fb9f3a\"], [0.8888888888888888, \"#fdca26\"], [1.0, \"#f0f921\"]]}, \"colorway\": [\"#636efa\", \"#EF553B\", \"#00cc96\", \"#ab63fa\", \"#FFA15A\", \"#19d3f3\", \"#FF6692\", \"#B6E880\", \"#FF97FF\", \"#FECB52\"], \"font\": {\"color\": \"#2a3f5f\"}, \"geo\": {\"bgcolor\": \"white\", \"lakecolor\": \"white\", \"landcolor\": \"#E5ECF6\", \"showlakes\": true, \"showland\": true, \"subunitcolor\": \"white\"}, \"hoverlabel\": {\"align\": \"left\"}, \"hovermode\": \"closest\", \"mapbox\": {\"style\": \"light\"}, \"paper_bgcolor\": \"white\", \"plot_bgcolor\": \"#E5ECF6\", \"polar\": {\"angularaxis\": {\"gridcolor\": \"white\", \"linecolor\": \"white\", \"ticks\": \"\"}, \"bgcolor\": \"#E5ECF6\", \"radialaxis\": {\"gridcolor\": \"white\", \"linecolor\": \"white\", \"ticks\": \"\"}}, \"scene\": {\"xaxis\": {\"backgroundcolor\": \"#E5ECF6\", \"gridcolor\": \"white\", \"gridwidth\": 2, \"linecolor\": \"white\", \"showbackground\": true, \"ticks\": \"\", \"zerolinecolor\": \"white\"}, \"yaxis\": {\"backgroundcolor\": \"#E5ECF6\", \"gridcolor\": \"white\", \"gridwidth\": 2, \"linecolor\": \"white\", \"showbackground\": true, \"ticks\": \"\", \"zerolinecolor\": \"white\"}, \"zaxis\": {\"backgroundcolor\": \"#E5ECF6\", \"gridcolor\": \"white\", \"gridwidth\": 2, \"linecolor\": \"white\", \"showbackground\": true, \"ticks\": \"\", \"zerolinecolor\": \"white\"}}, \"shapedefaults\": {\"line\": {\"color\": \"#2a3f5f\"}}, \"ternary\": {\"aaxis\": {\"gridcolor\": \"white\", \"linecolor\": \"white\", \"ticks\": \"\"}, \"baxis\": {\"gridcolor\": \"white\", \"linecolor\": \"white\", \"ticks\": \"\"}, \"bgcolor\": \"#E5ECF6\", \"caxis\": {\"gridcolor\": \"white\", \"linecolor\": \"white\", \"ticks\": \"\"}}, \"title\": {\"x\": 0.05}, \"xaxis\": {\"automargin\": true, \"gridcolor\": \"white\", \"linecolor\": \"white\", \"ticks\": \"\", \"title\": {\"standoff\": 15}, \"zerolinecolor\": \"white\", \"zerolinewidth\": 2}, \"yaxis\": {\"automargin\": true, \"gridcolor\": \"white\", \"linecolor\": \"white\", \"ticks\": \"\", \"title\": {\"standoff\": 15}, \"zerolinecolor\": \"white\", \"zerolinewidth\": 2}}}, \"title\": {\"font\": {\"color\": \"#4D5663\"}}, \"xaxis\": {\"gridcolor\": \"#E1E5ED\", \"showgrid\": true, \"tickfont\": {\"color\": \"#4D5663\"}, \"title\": {\"font\": {\"color\": \"#4D5663\"}, \"text\": \"\"}, \"zerolinecolor\": \"#E1E5ED\"}, \"yaxis\": {\"gridcolor\": \"#E1E5ED\", \"showgrid\": true, \"tickfont\": {\"color\": \"#4D5663\"}, \"title\": {\"font\": {\"color\": \"#4D5663\"}, \"text\": \"\"}, \"zerolinecolor\": \"#E1E5ED\"}},                        {\"showLink\": true, \"linkText\": \"Export to plot.ly\", \"plotlyServerURL\": \"https://plot.ly\", \"responsive\": true}                    ).then(function(){\n",
       "                            \n",
       "var gd = document.getElementById('d08c4ec0-0a93-49bf-8357-90525f00eea2');\n",
       "var x = new MutationObserver(function (mutations, observer) {{\n",
       "        var display = window.getComputedStyle(gd).display;\n",
       "        if (!display || display === 'none') {{\n",
       "            console.log([gd, 'removed!']);\n",
       "            Plotly.purge(gd);\n",
       "            observer.disconnect();\n",
       "        }}\n",
       "}});\n",
       "\n",
       "// Listen for the removal of the full notebook cells\n",
       "var notebookContainer = gd.closest('#notebook-container');\n",
       "if (notebookContainer) {{\n",
       "    x.observe(notebookContainer, {childList: true});\n",
       "}}\n",
       "\n",
       "// Listen for the clearing of the current output cell\n",
       "var outputEl = gd.closest('.output');\n",
       "if (outputEl) {{\n",
       "    x.observe(outputEl, {childList: true});\n",
       "}}\n",
       "\n",
       "                        })                };                });            </script>        </div>"
      ]
     },
     "metadata": {},
     "output_type": "display_data"
    }
   ],
   "source": [
    "df.iplot(kind='scatter',x='A',y='B',mode='markers',size=10)"
   ]
  },
  {
   "cell_type": "markdown",
   "metadata": {},
   "source": [
    "## Bar Plots"
   ]
  },
  {
   "cell_type": "code",
   "execution_count": 13,
   "metadata": {},
   "outputs": [
    {
     "data": {
      "application/vnd.plotly.v1+json": {
       "config": {
        "linkText": "Export to plot.ly",
        "plotlyServerURL": "https://plot.ly",
        "showLink": true
       },
       "data": [
        {
         "marker": {
          "color": "rgba(255, 153, 51, 0.6)",
          "line": {
           "color": "rgba(255, 153, 51, 1.0)",
           "width": 1
          }
         },
         "name": "Values",
         "orientation": "v",
         "text": "",
         "type": "bar",
         "x": [
          "A",
          "B",
          "C"
         ],
         "y": [
          32,
          43,
          50
         ]
        }
       ],
       "layout": {
        "legend": {
         "bgcolor": "#F5F6F9",
         "font": {
          "color": "#4D5663"
         }
        },
        "paper_bgcolor": "#F5F6F9",
        "plot_bgcolor": "#F5F6F9",
        "template": {
         "data": {
          "bar": [
           {
            "error_x": {
             "color": "#2a3f5f"
            },
            "error_y": {
             "color": "#2a3f5f"
            },
            "marker": {
             "line": {
              "color": "#E5ECF6",
              "width": 0.5
             }
            },
            "type": "bar"
           }
          ],
          "barpolar": [
           {
            "marker": {
             "line": {
              "color": "#E5ECF6",
              "width": 0.5
             }
            },
            "type": "barpolar"
           }
          ],
          "carpet": [
           {
            "aaxis": {
             "endlinecolor": "#2a3f5f",
             "gridcolor": "white",
             "linecolor": "white",
             "minorgridcolor": "white",
             "startlinecolor": "#2a3f5f"
            },
            "baxis": {
             "endlinecolor": "#2a3f5f",
             "gridcolor": "white",
             "linecolor": "white",
             "minorgridcolor": "white",
             "startlinecolor": "#2a3f5f"
            },
            "type": "carpet"
           }
          ],
          "choropleth": [
           {
            "colorbar": {
             "outlinewidth": 0,
             "ticks": ""
            },
            "type": "choropleth"
           }
          ],
          "contour": [
           {
            "colorbar": {
             "outlinewidth": 0,
             "ticks": ""
            },
            "colorscale": [
             [
              0,
              "#0d0887"
             ],
             [
              0.1111111111111111,
              "#46039f"
             ],
             [
              0.2222222222222222,
              "#7201a8"
             ],
             [
              0.3333333333333333,
              "#9c179e"
             ],
             [
              0.4444444444444444,
              "#bd3786"
             ],
             [
              0.5555555555555556,
              "#d8576b"
             ],
             [
              0.6666666666666666,
              "#ed7953"
             ],
             [
              0.7777777777777778,
              "#fb9f3a"
             ],
             [
              0.8888888888888888,
              "#fdca26"
             ],
             [
              1,
              "#f0f921"
             ]
            ],
            "type": "contour"
           }
          ],
          "contourcarpet": [
           {
            "colorbar": {
             "outlinewidth": 0,
             "ticks": ""
            },
            "type": "contourcarpet"
           }
          ],
          "heatmap": [
           {
            "colorbar": {
             "outlinewidth": 0,
             "ticks": ""
            },
            "colorscale": [
             [
              0,
              "#0d0887"
             ],
             [
              0.1111111111111111,
              "#46039f"
             ],
             [
              0.2222222222222222,
              "#7201a8"
             ],
             [
              0.3333333333333333,
              "#9c179e"
             ],
             [
              0.4444444444444444,
              "#bd3786"
             ],
             [
              0.5555555555555556,
              "#d8576b"
             ],
             [
              0.6666666666666666,
              "#ed7953"
             ],
             [
              0.7777777777777778,
              "#fb9f3a"
             ],
             [
              0.8888888888888888,
              "#fdca26"
             ],
             [
              1,
              "#f0f921"
             ]
            ],
            "type": "heatmap"
           }
          ],
          "heatmapgl": [
           {
            "colorbar": {
             "outlinewidth": 0,
             "ticks": ""
            },
            "colorscale": [
             [
              0,
              "#0d0887"
             ],
             [
              0.1111111111111111,
              "#46039f"
             ],
             [
              0.2222222222222222,
              "#7201a8"
             ],
             [
              0.3333333333333333,
              "#9c179e"
             ],
             [
              0.4444444444444444,
              "#bd3786"
             ],
             [
              0.5555555555555556,
              "#d8576b"
             ],
             [
              0.6666666666666666,
              "#ed7953"
             ],
             [
              0.7777777777777778,
              "#fb9f3a"
             ],
             [
              0.8888888888888888,
              "#fdca26"
             ],
             [
              1,
              "#f0f921"
             ]
            ],
            "type": "heatmapgl"
           }
          ],
          "histogram": [
           {
            "marker": {
             "colorbar": {
              "outlinewidth": 0,
              "ticks": ""
             }
            },
            "type": "histogram"
           }
          ],
          "histogram2d": [
           {
            "colorbar": {
             "outlinewidth": 0,
             "ticks": ""
            },
            "colorscale": [
             [
              0,
              "#0d0887"
             ],
             [
              0.1111111111111111,
              "#46039f"
             ],
             [
              0.2222222222222222,
              "#7201a8"
             ],
             [
              0.3333333333333333,
              "#9c179e"
             ],
             [
              0.4444444444444444,
              "#bd3786"
             ],
             [
              0.5555555555555556,
              "#d8576b"
             ],
             [
              0.6666666666666666,
              "#ed7953"
             ],
             [
              0.7777777777777778,
              "#fb9f3a"
             ],
             [
              0.8888888888888888,
              "#fdca26"
             ],
             [
              1,
              "#f0f921"
             ]
            ],
            "type": "histogram2d"
           }
          ],
          "histogram2dcontour": [
           {
            "colorbar": {
             "outlinewidth": 0,
             "ticks": ""
            },
            "colorscale": [
             [
              0,
              "#0d0887"
             ],
             [
              0.1111111111111111,
              "#46039f"
             ],
             [
              0.2222222222222222,
              "#7201a8"
             ],
             [
              0.3333333333333333,
              "#9c179e"
             ],
             [
              0.4444444444444444,
              "#bd3786"
             ],
             [
              0.5555555555555556,
              "#d8576b"
             ],
             [
              0.6666666666666666,
              "#ed7953"
             ],
             [
              0.7777777777777778,
              "#fb9f3a"
             ],
             [
              0.8888888888888888,
              "#fdca26"
             ],
             [
              1,
              "#f0f921"
             ]
            ],
            "type": "histogram2dcontour"
           }
          ],
          "mesh3d": [
           {
            "colorbar": {
             "outlinewidth": 0,
             "ticks": ""
            },
            "type": "mesh3d"
           }
          ],
          "parcoords": [
           {
            "line": {
             "colorbar": {
              "outlinewidth": 0,
              "ticks": ""
             }
            },
            "type": "parcoords"
           }
          ],
          "pie": [
           {
            "automargin": true,
            "type": "pie"
           }
          ],
          "scatter": [
           {
            "marker": {
             "colorbar": {
              "outlinewidth": 0,
              "ticks": ""
             }
            },
            "type": "scatter"
           }
          ],
          "scatter3d": [
           {
            "line": {
             "colorbar": {
              "outlinewidth": 0,
              "ticks": ""
             }
            },
            "marker": {
             "colorbar": {
              "outlinewidth": 0,
              "ticks": ""
             }
            },
            "type": "scatter3d"
           }
          ],
          "scattercarpet": [
           {
            "marker": {
             "colorbar": {
              "outlinewidth": 0,
              "ticks": ""
             }
            },
            "type": "scattercarpet"
           }
          ],
          "scattergeo": [
           {
            "marker": {
             "colorbar": {
              "outlinewidth": 0,
              "ticks": ""
             }
            },
            "type": "scattergeo"
           }
          ],
          "scattergl": [
           {
            "marker": {
             "colorbar": {
              "outlinewidth": 0,
              "ticks": ""
             }
            },
            "type": "scattergl"
           }
          ],
          "scattermapbox": [
           {
            "marker": {
             "colorbar": {
              "outlinewidth": 0,
              "ticks": ""
             }
            },
            "type": "scattermapbox"
           }
          ],
          "scatterpolar": [
           {
            "marker": {
             "colorbar": {
              "outlinewidth": 0,
              "ticks": ""
             }
            },
            "type": "scatterpolar"
           }
          ],
          "scatterpolargl": [
           {
            "marker": {
             "colorbar": {
              "outlinewidth": 0,
              "ticks": ""
             }
            },
            "type": "scatterpolargl"
           }
          ],
          "scatterternary": [
           {
            "marker": {
             "colorbar": {
              "outlinewidth": 0,
              "ticks": ""
             }
            },
            "type": "scatterternary"
           }
          ],
          "surface": [
           {
            "colorbar": {
             "outlinewidth": 0,
             "ticks": ""
            },
            "colorscale": [
             [
              0,
              "#0d0887"
             ],
             [
              0.1111111111111111,
              "#46039f"
             ],
             [
              0.2222222222222222,
              "#7201a8"
             ],
             [
              0.3333333333333333,
              "#9c179e"
             ],
             [
              0.4444444444444444,
              "#bd3786"
             ],
             [
              0.5555555555555556,
              "#d8576b"
             ],
             [
              0.6666666666666666,
              "#ed7953"
             ],
             [
              0.7777777777777778,
              "#fb9f3a"
             ],
             [
              0.8888888888888888,
              "#fdca26"
             ],
             [
              1,
              "#f0f921"
             ]
            ],
            "type": "surface"
           }
          ],
          "table": [
           {
            "cells": {
             "fill": {
              "color": "#EBF0F8"
             },
             "line": {
              "color": "white"
             }
            },
            "header": {
             "fill": {
              "color": "#C8D4E3"
             },
             "line": {
              "color": "white"
             }
            },
            "type": "table"
           }
          ]
         },
         "layout": {
          "annotationdefaults": {
           "arrowcolor": "#2a3f5f",
           "arrowhead": 0,
           "arrowwidth": 1
          },
          "autotypenumbers": "strict",
          "coloraxis": {
           "colorbar": {
            "outlinewidth": 0,
            "ticks": ""
           }
          },
          "colorscale": {
           "diverging": [
            [
             0,
             "#8e0152"
            ],
            [
             0.1,
             "#c51b7d"
            ],
            [
             0.2,
             "#de77ae"
            ],
            [
             0.3,
             "#f1b6da"
            ],
            [
             0.4,
             "#fde0ef"
            ],
            [
             0.5,
             "#f7f7f7"
            ],
            [
             0.6,
             "#e6f5d0"
            ],
            [
             0.7,
             "#b8e186"
            ],
            [
             0.8,
             "#7fbc41"
            ],
            [
             0.9,
             "#4d9221"
            ],
            [
             1,
             "#276419"
            ]
           ],
           "sequential": [
            [
             0,
             "#0d0887"
            ],
            [
             0.1111111111111111,
             "#46039f"
            ],
            [
             0.2222222222222222,
             "#7201a8"
            ],
            [
             0.3333333333333333,
             "#9c179e"
            ],
            [
             0.4444444444444444,
             "#bd3786"
            ],
            [
             0.5555555555555556,
             "#d8576b"
            ],
            [
             0.6666666666666666,
             "#ed7953"
            ],
            [
             0.7777777777777778,
             "#fb9f3a"
            ],
            [
             0.8888888888888888,
             "#fdca26"
            ],
            [
             1,
             "#f0f921"
            ]
           ],
           "sequentialminus": [
            [
             0,
             "#0d0887"
            ],
            [
             0.1111111111111111,
             "#46039f"
            ],
            [
             0.2222222222222222,
             "#7201a8"
            ],
            [
             0.3333333333333333,
             "#9c179e"
            ],
            [
             0.4444444444444444,
             "#bd3786"
            ],
            [
             0.5555555555555556,
             "#d8576b"
            ],
            [
             0.6666666666666666,
             "#ed7953"
            ],
            [
             0.7777777777777778,
             "#fb9f3a"
            ],
            [
             0.8888888888888888,
             "#fdca26"
            ],
            [
             1,
             "#f0f921"
            ]
           ]
          },
          "colorway": [
           "#636efa",
           "#EF553B",
           "#00cc96",
           "#ab63fa",
           "#FFA15A",
           "#19d3f3",
           "#FF6692",
           "#B6E880",
           "#FF97FF",
           "#FECB52"
          ],
          "font": {
           "color": "#2a3f5f"
          },
          "geo": {
           "bgcolor": "white",
           "lakecolor": "white",
           "landcolor": "#E5ECF6",
           "showlakes": true,
           "showland": true,
           "subunitcolor": "white"
          },
          "hoverlabel": {
           "align": "left"
          },
          "hovermode": "closest",
          "mapbox": {
           "style": "light"
          },
          "paper_bgcolor": "white",
          "plot_bgcolor": "#E5ECF6",
          "polar": {
           "angularaxis": {
            "gridcolor": "white",
            "linecolor": "white",
            "ticks": ""
           },
           "bgcolor": "#E5ECF6",
           "radialaxis": {
            "gridcolor": "white",
            "linecolor": "white",
            "ticks": ""
           }
          },
          "scene": {
           "xaxis": {
            "backgroundcolor": "#E5ECF6",
            "gridcolor": "white",
            "gridwidth": 2,
            "linecolor": "white",
            "showbackground": true,
            "ticks": "",
            "zerolinecolor": "white"
           },
           "yaxis": {
            "backgroundcolor": "#E5ECF6",
            "gridcolor": "white",
            "gridwidth": 2,
            "linecolor": "white",
            "showbackground": true,
            "ticks": "",
            "zerolinecolor": "white"
           },
           "zaxis": {
            "backgroundcolor": "#E5ECF6",
            "gridcolor": "white",
            "gridwidth": 2,
            "linecolor": "white",
            "showbackground": true,
            "ticks": "",
            "zerolinecolor": "white"
           }
          },
          "shapedefaults": {
           "line": {
            "color": "#2a3f5f"
           }
          },
          "ternary": {
           "aaxis": {
            "gridcolor": "white",
            "linecolor": "white",
            "ticks": ""
           },
           "baxis": {
            "gridcolor": "white",
            "linecolor": "white",
            "ticks": ""
           },
           "bgcolor": "#E5ECF6",
           "caxis": {
            "gridcolor": "white",
            "linecolor": "white",
            "ticks": ""
           }
          },
          "title": {
           "x": 0.05
          },
          "xaxis": {
           "automargin": true,
           "gridcolor": "white",
           "linecolor": "white",
           "ticks": "",
           "title": {
            "standoff": 15
           },
           "zerolinecolor": "white",
           "zerolinewidth": 2
          },
          "yaxis": {
           "automargin": true,
           "gridcolor": "white",
           "linecolor": "white",
           "ticks": "",
           "title": {
            "standoff": 15
           },
           "zerolinecolor": "white",
           "zerolinewidth": 2
          }
         }
        },
        "title": {
         "font": {
          "color": "#4D5663"
         }
        },
        "xaxis": {
         "gridcolor": "#E1E5ED",
         "showgrid": true,
         "tickfont": {
          "color": "#4D5663"
         },
         "title": {
          "font": {
           "color": "#4D5663"
          },
          "text": ""
         },
         "zerolinecolor": "#E1E5ED"
        },
        "yaxis": {
         "gridcolor": "#E1E5ED",
         "showgrid": true,
         "tickfont": {
          "color": "#4D5663"
         },
         "title": {
          "font": {
           "color": "#4D5663"
          },
          "text": ""
         },
         "zerolinecolor": "#E1E5ED"
        }
       }
      },
      "text/html": [
       "<div>                            <div id=\"854f10cd-6422-4567-ab31-1659255966b6\" class=\"plotly-graph-div\" style=\"height:525px; width:100%;\"></div>            <script type=\"text/javascript\">                require([\"plotly\"], function(Plotly) {                    window.PLOTLYENV=window.PLOTLYENV || {};\n",
       "                    window.PLOTLYENV.BASE_URL='https://plot.ly';                                    if (document.getElementById(\"854f10cd-6422-4567-ab31-1659255966b6\")) {                    Plotly.newPlot(                        \"854f10cd-6422-4567-ab31-1659255966b6\",                        [{\"marker\": {\"color\": \"rgba(255, 153, 51, 0.6)\", \"line\": {\"color\": \"rgba(255, 153, 51, 1.0)\", \"width\": 1}}, \"name\": \"Values\", \"orientation\": \"v\", \"text\": \"\", \"type\": \"bar\", \"x\": [\"A\", \"B\", \"C\"], \"y\": [32, 43, 50]}],                        {\"legend\": {\"bgcolor\": \"#F5F6F9\", \"font\": {\"color\": \"#4D5663\"}}, \"paper_bgcolor\": \"#F5F6F9\", \"plot_bgcolor\": \"#F5F6F9\", \"template\": {\"data\": {\"bar\": [{\"error_x\": {\"color\": \"#2a3f5f\"}, \"error_y\": {\"color\": \"#2a3f5f\"}, \"marker\": {\"line\": {\"color\": \"#E5ECF6\", \"width\": 0.5}}, \"type\": \"bar\"}], \"barpolar\": [{\"marker\": {\"line\": {\"color\": \"#E5ECF6\", \"width\": 0.5}}, \"type\": \"barpolar\"}], \"carpet\": [{\"aaxis\": {\"endlinecolor\": \"#2a3f5f\", \"gridcolor\": \"white\", \"linecolor\": \"white\", \"minorgridcolor\": \"white\", \"startlinecolor\": \"#2a3f5f\"}, \"baxis\": {\"endlinecolor\": \"#2a3f5f\", \"gridcolor\": \"white\", \"linecolor\": \"white\", \"minorgridcolor\": \"white\", \"startlinecolor\": \"#2a3f5f\"}, \"type\": \"carpet\"}], \"choropleth\": [{\"colorbar\": {\"outlinewidth\": 0, \"ticks\": \"\"}, \"type\": \"choropleth\"}], \"contour\": [{\"colorbar\": {\"outlinewidth\": 0, \"ticks\": \"\"}, \"colorscale\": [[0.0, \"#0d0887\"], [0.1111111111111111, \"#46039f\"], [0.2222222222222222, \"#7201a8\"], [0.3333333333333333, \"#9c179e\"], [0.4444444444444444, \"#bd3786\"], [0.5555555555555556, \"#d8576b\"], [0.6666666666666666, \"#ed7953\"], [0.7777777777777778, \"#fb9f3a\"], [0.8888888888888888, \"#fdca26\"], [1.0, \"#f0f921\"]], \"type\": \"contour\"}], \"contourcarpet\": [{\"colorbar\": {\"outlinewidth\": 0, \"ticks\": \"\"}, \"type\": \"contourcarpet\"}], \"heatmap\": [{\"colorbar\": {\"outlinewidth\": 0, \"ticks\": \"\"}, \"colorscale\": [[0.0, \"#0d0887\"], [0.1111111111111111, \"#46039f\"], [0.2222222222222222, \"#7201a8\"], [0.3333333333333333, \"#9c179e\"], [0.4444444444444444, \"#bd3786\"], [0.5555555555555556, \"#d8576b\"], [0.6666666666666666, \"#ed7953\"], [0.7777777777777778, \"#fb9f3a\"], [0.8888888888888888, \"#fdca26\"], [1.0, \"#f0f921\"]], \"type\": \"heatmap\"}], \"heatmapgl\": [{\"colorbar\": {\"outlinewidth\": 0, \"ticks\": \"\"}, \"colorscale\": [[0.0, \"#0d0887\"], [0.1111111111111111, \"#46039f\"], [0.2222222222222222, \"#7201a8\"], [0.3333333333333333, \"#9c179e\"], [0.4444444444444444, \"#bd3786\"], [0.5555555555555556, \"#d8576b\"], [0.6666666666666666, \"#ed7953\"], [0.7777777777777778, \"#fb9f3a\"], [0.8888888888888888, \"#fdca26\"], [1.0, \"#f0f921\"]], \"type\": \"heatmapgl\"}], \"histogram\": [{\"marker\": {\"colorbar\": {\"outlinewidth\": 0, \"ticks\": \"\"}}, \"type\": \"histogram\"}], \"histogram2d\": [{\"colorbar\": {\"outlinewidth\": 0, \"ticks\": \"\"}, \"colorscale\": [[0.0, \"#0d0887\"], [0.1111111111111111, \"#46039f\"], [0.2222222222222222, \"#7201a8\"], [0.3333333333333333, \"#9c179e\"], [0.4444444444444444, \"#bd3786\"], [0.5555555555555556, \"#d8576b\"], [0.6666666666666666, \"#ed7953\"], [0.7777777777777778, \"#fb9f3a\"], [0.8888888888888888, \"#fdca26\"], [1.0, \"#f0f921\"]], \"type\": \"histogram2d\"}], \"histogram2dcontour\": [{\"colorbar\": {\"outlinewidth\": 0, \"ticks\": \"\"}, \"colorscale\": [[0.0, \"#0d0887\"], [0.1111111111111111, \"#46039f\"], [0.2222222222222222, \"#7201a8\"], [0.3333333333333333, \"#9c179e\"], [0.4444444444444444, \"#bd3786\"], [0.5555555555555556, \"#d8576b\"], [0.6666666666666666, \"#ed7953\"], [0.7777777777777778, \"#fb9f3a\"], [0.8888888888888888, \"#fdca26\"], [1.0, \"#f0f921\"]], \"type\": \"histogram2dcontour\"}], \"mesh3d\": [{\"colorbar\": {\"outlinewidth\": 0, \"ticks\": \"\"}, \"type\": \"mesh3d\"}], \"parcoords\": [{\"line\": {\"colorbar\": {\"outlinewidth\": 0, \"ticks\": \"\"}}, \"type\": \"parcoords\"}], \"pie\": [{\"automargin\": true, \"type\": \"pie\"}], \"scatter\": [{\"marker\": {\"colorbar\": {\"outlinewidth\": 0, \"ticks\": \"\"}}, \"type\": \"scatter\"}], \"scatter3d\": [{\"line\": {\"colorbar\": {\"outlinewidth\": 0, \"ticks\": \"\"}}, \"marker\": {\"colorbar\": {\"outlinewidth\": 0, \"ticks\": \"\"}}, \"type\": \"scatter3d\"}], \"scattercarpet\": [{\"marker\": {\"colorbar\": {\"outlinewidth\": 0, \"ticks\": \"\"}}, \"type\": \"scattercarpet\"}], \"scattergeo\": [{\"marker\": {\"colorbar\": {\"outlinewidth\": 0, \"ticks\": \"\"}}, \"type\": \"scattergeo\"}], \"scattergl\": [{\"marker\": {\"colorbar\": {\"outlinewidth\": 0, \"ticks\": \"\"}}, \"type\": \"scattergl\"}], \"scattermapbox\": [{\"marker\": {\"colorbar\": {\"outlinewidth\": 0, \"ticks\": \"\"}}, \"type\": \"scattermapbox\"}], \"scatterpolar\": [{\"marker\": {\"colorbar\": {\"outlinewidth\": 0, \"ticks\": \"\"}}, \"type\": \"scatterpolar\"}], \"scatterpolargl\": [{\"marker\": {\"colorbar\": {\"outlinewidth\": 0, \"ticks\": \"\"}}, \"type\": \"scatterpolargl\"}], \"scatterternary\": [{\"marker\": {\"colorbar\": {\"outlinewidth\": 0, \"ticks\": \"\"}}, \"type\": \"scatterternary\"}], \"surface\": [{\"colorbar\": {\"outlinewidth\": 0, \"ticks\": \"\"}, \"colorscale\": [[0.0, \"#0d0887\"], [0.1111111111111111, \"#46039f\"], [0.2222222222222222, \"#7201a8\"], [0.3333333333333333, \"#9c179e\"], [0.4444444444444444, \"#bd3786\"], [0.5555555555555556, \"#d8576b\"], [0.6666666666666666, \"#ed7953\"], [0.7777777777777778, \"#fb9f3a\"], [0.8888888888888888, \"#fdca26\"], [1.0, \"#f0f921\"]], \"type\": \"surface\"}], \"table\": [{\"cells\": {\"fill\": {\"color\": \"#EBF0F8\"}, \"line\": {\"color\": \"white\"}}, \"header\": {\"fill\": {\"color\": \"#C8D4E3\"}, \"line\": {\"color\": \"white\"}}, \"type\": \"table\"}]}, \"layout\": {\"annotationdefaults\": {\"arrowcolor\": \"#2a3f5f\", \"arrowhead\": 0, \"arrowwidth\": 1}, \"autotypenumbers\": \"strict\", \"coloraxis\": {\"colorbar\": {\"outlinewidth\": 0, \"ticks\": \"\"}}, \"colorscale\": {\"diverging\": [[0, \"#8e0152\"], [0.1, \"#c51b7d\"], [0.2, \"#de77ae\"], [0.3, \"#f1b6da\"], [0.4, \"#fde0ef\"], [0.5, \"#f7f7f7\"], [0.6, \"#e6f5d0\"], [0.7, \"#b8e186\"], [0.8, \"#7fbc41\"], [0.9, \"#4d9221\"], [1, \"#276419\"]], \"sequential\": [[0.0, \"#0d0887\"], [0.1111111111111111, \"#46039f\"], [0.2222222222222222, \"#7201a8\"], [0.3333333333333333, \"#9c179e\"], [0.4444444444444444, \"#bd3786\"], [0.5555555555555556, \"#d8576b\"], [0.6666666666666666, \"#ed7953\"], [0.7777777777777778, \"#fb9f3a\"], [0.8888888888888888, \"#fdca26\"], [1.0, \"#f0f921\"]], \"sequentialminus\": [[0.0, \"#0d0887\"], [0.1111111111111111, \"#46039f\"], [0.2222222222222222, \"#7201a8\"], [0.3333333333333333, \"#9c179e\"], [0.4444444444444444, \"#bd3786\"], [0.5555555555555556, \"#d8576b\"], [0.6666666666666666, \"#ed7953\"], [0.7777777777777778, \"#fb9f3a\"], [0.8888888888888888, \"#fdca26\"], [1.0, \"#f0f921\"]]}, \"colorway\": [\"#636efa\", \"#EF553B\", \"#00cc96\", \"#ab63fa\", \"#FFA15A\", \"#19d3f3\", \"#FF6692\", \"#B6E880\", \"#FF97FF\", \"#FECB52\"], \"font\": {\"color\": \"#2a3f5f\"}, \"geo\": {\"bgcolor\": \"white\", \"lakecolor\": \"white\", \"landcolor\": \"#E5ECF6\", \"showlakes\": true, \"showland\": true, \"subunitcolor\": \"white\"}, \"hoverlabel\": {\"align\": \"left\"}, \"hovermode\": \"closest\", \"mapbox\": {\"style\": \"light\"}, \"paper_bgcolor\": \"white\", \"plot_bgcolor\": \"#E5ECF6\", \"polar\": {\"angularaxis\": {\"gridcolor\": \"white\", \"linecolor\": \"white\", \"ticks\": \"\"}, \"bgcolor\": \"#E5ECF6\", \"radialaxis\": {\"gridcolor\": \"white\", \"linecolor\": \"white\", \"ticks\": \"\"}}, \"scene\": {\"xaxis\": {\"backgroundcolor\": \"#E5ECF6\", \"gridcolor\": \"white\", \"gridwidth\": 2, \"linecolor\": \"white\", \"showbackground\": true, \"ticks\": \"\", \"zerolinecolor\": \"white\"}, \"yaxis\": {\"backgroundcolor\": \"#E5ECF6\", \"gridcolor\": \"white\", \"gridwidth\": 2, \"linecolor\": \"white\", \"showbackground\": true, \"ticks\": \"\", \"zerolinecolor\": \"white\"}, \"zaxis\": {\"backgroundcolor\": \"#E5ECF6\", \"gridcolor\": \"white\", \"gridwidth\": 2, \"linecolor\": \"white\", \"showbackground\": true, \"ticks\": \"\", \"zerolinecolor\": \"white\"}}, \"shapedefaults\": {\"line\": {\"color\": \"#2a3f5f\"}}, \"ternary\": {\"aaxis\": {\"gridcolor\": \"white\", \"linecolor\": \"white\", \"ticks\": \"\"}, \"baxis\": {\"gridcolor\": \"white\", \"linecolor\": \"white\", \"ticks\": \"\"}, \"bgcolor\": \"#E5ECF6\", \"caxis\": {\"gridcolor\": \"white\", \"linecolor\": \"white\", \"ticks\": \"\"}}, \"title\": {\"x\": 0.05}, \"xaxis\": {\"automargin\": true, \"gridcolor\": \"white\", \"linecolor\": \"white\", \"ticks\": \"\", \"title\": {\"standoff\": 15}, \"zerolinecolor\": \"white\", \"zerolinewidth\": 2}, \"yaxis\": {\"automargin\": true, \"gridcolor\": \"white\", \"linecolor\": \"white\", \"ticks\": \"\", \"title\": {\"standoff\": 15}, \"zerolinecolor\": \"white\", \"zerolinewidth\": 2}}}, \"title\": {\"font\": {\"color\": \"#4D5663\"}}, \"xaxis\": {\"gridcolor\": \"#E1E5ED\", \"showgrid\": true, \"tickfont\": {\"color\": \"#4D5663\"}, \"title\": {\"font\": {\"color\": \"#4D5663\"}, \"text\": \"\"}, \"zerolinecolor\": \"#E1E5ED\"}, \"yaxis\": {\"gridcolor\": \"#E1E5ED\", \"showgrid\": true, \"tickfont\": {\"color\": \"#4D5663\"}, \"title\": {\"font\": {\"color\": \"#4D5663\"}, \"text\": \"\"}, \"zerolinecolor\": \"#E1E5ED\"}},                        {\"showLink\": true, \"linkText\": \"Export to plot.ly\", \"plotlyServerURL\": \"https://plot.ly\", \"responsive\": true}                    ).then(function(){\n",
       "                            \n",
       "var gd = document.getElementById('854f10cd-6422-4567-ab31-1659255966b6');\n",
       "var x = new MutationObserver(function (mutations, observer) {{\n",
       "        var display = window.getComputedStyle(gd).display;\n",
       "        if (!display || display === 'none') {{\n",
       "            console.log([gd, 'removed!']);\n",
       "            Plotly.purge(gd);\n",
       "            observer.disconnect();\n",
       "        }}\n",
       "}});\n",
       "\n",
       "// Listen for the removal of the full notebook cells\n",
       "var notebookContainer = gd.closest('#notebook-container');\n",
       "if (notebookContainer) {{\n",
       "    x.observe(notebookContainer, {childList: true});\n",
       "}}\n",
       "\n",
       "// Listen for the clearing of the current output cell\n",
       "var outputEl = gd.closest('.output');\n",
       "if (outputEl) {{\n",
       "    x.observe(outputEl, {childList: true});\n",
       "}}\n",
       "\n",
       "                        })                };                });            </script>        </div>"
      ]
     },
     "metadata": {},
     "output_type": "display_data"
    }
   ],
   "source": [
    "df2.iplot(kind='bar',x='Category',y='Values')"
   ]
  },
  {
   "cell_type": "code",
   "execution_count": 14,
   "metadata": {},
   "outputs": [
    {
     "data": {
      "application/vnd.plotly.v1+json": {
       "config": {
        "linkText": "Export to plot.ly",
        "plotlyServerURL": "https://plot.ly",
        "showLink": true
       },
       "data": [
        {
         "marker": {
          "color": "rgba(255, 153, 51, 0.6)",
          "line": {
           "color": "rgba(255, 153, 51, 1.0)",
           "width": 1
          }
         },
         "name": "None",
         "orientation": "v",
         "text": "",
         "type": "bar",
         "x": [
          "A",
          "B",
          "C",
          "D"
         ],
         "y": [
          100,
          100,
          100,
          100
         ]
        }
       ],
       "layout": {
        "legend": {
         "bgcolor": "#F5F6F9",
         "font": {
          "color": "#4D5663"
         }
        },
        "paper_bgcolor": "#F5F6F9",
        "plot_bgcolor": "#F5F6F9",
        "template": {
         "data": {
          "bar": [
           {
            "error_x": {
             "color": "#2a3f5f"
            },
            "error_y": {
             "color": "#2a3f5f"
            },
            "marker": {
             "line": {
              "color": "#E5ECF6",
              "width": 0.5
             }
            },
            "type": "bar"
           }
          ],
          "barpolar": [
           {
            "marker": {
             "line": {
              "color": "#E5ECF6",
              "width": 0.5
             }
            },
            "type": "barpolar"
           }
          ],
          "carpet": [
           {
            "aaxis": {
             "endlinecolor": "#2a3f5f",
             "gridcolor": "white",
             "linecolor": "white",
             "minorgridcolor": "white",
             "startlinecolor": "#2a3f5f"
            },
            "baxis": {
             "endlinecolor": "#2a3f5f",
             "gridcolor": "white",
             "linecolor": "white",
             "minorgridcolor": "white",
             "startlinecolor": "#2a3f5f"
            },
            "type": "carpet"
           }
          ],
          "choropleth": [
           {
            "colorbar": {
             "outlinewidth": 0,
             "ticks": ""
            },
            "type": "choropleth"
           }
          ],
          "contour": [
           {
            "colorbar": {
             "outlinewidth": 0,
             "ticks": ""
            },
            "colorscale": [
             [
              0,
              "#0d0887"
             ],
             [
              0.1111111111111111,
              "#46039f"
             ],
             [
              0.2222222222222222,
              "#7201a8"
             ],
             [
              0.3333333333333333,
              "#9c179e"
             ],
             [
              0.4444444444444444,
              "#bd3786"
             ],
             [
              0.5555555555555556,
              "#d8576b"
             ],
             [
              0.6666666666666666,
              "#ed7953"
             ],
             [
              0.7777777777777778,
              "#fb9f3a"
             ],
             [
              0.8888888888888888,
              "#fdca26"
             ],
             [
              1,
              "#f0f921"
             ]
            ],
            "type": "contour"
           }
          ],
          "contourcarpet": [
           {
            "colorbar": {
             "outlinewidth": 0,
             "ticks": ""
            },
            "type": "contourcarpet"
           }
          ],
          "heatmap": [
           {
            "colorbar": {
             "outlinewidth": 0,
             "ticks": ""
            },
            "colorscale": [
             [
              0,
              "#0d0887"
             ],
             [
              0.1111111111111111,
              "#46039f"
             ],
             [
              0.2222222222222222,
              "#7201a8"
             ],
             [
              0.3333333333333333,
              "#9c179e"
             ],
             [
              0.4444444444444444,
              "#bd3786"
             ],
             [
              0.5555555555555556,
              "#d8576b"
             ],
             [
              0.6666666666666666,
              "#ed7953"
             ],
             [
              0.7777777777777778,
              "#fb9f3a"
             ],
             [
              0.8888888888888888,
              "#fdca26"
             ],
             [
              1,
              "#f0f921"
             ]
            ],
            "type": "heatmap"
           }
          ],
          "heatmapgl": [
           {
            "colorbar": {
             "outlinewidth": 0,
             "ticks": ""
            },
            "colorscale": [
             [
              0,
              "#0d0887"
             ],
             [
              0.1111111111111111,
              "#46039f"
             ],
             [
              0.2222222222222222,
              "#7201a8"
             ],
             [
              0.3333333333333333,
              "#9c179e"
             ],
             [
              0.4444444444444444,
              "#bd3786"
             ],
             [
              0.5555555555555556,
              "#d8576b"
             ],
             [
              0.6666666666666666,
              "#ed7953"
             ],
             [
              0.7777777777777778,
              "#fb9f3a"
             ],
             [
              0.8888888888888888,
              "#fdca26"
             ],
             [
              1,
              "#f0f921"
             ]
            ],
            "type": "heatmapgl"
           }
          ],
          "histogram": [
           {
            "marker": {
             "colorbar": {
              "outlinewidth": 0,
              "ticks": ""
             }
            },
            "type": "histogram"
           }
          ],
          "histogram2d": [
           {
            "colorbar": {
             "outlinewidth": 0,
             "ticks": ""
            },
            "colorscale": [
             [
              0,
              "#0d0887"
             ],
             [
              0.1111111111111111,
              "#46039f"
             ],
             [
              0.2222222222222222,
              "#7201a8"
             ],
             [
              0.3333333333333333,
              "#9c179e"
             ],
             [
              0.4444444444444444,
              "#bd3786"
             ],
             [
              0.5555555555555556,
              "#d8576b"
             ],
             [
              0.6666666666666666,
              "#ed7953"
             ],
             [
              0.7777777777777778,
              "#fb9f3a"
             ],
             [
              0.8888888888888888,
              "#fdca26"
             ],
             [
              1,
              "#f0f921"
             ]
            ],
            "type": "histogram2d"
           }
          ],
          "histogram2dcontour": [
           {
            "colorbar": {
             "outlinewidth": 0,
             "ticks": ""
            },
            "colorscale": [
             [
              0,
              "#0d0887"
             ],
             [
              0.1111111111111111,
              "#46039f"
             ],
             [
              0.2222222222222222,
              "#7201a8"
             ],
             [
              0.3333333333333333,
              "#9c179e"
             ],
             [
              0.4444444444444444,
              "#bd3786"
             ],
             [
              0.5555555555555556,
              "#d8576b"
             ],
             [
              0.6666666666666666,
              "#ed7953"
             ],
             [
              0.7777777777777778,
              "#fb9f3a"
             ],
             [
              0.8888888888888888,
              "#fdca26"
             ],
             [
              1,
              "#f0f921"
             ]
            ],
            "type": "histogram2dcontour"
           }
          ],
          "mesh3d": [
           {
            "colorbar": {
             "outlinewidth": 0,
             "ticks": ""
            },
            "type": "mesh3d"
           }
          ],
          "parcoords": [
           {
            "line": {
             "colorbar": {
              "outlinewidth": 0,
              "ticks": ""
             }
            },
            "type": "parcoords"
           }
          ],
          "pie": [
           {
            "automargin": true,
            "type": "pie"
           }
          ],
          "scatter": [
           {
            "marker": {
             "colorbar": {
              "outlinewidth": 0,
              "ticks": ""
             }
            },
            "type": "scatter"
           }
          ],
          "scatter3d": [
           {
            "line": {
             "colorbar": {
              "outlinewidth": 0,
              "ticks": ""
             }
            },
            "marker": {
             "colorbar": {
              "outlinewidth": 0,
              "ticks": ""
             }
            },
            "type": "scatter3d"
           }
          ],
          "scattercarpet": [
           {
            "marker": {
             "colorbar": {
              "outlinewidth": 0,
              "ticks": ""
             }
            },
            "type": "scattercarpet"
           }
          ],
          "scattergeo": [
           {
            "marker": {
             "colorbar": {
              "outlinewidth": 0,
              "ticks": ""
             }
            },
            "type": "scattergeo"
           }
          ],
          "scattergl": [
           {
            "marker": {
             "colorbar": {
              "outlinewidth": 0,
              "ticks": ""
             }
            },
            "type": "scattergl"
           }
          ],
          "scattermapbox": [
           {
            "marker": {
             "colorbar": {
              "outlinewidth": 0,
              "ticks": ""
             }
            },
            "type": "scattermapbox"
           }
          ],
          "scatterpolar": [
           {
            "marker": {
             "colorbar": {
              "outlinewidth": 0,
              "ticks": ""
             }
            },
            "type": "scatterpolar"
           }
          ],
          "scatterpolargl": [
           {
            "marker": {
             "colorbar": {
              "outlinewidth": 0,
              "ticks": ""
             }
            },
            "type": "scatterpolargl"
           }
          ],
          "scatterternary": [
           {
            "marker": {
             "colorbar": {
              "outlinewidth": 0,
              "ticks": ""
             }
            },
            "type": "scatterternary"
           }
          ],
          "surface": [
           {
            "colorbar": {
             "outlinewidth": 0,
             "ticks": ""
            },
            "colorscale": [
             [
              0,
              "#0d0887"
             ],
             [
              0.1111111111111111,
              "#46039f"
             ],
             [
              0.2222222222222222,
              "#7201a8"
             ],
             [
              0.3333333333333333,
              "#9c179e"
             ],
             [
              0.4444444444444444,
              "#bd3786"
             ],
             [
              0.5555555555555556,
              "#d8576b"
             ],
             [
              0.6666666666666666,
              "#ed7953"
             ],
             [
              0.7777777777777778,
              "#fb9f3a"
             ],
             [
              0.8888888888888888,
              "#fdca26"
             ],
             [
              1,
              "#f0f921"
             ]
            ],
            "type": "surface"
           }
          ],
          "table": [
           {
            "cells": {
             "fill": {
              "color": "#EBF0F8"
             },
             "line": {
              "color": "white"
             }
            },
            "header": {
             "fill": {
              "color": "#C8D4E3"
             },
             "line": {
              "color": "white"
             }
            },
            "type": "table"
           }
          ]
         },
         "layout": {
          "annotationdefaults": {
           "arrowcolor": "#2a3f5f",
           "arrowhead": 0,
           "arrowwidth": 1
          },
          "autotypenumbers": "strict",
          "coloraxis": {
           "colorbar": {
            "outlinewidth": 0,
            "ticks": ""
           }
          },
          "colorscale": {
           "diverging": [
            [
             0,
             "#8e0152"
            ],
            [
             0.1,
             "#c51b7d"
            ],
            [
             0.2,
             "#de77ae"
            ],
            [
             0.3,
             "#f1b6da"
            ],
            [
             0.4,
             "#fde0ef"
            ],
            [
             0.5,
             "#f7f7f7"
            ],
            [
             0.6,
             "#e6f5d0"
            ],
            [
             0.7,
             "#b8e186"
            ],
            [
             0.8,
             "#7fbc41"
            ],
            [
             0.9,
             "#4d9221"
            ],
            [
             1,
             "#276419"
            ]
           ],
           "sequential": [
            [
             0,
             "#0d0887"
            ],
            [
             0.1111111111111111,
             "#46039f"
            ],
            [
             0.2222222222222222,
             "#7201a8"
            ],
            [
             0.3333333333333333,
             "#9c179e"
            ],
            [
             0.4444444444444444,
             "#bd3786"
            ],
            [
             0.5555555555555556,
             "#d8576b"
            ],
            [
             0.6666666666666666,
             "#ed7953"
            ],
            [
             0.7777777777777778,
             "#fb9f3a"
            ],
            [
             0.8888888888888888,
             "#fdca26"
            ],
            [
             1,
             "#f0f921"
            ]
           ],
           "sequentialminus": [
            [
             0,
             "#0d0887"
            ],
            [
             0.1111111111111111,
             "#46039f"
            ],
            [
             0.2222222222222222,
             "#7201a8"
            ],
            [
             0.3333333333333333,
             "#9c179e"
            ],
            [
             0.4444444444444444,
             "#bd3786"
            ],
            [
             0.5555555555555556,
             "#d8576b"
            ],
            [
             0.6666666666666666,
             "#ed7953"
            ],
            [
             0.7777777777777778,
             "#fb9f3a"
            ],
            [
             0.8888888888888888,
             "#fdca26"
            ],
            [
             1,
             "#f0f921"
            ]
           ]
          },
          "colorway": [
           "#636efa",
           "#EF553B",
           "#00cc96",
           "#ab63fa",
           "#FFA15A",
           "#19d3f3",
           "#FF6692",
           "#B6E880",
           "#FF97FF",
           "#FECB52"
          ],
          "font": {
           "color": "#2a3f5f"
          },
          "geo": {
           "bgcolor": "white",
           "lakecolor": "white",
           "landcolor": "#E5ECF6",
           "showlakes": true,
           "showland": true,
           "subunitcolor": "white"
          },
          "hoverlabel": {
           "align": "left"
          },
          "hovermode": "closest",
          "mapbox": {
           "style": "light"
          },
          "paper_bgcolor": "white",
          "plot_bgcolor": "#E5ECF6",
          "polar": {
           "angularaxis": {
            "gridcolor": "white",
            "linecolor": "white",
            "ticks": ""
           },
           "bgcolor": "#E5ECF6",
           "radialaxis": {
            "gridcolor": "white",
            "linecolor": "white",
            "ticks": ""
           }
          },
          "scene": {
           "xaxis": {
            "backgroundcolor": "#E5ECF6",
            "gridcolor": "white",
            "gridwidth": 2,
            "linecolor": "white",
            "showbackground": true,
            "ticks": "",
            "zerolinecolor": "white"
           },
           "yaxis": {
            "backgroundcolor": "#E5ECF6",
            "gridcolor": "white",
            "gridwidth": 2,
            "linecolor": "white",
            "showbackground": true,
            "ticks": "",
            "zerolinecolor": "white"
           },
           "zaxis": {
            "backgroundcolor": "#E5ECF6",
            "gridcolor": "white",
            "gridwidth": 2,
            "linecolor": "white",
            "showbackground": true,
            "ticks": "",
            "zerolinecolor": "white"
           }
          },
          "shapedefaults": {
           "line": {
            "color": "#2a3f5f"
           }
          },
          "ternary": {
           "aaxis": {
            "gridcolor": "white",
            "linecolor": "white",
            "ticks": ""
           },
           "baxis": {
            "gridcolor": "white",
            "linecolor": "white",
            "ticks": ""
           },
           "bgcolor": "#E5ECF6",
           "caxis": {
            "gridcolor": "white",
            "linecolor": "white",
            "ticks": ""
           }
          },
          "title": {
           "x": 0.05
          },
          "xaxis": {
           "automargin": true,
           "gridcolor": "white",
           "linecolor": "white",
           "ticks": "",
           "title": {
            "standoff": 15
           },
           "zerolinecolor": "white",
           "zerolinewidth": 2
          },
          "yaxis": {
           "automargin": true,
           "gridcolor": "white",
           "linecolor": "white",
           "ticks": "",
           "title": {
            "standoff": 15
           },
           "zerolinecolor": "white",
           "zerolinewidth": 2
          }
         }
        },
        "title": {
         "font": {
          "color": "#4D5663"
         }
        },
        "xaxis": {
         "gridcolor": "#E1E5ED",
         "showgrid": true,
         "tickfont": {
          "color": "#4D5663"
         },
         "title": {
          "font": {
           "color": "#4D5663"
          },
          "text": ""
         },
         "zerolinecolor": "#E1E5ED"
        },
        "yaxis": {
         "gridcolor": "#E1E5ED",
         "showgrid": true,
         "tickfont": {
          "color": "#4D5663"
         },
         "title": {
          "font": {
           "color": "#4D5663"
          },
          "text": ""
         },
         "zerolinecolor": "#E1E5ED"
        }
       }
      },
      "text/html": [
       "<div>                            <div id=\"b64d124a-fb52-4eb3-8491-18d75590c72d\" class=\"plotly-graph-div\" style=\"height:525px; width:100%;\"></div>            <script type=\"text/javascript\">                require([\"plotly\"], function(Plotly) {                    window.PLOTLYENV=window.PLOTLYENV || {};\n",
       "                    window.PLOTLYENV.BASE_URL='https://plot.ly';                                    if (document.getElementById(\"b64d124a-fb52-4eb3-8491-18d75590c72d\")) {                    Plotly.newPlot(                        \"b64d124a-fb52-4eb3-8491-18d75590c72d\",                        [{\"marker\": {\"color\": \"rgba(255, 153, 51, 0.6)\", \"line\": {\"color\": \"rgba(255, 153, 51, 1.0)\", \"width\": 1}}, \"name\": \"None\", \"orientation\": \"v\", \"text\": \"\", \"type\": \"bar\", \"x\": [\"A\", \"B\", \"C\", \"D\"], \"y\": [100, 100, 100, 100]}],                        {\"legend\": {\"bgcolor\": \"#F5F6F9\", \"font\": {\"color\": \"#4D5663\"}}, \"paper_bgcolor\": \"#F5F6F9\", \"plot_bgcolor\": \"#F5F6F9\", \"template\": {\"data\": {\"bar\": [{\"error_x\": {\"color\": \"#2a3f5f\"}, \"error_y\": {\"color\": \"#2a3f5f\"}, \"marker\": {\"line\": {\"color\": \"#E5ECF6\", \"width\": 0.5}}, \"type\": \"bar\"}], \"barpolar\": [{\"marker\": {\"line\": {\"color\": \"#E5ECF6\", \"width\": 0.5}}, \"type\": \"barpolar\"}], \"carpet\": [{\"aaxis\": {\"endlinecolor\": \"#2a3f5f\", \"gridcolor\": \"white\", \"linecolor\": \"white\", \"minorgridcolor\": \"white\", \"startlinecolor\": \"#2a3f5f\"}, \"baxis\": {\"endlinecolor\": \"#2a3f5f\", \"gridcolor\": \"white\", \"linecolor\": \"white\", \"minorgridcolor\": \"white\", \"startlinecolor\": \"#2a3f5f\"}, \"type\": \"carpet\"}], \"choropleth\": [{\"colorbar\": {\"outlinewidth\": 0, \"ticks\": \"\"}, \"type\": \"choropleth\"}], \"contour\": [{\"colorbar\": {\"outlinewidth\": 0, \"ticks\": \"\"}, \"colorscale\": [[0.0, \"#0d0887\"], [0.1111111111111111, \"#46039f\"], [0.2222222222222222, \"#7201a8\"], [0.3333333333333333, \"#9c179e\"], [0.4444444444444444, \"#bd3786\"], [0.5555555555555556, \"#d8576b\"], [0.6666666666666666, \"#ed7953\"], [0.7777777777777778, \"#fb9f3a\"], [0.8888888888888888, \"#fdca26\"], [1.0, \"#f0f921\"]], \"type\": \"contour\"}], \"contourcarpet\": [{\"colorbar\": {\"outlinewidth\": 0, \"ticks\": \"\"}, \"type\": \"contourcarpet\"}], \"heatmap\": [{\"colorbar\": {\"outlinewidth\": 0, \"ticks\": \"\"}, \"colorscale\": [[0.0, \"#0d0887\"], [0.1111111111111111, \"#46039f\"], [0.2222222222222222, \"#7201a8\"], [0.3333333333333333, \"#9c179e\"], [0.4444444444444444, \"#bd3786\"], [0.5555555555555556, \"#d8576b\"], [0.6666666666666666, \"#ed7953\"], [0.7777777777777778, \"#fb9f3a\"], [0.8888888888888888, \"#fdca26\"], [1.0, \"#f0f921\"]], \"type\": \"heatmap\"}], \"heatmapgl\": [{\"colorbar\": {\"outlinewidth\": 0, \"ticks\": \"\"}, \"colorscale\": [[0.0, \"#0d0887\"], [0.1111111111111111, \"#46039f\"], [0.2222222222222222, \"#7201a8\"], [0.3333333333333333, \"#9c179e\"], [0.4444444444444444, \"#bd3786\"], [0.5555555555555556, \"#d8576b\"], [0.6666666666666666, \"#ed7953\"], [0.7777777777777778, \"#fb9f3a\"], [0.8888888888888888, \"#fdca26\"], [1.0, \"#f0f921\"]], \"type\": \"heatmapgl\"}], \"histogram\": [{\"marker\": {\"colorbar\": {\"outlinewidth\": 0, \"ticks\": \"\"}}, \"type\": \"histogram\"}], \"histogram2d\": [{\"colorbar\": {\"outlinewidth\": 0, \"ticks\": \"\"}, \"colorscale\": [[0.0, \"#0d0887\"], [0.1111111111111111, \"#46039f\"], [0.2222222222222222, \"#7201a8\"], [0.3333333333333333, \"#9c179e\"], [0.4444444444444444, \"#bd3786\"], [0.5555555555555556, \"#d8576b\"], [0.6666666666666666, \"#ed7953\"], [0.7777777777777778, \"#fb9f3a\"], [0.8888888888888888, \"#fdca26\"], [1.0, \"#f0f921\"]], \"type\": \"histogram2d\"}], \"histogram2dcontour\": [{\"colorbar\": {\"outlinewidth\": 0, \"ticks\": \"\"}, \"colorscale\": [[0.0, \"#0d0887\"], [0.1111111111111111, \"#46039f\"], [0.2222222222222222, \"#7201a8\"], [0.3333333333333333, \"#9c179e\"], [0.4444444444444444, \"#bd3786\"], [0.5555555555555556, \"#d8576b\"], [0.6666666666666666, \"#ed7953\"], [0.7777777777777778, \"#fb9f3a\"], [0.8888888888888888, \"#fdca26\"], [1.0, \"#f0f921\"]], \"type\": \"histogram2dcontour\"}], \"mesh3d\": [{\"colorbar\": {\"outlinewidth\": 0, \"ticks\": \"\"}, \"type\": \"mesh3d\"}], \"parcoords\": [{\"line\": {\"colorbar\": {\"outlinewidth\": 0, \"ticks\": \"\"}}, \"type\": \"parcoords\"}], \"pie\": [{\"automargin\": true, \"type\": \"pie\"}], \"scatter\": [{\"marker\": {\"colorbar\": {\"outlinewidth\": 0, \"ticks\": \"\"}}, \"type\": \"scatter\"}], \"scatter3d\": [{\"line\": {\"colorbar\": {\"outlinewidth\": 0, \"ticks\": \"\"}}, \"marker\": {\"colorbar\": {\"outlinewidth\": 0, \"ticks\": \"\"}}, \"type\": \"scatter3d\"}], \"scattercarpet\": [{\"marker\": {\"colorbar\": {\"outlinewidth\": 0, \"ticks\": \"\"}}, \"type\": \"scattercarpet\"}], \"scattergeo\": [{\"marker\": {\"colorbar\": {\"outlinewidth\": 0, \"ticks\": \"\"}}, \"type\": \"scattergeo\"}], \"scattergl\": [{\"marker\": {\"colorbar\": {\"outlinewidth\": 0, \"ticks\": \"\"}}, \"type\": \"scattergl\"}], \"scattermapbox\": [{\"marker\": {\"colorbar\": {\"outlinewidth\": 0, \"ticks\": \"\"}}, \"type\": \"scattermapbox\"}], \"scatterpolar\": [{\"marker\": {\"colorbar\": {\"outlinewidth\": 0, \"ticks\": \"\"}}, \"type\": \"scatterpolar\"}], \"scatterpolargl\": [{\"marker\": {\"colorbar\": {\"outlinewidth\": 0, \"ticks\": \"\"}}, \"type\": \"scatterpolargl\"}], \"scatterternary\": [{\"marker\": {\"colorbar\": {\"outlinewidth\": 0, \"ticks\": \"\"}}, \"type\": \"scatterternary\"}], \"surface\": [{\"colorbar\": {\"outlinewidth\": 0, \"ticks\": \"\"}, \"colorscale\": [[0.0, \"#0d0887\"], [0.1111111111111111, \"#46039f\"], [0.2222222222222222, \"#7201a8\"], [0.3333333333333333, \"#9c179e\"], [0.4444444444444444, \"#bd3786\"], [0.5555555555555556, \"#d8576b\"], [0.6666666666666666, \"#ed7953\"], [0.7777777777777778, \"#fb9f3a\"], [0.8888888888888888, \"#fdca26\"], [1.0, \"#f0f921\"]], \"type\": \"surface\"}], \"table\": [{\"cells\": {\"fill\": {\"color\": \"#EBF0F8\"}, \"line\": {\"color\": \"white\"}}, \"header\": {\"fill\": {\"color\": \"#C8D4E3\"}, \"line\": {\"color\": \"white\"}}, \"type\": \"table\"}]}, \"layout\": {\"annotationdefaults\": {\"arrowcolor\": \"#2a3f5f\", \"arrowhead\": 0, \"arrowwidth\": 1}, \"autotypenumbers\": \"strict\", \"coloraxis\": {\"colorbar\": {\"outlinewidth\": 0, \"ticks\": \"\"}}, \"colorscale\": {\"diverging\": [[0, \"#8e0152\"], [0.1, \"#c51b7d\"], [0.2, \"#de77ae\"], [0.3, \"#f1b6da\"], [0.4, \"#fde0ef\"], [0.5, \"#f7f7f7\"], [0.6, \"#e6f5d0\"], [0.7, \"#b8e186\"], [0.8, \"#7fbc41\"], [0.9, \"#4d9221\"], [1, \"#276419\"]], \"sequential\": [[0.0, \"#0d0887\"], [0.1111111111111111, \"#46039f\"], [0.2222222222222222, \"#7201a8\"], [0.3333333333333333, \"#9c179e\"], [0.4444444444444444, \"#bd3786\"], [0.5555555555555556, \"#d8576b\"], [0.6666666666666666, \"#ed7953\"], [0.7777777777777778, \"#fb9f3a\"], [0.8888888888888888, \"#fdca26\"], [1.0, \"#f0f921\"]], \"sequentialminus\": [[0.0, \"#0d0887\"], [0.1111111111111111, \"#46039f\"], [0.2222222222222222, \"#7201a8\"], [0.3333333333333333, \"#9c179e\"], [0.4444444444444444, \"#bd3786\"], [0.5555555555555556, \"#d8576b\"], [0.6666666666666666, \"#ed7953\"], [0.7777777777777778, \"#fb9f3a\"], [0.8888888888888888, \"#fdca26\"], [1.0, \"#f0f921\"]]}, \"colorway\": [\"#636efa\", \"#EF553B\", \"#00cc96\", \"#ab63fa\", \"#FFA15A\", \"#19d3f3\", \"#FF6692\", \"#B6E880\", \"#FF97FF\", \"#FECB52\"], \"font\": {\"color\": \"#2a3f5f\"}, \"geo\": {\"bgcolor\": \"white\", \"lakecolor\": \"white\", \"landcolor\": \"#E5ECF6\", \"showlakes\": true, \"showland\": true, \"subunitcolor\": \"white\"}, \"hoverlabel\": {\"align\": \"left\"}, \"hovermode\": \"closest\", \"mapbox\": {\"style\": \"light\"}, \"paper_bgcolor\": \"white\", \"plot_bgcolor\": \"#E5ECF6\", \"polar\": {\"angularaxis\": {\"gridcolor\": \"white\", \"linecolor\": \"white\", \"ticks\": \"\"}, \"bgcolor\": \"#E5ECF6\", \"radialaxis\": {\"gridcolor\": \"white\", \"linecolor\": \"white\", \"ticks\": \"\"}}, \"scene\": {\"xaxis\": {\"backgroundcolor\": \"#E5ECF6\", \"gridcolor\": \"white\", \"gridwidth\": 2, \"linecolor\": \"white\", \"showbackground\": true, \"ticks\": \"\", \"zerolinecolor\": \"white\"}, \"yaxis\": {\"backgroundcolor\": \"#E5ECF6\", \"gridcolor\": \"white\", \"gridwidth\": 2, \"linecolor\": \"white\", \"showbackground\": true, \"ticks\": \"\", \"zerolinecolor\": \"white\"}, \"zaxis\": {\"backgroundcolor\": \"#E5ECF6\", \"gridcolor\": \"white\", \"gridwidth\": 2, \"linecolor\": \"white\", \"showbackground\": true, \"ticks\": \"\", \"zerolinecolor\": \"white\"}}, \"shapedefaults\": {\"line\": {\"color\": \"#2a3f5f\"}}, \"ternary\": {\"aaxis\": {\"gridcolor\": \"white\", \"linecolor\": \"white\", \"ticks\": \"\"}, \"baxis\": {\"gridcolor\": \"white\", \"linecolor\": \"white\", \"ticks\": \"\"}, \"bgcolor\": \"#E5ECF6\", \"caxis\": {\"gridcolor\": \"white\", \"linecolor\": \"white\", \"ticks\": \"\"}}, \"title\": {\"x\": 0.05}, \"xaxis\": {\"automargin\": true, \"gridcolor\": \"white\", \"linecolor\": \"white\", \"ticks\": \"\", \"title\": {\"standoff\": 15}, \"zerolinecolor\": \"white\", \"zerolinewidth\": 2}, \"yaxis\": {\"automargin\": true, \"gridcolor\": \"white\", \"linecolor\": \"white\", \"ticks\": \"\", \"title\": {\"standoff\": 15}, \"zerolinecolor\": \"white\", \"zerolinewidth\": 2}}}, \"title\": {\"font\": {\"color\": \"#4D5663\"}}, \"xaxis\": {\"gridcolor\": \"#E1E5ED\", \"showgrid\": true, \"tickfont\": {\"color\": \"#4D5663\"}, \"title\": {\"font\": {\"color\": \"#4D5663\"}, \"text\": \"\"}, \"zerolinecolor\": \"#E1E5ED\"}, \"yaxis\": {\"gridcolor\": \"#E1E5ED\", \"showgrid\": true, \"tickfont\": {\"color\": \"#4D5663\"}, \"title\": {\"font\": {\"color\": \"#4D5663\"}, \"text\": \"\"}, \"zerolinecolor\": \"#E1E5ED\"}},                        {\"showLink\": true, \"linkText\": \"Export to plot.ly\", \"plotlyServerURL\": \"https://plot.ly\", \"responsive\": true}                    ).then(function(){\n",
       "                            \n",
       "var gd = document.getElementById('b64d124a-fb52-4eb3-8491-18d75590c72d');\n",
       "var x = new MutationObserver(function (mutations, observer) {{\n",
       "        var display = window.getComputedStyle(gd).display;\n",
       "        if (!display || display === 'none') {{\n",
       "            console.log([gd, 'removed!']);\n",
       "            Plotly.purge(gd);\n",
       "            observer.disconnect();\n",
       "        }}\n",
       "}});\n",
       "\n",
       "// Listen for the removal of the full notebook cells\n",
       "var notebookContainer = gd.closest('#notebook-container');\n",
       "if (notebookContainer) {{\n",
       "    x.observe(notebookContainer, {childList: true});\n",
       "}}\n",
       "\n",
       "// Listen for the clearing of the current output cell\n",
       "var outputEl = gd.closest('.output');\n",
       "if (outputEl) {{\n",
       "    x.observe(outputEl, {childList: true});\n",
       "}}\n",
       "\n",
       "                        })                };                });            </script>        </div>"
      ]
     },
     "metadata": {},
     "output_type": "display_data"
    }
   ],
   "source": [
    "df.count().iplot(kind='bar')"
   ]
  },
  {
   "cell_type": "markdown",
   "metadata": {},
   "source": [
    "## Boxplots"
   ]
  },
  {
   "cell_type": "code",
   "execution_count": 15,
   "metadata": {},
   "outputs": [
    {
     "data": {
      "application/vnd.plotly.v1+json": {
       "config": {
        "linkText": "Export to plot.ly",
        "plotlyServerURL": "https://plot.ly",
        "showLink": true
       },
       "data": [
        {
         "boxpoints": false,
         "line": {
          "width": 1.3
         },
         "marker": {
          "color": "rgba(255, 153, 51, 1.0)"
         },
         "name": "A",
         "orientation": "v",
         "type": "box",
         "y": [
          -0.8280260723763271,
          -2.77297444794199,
          -0.38121323391729234,
          0.7880707860623422,
          2.8084929576725313,
          -0.1374432130485793,
          1.4665828322027583,
          1.7170018404039853,
          -0.006694875240469727,
          -0.35801270109138483,
          -0.7945315217293085,
          1.107530808756093,
          1.1790484531176757,
          0.36440605216798233,
          -1.5822209826572298,
          -1.2750553918693035,
          -1.2090255857903993,
          0.4590850858171039,
          -0.6285482031372056,
          1.0546402699013748,
          1.5138351311137501,
          0.8734592513564242,
          0.21901261206315306,
          -1.163953212801199,
          -0.335892690218668,
          0.4938820380998607,
          0.06783004821863114,
          1.542059648394881,
          0.49156166686043756,
          0.4633288124694026,
          -0.9489982987198811,
          0.47065989470899516,
          -0.4418890963795218,
          0.44347045975400295,
          0.8144597660455606,
          -0.6531579459403273,
          0.42815418084727563,
          -0.3588910458379977,
          -0.5335759249000853,
          0.6314714718116694,
          -0.8487016591558267,
          1.5846252025402214,
          0.17310725166180807,
          0.27059605517156654,
          -0.4694392142146777,
          0.5838091465034632,
          -0.3432331323029411,
          -0.48966126380907626,
          -2.3796874131530377,
          1.3587330456455726,
          1.1171967076671219,
          -0.20850895799541944,
          -0.3995385709353827,
          -1.8147865778734724,
          0.7161603237047958,
          -1.269138912896145,
          -1.6827178168553847,
          -0.6674891664222559,
          -0.30249711294977955,
          0.6631651824638187,
          2.291182619859816,
          -2.458340895167761,
          0.2899567568659667,
          -0.47300884042820934,
          2.09432237150058,
          0.582786511773274,
          -1.1346112433030937,
          -1.2649618327532324,
          0.34316321337446215,
          -0.19277560479566427,
          0.33379569707167217,
          -1.517505142343097,
          -0.4055330148343431,
          1.3329366341718163,
          3.0880651844214007,
          -1.3533913810566096,
          0.3437532931939382,
          -1.6575292547862113,
          0.7154451417562238,
          -0.12577120476387404,
          -0.1221947706218079,
          0.5829755695712423,
          -1.5671691676011716,
          1.1105896726371092,
          -0.09369513621117644,
          1.0955857442776014,
          -1.4282369786985993,
          -0.05097785455827381,
          -0.5972071263206464,
          -1.256475896277932,
          -1.8851731596449193,
          0.828590542968046,
          -0.4062491091331472,
          0.0807500132107527,
          0.013163707403381393,
          -0.6217284887018927,
          -0.24693675551235092,
          0.06197700019368634,
          0.5634486026666133,
          0.6059138751307764
         ]
        },
        {
         "boxpoints": false,
         "line": {
          "width": 1.3
         },
         "marker": {
          "color": "rgba(55, 128, 191, 1.0)"
         },
         "name": "B",
         "orientation": "v",
         "type": "box",
         "y": [
          0.7488859249957294,
          -2.063476523426313,
          0.15896478732317448,
          0.9824428266957366,
          0.5177956680669261,
          1.2795287511749251,
          1.3168697401336789,
          -2.5769642163271804,
          -0.5223469831142037,
          1.8181176703709536,
          -0.472385080891169,
          0.5902248057458955,
          0.06501344080504949,
          -0.47080216571861333,
          0.18228275869868904,
          0.23126754721306877,
          0.6149010050060569,
          0.7222076794396597,
          -0.47556970422863515,
          0.460047800114019,
          0.20905587617029056,
          0.7386997197730129,
          0.2963947509662543,
          1.3324755157131947,
          1.0847241543052293,
          0.7238084792303607,
          0.031773286629343866,
          -0.85317652648317,
          -0.3103145393346325,
          -0.03628269694808576,
          -0.3086240085353415,
          -0.8791329349989142,
          -1.4582997557298272,
          1.0563940955502773,
          0.7624476857491007,
          -0.637472747395494,
          0.08463847795218485,
          -1.1360972676061123,
          0.3278612242444931,
          0.6074498411024112,
          -1.9401239947752962,
          -0.6993479106510858,
          1.3059278691514857,
          -0.19424188683695787,
          -1.2604848908802941,
          0.952687783783637,
          -1.546031553055093,
          -0.6993206460498765,
          0.20344776954368982,
          -0.7243873284737312,
          -0.9800294868969891,
          -0.514665260515114,
          1.0336926944205553,
          -0.9088425929534667,
          -1.2397144953831822,
          0.9812633628328463,
          2.7523411232946318,
          -0.7275897094517473,
          0.6909293763885511,
          0.679755401619041,
          -0.3870724045077387,
          0.8660805606258668,
          -1.3245161399204266,
          1.1927202884162393,
          0.08939780005427155,
          -2.806889952909305,
          0.8929360431986725,
          -0.12770744108226054,
          0.21199734276229967,
          1.1372829909715767,
          0.09620678459480445,
          -0.3018606425639405,
          0.9102322118714832,
          -2.309881595960726,
          -1.6100568373409712,
          0.6090688747514684,
          -0.6838011355845027,
          -0.2748716990341536,
          -0.4223440623301072,
          -0.8873989045199661,
          -0.0009738308528003652,
          0.10028669510880826,
          -0.048778800761219,
          1.3184511662605012,
          -2.195277463199274,
          0.34417282099715746,
          0.2628105585137296,
          1.4326207032621394,
          0.2935366035552767,
          0.39908458968185134,
          -1.4759639597995606,
          -0.560377497609232,
          -1.762548372904548,
          1.3007570365012764,
          0.1805535576155475,
          0.4187410435886277,
          -0.008350929356977793,
          -1.4548926844956653,
          -1.074772822423682,
          0.5854026103720574
         ]
        },
        {
         "boxpoints": false,
         "line": {
          "width": 1.3
         },
         "marker": {
          "color": "rgba(50, 171, 96, 1.0)"
         },
         "name": "C",
         "orientation": "v",
         "type": "box",
         "y": [
          1.7253801114530336,
          -0.8804409276344874,
          1.331116657890689,
          -0.21149950462188108,
          -1.167445572451072,
          -1.86682032962182,
          0.5550567292479028,
          0.5452866270236787,
          0.6339309155415728,
          0.231164891408304,
          -1.8305006882314347,
          0.06471049469239389,
          -1.1266744570399325,
          2.005310295649881,
          -0.028482335853937907,
          -0.47676328581315613,
          0.9303557807580285,
          -0.6960540968339621,
          -0.7265111451351663,
          0.6186778710316426,
          -1.5656749798051184,
          0.9086002976698601,
          -1.4057548790859178,
          -0.5775605048283244,
          -0.5714808957081108,
          -0.006524474517459756,
          -0.6090064439259069,
          0.8926472711827771,
          -0.9760585243827213,
          1.9663547435352045,
          1.4326657468524446,
          1.662004463772016,
          0.24510231590545106,
          -1.1140187962778287,
          -0.051942121865523286,
          -0.8724806670184981,
          -0.028508923489273388,
          -0.1319408669048997,
          1.0530214539978553,
          1.6995103988035576,
          0.17594259773996168,
          -2.2182295179966953,
          -0.18040527071059057,
          -0.6997057487838385,
          -0.2142205109056815,
          0.5487184958860298,
          -0.4079902648528655,
          -0.26977067737465493,
          -0.8243829409981692,
          0.0867872600282909,
          -1.0847228525825072,
          0.9540307463204664,
          0.10576031593004116,
          -0.7907611436276919,
          1.3570657440455447,
          1.31366121472068,
          1.0328400142798095,
          0.10777043870564415,
          1.3405761225949349,
          0.5325162439920655,
          1.3572146232639517,
          0.09864623747508508,
          -1.0844817479277369,
          0.06991885791354406,
          0.4330280919942761,
          0.3949368133459405,
          -0.07470513451635608,
          0.8947229547408788,
          -0.20101177512636403,
          -0.829289771380396,
          0.22612152082460252,
          2.1519403226862326,
          -0.5992918280704882,
          -0.915734701343928,
          -0.24813388814972398,
          -1.3952127945941872,
          0.37273712169823314,
          0.4067064042074707,
          1.488984685385158,
          -0.8106816010319763,
          -1.5421325647403865,
          1.330753230343414,
          -0.4338579419715875,
          0.023564367195433637,
          0.7189964343463359,
          0.6665475964066954,
          0.7161413728329881,
          0.1229643812477501,
          0.29786048037526636,
          -0.7587902514620694,
          0.676306827021562,
          0.472869803432536,
          -0.5311331200629258,
          -0.4414394903929416,
          0.43122606826674764,
          -0.7984767291316012,
          -0.21167247168939404,
          -0.8418568493843376,
          0.1003033539435394,
          0.9639176565339589
         ]
        },
        {
         "boxpoints": false,
         "line": {
          "width": 1.3
         },
         "marker": {
          "color": "rgba(128, 0, 128, 1.0)"
         },
         "name": "D",
         "orientation": "v",
         "type": "box",
         "y": [
          0.4882068764644425,
          -0.1730599122555562,
          -0.18029327282843913,
          0.08897401757083999,
          0.4759079771296569,
          -0.7475729640986748,
          -0.6314103667912152,
          -0.5429540933252955,
          -0.6867032832812933,
          0.003516713451322575,
          0.2690133393221728,
          1.9113918370343146,
          0.8942333609097131,
          -0.6147020080793911,
          -0.29627748478840876,
          -0.7135564071003545,
          1.3901561233784447,
          -0.5446223145677315,
          0.665946983365099,
          -0.7496721950249093,
          -0.40733460856123066,
          0.27465116526722494,
          1.5320952066625422,
          1.7492770935729696,
          -1.1543261651182537,
          -1.184155527301778,
          0.028700526904036155,
          1.2438773766120852,
          0.4365147943692492,
          1.1408167992468035,
          -1.8258998355515466,
          1.052927076581993,
          -0.25881136499559954,
          1.1633980352981832,
          -1.1276238025508922,
          0.29249241538744025,
          -0.9939865758424621,
          0.8345157084831906,
          0.10678369466768305,
          0.6418979095760036,
          0.9729734554120418,
          -1.728577051930168,
          -2.046106191789923,
          -2.3617950208986094,
          1.5542527388434406,
          0.11607119589178173,
          -1.5037217035024932,
          -0.2330021546379168,
          0.9294035212277092,
          -0.6546411181672671,
          0.37836134228099827,
          -0.7874206814909359,
          1.0745567164294885,
          -0.8421542414903073,
          1.507068399271997,
          0.04221631656382646,
          0.9985323800813999,
          0.07813153273720085,
          0.3582652484185667,
          -0.26568314239766294,
          2.0566410122848993,
          0.23062388105590104,
          -0.6224371068334607,
          2.8343397633466263,
          -1.0235495065224018,
          -0.7326214364645792,
          -0.9588926845494297,
          0.1324900332792681,
          0.13374143364652147,
          0.8303828681263521,
          -0.401954368463575,
          -0.2993793998301332,
          -1.1751482554395292,
          -0.615421356355059,
          -0.3806859547104433,
          0.6297112168337228,
          -0.49686252054116276,
          -0.3710424946031853,
          0.862727439889303,
          -0.5545510889849203,
          3.2613233609225665,
          1.03433897470513,
          -0.20151325723595134,
          -0.026146515903826384,
          -0.19179514842935289,
          -0.8657989069062361,
          -0.011837114522481318,
          -0.9300513393433796,
          0.6085583810153283,
          -0.6222195978714236,
          -1.0247791883432427,
          2.1371485346759966,
          -0.9251541260596596,
          -0.17952317807502466,
          -0.5969096817635869,
          -0.9875194195098052,
          0.5458507291811573,
          1.118252469599825,
          -0.06419951244882167,
          0.031654006904315884
         ]
        }
       ],
       "layout": {
        "legend": {
         "bgcolor": "#F5F6F9",
         "font": {
          "color": "#4D5663"
         }
        },
        "paper_bgcolor": "#F5F6F9",
        "plot_bgcolor": "#F5F6F9",
        "template": {
         "data": {
          "bar": [
           {
            "error_x": {
             "color": "#2a3f5f"
            },
            "error_y": {
             "color": "#2a3f5f"
            },
            "marker": {
             "line": {
              "color": "#E5ECF6",
              "width": 0.5
             }
            },
            "type": "bar"
           }
          ],
          "barpolar": [
           {
            "marker": {
             "line": {
              "color": "#E5ECF6",
              "width": 0.5
             }
            },
            "type": "barpolar"
           }
          ],
          "carpet": [
           {
            "aaxis": {
             "endlinecolor": "#2a3f5f",
             "gridcolor": "white",
             "linecolor": "white",
             "minorgridcolor": "white",
             "startlinecolor": "#2a3f5f"
            },
            "baxis": {
             "endlinecolor": "#2a3f5f",
             "gridcolor": "white",
             "linecolor": "white",
             "minorgridcolor": "white",
             "startlinecolor": "#2a3f5f"
            },
            "type": "carpet"
           }
          ],
          "choropleth": [
           {
            "colorbar": {
             "outlinewidth": 0,
             "ticks": ""
            },
            "type": "choropleth"
           }
          ],
          "contour": [
           {
            "colorbar": {
             "outlinewidth": 0,
             "ticks": ""
            },
            "colorscale": [
             [
              0,
              "#0d0887"
             ],
             [
              0.1111111111111111,
              "#46039f"
             ],
             [
              0.2222222222222222,
              "#7201a8"
             ],
             [
              0.3333333333333333,
              "#9c179e"
             ],
             [
              0.4444444444444444,
              "#bd3786"
             ],
             [
              0.5555555555555556,
              "#d8576b"
             ],
             [
              0.6666666666666666,
              "#ed7953"
             ],
             [
              0.7777777777777778,
              "#fb9f3a"
             ],
             [
              0.8888888888888888,
              "#fdca26"
             ],
             [
              1,
              "#f0f921"
             ]
            ],
            "type": "contour"
           }
          ],
          "contourcarpet": [
           {
            "colorbar": {
             "outlinewidth": 0,
             "ticks": ""
            },
            "type": "contourcarpet"
           }
          ],
          "heatmap": [
           {
            "colorbar": {
             "outlinewidth": 0,
             "ticks": ""
            },
            "colorscale": [
             [
              0,
              "#0d0887"
             ],
             [
              0.1111111111111111,
              "#46039f"
             ],
             [
              0.2222222222222222,
              "#7201a8"
             ],
             [
              0.3333333333333333,
              "#9c179e"
             ],
             [
              0.4444444444444444,
              "#bd3786"
             ],
             [
              0.5555555555555556,
              "#d8576b"
             ],
             [
              0.6666666666666666,
              "#ed7953"
             ],
             [
              0.7777777777777778,
              "#fb9f3a"
             ],
             [
              0.8888888888888888,
              "#fdca26"
             ],
             [
              1,
              "#f0f921"
             ]
            ],
            "type": "heatmap"
           }
          ],
          "heatmapgl": [
           {
            "colorbar": {
             "outlinewidth": 0,
             "ticks": ""
            },
            "colorscale": [
             [
              0,
              "#0d0887"
             ],
             [
              0.1111111111111111,
              "#46039f"
             ],
             [
              0.2222222222222222,
              "#7201a8"
             ],
             [
              0.3333333333333333,
              "#9c179e"
             ],
             [
              0.4444444444444444,
              "#bd3786"
             ],
             [
              0.5555555555555556,
              "#d8576b"
             ],
             [
              0.6666666666666666,
              "#ed7953"
             ],
             [
              0.7777777777777778,
              "#fb9f3a"
             ],
             [
              0.8888888888888888,
              "#fdca26"
             ],
             [
              1,
              "#f0f921"
             ]
            ],
            "type": "heatmapgl"
           }
          ],
          "histogram": [
           {
            "marker": {
             "colorbar": {
              "outlinewidth": 0,
              "ticks": ""
             }
            },
            "type": "histogram"
           }
          ],
          "histogram2d": [
           {
            "colorbar": {
             "outlinewidth": 0,
             "ticks": ""
            },
            "colorscale": [
             [
              0,
              "#0d0887"
             ],
             [
              0.1111111111111111,
              "#46039f"
             ],
             [
              0.2222222222222222,
              "#7201a8"
             ],
             [
              0.3333333333333333,
              "#9c179e"
             ],
             [
              0.4444444444444444,
              "#bd3786"
             ],
             [
              0.5555555555555556,
              "#d8576b"
             ],
             [
              0.6666666666666666,
              "#ed7953"
             ],
             [
              0.7777777777777778,
              "#fb9f3a"
             ],
             [
              0.8888888888888888,
              "#fdca26"
             ],
             [
              1,
              "#f0f921"
             ]
            ],
            "type": "histogram2d"
           }
          ],
          "histogram2dcontour": [
           {
            "colorbar": {
             "outlinewidth": 0,
             "ticks": ""
            },
            "colorscale": [
             [
              0,
              "#0d0887"
             ],
             [
              0.1111111111111111,
              "#46039f"
             ],
             [
              0.2222222222222222,
              "#7201a8"
             ],
             [
              0.3333333333333333,
              "#9c179e"
             ],
             [
              0.4444444444444444,
              "#bd3786"
             ],
             [
              0.5555555555555556,
              "#d8576b"
             ],
             [
              0.6666666666666666,
              "#ed7953"
             ],
             [
              0.7777777777777778,
              "#fb9f3a"
             ],
             [
              0.8888888888888888,
              "#fdca26"
             ],
             [
              1,
              "#f0f921"
             ]
            ],
            "type": "histogram2dcontour"
           }
          ],
          "mesh3d": [
           {
            "colorbar": {
             "outlinewidth": 0,
             "ticks": ""
            },
            "type": "mesh3d"
           }
          ],
          "parcoords": [
           {
            "line": {
             "colorbar": {
              "outlinewidth": 0,
              "ticks": ""
             }
            },
            "type": "parcoords"
           }
          ],
          "pie": [
           {
            "automargin": true,
            "type": "pie"
           }
          ],
          "scatter": [
           {
            "marker": {
             "colorbar": {
              "outlinewidth": 0,
              "ticks": ""
             }
            },
            "type": "scatter"
           }
          ],
          "scatter3d": [
           {
            "line": {
             "colorbar": {
              "outlinewidth": 0,
              "ticks": ""
             }
            },
            "marker": {
             "colorbar": {
              "outlinewidth": 0,
              "ticks": ""
             }
            },
            "type": "scatter3d"
           }
          ],
          "scattercarpet": [
           {
            "marker": {
             "colorbar": {
              "outlinewidth": 0,
              "ticks": ""
             }
            },
            "type": "scattercarpet"
           }
          ],
          "scattergeo": [
           {
            "marker": {
             "colorbar": {
              "outlinewidth": 0,
              "ticks": ""
             }
            },
            "type": "scattergeo"
           }
          ],
          "scattergl": [
           {
            "marker": {
             "colorbar": {
              "outlinewidth": 0,
              "ticks": ""
             }
            },
            "type": "scattergl"
           }
          ],
          "scattermapbox": [
           {
            "marker": {
             "colorbar": {
              "outlinewidth": 0,
              "ticks": ""
             }
            },
            "type": "scattermapbox"
           }
          ],
          "scatterpolar": [
           {
            "marker": {
             "colorbar": {
              "outlinewidth": 0,
              "ticks": ""
             }
            },
            "type": "scatterpolar"
           }
          ],
          "scatterpolargl": [
           {
            "marker": {
             "colorbar": {
              "outlinewidth": 0,
              "ticks": ""
             }
            },
            "type": "scatterpolargl"
           }
          ],
          "scatterternary": [
           {
            "marker": {
             "colorbar": {
              "outlinewidth": 0,
              "ticks": ""
             }
            },
            "type": "scatterternary"
           }
          ],
          "surface": [
           {
            "colorbar": {
             "outlinewidth": 0,
             "ticks": ""
            },
            "colorscale": [
             [
              0,
              "#0d0887"
             ],
             [
              0.1111111111111111,
              "#46039f"
             ],
             [
              0.2222222222222222,
              "#7201a8"
             ],
             [
              0.3333333333333333,
              "#9c179e"
             ],
             [
              0.4444444444444444,
              "#bd3786"
             ],
             [
              0.5555555555555556,
              "#d8576b"
             ],
             [
              0.6666666666666666,
              "#ed7953"
             ],
             [
              0.7777777777777778,
              "#fb9f3a"
             ],
             [
              0.8888888888888888,
              "#fdca26"
             ],
             [
              1,
              "#f0f921"
             ]
            ],
            "type": "surface"
           }
          ],
          "table": [
           {
            "cells": {
             "fill": {
              "color": "#EBF0F8"
             },
             "line": {
              "color": "white"
             }
            },
            "header": {
             "fill": {
              "color": "#C8D4E3"
             },
             "line": {
              "color": "white"
             }
            },
            "type": "table"
           }
          ]
         },
         "layout": {
          "annotationdefaults": {
           "arrowcolor": "#2a3f5f",
           "arrowhead": 0,
           "arrowwidth": 1
          },
          "autotypenumbers": "strict",
          "coloraxis": {
           "colorbar": {
            "outlinewidth": 0,
            "ticks": ""
           }
          },
          "colorscale": {
           "diverging": [
            [
             0,
             "#8e0152"
            ],
            [
             0.1,
             "#c51b7d"
            ],
            [
             0.2,
             "#de77ae"
            ],
            [
             0.3,
             "#f1b6da"
            ],
            [
             0.4,
             "#fde0ef"
            ],
            [
             0.5,
             "#f7f7f7"
            ],
            [
             0.6,
             "#e6f5d0"
            ],
            [
             0.7,
             "#b8e186"
            ],
            [
             0.8,
             "#7fbc41"
            ],
            [
             0.9,
             "#4d9221"
            ],
            [
             1,
             "#276419"
            ]
           ],
           "sequential": [
            [
             0,
             "#0d0887"
            ],
            [
             0.1111111111111111,
             "#46039f"
            ],
            [
             0.2222222222222222,
             "#7201a8"
            ],
            [
             0.3333333333333333,
             "#9c179e"
            ],
            [
             0.4444444444444444,
             "#bd3786"
            ],
            [
             0.5555555555555556,
             "#d8576b"
            ],
            [
             0.6666666666666666,
             "#ed7953"
            ],
            [
             0.7777777777777778,
             "#fb9f3a"
            ],
            [
             0.8888888888888888,
             "#fdca26"
            ],
            [
             1,
             "#f0f921"
            ]
           ],
           "sequentialminus": [
            [
             0,
             "#0d0887"
            ],
            [
             0.1111111111111111,
             "#46039f"
            ],
            [
             0.2222222222222222,
             "#7201a8"
            ],
            [
             0.3333333333333333,
             "#9c179e"
            ],
            [
             0.4444444444444444,
             "#bd3786"
            ],
            [
             0.5555555555555556,
             "#d8576b"
            ],
            [
             0.6666666666666666,
             "#ed7953"
            ],
            [
             0.7777777777777778,
             "#fb9f3a"
            ],
            [
             0.8888888888888888,
             "#fdca26"
            ],
            [
             1,
             "#f0f921"
            ]
           ]
          },
          "colorway": [
           "#636efa",
           "#EF553B",
           "#00cc96",
           "#ab63fa",
           "#FFA15A",
           "#19d3f3",
           "#FF6692",
           "#B6E880",
           "#FF97FF",
           "#FECB52"
          ],
          "font": {
           "color": "#2a3f5f"
          },
          "geo": {
           "bgcolor": "white",
           "lakecolor": "white",
           "landcolor": "#E5ECF6",
           "showlakes": true,
           "showland": true,
           "subunitcolor": "white"
          },
          "hoverlabel": {
           "align": "left"
          },
          "hovermode": "closest",
          "mapbox": {
           "style": "light"
          },
          "paper_bgcolor": "white",
          "plot_bgcolor": "#E5ECF6",
          "polar": {
           "angularaxis": {
            "gridcolor": "white",
            "linecolor": "white",
            "ticks": ""
           },
           "bgcolor": "#E5ECF6",
           "radialaxis": {
            "gridcolor": "white",
            "linecolor": "white",
            "ticks": ""
           }
          },
          "scene": {
           "xaxis": {
            "backgroundcolor": "#E5ECF6",
            "gridcolor": "white",
            "gridwidth": 2,
            "linecolor": "white",
            "showbackground": true,
            "ticks": "",
            "zerolinecolor": "white"
           },
           "yaxis": {
            "backgroundcolor": "#E5ECF6",
            "gridcolor": "white",
            "gridwidth": 2,
            "linecolor": "white",
            "showbackground": true,
            "ticks": "",
            "zerolinecolor": "white"
           },
           "zaxis": {
            "backgroundcolor": "#E5ECF6",
            "gridcolor": "white",
            "gridwidth": 2,
            "linecolor": "white",
            "showbackground": true,
            "ticks": "",
            "zerolinecolor": "white"
           }
          },
          "shapedefaults": {
           "line": {
            "color": "#2a3f5f"
           }
          },
          "ternary": {
           "aaxis": {
            "gridcolor": "white",
            "linecolor": "white",
            "ticks": ""
           },
           "baxis": {
            "gridcolor": "white",
            "linecolor": "white",
            "ticks": ""
           },
           "bgcolor": "#E5ECF6",
           "caxis": {
            "gridcolor": "white",
            "linecolor": "white",
            "ticks": ""
           }
          },
          "title": {
           "x": 0.05
          },
          "xaxis": {
           "automargin": true,
           "gridcolor": "white",
           "linecolor": "white",
           "ticks": "",
           "title": {
            "standoff": 15
           },
           "zerolinecolor": "white",
           "zerolinewidth": 2
          },
          "yaxis": {
           "automargin": true,
           "gridcolor": "white",
           "linecolor": "white",
           "ticks": "",
           "title": {
            "standoff": 15
           },
           "zerolinecolor": "white",
           "zerolinewidth": 2
          }
         }
        },
        "title": {
         "font": {
          "color": "#4D5663"
         }
        },
        "xaxis": {
         "gridcolor": "#E1E5ED",
         "showgrid": true,
         "tickfont": {
          "color": "#4D5663"
         },
         "title": {
          "font": {
           "color": "#4D5663"
          },
          "text": ""
         },
         "zerolinecolor": "#E1E5ED"
        },
        "yaxis": {
         "gridcolor": "#E1E5ED",
         "showgrid": true,
         "tickfont": {
          "color": "#4D5663"
         },
         "title": {
          "font": {
           "color": "#4D5663"
          },
          "text": ""
         },
         "zerolinecolor": "#E1E5ED"
        }
       }
      },
      "text/html": [
       "<div>                            <div id=\"f5df75c7-e2c8-4f5a-b362-45dc1d576e78\" class=\"plotly-graph-div\" style=\"height:525px; width:100%;\"></div>            <script type=\"text/javascript\">                require([\"plotly\"], function(Plotly) {                    window.PLOTLYENV=window.PLOTLYENV || {};\n",
       "                    window.PLOTLYENV.BASE_URL='https://plot.ly';                                    if (document.getElementById(\"f5df75c7-e2c8-4f5a-b362-45dc1d576e78\")) {                    Plotly.newPlot(                        \"f5df75c7-e2c8-4f5a-b362-45dc1d576e78\",                        [{\"boxpoints\": false, \"line\": {\"width\": 1.3}, \"marker\": {\"color\": \"rgba(255, 153, 51, 1.0)\"}, \"name\": \"A\", \"orientation\": \"v\", \"type\": \"box\", \"y\": [-0.8280260723763271, -2.77297444794199, -0.38121323391729234, 0.7880707860623422, 2.8084929576725313, -0.1374432130485793, 1.4665828322027583, 1.7170018404039853, -0.006694875240469727, -0.35801270109138483, -0.7945315217293085, 1.107530808756093, 1.1790484531176757, 0.36440605216798233, -1.5822209826572298, -1.2750553918693035, -1.2090255857903993, 0.4590850858171039, -0.6285482031372056, 1.0546402699013748, 1.5138351311137501, 0.8734592513564242, 0.21901261206315306, -1.163953212801199, -0.335892690218668, 0.4938820380998607, 0.06783004821863114, 1.542059648394881, 0.49156166686043756, 0.4633288124694026, -0.9489982987198811, 0.47065989470899516, -0.4418890963795218, 0.44347045975400295, 0.8144597660455606, -0.6531579459403273, 0.42815418084727563, -0.3588910458379977, -0.5335759249000853, 0.6314714718116694, -0.8487016591558267, 1.5846252025402214, 0.17310725166180807, 0.27059605517156654, -0.4694392142146777, 0.5838091465034632, -0.3432331323029411, -0.48966126380907626, -2.3796874131530377, 1.3587330456455726, 1.1171967076671219, -0.20850895799541944, -0.3995385709353827, -1.8147865778734724, 0.7161603237047958, -1.269138912896145, -1.6827178168553847, -0.6674891664222559, -0.30249711294977955, 0.6631651824638187, 2.291182619859816, -2.458340895167761, 0.2899567568659667, -0.47300884042820934, 2.09432237150058, 0.582786511773274, -1.1346112433030937, -1.2649618327532324, 0.34316321337446215, -0.19277560479566427, 0.33379569707167217, -1.517505142343097, -0.4055330148343431, 1.3329366341718163, 3.0880651844214007, -1.3533913810566096, 0.3437532931939382, -1.6575292547862113, 0.7154451417562238, -0.12577120476387404, -0.1221947706218079, 0.5829755695712423, -1.5671691676011716, 1.1105896726371092, -0.09369513621117644, 1.0955857442776014, -1.4282369786985993, -0.05097785455827381, -0.5972071263206464, -1.256475896277932, -1.8851731596449193, 0.828590542968046, -0.4062491091331472, 0.0807500132107527, 0.013163707403381393, -0.6217284887018927, -0.24693675551235092, 0.06197700019368634, 0.5634486026666133, 0.6059138751307764]}, {\"boxpoints\": false, \"line\": {\"width\": 1.3}, \"marker\": {\"color\": \"rgba(55, 128, 191, 1.0)\"}, \"name\": \"B\", \"orientation\": \"v\", \"type\": \"box\", \"y\": [0.7488859249957294, -2.063476523426313, 0.15896478732317448, 0.9824428266957366, 0.5177956680669261, 1.2795287511749251, 1.3168697401336789, -2.5769642163271804, -0.5223469831142037, 1.8181176703709536, -0.472385080891169, 0.5902248057458955, 0.06501344080504949, -0.47080216571861333, 0.18228275869868904, 0.23126754721306877, 0.6149010050060569, 0.7222076794396597, -0.47556970422863515, 0.460047800114019, 0.20905587617029056, 0.7386997197730129, 0.2963947509662543, 1.3324755157131947, 1.0847241543052293, 0.7238084792303607, 0.031773286629343866, -0.85317652648317, -0.3103145393346325, -0.03628269694808576, -0.3086240085353415, -0.8791329349989142, -1.4582997557298272, 1.0563940955502773, 0.7624476857491007, -0.637472747395494, 0.08463847795218485, -1.1360972676061123, 0.3278612242444931, 0.6074498411024112, -1.9401239947752962, -0.6993479106510858, 1.3059278691514857, -0.19424188683695787, -1.2604848908802941, 0.952687783783637, -1.546031553055093, -0.6993206460498765, 0.20344776954368982, -0.7243873284737312, -0.9800294868969891, -0.514665260515114, 1.0336926944205553, -0.9088425929534667, -1.2397144953831822, 0.9812633628328463, 2.7523411232946318, -0.7275897094517473, 0.6909293763885511, 0.679755401619041, -0.3870724045077387, 0.8660805606258668, -1.3245161399204266, 1.1927202884162393, 0.08939780005427155, -2.806889952909305, 0.8929360431986725, -0.12770744108226054, 0.21199734276229967, 1.1372829909715767, 0.09620678459480445, -0.3018606425639405, 0.9102322118714832, -2.309881595960726, -1.6100568373409712, 0.6090688747514684, -0.6838011355845027, -0.2748716990341536, -0.4223440623301072, -0.8873989045199661, -0.0009738308528003652, 0.10028669510880826, -0.048778800761219, 1.3184511662605012, -2.195277463199274, 0.34417282099715746, 0.2628105585137296, 1.4326207032621394, 0.2935366035552767, 0.39908458968185134, -1.4759639597995606, -0.560377497609232, -1.762548372904548, 1.3007570365012764, 0.1805535576155475, 0.4187410435886277, -0.008350929356977793, -1.4548926844956653, -1.074772822423682, 0.5854026103720574]}, {\"boxpoints\": false, \"line\": {\"width\": 1.3}, \"marker\": {\"color\": \"rgba(50, 171, 96, 1.0)\"}, \"name\": \"C\", \"orientation\": \"v\", \"type\": \"box\", \"y\": [1.7253801114530336, -0.8804409276344874, 1.331116657890689, -0.21149950462188108, -1.167445572451072, -1.86682032962182, 0.5550567292479028, 0.5452866270236787, 0.6339309155415728, 0.231164891408304, -1.8305006882314347, 0.06471049469239389, -1.1266744570399325, 2.005310295649881, -0.028482335853937907, -0.47676328581315613, 0.9303557807580285, -0.6960540968339621, -0.7265111451351663, 0.6186778710316426, -1.5656749798051184, 0.9086002976698601, -1.4057548790859178, -0.5775605048283244, -0.5714808957081108, -0.006524474517459756, -0.6090064439259069, 0.8926472711827771, -0.9760585243827213, 1.9663547435352045, 1.4326657468524446, 1.662004463772016, 0.24510231590545106, -1.1140187962778287, -0.051942121865523286, -0.8724806670184981, -0.028508923489273388, -0.1319408669048997, 1.0530214539978553, 1.6995103988035576, 0.17594259773996168, -2.2182295179966953, -0.18040527071059057, -0.6997057487838385, -0.2142205109056815, 0.5487184958860298, -0.4079902648528655, -0.26977067737465493, -0.8243829409981692, 0.0867872600282909, -1.0847228525825072, 0.9540307463204664, 0.10576031593004116, -0.7907611436276919, 1.3570657440455447, 1.31366121472068, 1.0328400142798095, 0.10777043870564415, 1.3405761225949349, 0.5325162439920655, 1.3572146232639517, 0.09864623747508508, -1.0844817479277369, 0.06991885791354406, 0.4330280919942761, 0.3949368133459405, -0.07470513451635608, 0.8947229547408788, -0.20101177512636403, -0.829289771380396, 0.22612152082460252, 2.1519403226862326, -0.5992918280704882, -0.915734701343928, -0.24813388814972398, -1.3952127945941872, 0.37273712169823314, 0.4067064042074707, 1.488984685385158, -0.8106816010319763, -1.5421325647403865, 1.330753230343414, -0.4338579419715875, 0.023564367195433637, 0.7189964343463359, 0.6665475964066954, 0.7161413728329881, 0.1229643812477501, 0.29786048037526636, -0.7587902514620694, 0.676306827021562, 0.472869803432536, -0.5311331200629258, -0.4414394903929416, 0.43122606826674764, -0.7984767291316012, -0.21167247168939404, -0.8418568493843376, 0.1003033539435394, 0.9639176565339589]}, {\"boxpoints\": false, \"line\": {\"width\": 1.3}, \"marker\": {\"color\": \"rgba(128, 0, 128, 1.0)\"}, \"name\": \"D\", \"orientation\": \"v\", \"type\": \"box\", \"y\": [0.4882068764644425, -0.1730599122555562, -0.18029327282843913, 0.08897401757083999, 0.4759079771296569, -0.7475729640986748, -0.6314103667912152, -0.5429540933252955, -0.6867032832812933, 0.003516713451322575, 0.2690133393221728, 1.9113918370343146, 0.8942333609097131, -0.6147020080793911, -0.29627748478840876, -0.7135564071003545, 1.3901561233784447, -0.5446223145677315, 0.665946983365099, -0.7496721950249093, -0.40733460856123066, 0.27465116526722494, 1.5320952066625422, 1.7492770935729696, -1.1543261651182537, -1.184155527301778, 0.028700526904036155, 1.2438773766120852, 0.4365147943692492, 1.1408167992468035, -1.8258998355515466, 1.052927076581993, -0.25881136499559954, 1.1633980352981832, -1.1276238025508922, 0.29249241538744025, -0.9939865758424621, 0.8345157084831906, 0.10678369466768305, 0.6418979095760036, 0.9729734554120418, -1.728577051930168, -2.046106191789923, -2.3617950208986094, 1.5542527388434406, 0.11607119589178173, -1.5037217035024932, -0.2330021546379168, 0.9294035212277092, -0.6546411181672671, 0.37836134228099827, -0.7874206814909359, 1.0745567164294885, -0.8421542414903073, 1.507068399271997, 0.04221631656382646, 0.9985323800813999, 0.07813153273720085, 0.3582652484185667, -0.26568314239766294, 2.0566410122848993, 0.23062388105590104, -0.6224371068334607, 2.8343397633466263, -1.0235495065224018, -0.7326214364645792, -0.9588926845494297, 0.1324900332792681, 0.13374143364652147, 0.8303828681263521, -0.401954368463575, -0.2993793998301332, -1.1751482554395292, -0.615421356355059, -0.3806859547104433, 0.6297112168337228, -0.49686252054116276, -0.3710424946031853, 0.862727439889303, -0.5545510889849203, 3.2613233609225665, 1.03433897470513, -0.20151325723595134, -0.026146515903826384, -0.19179514842935289, -0.8657989069062361, -0.011837114522481318, -0.9300513393433796, 0.6085583810153283, -0.6222195978714236, -1.0247791883432427, 2.1371485346759966, -0.9251541260596596, -0.17952317807502466, -0.5969096817635869, -0.9875194195098052, 0.5458507291811573, 1.118252469599825, -0.06419951244882167, 0.031654006904315884]}],                        {\"legend\": {\"bgcolor\": \"#F5F6F9\", \"font\": {\"color\": \"#4D5663\"}}, \"paper_bgcolor\": \"#F5F6F9\", \"plot_bgcolor\": \"#F5F6F9\", \"template\": {\"data\": {\"bar\": [{\"error_x\": {\"color\": \"#2a3f5f\"}, \"error_y\": {\"color\": \"#2a3f5f\"}, \"marker\": {\"line\": {\"color\": \"#E5ECF6\", \"width\": 0.5}}, \"type\": \"bar\"}], \"barpolar\": [{\"marker\": {\"line\": {\"color\": \"#E5ECF6\", \"width\": 0.5}}, \"type\": \"barpolar\"}], \"carpet\": [{\"aaxis\": {\"endlinecolor\": \"#2a3f5f\", \"gridcolor\": \"white\", \"linecolor\": \"white\", \"minorgridcolor\": \"white\", \"startlinecolor\": \"#2a3f5f\"}, \"baxis\": {\"endlinecolor\": \"#2a3f5f\", \"gridcolor\": \"white\", \"linecolor\": \"white\", \"minorgridcolor\": \"white\", \"startlinecolor\": \"#2a3f5f\"}, \"type\": \"carpet\"}], \"choropleth\": [{\"colorbar\": {\"outlinewidth\": 0, \"ticks\": \"\"}, \"type\": \"choropleth\"}], \"contour\": [{\"colorbar\": {\"outlinewidth\": 0, \"ticks\": \"\"}, \"colorscale\": [[0.0, \"#0d0887\"], [0.1111111111111111, \"#46039f\"], [0.2222222222222222, \"#7201a8\"], [0.3333333333333333, \"#9c179e\"], [0.4444444444444444, \"#bd3786\"], [0.5555555555555556, \"#d8576b\"], [0.6666666666666666, \"#ed7953\"], [0.7777777777777778, \"#fb9f3a\"], [0.8888888888888888, \"#fdca26\"], [1.0, \"#f0f921\"]], \"type\": \"contour\"}], \"contourcarpet\": [{\"colorbar\": {\"outlinewidth\": 0, \"ticks\": \"\"}, \"type\": \"contourcarpet\"}], \"heatmap\": [{\"colorbar\": {\"outlinewidth\": 0, \"ticks\": \"\"}, \"colorscale\": [[0.0, \"#0d0887\"], [0.1111111111111111, \"#46039f\"], [0.2222222222222222, \"#7201a8\"], [0.3333333333333333, \"#9c179e\"], [0.4444444444444444, \"#bd3786\"], [0.5555555555555556, \"#d8576b\"], [0.6666666666666666, \"#ed7953\"], [0.7777777777777778, \"#fb9f3a\"], [0.8888888888888888, \"#fdca26\"], [1.0, \"#f0f921\"]], \"type\": \"heatmap\"}], \"heatmapgl\": [{\"colorbar\": {\"outlinewidth\": 0, \"ticks\": \"\"}, \"colorscale\": [[0.0, \"#0d0887\"], [0.1111111111111111, \"#46039f\"], [0.2222222222222222, \"#7201a8\"], [0.3333333333333333, \"#9c179e\"], [0.4444444444444444, \"#bd3786\"], [0.5555555555555556, \"#d8576b\"], [0.6666666666666666, \"#ed7953\"], [0.7777777777777778, \"#fb9f3a\"], [0.8888888888888888, \"#fdca26\"], [1.0, \"#f0f921\"]], \"type\": \"heatmapgl\"}], \"histogram\": [{\"marker\": {\"colorbar\": {\"outlinewidth\": 0, \"ticks\": \"\"}}, \"type\": \"histogram\"}], \"histogram2d\": [{\"colorbar\": {\"outlinewidth\": 0, \"ticks\": \"\"}, \"colorscale\": [[0.0, \"#0d0887\"], [0.1111111111111111, \"#46039f\"], [0.2222222222222222, \"#7201a8\"], [0.3333333333333333, \"#9c179e\"], [0.4444444444444444, \"#bd3786\"], [0.5555555555555556, \"#d8576b\"], [0.6666666666666666, \"#ed7953\"], [0.7777777777777778, \"#fb9f3a\"], [0.8888888888888888, \"#fdca26\"], [1.0, \"#f0f921\"]], \"type\": \"histogram2d\"}], \"histogram2dcontour\": [{\"colorbar\": {\"outlinewidth\": 0, \"ticks\": \"\"}, \"colorscale\": [[0.0, \"#0d0887\"], [0.1111111111111111, \"#46039f\"], [0.2222222222222222, \"#7201a8\"], [0.3333333333333333, \"#9c179e\"], [0.4444444444444444, \"#bd3786\"], [0.5555555555555556, \"#d8576b\"], [0.6666666666666666, \"#ed7953\"], [0.7777777777777778, \"#fb9f3a\"], [0.8888888888888888, \"#fdca26\"], [1.0, \"#f0f921\"]], \"type\": \"histogram2dcontour\"}], \"mesh3d\": [{\"colorbar\": {\"outlinewidth\": 0, \"ticks\": \"\"}, \"type\": \"mesh3d\"}], \"parcoords\": [{\"line\": {\"colorbar\": {\"outlinewidth\": 0, \"ticks\": \"\"}}, \"type\": \"parcoords\"}], \"pie\": [{\"automargin\": true, \"type\": \"pie\"}], \"scatter\": [{\"marker\": {\"colorbar\": {\"outlinewidth\": 0, \"ticks\": \"\"}}, \"type\": \"scatter\"}], \"scatter3d\": [{\"line\": {\"colorbar\": {\"outlinewidth\": 0, \"ticks\": \"\"}}, \"marker\": {\"colorbar\": {\"outlinewidth\": 0, \"ticks\": \"\"}}, \"type\": \"scatter3d\"}], \"scattercarpet\": [{\"marker\": {\"colorbar\": {\"outlinewidth\": 0, \"ticks\": \"\"}}, \"type\": \"scattercarpet\"}], \"scattergeo\": [{\"marker\": {\"colorbar\": {\"outlinewidth\": 0, \"ticks\": \"\"}}, \"type\": \"scattergeo\"}], \"scattergl\": [{\"marker\": {\"colorbar\": {\"outlinewidth\": 0, \"ticks\": \"\"}}, \"type\": \"scattergl\"}], \"scattermapbox\": [{\"marker\": {\"colorbar\": {\"outlinewidth\": 0, \"ticks\": \"\"}}, \"type\": \"scattermapbox\"}], \"scatterpolar\": [{\"marker\": {\"colorbar\": {\"outlinewidth\": 0, \"ticks\": \"\"}}, \"type\": \"scatterpolar\"}], \"scatterpolargl\": [{\"marker\": {\"colorbar\": {\"outlinewidth\": 0, \"ticks\": \"\"}}, \"type\": \"scatterpolargl\"}], \"scatterternary\": [{\"marker\": {\"colorbar\": {\"outlinewidth\": 0, \"ticks\": \"\"}}, \"type\": \"scatterternary\"}], \"surface\": [{\"colorbar\": {\"outlinewidth\": 0, \"ticks\": \"\"}, \"colorscale\": [[0.0, \"#0d0887\"], [0.1111111111111111, \"#46039f\"], [0.2222222222222222, \"#7201a8\"], [0.3333333333333333, \"#9c179e\"], [0.4444444444444444, \"#bd3786\"], [0.5555555555555556, \"#d8576b\"], [0.6666666666666666, \"#ed7953\"], [0.7777777777777778, \"#fb9f3a\"], [0.8888888888888888, \"#fdca26\"], [1.0, \"#f0f921\"]], \"type\": \"surface\"}], \"table\": [{\"cells\": {\"fill\": {\"color\": \"#EBF0F8\"}, \"line\": {\"color\": \"white\"}}, \"header\": {\"fill\": {\"color\": \"#C8D4E3\"}, \"line\": {\"color\": \"white\"}}, \"type\": \"table\"}]}, \"layout\": {\"annotationdefaults\": {\"arrowcolor\": \"#2a3f5f\", \"arrowhead\": 0, \"arrowwidth\": 1}, \"autotypenumbers\": \"strict\", \"coloraxis\": {\"colorbar\": {\"outlinewidth\": 0, \"ticks\": \"\"}}, \"colorscale\": {\"diverging\": [[0, \"#8e0152\"], [0.1, \"#c51b7d\"], [0.2, \"#de77ae\"], [0.3, \"#f1b6da\"], [0.4, \"#fde0ef\"], [0.5, \"#f7f7f7\"], [0.6, \"#e6f5d0\"], [0.7, \"#b8e186\"], [0.8, \"#7fbc41\"], [0.9, \"#4d9221\"], [1, \"#276419\"]], \"sequential\": [[0.0, \"#0d0887\"], [0.1111111111111111, \"#46039f\"], [0.2222222222222222, \"#7201a8\"], [0.3333333333333333, \"#9c179e\"], [0.4444444444444444, \"#bd3786\"], [0.5555555555555556, \"#d8576b\"], [0.6666666666666666, \"#ed7953\"], [0.7777777777777778, \"#fb9f3a\"], [0.8888888888888888, \"#fdca26\"], [1.0, \"#f0f921\"]], \"sequentialminus\": [[0.0, \"#0d0887\"], [0.1111111111111111, \"#46039f\"], [0.2222222222222222, \"#7201a8\"], [0.3333333333333333, \"#9c179e\"], [0.4444444444444444, \"#bd3786\"], [0.5555555555555556, \"#d8576b\"], [0.6666666666666666, \"#ed7953\"], [0.7777777777777778, \"#fb9f3a\"], [0.8888888888888888, \"#fdca26\"], [1.0, \"#f0f921\"]]}, \"colorway\": [\"#636efa\", \"#EF553B\", \"#00cc96\", \"#ab63fa\", \"#FFA15A\", \"#19d3f3\", \"#FF6692\", \"#B6E880\", \"#FF97FF\", \"#FECB52\"], \"font\": {\"color\": \"#2a3f5f\"}, \"geo\": {\"bgcolor\": \"white\", \"lakecolor\": \"white\", \"landcolor\": \"#E5ECF6\", \"showlakes\": true, \"showland\": true, \"subunitcolor\": \"white\"}, \"hoverlabel\": {\"align\": \"left\"}, \"hovermode\": \"closest\", \"mapbox\": {\"style\": \"light\"}, \"paper_bgcolor\": \"white\", \"plot_bgcolor\": \"#E5ECF6\", \"polar\": {\"angularaxis\": {\"gridcolor\": \"white\", \"linecolor\": \"white\", \"ticks\": \"\"}, \"bgcolor\": \"#E5ECF6\", \"radialaxis\": {\"gridcolor\": \"white\", \"linecolor\": \"white\", \"ticks\": \"\"}}, \"scene\": {\"xaxis\": {\"backgroundcolor\": \"#E5ECF6\", \"gridcolor\": \"white\", \"gridwidth\": 2, \"linecolor\": \"white\", \"showbackground\": true, \"ticks\": \"\", \"zerolinecolor\": \"white\"}, \"yaxis\": {\"backgroundcolor\": \"#E5ECF6\", \"gridcolor\": \"white\", \"gridwidth\": 2, \"linecolor\": \"white\", \"showbackground\": true, \"ticks\": \"\", \"zerolinecolor\": \"white\"}, \"zaxis\": {\"backgroundcolor\": \"#E5ECF6\", \"gridcolor\": \"white\", \"gridwidth\": 2, \"linecolor\": \"white\", \"showbackground\": true, \"ticks\": \"\", \"zerolinecolor\": \"white\"}}, \"shapedefaults\": {\"line\": {\"color\": \"#2a3f5f\"}}, \"ternary\": {\"aaxis\": {\"gridcolor\": \"white\", \"linecolor\": \"white\", \"ticks\": \"\"}, \"baxis\": {\"gridcolor\": \"white\", \"linecolor\": \"white\", \"ticks\": \"\"}, \"bgcolor\": \"#E5ECF6\", \"caxis\": {\"gridcolor\": \"white\", \"linecolor\": \"white\", \"ticks\": \"\"}}, \"title\": {\"x\": 0.05}, \"xaxis\": {\"automargin\": true, \"gridcolor\": \"white\", \"linecolor\": \"white\", \"ticks\": \"\", \"title\": {\"standoff\": 15}, \"zerolinecolor\": \"white\", \"zerolinewidth\": 2}, \"yaxis\": {\"automargin\": true, \"gridcolor\": \"white\", \"linecolor\": \"white\", \"ticks\": \"\", \"title\": {\"standoff\": 15}, \"zerolinecolor\": \"white\", \"zerolinewidth\": 2}}}, \"title\": {\"font\": {\"color\": \"#4D5663\"}}, \"xaxis\": {\"gridcolor\": \"#E1E5ED\", \"showgrid\": true, \"tickfont\": {\"color\": \"#4D5663\"}, \"title\": {\"font\": {\"color\": \"#4D5663\"}, \"text\": \"\"}, \"zerolinecolor\": \"#E1E5ED\"}, \"yaxis\": {\"gridcolor\": \"#E1E5ED\", \"showgrid\": true, \"tickfont\": {\"color\": \"#4D5663\"}, \"title\": {\"font\": {\"color\": \"#4D5663\"}, \"text\": \"\"}, \"zerolinecolor\": \"#E1E5ED\"}},                        {\"showLink\": true, \"linkText\": \"Export to plot.ly\", \"plotlyServerURL\": \"https://plot.ly\", \"responsive\": true}                    ).then(function(){\n",
       "                            \n",
       "var gd = document.getElementById('f5df75c7-e2c8-4f5a-b362-45dc1d576e78');\n",
       "var x = new MutationObserver(function (mutations, observer) {{\n",
       "        var display = window.getComputedStyle(gd).display;\n",
       "        if (!display || display === 'none') {{\n",
       "            console.log([gd, 'removed!']);\n",
       "            Plotly.purge(gd);\n",
       "            observer.disconnect();\n",
       "        }}\n",
       "}});\n",
       "\n",
       "// Listen for the removal of the full notebook cells\n",
       "var notebookContainer = gd.closest('#notebook-container');\n",
       "if (notebookContainer) {{\n",
       "    x.observe(notebookContainer, {childList: true});\n",
       "}}\n",
       "\n",
       "// Listen for the clearing of the current output cell\n",
       "var outputEl = gd.closest('.output');\n",
       "if (outputEl) {{\n",
       "    x.observe(outputEl, {childList: true});\n",
       "}}\n",
       "\n",
       "                        })                };                });            </script>        </div>"
      ]
     },
     "metadata": {},
     "output_type": "display_data"
    }
   ],
   "source": [
    "df.iplot(kind='box')"
   ]
  },
  {
   "cell_type": "markdown",
   "metadata": {},
   "source": [
    "## 3d Surface"
   ]
  },
  {
   "cell_type": "code",
   "execution_count": 16,
   "metadata": {},
   "outputs": [
    {
     "data": {
      "application/vnd.plotly.v1+json": {
       "config": {
        "linkText": "Export to plot.ly",
        "plotlyServerURL": "https://plot.ly",
        "showLink": true
       },
       "data": [
        {
         "colorscale": [
          [
           0,
           "rgb(165,0,38)"
          ],
          [
           0.1,
           "rgb(215,48,39)"
          ],
          [
           0.2,
           "rgb(244,109,67)"
          ],
          [
           0.3,
           "rgb(253,174,97)"
          ],
          [
           0.4,
           "rgb(254,224,144)"
          ],
          [
           0.5,
           "rgb(255,255,191)"
          ],
          [
           0.6,
           "rgb(224,243,248)"
          ],
          [
           0.7,
           "rgb(171,217,233)"
          ],
          [
           0.8,
           "rgb(116,173,209)"
          ],
          [
           0.9,
           "rgb(69,117,180)"
          ],
          [
           1,
           "rgb(49,54,149)"
          ]
         ],
         "type": "surface",
         "x": [
          0,
          1,
          2,
          3,
          4
         ],
         "y": [
          "x",
          "y",
          "z"
         ],
         "z": [
          [
           1,
           2,
           3,
           4,
           5
          ],
          [
           10,
           20,
           30,
           20,
           10
          ],
          [
           5,
           4,
           3,
           2,
           1
          ]
         ]
        }
       ],
       "layout": {
        "legend": {
         "bgcolor": "#F5F6F9",
         "font": {
          "color": "#4D5663"
         }
        },
        "paper_bgcolor": "#F5F6F9",
        "plot_bgcolor": "#F5F6F9",
        "template": {
         "data": {
          "bar": [
           {
            "error_x": {
             "color": "#2a3f5f"
            },
            "error_y": {
             "color": "#2a3f5f"
            },
            "marker": {
             "line": {
              "color": "#E5ECF6",
              "width": 0.5
             }
            },
            "type": "bar"
           }
          ],
          "barpolar": [
           {
            "marker": {
             "line": {
              "color": "#E5ECF6",
              "width": 0.5
             }
            },
            "type": "barpolar"
           }
          ],
          "carpet": [
           {
            "aaxis": {
             "endlinecolor": "#2a3f5f",
             "gridcolor": "white",
             "linecolor": "white",
             "minorgridcolor": "white",
             "startlinecolor": "#2a3f5f"
            },
            "baxis": {
             "endlinecolor": "#2a3f5f",
             "gridcolor": "white",
             "linecolor": "white",
             "minorgridcolor": "white",
             "startlinecolor": "#2a3f5f"
            },
            "type": "carpet"
           }
          ],
          "choropleth": [
           {
            "colorbar": {
             "outlinewidth": 0,
             "ticks": ""
            },
            "type": "choropleth"
           }
          ],
          "contour": [
           {
            "colorbar": {
             "outlinewidth": 0,
             "ticks": ""
            },
            "colorscale": [
             [
              0,
              "#0d0887"
             ],
             [
              0.1111111111111111,
              "#46039f"
             ],
             [
              0.2222222222222222,
              "#7201a8"
             ],
             [
              0.3333333333333333,
              "#9c179e"
             ],
             [
              0.4444444444444444,
              "#bd3786"
             ],
             [
              0.5555555555555556,
              "#d8576b"
             ],
             [
              0.6666666666666666,
              "#ed7953"
             ],
             [
              0.7777777777777778,
              "#fb9f3a"
             ],
             [
              0.8888888888888888,
              "#fdca26"
             ],
             [
              1,
              "#f0f921"
             ]
            ],
            "type": "contour"
           }
          ],
          "contourcarpet": [
           {
            "colorbar": {
             "outlinewidth": 0,
             "ticks": ""
            },
            "type": "contourcarpet"
           }
          ],
          "heatmap": [
           {
            "colorbar": {
             "outlinewidth": 0,
             "ticks": ""
            },
            "colorscale": [
             [
              0,
              "#0d0887"
             ],
             [
              0.1111111111111111,
              "#46039f"
             ],
             [
              0.2222222222222222,
              "#7201a8"
             ],
             [
              0.3333333333333333,
              "#9c179e"
             ],
             [
              0.4444444444444444,
              "#bd3786"
             ],
             [
              0.5555555555555556,
              "#d8576b"
             ],
             [
              0.6666666666666666,
              "#ed7953"
             ],
             [
              0.7777777777777778,
              "#fb9f3a"
             ],
             [
              0.8888888888888888,
              "#fdca26"
             ],
             [
              1,
              "#f0f921"
             ]
            ],
            "type": "heatmap"
           }
          ],
          "heatmapgl": [
           {
            "colorbar": {
             "outlinewidth": 0,
             "ticks": ""
            },
            "colorscale": [
             [
              0,
              "#0d0887"
             ],
             [
              0.1111111111111111,
              "#46039f"
             ],
             [
              0.2222222222222222,
              "#7201a8"
             ],
             [
              0.3333333333333333,
              "#9c179e"
             ],
             [
              0.4444444444444444,
              "#bd3786"
             ],
             [
              0.5555555555555556,
              "#d8576b"
             ],
             [
              0.6666666666666666,
              "#ed7953"
             ],
             [
              0.7777777777777778,
              "#fb9f3a"
             ],
             [
              0.8888888888888888,
              "#fdca26"
             ],
             [
              1,
              "#f0f921"
             ]
            ],
            "type": "heatmapgl"
           }
          ],
          "histogram": [
           {
            "marker": {
             "colorbar": {
              "outlinewidth": 0,
              "ticks": ""
             }
            },
            "type": "histogram"
           }
          ],
          "histogram2d": [
           {
            "colorbar": {
             "outlinewidth": 0,
             "ticks": ""
            },
            "colorscale": [
             [
              0,
              "#0d0887"
             ],
             [
              0.1111111111111111,
              "#46039f"
             ],
             [
              0.2222222222222222,
              "#7201a8"
             ],
             [
              0.3333333333333333,
              "#9c179e"
             ],
             [
              0.4444444444444444,
              "#bd3786"
             ],
             [
              0.5555555555555556,
              "#d8576b"
             ],
             [
              0.6666666666666666,
              "#ed7953"
             ],
             [
              0.7777777777777778,
              "#fb9f3a"
             ],
             [
              0.8888888888888888,
              "#fdca26"
             ],
             [
              1,
              "#f0f921"
             ]
            ],
            "type": "histogram2d"
           }
          ],
          "histogram2dcontour": [
           {
            "colorbar": {
             "outlinewidth": 0,
             "ticks": ""
            },
            "colorscale": [
             [
              0,
              "#0d0887"
             ],
             [
              0.1111111111111111,
              "#46039f"
             ],
             [
              0.2222222222222222,
              "#7201a8"
             ],
             [
              0.3333333333333333,
              "#9c179e"
             ],
             [
              0.4444444444444444,
              "#bd3786"
             ],
             [
              0.5555555555555556,
              "#d8576b"
             ],
             [
              0.6666666666666666,
              "#ed7953"
             ],
             [
              0.7777777777777778,
              "#fb9f3a"
             ],
             [
              0.8888888888888888,
              "#fdca26"
             ],
             [
              1,
              "#f0f921"
             ]
            ],
            "type": "histogram2dcontour"
           }
          ],
          "mesh3d": [
           {
            "colorbar": {
             "outlinewidth": 0,
             "ticks": ""
            },
            "type": "mesh3d"
           }
          ],
          "parcoords": [
           {
            "line": {
             "colorbar": {
              "outlinewidth": 0,
              "ticks": ""
             }
            },
            "type": "parcoords"
           }
          ],
          "pie": [
           {
            "automargin": true,
            "type": "pie"
           }
          ],
          "scatter": [
           {
            "marker": {
             "colorbar": {
              "outlinewidth": 0,
              "ticks": ""
             }
            },
            "type": "scatter"
           }
          ],
          "scatter3d": [
           {
            "line": {
             "colorbar": {
              "outlinewidth": 0,
              "ticks": ""
             }
            },
            "marker": {
             "colorbar": {
              "outlinewidth": 0,
              "ticks": ""
             }
            },
            "type": "scatter3d"
           }
          ],
          "scattercarpet": [
           {
            "marker": {
             "colorbar": {
              "outlinewidth": 0,
              "ticks": ""
             }
            },
            "type": "scattercarpet"
           }
          ],
          "scattergeo": [
           {
            "marker": {
             "colorbar": {
              "outlinewidth": 0,
              "ticks": ""
             }
            },
            "type": "scattergeo"
           }
          ],
          "scattergl": [
           {
            "marker": {
             "colorbar": {
              "outlinewidth": 0,
              "ticks": ""
             }
            },
            "type": "scattergl"
           }
          ],
          "scattermapbox": [
           {
            "marker": {
             "colorbar": {
              "outlinewidth": 0,
              "ticks": ""
             }
            },
            "type": "scattermapbox"
           }
          ],
          "scatterpolar": [
           {
            "marker": {
             "colorbar": {
              "outlinewidth": 0,
              "ticks": ""
             }
            },
            "type": "scatterpolar"
           }
          ],
          "scatterpolargl": [
           {
            "marker": {
             "colorbar": {
              "outlinewidth": 0,
              "ticks": ""
             }
            },
            "type": "scatterpolargl"
           }
          ],
          "scatterternary": [
           {
            "marker": {
             "colorbar": {
              "outlinewidth": 0,
              "ticks": ""
             }
            },
            "type": "scatterternary"
           }
          ],
          "surface": [
           {
            "colorbar": {
             "outlinewidth": 0,
             "ticks": ""
            },
            "colorscale": [
             [
              0,
              "#0d0887"
             ],
             [
              0.1111111111111111,
              "#46039f"
             ],
             [
              0.2222222222222222,
              "#7201a8"
             ],
             [
              0.3333333333333333,
              "#9c179e"
             ],
             [
              0.4444444444444444,
              "#bd3786"
             ],
             [
              0.5555555555555556,
              "#d8576b"
             ],
             [
              0.6666666666666666,
              "#ed7953"
             ],
             [
              0.7777777777777778,
              "#fb9f3a"
             ],
             [
              0.8888888888888888,
              "#fdca26"
             ],
             [
              1,
              "#f0f921"
             ]
            ],
            "type": "surface"
           }
          ],
          "table": [
           {
            "cells": {
             "fill": {
              "color": "#EBF0F8"
             },
             "line": {
              "color": "white"
             }
            },
            "header": {
             "fill": {
              "color": "#C8D4E3"
             },
             "line": {
              "color": "white"
             }
            },
            "type": "table"
           }
          ]
         },
         "layout": {
          "annotationdefaults": {
           "arrowcolor": "#2a3f5f",
           "arrowhead": 0,
           "arrowwidth": 1
          },
          "autotypenumbers": "strict",
          "coloraxis": {
           "colorbar": {
            "outlinewidth": 0,
            "ticks": ""
           }
          },
          "colorscale": {
           "diverging": [
            [
             0,
             "#8e0152"
            ],
            [
             0.1,
             "#c51b7d"
            ],
            [
             0.2,
             "#de77ae"
            ],
            [
             0.3,
             "#f1b6da"
            ],
            [
             0.4,
             "#fde0ef"
            ],
            [
             0.5,
             "#f7f7f7"
            ],
            [
             0.6,
             "#e6f5d0"
            ],
            [
             0.7,
             "#b8e186"
            ],
            [
             0.8,
             "#7fbc41"
            ],
            [
             0.9,
             "#4d9221"
            ],
            [
             1,
             "#276419"
            ]
           ],
           "sequential": [
            [
             0,
             "#0d0887"
            ],
            [
             0.1111111111111111,
             "#46039f"
            ],
            [
             0.2222222222222222,
             "#7201a8"
            ],
            [
             0.3333333333333333,
             "#9c179e"
            ],
            [
             0.4444444444444444,
             "#bd3786"
            ],
            [
             0.5555555555555556,
             "#d8576b"
            ],
            [
             0.6666666666666666,
             "#ed7953"
            ],
            [
             0.7777777777777778,
             "#fb9f3a"
            ],
            [
             0.8888888888888888,
             "#fdca26"
            ],
            [
             1,
             "#f0f921"
            ]
           ],
           "sequentialminus": [
            [
             0,
             "#0d0887"
            ],
            [
             0.1111111111111111,
             "#46039f"
            ],
            [
             0.2222222222222222,
             "#7201a8"
            ],
            [
             0.3333333333333333,
             "#9c179e"
            ],
            [
             0.4444444444444444,
             "#bd3786"
            ],
            [
             0.5555555555555556,
             "#d8576b"
            ],
            [
             0.6666666666666666,
             "#ed7953"
            ],
            [
             0.7777777777777778,
             "#fb9f3a"
            ],
            [
             0.8888888888888888,
             "#fdca26"
            ],
            [
             1,
             "#f0f921"
            ]
           ]
          },
          "colorway": [
           "#636efa",
           "#EF553B",
           "#00cc96",
           "#ab63fa",
           "#FFA15A",
           "#19d3f3",
           "#FF6692",
           "#B6E880",
           "#FF97FF",
           "#FECB52"
          ],
          "font": {
           "color": "#2a3f5f"
          },
          "geo": {
           "bgcolor": "white",
           "lakecolor": "white",
           "landcolor": "#E5ECF6",
           "showlakes": true,
           "showland": true,
           "subunitcolor": "white"
          },
          "hoverlabel": {
           "align": "left"
          },
          "hovermode": "closest",
          "mapbox": {
           "style": "light"
          },
          "paper_bgcolor": "white",
          "plot_bgcolor": "#E5ECF6",
          "polar": {
           "angularaxis": {
            "gridcolor": "white",
            "linecolor": "white",
            "ticks": ""
           },
           "bgcolor": "#E5ECF6",
           "radialaxis": {
            "gridcolor": "white",
            "linecolor": "white",
            "ticks": ""
           }
          },
          "scene": {
           "xaxis": {
            "backgroundcolor": "#E5ECF6",
            "gridcolor": "white",
            "gridwidth": 2,
            "linecolor": "white",
            "showbackground": true,
            "ticks": "",
            "zerolinecolor": "white"
           },
           "yaxis": {
            "backgroundcolor": "#E5ECF6",
            "gridcolor": "white",
            "gridwidth": 2,
            "linecolor": "white",
            "showbackground": true,
            "ticks": "",
            "zerolinecolor": "white"
           },
           "zaxis": {
            "backgroundcolor": "#E5ECF6",
            "gridcolor": "white",
            "gridwidth": 2,
            "linecolor": "white",
            "showbackground": true,
            "ticks": "",
            "zerolinecolor": "white"
           }
          },
          "shapedefaults": {
           "line": {
            "color": "#2a3f5f"
           }
          },
          "ternary": {
           "aaxis": {
            "gridcolor": "white",
            "linecolor": "white",
            "ticks": ""
           },
           "baxis": {
            "gridcolor": "white",
            "linecolor": "white",
            "ticks": ""
           },
           "bgcolor": "#E5ECF6",
           "caxis": {
            "gridcolor": "white",
            "linecolor": "white",
            "ticks": ""
           }
          },
          "title": {
           "x": 0.05
          },
          "xaxis": {
           "automargin": true,
           "gridcolor": "white",
           "linecolor": "white",
           "ticks": "",
           "title": {
            "standoff": 15
           },
           "zerolinecolor": "white",
           "zerolinewidth": 2
          },
          "yaxis": {
           "automargin": true,
           "gridcolor": "white",
           "linecolor": "white",
           "ticks": "",
           "title": {
            "standoff": 15
           },
           "zerolinecolor": "white",
           "zerolinewidth": 2
          }
         }
        },
        "title": {
         "font": {
          "color": "#4D5663"
         }
        },
        "xaxis": {
         "gridcolor": "#E1E5ED",
         "showgrid": true,
         "tickfont": {
          "color": "#4D5663"
         },
         "title": {
          "font": {
           "color": "#4D5663"
          },
          "text": ""
         },
         "zerolinecolor": "#E1E5ED"
        },
        "yaxis": {
         "gridcolor": "#E1E5ED",
         "showgrid": true,
         "tickfont": {
          "color": "#4D5663"
         },
         "title": {
          "font": {
           "color": "#4D5663"
          },
          "text": ""
         },
         "zerolinecolor": "#E1E5ED"
        }
       }
      },
      "text/html": [
       "<div>                            <div id=\"5651bf61-93df-450b-9a2e-d765c5fc32b7\" class=\"plotly-graph-div\" style=\"height:525px; width:100%;\"></div>            <script type=\"text/javascript\">                require([\"plotly\"], function(Plotly) {                    window.PLOTLYENV=window.PLOTLYENV || {};\n",
       "                    window.PLOTLYENV.BASE_URL='https://plot.ly';                                    if (document.getElementById(\"5651bf61-93df-450b-9a2e-d765c5fc32b7\")) {                    Plotly.newPlot(                        \"5651bf61-93df-450b-9a2e-d765c5fc32b7\",                        [{\"colorscale\": [[0.0, \"rgb(165,0,38)\"], [0.1, \"rgb(215,48,39)\"], [0.2, \"rgb(244,109,67)\"], [0.3, \"rgb(253,174,97)\"], [0.4, \"rgb(254,224,144)\"], [0.5, \"rgb(255,255,191)\"], [0.6, \"rgb(224,243,248)\"], [0.7, \"rgb(171,217,233)\"], [0.8, \"rgb(116,173,209)\"], [0.9, \"rgb(69,117,180)\"], [1.0, \"rgb(49,54,149)\"]], \"type\": \"surface\", \"x\": [0, 1, 2, 3, 4], \"y\": [\"x\", \"y\", \"z\"], \"z\": [[1, 2, 3, 4, 5], [10, 20, 30, 20, 10], [5, 4, 3, 2, 1]]}],                        {\"legend\": {\"bgcolor\": \"#F5F6F9\", \"font\": {\"color\": \"#4D5663\"}}, \"paper_bgcolor\": \"#F5F6F9\", \"plot_bgcolor\": \"#F5F6F9\", \"template\": {\"data\": {\"bar\": [{\"error_x\": {\"color\": \"#2a3f5f\"}, \"error_y\": {\"color\": \"#2a3f5f\"}, \"marker\": {\"line\": {\"color\": \"#E5ECF6\", \"width\": 0.5}}, \"type\": \"bar\"}], \"barpolar\": [{\"marker\": {\"line\": {\"color\": \"#E5ECF6\", \"width\": 0.5}}, \"type\": \"barpolar\"}], \"carpet\": [{\"aaxis\": {\"endlinecolor\": \"#2a3f5f\", \"gridcolor\": \"white\", \"linecolor\": \"white\", \"minorgridcolor\": \"white\", \"startlinecolor\": \"#2a3f5f\"}, \"baxis\": {\"endlinecolor\": \"#2a3f5f\", \"gridcolor\": \"white\", \"linecolor\": \"white\", \"minorgridcolor\": \"white\", \"startlinecolor\": \"#2a3f5f\"}, \"type\": \"carpet\"}], \"choropleth\": [{\"colorbar\": {\"outlinewidth\": 0, \"ticks\": \"\"}, \"type\": \"choropleth\"}], \"contour\": [{\"colorbar\": {\"outlinewidth\": 0, \"ticks\": \"\"}, \"colorscale\": [[0.0, \"#0d0887\"], [0.1111111111111111, \"#46039f\"], [0.2222222222222222, \"#7201a8\"], [0.3333333333333333, \"#9c179e\"], [0.4444444444444444, \"#bd3786\"], [0.5555555555555556, \"#d8576b\"], [0.6666666666666666, \"#ed7953\"], [0.7777777777777778, \"#fb9f3a\"], [0.8888888888888888, \"#fdca26\"], [1.0, \"#f0f921\"]], \"type\": \"contour\"}], \"contourcarpet\": [{\"colorbar\": {\"outlinewidth\": 0, \"ticks\": \"\"}, \"type\": \"contourcarpet\"}], \"heatmap\": [{\"colorbar\": {\"outlinewidth\": 0, \"ticks\": \"\"}, \"colorscale\": [[0.0, \"#0d0887\"], [0.1111111111111111, \"#46039f\"], [0.2222222222222222, \"#7201a8\"], [0.3333333333333333, \"#9c179e\"], [0.4444444444444444, \"#bd3786\"], [0.5555555555555556, \"#d8576b\"], [0.6666666666666666, \"#ed7953\"], [0.7777777777777778, \"#fb9f3a\"], [0.8888888888888888, \"#fdca26\"], [1.0, \"#f0f921\"]], \"type\": \"heatmap\"}], \"heatmapgl\": [{\"colorbar\": {\"outlinewidth\": 0, \"ticks\": \"\"}, \"colorscale\": [[0.0, \"#0d0887\"], [0.1111111111111111, \"#46039f\"], [0.2222222222222222, \"#7201a8\"], [0.3333333333333333, \"#9c179e\"], [0.4444444444444444, \"#bd3786\"], [0.5555555555555556, \"#d8576b\"], [0.6666666666666666, \"#ed7953\"], [0.7777777777777778, \"#fb9f3a\"], [0.8888888888888888, \"#fdca26\"], [1.0, \"#f0f921\"]], \"type\": \"heatmapgl\"}], \"histogram\": [{\"marker\": {\"colorbar\": {\"outlinewidth\": 0, \"ticks\": \"\"}}, \"type\": \"histogram\"}], \"histogram2d\": [{\"colorbar\": {\"outlinewidth\": 0, \"ticks\": \"\"}, \"colorscale\": [[0.0, \"#0d0887\"], [0.1111111111111111, \"#46039f\"], [0.2222222222222222, \"#7201a8\"], [0.3333333333333333, \"#9c179e\"], [0.4444444444444444, \"#bd3786\"], [0.5555555555555556, \"#d8576b\"], [0.6666666666666666, \"#ed7953\"], [0.7777777777777778, \"#fb9f3a\"], [0.8888888888888888, \"#fdca26\"], [1.0, \"#f0f921\"]], \"type\": \"histogram2d\"}], \"histogram2dcontour\": [{\"colorbar\": {\"outlinewidth\": 0, \"ticks\": \"\"}, \"colorscale\": [[0.0, \"#0d0887\"], [0.1111111111111111, \"#46039f\"], [0.2222222222222222, \"#7201a8\"], [0.3333333333333333, \"#9c179e\"], [0.4444444444444444, \"#bd3786\"], [0.5555555555555556, \"#d8576b\"], [0.6666666666666666, \"#ed7953\"], [0.7777777777777778, \"#fb9f3a\"], [0.8888888888888888, \"#fdca26\"], [1.0, \"#f0f921\"]], \"type\": \"histogram2dcontour\"}], \"mesh3d\": [{\"colorbar\": {\"outlinewidth\": 0, \"ticks\": \"\"}, \"type\": \"mesh3d\"}], \"parcoords\": [{\"line\": {\"colorbar\": {\"outlinewidth\": 0, \"ticks\": \"\"}}, \"type\": \"parcoords\"}], \"pie\": [{\"automargin\": true, \"type\": \"pie\"}], \"scatter\": [{\"marker\": {\"colorbar\": {\"outlinewidth\": 0, \"ticks\": \"\"}}, \"type\": \"scatter\"}], \"scatter3d\": [{\"line\": {\"colorbar\": {\"outlinewidth\": 0, \"ticks\": \"\"}}, \"marker\": {\"colorbar\": {\"outlinewidth\": 0, \"ticks\": \"\"}}, \"type\": \"scatter3d\"}], \"scattercarpet\": [{\"marker\": {\"colorbar\": {\"outlinewidth\": 0, \"ticks\": \"\"}}, \"type\": \"scattercarpet\"}], \"scattergeo\": [{\"marker\": {\"colorbar\": {\"outlinewidth\": 0, \"ticks\": \"\"}}, \"type\": \"scattergeo\"}], \"scattergl\": [{\"marker\": {\"colorbar\": {\"outlinewidth\": 0, \"ticks\": \"\"}}, \"type\": \"scattergl\"}], \"scattermapbox\": [{\"marker\": {\"colorbar\": {\"outlinewidth\": 0, \"ticks\": \"\"}}, \"type\": \"scattermapbox\"}], \"scatterpolar\": [{\"marker\": {\"colorbar\": {\"outlinewidth\": 0, \"ticks\": \"\"}}, \"type\": \"scatterpolar\"}], \"scatterpolargl\": [{\"marker\": {\"colorbar\": {\"outlinewidth\": 0, \"ticks\": \"\"}}, \"type\": \"scatterpolargl\"}], \"scatterternary\": [{\"marker\": {\"colorbar\": {\"outlinewidth\": 0, \"ticks\": \"\"}}, \"type\": \"scatterternary\"}], \"surface\": [{\"colorbar\": {\"outlinewidth\": 0, \"ticks\": \"\"}, \"colorscale\": [[0.0, \"#0d0887\"], [0.1111111111111111, \"#46039f\"], [0.2222222222222222, \"#7201a8\"], [0.3333333333333333, \"#9c179e\"], [0.4444444444444444, \"#bd3786\"], [0.5555555555555556, \"#d8576b\"], [0.6666666666666666, \"#ed7953\"], [0.7777777777777778, \"#fb9f3a\"], [0.8888888888888888, \"#fdca26\"], [1.0, \"#f0f921\"]], \"type\": \"surface\"}], \"table\": [{\"cells\": {\"fill\": {\"color\": \"#EBF0F8\"}, \"line\": {\"color\": \"white\"}}, \"header\": {\"fill\": {\"color\": \"#C8D4E3\"}, \"line\": {\"color\": \"white\"}}, \"type\": \"table\"}]}, \"layout\": {\"annotationdefaults\": {\"arrowcolor\": \"#2a3f5f\", \"arrowhead\": 0, \"arrowwidth\": 1}, \"autotypenumbers\": \"strict\", \"coloraxis\": {\"colorbar\": {\"outlinewidth\": 0, \"ticks\": \"\"}}, \"colorscale\": {\"diverging\": [[0, \"#8e0152\"], [0.1, \"#c51b7d\"], [0.2, \"#de77ae\"], [0.3, \"#f1b6da\"], [0.4, \"#fde0ef\"], [0.5, \"#f7f7f7\"], [0.6, \"#e6f5d0\"], [0.7, \"#b8e186\"], [0.8, \"#7fbc41\"], [0.9, \"#4d9221\"], [1, \"#276419\"]], \"sequential\": [[0.0, \"#0d0887\"], [0.1111111111111111, \"#46039f\"], [0.2222222222222222, \"#7201a8\"], [0.3333333333333333, \"#9c179e\"], [0.4444444444444444, \"#bd3786\"], [0.5555555555555556, \"#d8576b\"], [0.6666666666666666, \"#ed7953\"], [0.7777777777777778, \"#fb9f3a\"], [0.8888888888888888, \"#fdca26\"], [1.0, \"#f0f921\"]], \"sequentialminus\": [[0.0, \"#0d0887\"], [0.1111111111111111, \"#46039f\"], [0.2222222222222222, \"#7201a8\"], [0.3333333333333333, \"#9c179e\"], [0.4444444444444444, \"#bd3786\"], [0.5555555555555556, \"#d8576b\"], [0.6666666666666666, \"#ed7953\"], [0.7777777777777778, \"#fb9f3a\"], [0.8888888888888888, \"#fdca26\"], [1.0, \"#f0f921\"]]}, \"colorway\": [\"#636efa\", \"#EF553B\", \"#00cc96\", \"#ab63fa\", \"#FFA15A\", \"#19d3f3\", \"#FF6692\", \"#B6E880\", \"#FF97FF\", \"#FECB52\"], \"font\": {\"color\": \"#2a3f5f\"}, \"geo\": {\"bgcolor\": \"white\", \"lakecolor\": \"white\", \"landcolor\": \"#E5ECF6\", \"showlakes\": true, \"showland\": true, \"subunitcolor\": \"white\"}, \"hoverlabel\": {\"align\": \"left\"}, \"hovermode\": \"closest\", \"mapbox\": {\"style\": \"light\"}, \"paper_bgcolor\": \"white\", \"plot_bgcolor\": \"#E5ECF6\", \"polar\": {\"angularaxis\": {\"gridcolor\": \"white\", \"linecolor\": \"white\", \"ticks\": \"\"}, \"bgcolor\": \"#E5ECF6\", \"radialaxis\": {\"gridcolor\": \"white\", \"linecolor\": \"white\", \"ticks\": \"\"}}, \"scene\": {\"xaxis\": {\"backgroundcolor\": \"#E5ECF6\", \"gridcolor\": \"white\", \"gridwidth\": 2, \"linecolor\": \"white\", \"showbackground\": true, \"ticks\": \"\", \"zerolinecolor\": \"white\"}, \"yaxis\": {\"backgroundcolor\": \"#E5ECF6\", \"gridcolor\": \"white\", \"gridwidth\": 2, \"linecolor\": \"white\", \"showbackground\": true, \"ticks\": \"\", \"zerolinecolor\": \"white\"}, \"zaxis\": {\"backgroundcolor\": \"#E5ECF6\", \"gridcolor\": \"white\", \"gridwidth\": 2, \"linecolor\": \"white\", \"showbackground\": true, \"ticks\": \"\", \"zerolinecolor\": \"white\"}}, \"shapedefaults\": {\"line\": {\"color\": \"#2a3f5f\"}}, \"ternary\": {\"aaxis\": {\"gridcolor\": \"white\", \"linecolor\": \"white\", \"ticks\": \"\"}, \"baxis\": {\"gridcolor\": \"white\", \"linecolor\": \"white\", \"ticks\": \"\"}, \"bgcolor\": \"#E5ECF6\", \"caxis\": {\"gridcolor\": \"white\", \"linecolor\": \"white\", \"ticks\": \"\"}}, \"title\": {\"x\": 0.05}, \"xaxis\": {\"automargin\": true, \"gridcolor\": \"white\", \"linecolor\": \"white\", \"ticks\": \"\", \"title\": {\"standoff\": 15}, \"zerolinecolor\": \"white\", \"zerolinewidth\": 2}, \"yaxis\": {\"automargin\": true, \"gridcolor\": \"white\", \"linecolor\": \"white\", \"ticks\": \"\", \"title\": {\"standoff\": 15}, \"zerolinecolor\": \"white\", \"zerolinewidth\": 2}}}, \"title\": {\"font\": {\"color\": \"#4D5663\"}}, \"xaxis\": {\"gridcolor\": \"#E1E5ED\", \"showgrid\": true, \"tickfont\": {\"color\": \"#4D5663\"}, \"title\": {\"font\": {\"color\": \"#4D5663\"}, \"text\": \"\"}, \"zerolinecolor\": \"#E1E5ED\"}, \"yaxis\": {\"gridcolor\": \"#E1E5ED\", \"showgrid\": true, \"tickfont\": {\"color\": \"#4D5663\"}, \"title\": {\"font\": {\"color\": \"#4D5663\"}, \"text\": \"\"}, \"zerolinecolor\": \"#E1E5ED\"}},                        {\"showLink\": true, \"linkText\": \"Export to plot.ly\", \"plotlyServerURL\": \"https://plot.ly\", \"responsive\": true}                    ).then(function(){\n",
       "                            \n",
       "var gd = document.getElementById('5651bf61-93df-450b-9a2e-d765c5fc32b7');\n",
       "var x = new MutationObserver(function (mutations, observer) {{\n",
       "        var display = window.getComputedStyle(gd).display;\n",
       "        if (!display || display === 'none') {{\n",
       "            console.log([gd, 'removed!']);\n",
       "            Plotly.purge(gd);\n",
       "            observer.disconnect();\n",
       "        }}\n",
       "}});\n",
       "\n",
       "// Listen for the removal of the full notebook cells\n",
       "var notebookContainer = gd.closest('#notebook-container');\n",
       "if (notebookContainer) {{\n",
       "    x.observe(notebookContainer, {childList: true});\n",
       "}}\n",
       "\n",
       "// Listen for the clearing of the current output cell\n",
       "var outputEl = gd.closest('.output');\n",
       "if (outputEl) {{\n",
       "    x.observe(outputEl, {childList: true});\n",
       "}}\n",
       "\n",
       "                        })                };                });            </script>        </div>"
      ]
     },
     "metadata": {},
     "output_type": "display_data"
    }
   ],
   "source": [
    "df3 = pd.DataFrame({'x':[1,2,3,4,5],'y':[10,20,30,20,10],'z':[5,4,3,2,1]})\n",
    "df3.iplot(kind='surface',colorscale='rdylbu')"
   ]
  },
  {
   "cell_type": "markdown",
   "metadata": {},
   "source": [
    "## Spread"
   ]
  },
  {
   "cell_type": "code",
   "execution_count": 17,
   "metadata": {},
   "outputs": [
    {
     "name": "stderr",
     "output_type": "stream",
     "text": [
      "C:\\Users\\welcome\\anaconda3\\lib\\site-packages\\cufflinks\\plotlytools.py:849: FutureWarning:\n",
      "\n",
      "The pandas.np module is deprecated and will be removed from pandas in a future version. Import numpy directly instead\n",
      "\n",
      "C:\\Users\\welcome\\anaconda3\\lib\\site-packages\\cufflinks\\plotlytools.py:850: FutureWarning:\n",
      "\n",
      "The pandas.np module is deprecated and will be removed from pandas in a future version. Import numpy directly instead\n",
      "\n"
     ]
    },
    {
     "data": {
      "application/vnd.plotly.v1+json": {
       "config": {
        "linkText": "Export to plot.ly",
        "plotlyServerURL": "https://plot.ly",
        "showLink": true
       },
       "data": [
        {
         "line": {
          "color": "rgba(255, 153, 51, 1.0)",
          "dash": "solid",
          "shape": "linear",
          "width": 1.3
         },
         "mode": "lines",
         "name": "A",
         "text": "",
         "type": "scatter",
         "x": [
          0,
          1,
          2,
          3,
          4,
          5,
          6,
          7,
          8,
          9,
          10,
          11,
          12,
          13,
          14,
          15,
          16,
          17,
          18,
          19,
          20,
          21,
          22,
          23,
          24,
          25,
          26,
          27,
          28,
          29,
          30,
          31,
          32,
          33,
          34,
          35,
          36,
          37,
          38,
          39,
          40,
          41,
          42,
          43,
          44,
          45,
          46,
          47,
          48,
          49,
          50,
          51,
          52,
          53,
          54,
          55,
          56,
          57,
          58,
          59,
          60,
          61,
          62,
          63,
          64,
          65,
          66,
          67,
          68,
          69,
          70,
          71,
          72,
          73,
          74,
          75,
          76,
          77,
          78,
          79,
          80,
          81,
          82,
          83,
          84,
          85,
          86,
          87,
          88,
          89,
          90,
          91,
          92,
          93,
          94,
          95,
          96,
          97,
          98,
          99
         ],
         "y": [
          -0.8280260723763271,
          -2.77297444794199,
          -0.38121323391729234,
          0.7880707860623422,
          2.8084929576725313,
          -0.1374432130485793,
          1.4665828322027583,
          1.7170018404039853,
          -0.006694875240469727,
          -0.35801270109138483,
          -0.7945315217293085,
          1.107530808756093,
          1.1790484531176757,
          0.36440605216798233,
          -1.5822209826572298,
          -1.2750553918693035,
          -1.2090255857903993,
          0.4590850858171039,
          -0.6285482031372056,
          1.0546402699013748,
          1.5138351311137501,
          0.8734592513564242,
          0.21901261206315306,
          -1.163953212801199,
          -0.335892690218668,
          0.4938820380998607,
          0.06783004821863114,
          1.542059648394881,
          0.49156166686043756,
          0.4633288124694026,
          -0.9489982987198811,
          0.47065989470899516,
          -0.4418890963795218,
          0.44347045975400295,
          0.8144597660455606,
          -0.6531579459403273,
          0.42815418084727563,
          -0.3588910458379977,
          -0.5335759249000853,
          0.6314714718116694,
          -0.8487016591558267,
          1.5846252025402214,
          0.17310725166180807,
          0.27059605517156654,
          -0.4694392142146777,
          0.5838091465034632,
          -0.3432331323029411,
          -0.48966126380907626,
          -2.3796874131530377,
          1.3587330456455726,
          1.1171967076671219,
          -0.20850895799541944,
          -0.3995385709353827,
          -1.8147865778734724,
          0.7161603237047958,
          -1.269138912896145,
          -1.6827178168553847,
          -0.6674891664222559,
          -0.30249711294977955,
          0.6631651824638187,
          2.291182619859816,
          -2.458340895167761,
          0.2899567568659667,
          -0.47300884042820934,
          2.09432237150058,
          0.582786511773274,
          -1.1346112433030937,
          -1.2649618327532324,
          0.34316321337446215,
          -0.19277560479566427,
          0.33379569707167217,
          -1.517505142343097,
          -0.4055330148343431,
          1.3329366341718163,
          3.0880651844214007,
          -1.3533913810566096,
          0.3437532931939382,
          -1.6575292547862113,
          0.7154451417562238,
          -0.12577120476387404,
          -0.1221947706218079,
          0.5829755695712423,
          -1.5671691676011716,
          1.1105896726371092,
          -0.09369513621117644,
          1.0955857442776014,
          -1.4282369786985993,
          -0.05097785455827381,
          -0.5972071263206464,
          -1.256475896277932,
          -1.8851731596449193,
          0.828590542968046,
          -0.4062491091331472,
          0.0807500132107527,
          0.013163707403381393,
          -0.6217284887018927,
          -0.24693675551235092,
          0.06197700019368634,
          0.5634486026666133,
          0.6059138751307764
         ]
        },
        {
         "line": {
          "color": "rgba(55, 128, 191, 1.0)",
          "dash": "solid",
          "shape": "linear",
          "width": 1.3
         },
         "mode": "lines",
         "name": "B",
         "text": "",
         "type": "scatter",
         "x": [
          0,
          1,
          2,
          3,
          4,
          5,
          6,
          7,
          8,
          9,
          10,
          11,
          12,
          13,
          14,
          15,
          16,
          17,
          18,
          19,
          20,
          21,
          22,
          23,
          24,
          25,
          26,
          27,
          28,
          29,
          30,
          31,
          32,
          33,
          34,
          35,
          36,
          37,
          38,
          39,
          40,
          41,
          42,
          43,
          44,
          45,
          46,
          47,
          48,
          49,
          50,
          51,
          52,
          53,
          54,
          55,
          56,
          57,
          58,
          59,
          60,
          61,
          62,
          63,
          64,
          65,
          66,
          67,
          68,
          69,
          70,
          71,
          72,
          73,
          74,
          75,
          76,
          77,
          78,
          79,
          80,
          81,
          82,
          83,
          84,
          85,
          86,
          87,
          88,
          89,
          90,
          91,
          92,
          93,
          94,
          95,
          96,
          97,
          98,
          99
         ],
         "y": [
          0.7488859249957294,
          -2.063476523426313,
          0.15896478732317448,
          0.9824428266957366,
          0.5177956680669261,
          1.2795287511749251,
          1.3168697401336789,
          -2.5769642163271804,
          -0.5223469831142037,
          1.8181176703709536,
          -0.472385080891169,
          0.5902248057458955,
          0.06501344080504949,
          -0.47080216571861333,
          0.18228275869868904,
          0.23126754721306877,
          0.6149010050060569,
          0.7222076794396597,
          -0.47556970422863515,
          0.460047800114019,
          0.20905587617029056,
          0.7386997197730129,
          0.2963947509662543,
          1.3324755157131947,
          1.0847241543052293,
          0.7238084792303607,
          0.031773286629343866,
          -0.85317652648317,
          -0.3103145393346325,
          -0.03628269694808576,
          -0.3086240085353415,
          -0.8791329349989142,
          -1.4582997557298272,
          1.0563940955502773,
          0.7624476857491007,
          -0.637472747395494,
          0.08463847795218485,
          -1.1360972676061123,
          0.3278612242444931,
          0.6074498411024112,
          -1.9401239947752962,
          -0.6993479106510858,
          1.3059278691514857,
          -0.19424188683695787,
          -1.2604848908802941,
          0.952687783783637,
          -1.546031553055093,
          -0.6993206460498765,
          0.20344776954368982,
          -0.7243873284737312,
          -0.9800294868969891,
          -0.514665260515114,
          1.0336926944205553,
          -0.9088425929534667,
          -1.2397144953831822,
          0.9812633628328463,
          2.7523411232946318,
          -0.7275897094517473,
          0.6909293763885511,
          0.679755401619041,
          -0.3870724045077387,
          0.8660805606258668,
          -1.3245161399204266,
          1.1927202884162393,
          0.08939780005427155,
          -2.806889952909305,
          0.8929360431986725,
          -0.12770744108226054,
          0.21199734276229967,
          1.1372829909715767,
          0.09620678459480445,
          -0.3018606425639405,
          0.9102322118714832,
          -2.309881595960726,
          -1.6100568373409712,
          0.6090688747514684,
          -0.6838011355845027,
          -0.2748716990341536,
          -0.4223440623301072,
          -0.8873989045199661,
          -0.0009738308528003652,
          0.10028669510880826,
          -0.048778800761219,
          1.3184511662605012,
          -2.195277463199274,
          0.34417282099715746,
          0.2628105585137296,
          1.4326207032621394,
          0.2935366035552767,
          0.39908458968185134,
          -1.4759639597995606,
          -0.560377497609232,
          -1.762548372904548,
          1.3007570365012764,
          0.1805535576155475,
          0.4187410435886277,
          -0.008350929356977793,
          -1.4548926844956653,
          -1.074772822423682,
          0.5854026103720574
         ]
        },
        {
         "connectgaps": false,
         "fill": "tozeroy",
         "line": {
          "color": "green",
          "dash": "solid",
          "shape": "linear",
          "width": 0.5
         },
         "mode": "lines",
         "name": "Spread",
         "showlegend": false,
         "type": "scatter",
         "x": [
          0,
          1,
          2,
          3,
          4,
          5,
          6,
          7,
          8,
          9,
          10,
          11,
          12,
          13,
          14,
          15,
          16,
          17,
          18,
          19,
          20,
          21,
          22,
          23,
          24,
          25,
          26,
          27,
          28,
          29,
          30,
          31,
          32,
          33,
          34,
          35,
          36,
          37,
          38,
          39,
          40,
          41,
          42,
          43,
          44,
          45,
          46,
          47,
          48,
          49,
          50,
          51,
          52,
          53,
          54,
          55,
          56,
          57,
          58,
          59,
          60,
          61,
          62,
          63,
          64,
          65,
          66,
          67,
          68,
          69,
          70,
          71,
          72,
          73,
          74,
          75,
          76,
          77,
          78,
          79,
          80,
          81,
          82,
          83,
          84,
          85,
          86,
          87,
          88,
          89,
          90,
          91,
          92,
          93,
          94,
          95,
          96,
          97,
          98,
          99
         ],
         "xaxis": "x2",
         "y": [
          "",
          "",
          "",
          "",
          2.290697289605605,
          "",
          0.14971309206907946,
          4.293966056731166,
          0.515652107873734,
          "",
          "",
          0.5173060030101976,
          1.1140350123126261,
          0.8352082178865956,
          "",
          "",
          "",
          "",
          "",
          0.5945924697873558,
          1.3047792549434596,
          0.13475953158341136,
          "",
          "",
          "",
          "",
          0.03605676158928728,
          2.395236174878051,
          0.80187620619507,
          0.4996115094174884,
          "",
          1.3497928297079094,
          1.0164106593503055,
          "",
          0.05201208029645987,
          "",
          0.3435157028950908,
          0.7772062217681146,
          "",
          0.024021630709258224,
          1.0914223356194694,
          2.2839731131913075,
          "",
          0.4648379420085244,
          0.7910456766656164,
          "",
          1.2027984207521518,
          0.20965938224080027,
          "",
          2.0831203741193036,
          2.097226194564111,
          0.3061563025196945,
          "",
          "",
          1.955874819087978,
          "",
          "",
          0.060100543029491416,
          "",
          "",
          2.6782550243675547,
          "",
          1.6144728967863933,
          "",
          2.0049245714463084,
          3.389676464682579,
          "",
          "",
          0.13116587061216248,
          "",
          0.23758891247686773,
          "",
          "",
          3.6428182301325425,
          4.698122021762372,
          "",
          1.027554428778441,
          "",
          1.1377892040863309,
          0.761627699756092,
          "",
          0.482688874462434,
          "",
          "",
          2.1015823269880975,
          0.7514129232804438,
          "",
          "",
          "",
          "",
          "",
          1.388968040577278,
          1.3562992637714006,
          "",
          "",
          "",
          "",
          1.5168696846893517,
          1.6382214250902956,
          0.020511264758719006
         ],
         "yaxis": "y2"
        },
        {
         "connectgaps": false,
         "fill": "tozeroy",
         "line": {
          "color": "red",
          "dash": "solid",
          "shape": "linear",
          "width": 0.5
         },
         "mode": "lines",
         "name": "Spread",
         "showlegend": false,
         "type": "scatter",
         "x": [
          0,
          1,
          2,
          3,
          4,
          5,
          6,
          7,
          8,
          9,
          10,
          11,
          12,
          13,
          14,
          15,
          16,
          17,
          18,
          19,
          20,
          21,
          22,
          23,
          24,
          25,
          26,
          27,
          28,
          29,
          30,
          31,
          32,
          33,
          34,
          35,
          36,
          37,
          38,
          39,
          40,
          41,
          42,
          43,
          44,
          45,
          46,
          47,
          48,
          49,
          50,
          51,
          52,
          53,
          54,
          55,
          56,
          57,
          58,
          59,
          60,
          61,
          62,
          63,
          64,
          65,
          66,
          67,
          68,
          69,
          70,
          71,
          72,
          73,
          74,
          75,
          76,
          77,
          78,
          79,
          80,
          81,
          82,
          83,
          84,
          85,
          86,
          87,
          88,
          89,
          90,
          91,
          92,
          93,
          94,
          95,
          96,
          97,
          98,
          99
         ],
         "xaxis": "x2",
         "y": [
          -1.5769119973720565,
          -0.7094979245156772,
          -0.5401780212404668,
          -0.19437204063339442,
          "",
          -1.4169719642235044,
          "",
          "",
          "",
          -2.1761303714623383,
          -0.32214644083813954,
          "",
          "",
          "",
          -1.7645037413559188,
          -1.5063229390823722,
          -1.8239265907964564,
          -0.2631225936225558,
          -0.15297849890857046,
          "",
          "",
          "",
          -0.07738213890310122,
          -2.4964287285143936,
          -1.4206168445238974,
          -0.22992644113050004,
          "",
          "",
          "",
          "",
          -0.6403742901845395,
          "",
          "",
          -0.6129236357962744,
          "",
          -0.0156851985448333,
          "",
          "",
          -0.8614371491445785,
          "",
          "",
          "",
          -1.1328206174896778,
          "",
          "",
          -0.3688786372801739,
          "",
          "",
          -2.5831351826967275,
          "",
          "",
          "",
          -1.433231265355938,
          -0.9059439849200057,
          "",
          -2.2504022757289914,
          -4.435058940150016,
          "",
          -0.9934264893383307,
          -0.016590219155222297,
          "",
          -3.324421455793628,
          "",
          -1.6657291288444487,
          "",
          "",
          -2.027547286501766,
          -1.1372543916709719,
          "",
          -1.330058595767241,
          "",
          -1.2156444997791565,
          -1.3157652267058264,
          "",
          "",
          -1.962460255808078,
          "",
          -1.3826575557520577,
          "",
          "",
          -0.12122093976900754,
          "",
          -1.5183903668399525,
          -0.207861493623392,
          "",
          "",
          -1.691047537212329,
          -1.4835985578204132,
          -0.8907437298759231,
          -1.6555604859597834,
          -0.40920919984535864,
          "",
          "",
          -1.2200070232905236,
          -0.16738985021216612,
          -1.0404695322905204,
          -0.23858582615537313,
          "",
          "",
          ""
         ],
         "yaxis": "y2"
        }
       ],
       "layout": {
        "hovermode": "x",
        "legend": {
         "bgcolor": "#F5F6F9",
         "font": {
          "color": "#4D5663"
         }
        },
        "paper_bgcolor": "#F5F6F9",
        "plot_bgcolor": "#F5F6F9",
        "template": {
         "data": {
          "bar": [
           {
            "error_x": {
             "color": "#2a3f5f"
            },
            "error_y": {
             "color": "#2a3f5f"
            },
            "marker": {
             "line": {
              "color": "#E5ECF6",
              "width": 0.5
             }
            },
            "type": "bar"
           }
          ],
          "barpolar": [
           {
            "marker": {
             "line": {
              "color": "#E5ECF6",
              "width": 0.5
             }
            },
            "type": "barpolar"
           }
          ],
          "carpet": [
           {
            "aaxis": {
             "endlinecolor": "#2a3f5f",
             "gridcolor": "white",
             "linecolor": "white",
             "minorgridcolor": "white",
             "startlinecolor": "#2a3f5f"
            },
            "baxis": {
             "endlinecolor": "#2a3f5f",
             "gridcolor": "white",
             "linecolor": "white",
             "minorgridcolor": "white",
             "startlinecolor": "#2a3f5f"
            },
            "type": "carpet"
           }
          ],
          "choropleth": [
           {
            "colorbar": {
             "outlinewidth": 0,
             "ticks": ""
            },
            "type": "choropleth"
           }
          ],
          "contour": [
           {
            "colorbar": {
             "outlinewidth": 0,
             "ticks": ""
            },
            "colorscale": [
             [
              0,
              "#0d0887"
             ],
             [
              0.1111111111111111,
              "#46039f"
             ],
             [
              0.2222222222222222,
              "#7201a8"
             ],
             [
              0.3333333333333333,
              "#9c179e"
             ],
             [
              0.4444444444444444,
              "#bd3786"
             ],
             [
              0.5555555555555556,
              "#d8576b"
             ],
             [
              0.6666666666666666,
              "#ed7953"
             ],
             [
              0.7777777777777778,
              "#fb9f3a"
             ],
             [
              0.8888888888888888,
              "#fdca26"
             ],
             [
              1,
              "#f0f921"
             ]
            ],
            "type": "contour"
           }
          ],
          "contourcarpet": [
           {
            "colorbar": {
             "outlinewidth": 0,
             "ticks": ""
            },
            "type": "contourcarpet"
           }
          ],
          "heatmap": [
           {
            "colorbar": {
             "outlinewidth": 0,
             "ticks": ""
            },
            "colorscale": [
             [
              0,
              "#0d0887"
             ],
             [
              0.1111111111111111,
              "#46039f"
             ],
             [
              0.2222222222222222,
              "#7201a8"
             ],
             [
              0.3333333333333333,
              "#9c179e"
             ],
             [
              0.4444444444444444,
              "#bd3786"
             ],
             [
              0.5555555555555556,
              "#d8576b"
             ],
             [
              0.6666666666666666,
              "#ed7953"
             ],
             [
              0.7777777777777778,
              "#fb9f3a"
             ],
             [
              0.8888888888888888,
              "#fdca26"
             ],
             [
              1,
              "#f0f921"
             ]
            ],
            "type": "heatmap"
           }
          ],
          "heatmapgl": [
           {
            "colorbar": {
             "outlinewidth": 0,
             "ticks": ""
            },
            "colorscale": [
             [
              0,
              "#0d0887"
             ],
             [
              0.1111111111111111,
              "#46039f"
             ],
             [
              0.2222222222222222,
              "#7201a8"
             ],
             [
              0.3333333333333333,
              "#9c179e"
             ],
             [
              0.4444444444444444,
              "#bd3786"
             ],
             [
              0.5555555555555556,
              "#d8576b"
             ],
             [
              0.6666666666666666,
              "#ed7953"
             ],
             [
              0.7777777777777778,
              "#fb9f3a"
             ],
             [
              0.8888888888888888,
              "#fdca26"
             ],
             [
              1,
              "#f0f921"
             ]
            ],
            "type": "heatmapgl"
           }
          ],
          "histogram": [
           {
            "marker": {
             "colorbar": {
              "outlinewidth": 0,
              "ticks": ""
             }
            },
            "type": "histogram"
           }
          ],
          "histogram2d": [
           {
            "colorbar": {
             "outlinewidth": 0,
             "ticks": ""
            },
            "colorscale": [
             [
              0,
              "#0d0887"
             ],
             [
              0.1111111111111111,
              "#46039f"
             ],
             [
              0.2222222222222222,
              "#7201a8"
             ],
             [
              0.3333333333333333,
              "#9c179e"
             ],
             [
              0.4444444444444444,
              "#bd3786"
             ],
             [
              0.5555555555555556,
              "#d8576b"
             ],
             [
              0.6666666666666666,
              "#ed7953"
             ],
             [
              0.7777777777777778,
              "#fb9f3a"
             ],
             [
              0.8888888888888888,
              "#fdca26"
             ],
             [
              1,
              "#f0f921"
             ]
            ],
            "type": "histogram2d"
           }
          ],
          "histogram2dcontour": [
           {
            "colorbar": {
             "outlinewidth": 0,
             "ticks": ""
            },
            "colorscale": [
             [
              0,
              "#0d0887"
             ],
             [
              0.1111111111111111,
              "#46039f"
             ],
             [
              0.2222222222222222,
              "#7201a8"
             ],
             [
              0.3333333333333333,
              "#9c179e"
             ],
             [
              0.4444444444444444,
              "#bd3786"
             ],
             [
              0.5555555555555556,
              "#d8576b"
             ],
             [
              0.6666666666666666,
              "#ed7953"
             ],
             [
              0.7777777777777778,
              "#fb9f3a"
             ],
             [
              0.8888888888888888,
              "#fdca26"
             ],
             [
              1,
              "#f0f921"
             ]
            ],
            "type": "histogram2dcontour"
           }
          ],
          "mesh3d": [
           {
            "colorbar": {
             "outlinewidth": 0,
             "ticks": ""
            },
            "type": "mesh3d"
           }
          ],
          "parcoords": [
           {
            "line": {
             "colorbar": {
              "outlinewidth": 0,
              "ticks": ""
             }
            },
            "type": "parcoords"
           }
          ],
          "pie": [
           {
            "automargin": true,
            "type": "pie"
           }
          ],
          "scatter": [
           {
            "marker": {
             "colorbar": {
              "outlinewidth": 0,
              "ticks": ""
             }
            },
            "type": "scatter"
           }
          ],
          "scatter3d": [
           {
            "line": {
             "colorbar": {
              "outlinewidth": 0,
              "ticks": ""
             }
            },
            "marker": {
             "colorbar": {
              "outlinewidth": 0,
              "ticks": ""
             }
            },
            "type": "scatter3d"
           }
          ],
          "scattercarpet": [
           {
            "marker": {
             "colorbar": {
              "outlinewidth": 0,
              "ticks": ""
             }
            },
            "type": "scattercarpet"
           }
          ],
          "scattergeo": [
           {
            "marker": {
             "colorbar": {
              "outlinewidth": 0,
              "ticks": ""
             }
            },
            "type": "scattergeo"
           }
          ],
          "scattergl": [
           {
            "marker": {
             "colorbar": {
              "outlinewidth": 0,
              "ticks": ""
             }
            },
            "type": "scattergl"
           }
          ],
          "scattermapbox": [
           {
            "marker": {
             "colorbar": {
              "outlinewidth": 0,
              "ticks": ""
             }
            },
            "type": "scattermapbox"
           }
          ],
          "scatterpolar": [
           {
            "marker": {
             "colorbar": {
              "outlinewidth": 0,
              "ticks": ""
             }
            },
            "type": "scatterpolar"
           }
          ],
          "scatterpolargl": [
           {
            "marker": {
             "colorbar": {
              "outlinewidth": 0,
              "ticks": ""
             }
            },
            "type": "scatterpolargl"
           }
          ],
          "scatterternary": [
           {
            "marker": {
             "colorbar": {
              "outlinewidth": 0,
              "ticks": ""
             }
            },
            "type": "scatterternary"
           }
          ],
          "surface": [
           {
            "colorbar": {
             "outlinewidth": 0,
             "ticks": ""
            },
            "colorscale": [
             [
              0,
              "#0d0887"
             ],
             [
              0.1111111111111111,
              "#46039f"
             ],
             [
              0.2222222222222222,
              "#7201a8"
             ],
             [
              0.3333333333333333,
              "#9c179e"
             ],
             [
              0.4444444444444444,
              "#bd3786"
             ],
             [
              0.5555555555555556,
              "#d8576b"
             ],
             [
              0.6666666666666666,
              "#ed7953"
             ],
             [
              0.7777777777777778,
              "#fb9f3a"
             ],
             [
              0.8888888888888888,
              "#fdca26"
             ],
             [
              1,
              "#f0f921"
             ]
            ],
            "type": "surface"
           }
          ],
          "table": [
           {
            "cells": {
             "fill": {
              "color": "#EBF0F8"
             },
             "line": {
              "color": "white"
             }
            },
            "header": {
             "fill": {
              "color": "#C8D4E3"
             },
             "line": {
              "color": "white"
             }
            },
            "type": "table"
           }
          ]
         },
         "layout": {
          "annotationdefaults": {
           "arrowcolor": "#2a3f5f",
           "arrowhead": 0,
           "arrowwidth": 1
          },
          "autotypenumbers": "strict",
          "coloraxis": {
           "colorbar": {
            "outlinewidth": 0,
            "ticks": ""
           }
          },
          "colorscale": {
           "diverging": [
            [
             0,
             "#8e0152"
            ],
            [
             0.1,
             "#c51b7d"
            ],
            [
             0.2,
             "#de77ae"
            ],
            [
             0.3,
             "#f1b6da"
            ],
            [
             0.4,
             "#fde0ef"
            ],
            [
             0.5,
             "#f7f7f7"
            ],
            [
             0.6,
             "#e6f5d0"
            ],
            [
             0.7,
             "#b8e186"
            ],
            [
             0.8,
             "#7fbc41"
            ],
            [
             0.9,
             "#4d9221"
            ],
            [
             1,
             "#276419"
            ]
           ],
           "sequential": [
            [
             0,
             "#0d0887"
            ],
            [
             0.1111111111111111,
             "#46039f"
            ],
            [
             0.2222222222222222,
             "#7201a8"
            ],
            [
             0.3333333333333333,
             "#9c179e"
            ],
            [
             0.4444444444444444,
             "#bd3786"
            ],
            [
             0.5555555555555556,
             "#d8576b"
            ],
            [
             0.6666666666666666,
             "#ed7953"
            ],
            [
             0.7777777777777778,
             "#fb9f3a"
            ],
            [
             0.8888888888888888,
             "#fdca26"
            ],
            [
             1,
             "#f0f921"
            ]
           ],
           "sequentialminus": [
            [
             0,
             "#0d0887"
            ],
            [
             0.1111111111111111,
             "#46039f"
            ],
            [
             0.2222222222222222,
             "#7201a8"
            ],
            [
             0.3333333333333333,
             "#9c179e"
            ],
            [
             0.4444444444444444,
             "#bd3786"
            ],
            [
             0.5555555555555556,
             "#d8576b"
            ],
            [
             0.6666666666666666,
             "#ed7953"
            ],
            [
             0.7777777777777778,
             "#fb9f3a"
            ],
            [
             0.8888888888888888,
             "#fdca26"
            ],
            [
             1,
             "#f0f921"
            ]
           ]
          },
          "colorway": [
           "#636efa",
           "#EF553B",
           "#00cc96",
           "#ab63fa",
           "#FFA15A",
           "#19d3f3",
           "#FF6692",
           "#B6E880",
           "#FF97FF",
           "#FECB52"
          ],
          "font": {
           "color": "#2a3f5f"
          },
          "geo": {
           "bgcolor": "white",
           "lakecolor": "white",
           "landcolor": "#E5ECF6",
           "showlakes": true,
           "showland": true,
           "subunitcolor": "white"
          },
          "hoverlabel": {
           "align": "left"
          },
          "hovermode": "closest",
          "mapbox": {
           "style": "light"
          },
          "paper_bgcolor": "white",
          "plot_bgcolor": "#E5ECF6",
          "polar": {
           "angularaxis": {
            "gridcolor": "white",
            "linecolor": "white",
            "ticks": ""
           },
           "bgcolor": "#E5ECF6",
           "radialaxis": {
            "gridcolor": "white",
            "linecolor": "white",
            "ticks": ""
           }
          },
          "scene": {
           "xaxis": {
            "backgroundcolor": "#E5ECF6",
            "gridcolor": "white",
            "gridwidth": 2,
            "linecolor": "white",
            "showbackground": true,
            "ticks": "",
            "zerolinecolor": "white"
           },
           "yaxis": {
            "backgroundcolor": "#E5ECF6",
            "gridcolor": "white",
            "gridwidth": 2,
            "linecolor": "white",
            "showbackground": true,
            "ticks": "",
            "zerolinecolor": "white"
           },
           "zaxis": {
            "backgroundcolor": "#E5ECF6",
            "gridcolor": "white",
            "gridwidth": 2,
            "linecolor": "white",
            "showbackground": true,
            "ticks": "",
            "zerolinecolor": "white"
           }
          },
          "shapedefaults": {
           "line": {
            "color": "#2a3f5f"
           }
          },
          "ternary": {
           "aaxis": {
            "gridcolor": "white",
            "linecolor": "white",
            "ticks": ""
           },
           "baxis": {
            "gridcolor": "white",
            "linecolor": "white",
            "ticks": ""
           },
           "bgcolor": "#E5ECF6",
           "caxis": {
            "gridcolor": "white",
            "linecolor": "white",
            "ticks": ""
           }
          },
          "title": {
           "x": 0.05
          },
          "xaxis": {
           "automargin": true,
           "gridcolor": "white",
           "linecolor": "white",
           "ticks": "",
           "title": {
            "standoff": 15
           },
           "zerolinecolor": "white",
           "zerolinewidth": 2
          },
          "yaxis": {
           "automargin": true,
           "gridcolor": "white",
           "linecolor": "white",
           "ticks": "",
           "title": {
            "standoff": 15
           },
           "zerolinecolor": "white",
           "zerolinewidth": 2
          }
         }
        },
        "title": {
         "font": {
          "color": "#4D5663"
         }
        },
        "xaxis": {
         "gridcolor": "#E1E5ED",
         "showgrid": true,
         "tickfont": {
          "color": "#4D5663"
         },
         "title": {
          "font": {
           "color": "#4D5663"
          },
          "text": ""
         },
         "zerolinecolor": "#E1E5ED"
        },
        "xaxis2": {
         "anchor": "y2",
         "gridcolor": "#E1E5ED",
         "showgrid": true,
         "showticklabels": false,
         "tickfont": {
          "color": "#4D5663"
         },
         "title": {
          "font": {
           "color": "#4D5663"
          },
          "text": ""
         },
         "zerolinecolor": "#E1E5ED"
        },
        "yaxis": {
         "domain": [
          0.3,
          1
         ],
         "gridcolor": "#E1E5ED",
         "showgrid": true,
         "tickfont": {
          "color": "#4D5663"
         },
         "title": {
          "font": {
           "color": "#4D5663"
          },
          "text": ""
         },
         "zerolinecolor": "#E1E5ED"
        },
        "yaxis2": {
         "domain": [
          0,
          0.25
         ],
         "gridcolor": "#E1E5ED",
         "showgrid": true,
         "tickfont": {
          "color": "#4D5663"
         },
         "title": {
          "font": {
           "color": "#4D5663"
          },
          "text": "Spread"
         },
         "zerolinecolor": "#E1E5ED"
        }
       }
      },
      "text/html": [
       "<div>                            <div id=\"94742561-662a-46ee-b022-d1348f3547a4\" class=\"plotly-graph-div\" style=\"height:525px; width:100%;\"></div>            <script type=\"text/javascript\">                require([\"plotly\"], function(Plotly) {                    window.PLOTLYENV=window.PLOTLYENV || {};\n",
       "                    window.PLOTLYENV.BASE_URL='https://plot.ly';                                    if (document.getElementById(\"94742561-662a-46ee-b022-d1348f3547a4\")) {                    Plotly.newPlot(                        \"94742561-662a-46ee-b022-d1348f3547a4\",                        [{\"line\": {\"color\": \"rgba(255, 153, 51, 1.0)\", \"dash\": \"solid\", \"shape\": \"linear\", \"width\": 1.3}, \"mode\": \"lines\", \"name\": \"A\", \"text\": \"\", \"type\": \"scatter\", \"x\": [0, 1, 2, 3, 4, 5, 6, 7, 8, 9, 10, 11, 12, 13, 14, 15, 16, 17, 18, 19, 20, 21, 22, 23, 24, 25, 26, 27, 28, 29, 30, 31, 32, 33, 34, 35, 36, 37, 38, 39, 40, 41, 42, 43, 44, 45, 46, 47, 48, 49, 50, 51, 52, 53, 54, 55, 56, 57, 58, 59, 60, 61, 62, 63, 64, 65, 66, 67, 68, 69, 70, 71, 72, 73, 74, 75, 76, 77, 78, 79, 80, 81, 82, 83, 84, 85, 86, 87, 88, 89, 90, 91, 92, 93, 94, 95, 96, 97, 98, 99], \"y\": [-0.8280260723763271, -2.77297444794199, -0.38121323391729234, 0.7880707860623422, 2.8084929576725313, -0.1374432130485793, 1.4665828322027583, 1.7170018404039853, -0.006694875240469727, -0.35801270109138483, -0.7945315217293085, 1.107530808756093, 1.1790484531176757, 0.36440605216798233, -1.5822209826572298, -1.2750553918693035, -1.2090255857903993, 0.4590850858171039, -0.6285482031372056, 1.0546402699013748, 1.5138351311137501, 0.8734592513564242, 0.21901261206315306, -1.163953212801199, -0.335892690218668, 0.4938820380998607, 0.06783004821863114, 1.542059648394881, 0.49156166686043756, 0.4633288124694026, -0.9489982987198811, 0.47065989470899516, -0.4418890963795218, 0.44347045975400295, 0.8144597660455606, -0.6531579459403273, 0.42815418084727563, -0.3588910458379977, -0.5335759249000853, 0.6314714718116694, -0.8487016591558267, 1.5846252025402214, 0.17310725166180807, 0.27059605517156654, -0.4694392142146777, 0.5838091465034632, -0.3432331323029411, -0.48966126380907626, -2.3796874131530377, 1.3587330456455726, 1.1171967076671219, -0.20850895799541944, -0.3995385709353827, -1.8147865778734724, 0.7161603237047958, -1.269138912896145, -1.6827178168553847, -0.6674891664222559, -0.30249711294977955, 0.6631651824638187, 2.291182619859816, -2.458340895167761, 0.2899567568659667, -0.47300884042820934, 2.09432237150058, 0.582786511773274, -1.1346112433030937, -1.2649618327532324, 0.34316321337446215, -0.19277560479566427, 0.33379569707167217, -1.517505142343097, -0.4055330148343431, 1.3329366341718163, 3.0880651844214007, -1.3533913810566096, 0.3437532931939382, -1.6575292547862113, 0.7154451417562238, -0.12577120476387404, -0.1221947706218079, 0.5829755695712423, -1.5671691676011716, 1.1105896726371092, -0.09369513621117644, 1.0955857442776014, -1.4282369786985993, -0.05097785455827381, -0.5972071263206464, -1.256475896277932, -1.8851731596449193, 0.828590542968046, -0.4062491091331472, 0.0807500132107527, 0.013163707403381393, -0.6217284887018927, -0.24693675551235092, 0.06197700019368634, 0.5634486026666133, 0.6059138751307764]}, {\"line\": {\"color\": \"rgba(55, 128, 191, 1.0)\", \"dash\": \"solid\", \"shape\": \"linear\", \"width\": 1.3}, \"mode\": \"lines\", \"name\": \"B\", \"text\": \"\", \"type\": \"scatter\", \"x\": [0, 1, 2, 3, 4, 5, 6, 7, 8, 9, 10, 11, 12, 13, 14, 15, 16, 17, 18, 19, 20, 21, 22, 23, 24, 25, 26, 27, 28, 29, 30, 31, 32, 33, 34, 35, 36, 37, 38, 39, 40, 41, 42, 43, 44, 45, 46, 47, 48, 49, 50, 51, 52, 53, 54, 55, 56, 57, 58, 59, 60, 61, 62, 63, 64, 65, 66, 67, 68, 69, 70, 71, 72, 73, 74, 75, 76, 77, 78, 79, 80, 81, 82, 83, 84, 85, 86, 87, 88, 89, 90, 91, 92, 93, 94, 95, 96, 97, 98, 99], \"y\": [0.7488859249957294, -2.063476523426313, 0.15896478732317448, 0.9824428266957366, 0.5177956680669261, 1.2795287511749251, 1.3168697401336789, -2.5769642163271804, -0.5223469831142037, 1.8181176703709536, -0.472385080891169, 0.5902248057458955, 0.06501344080504949, -0.47080216571861333, 0.18228275869868904, 0.23126754721306877, 0.6149010050060569, 0.7222076794396597, -0.47556970422863515, 0.460047800114019, 0.20905587617029056, 0.7386997197730129, 0.2963947509662543, 1.3324755157131947, 1.0847241543052293, 0.7238084792303607, 0.031773286629343866, -0.85317652648317, -0.3103145393346325, -0.03628269694808576, -0.3086240085353415, -0.8791329349989142, -1.4582997557298272, 1.0563940955502773, 0.7624476857491007, -0.637472747395494, 0.08463847795218485, -1.1360972676061123, 0.3278612242444931, 0.6074498411024112, -1.9401239947752962, -0.6993479106510858, 1.3059278691514857, -0.19424188683695787, -1.2604848908802941, 0.952687783783637, -1.546031553055093, -0.6993206460498765, 0.20344776954368982, -0.7243873284737312, -0.9800294868969891, -0.514665260515114, 1.0336926944205553, -0.9088425929534667, -1.2397144953831822, 0.9812633628328463, 2.7523411232946318, -0.7275897094517473, 0.6909293763885511, 0.679755401619041, -0.3870724045077387, 0.8660805606258668, -1.3245161399204266, 1.1927202884162393, 0.08939780005427155, -2.806889952909305, 0.8929360431986725, -0.12770744108226054, 0.21199734276229967, 1.1372829909715767, 0.09620678459480445, -0.3018606425639405, 0.9102322118714832, -2.309881595960726, -1.6100568373409712, 0.6090688747514684, -0.6838011355845027, -0.2748716990341536, -0.4223440623301072, -0.8873989045199661, -0.0009738308528003652, 0.10028669510880826, -0.048778800761219, 1.3184511662605012, -2.195277463199274, 0.34417282099715746, 0.2628105585137296, 1.4326207032621394, 0.2935366035552767, 0.39908458968185134, -1.4759639597995606, -0.560377497609232, -1.762548372904548, 1.3007570365012764, 0.1805535576155475, 0.4187410435886277, -0.008350929356977793, -1.4548926844956653, -1.074772822423682, 0.5854026103720574]}, {\"connectgaps\": false, \"fill\": \"tozeroy\", \"line\": {\"color\": \"green\", \"dash\": \"solid\", \"shape\": \"linear\", \"width\": 0.5}, \"mode\": \"lines\", \"name\": \"Spread\", \"showlegend\": false, \"type\": \"scatter\", \"x\": [0, 1, 2, 3, 4, 5, 6, 7, 8, 9, 10, 11, 12, 13, 14, 15, 16, 17, 18, 19, 20, 21, 22, 23, 24, 25, 26, 27, 28, 29, 30, 31, 32, 33, 34, 35, 36, 37, 38, 39, 40, 41, 42, 43, 44, 45, 46, 47, 48, 49, 50, 51, 52, 53, 54, 55, 56, 57, 58, 59, 60, 61, 62, 63, 64, 65, 66, 67, 68, 69, 70, 71, 72, 73, 74, 75, 76, 77, 78, 79, 80, 81, 82, 83, 84, 85, 86, 87, 88, 89, 90, 91, 92, 93, 94, 95, 96, 97, 98, 99], \"xaxis\": \"x2\", \"y\": [\"\", \"\", \"\", \"\", 2.290697289605605, \"\", 0.14971309206907946, 4.293966056731166, 0.515652107873734, \"\", \"\", 0.5173060030101976, 1.1140350123126261, 0.8352082178865956, \"\", \"\", \"\", \"\", \"\", 0.5945924697873558, 1.3047792549434596, 0.13475953158341136, \"\", \"\", \"\", \"\", 0.03605676158928728, 2.395236174878051, 0.80187620619507, 0.4996115094174884, \"\", 1.3497928297079094, 1.0164106593503055, \"\", 0.05201208029645987, \"\", 0.3435157028950908, 0.7772062217681146, \"\", 0.024021630709258224, 1.0914223356194694, 2.2839731131913075, \"\", 0.4648379420085244, 0.7910456766656164, \"\", 1.2027984207521518, 0.20965938224080027, \"\", 2.0831203741193036, 2.097226194564111, 0.3061563025196945, \"\", \"\", 1.955874819087978, \"\", \"\", 0.060100543029491416, \"\", \"\", 2.6782550243675547, \"\", 1.6144728967863933, \"\", 2.0049245714463084, 3.389676464682579, \"\", \"\", 0.13116587061216248, \"\", 0.23758891247686773, \"\", \"\", 3.6428182301325425, 4.698122021762372, \"\", 1.027554428778441, \"\", 1.1377892040863309, 0.761627699756092, \"\", 0.482688874462434, \"\", \"\", 2.1015823269880975, 0.7514129232804438, \"\", \"\", \"\", \"\", \"\", 1.388968040577278, 1.3562992637714006, \"\", \"\", \"\", \"\", 1.5168696846893517, 1.6382214250902956, 0.020511264758719006], \"yaxis\": \"y2\"}, {\"connectgaps\": false, \"fill\": \"tozeroy\", \"line\": {\"color\": \"red\", \"dash\": \"solid\", \"shape\": \"linear\", \"width\": 0.5}, \"mode\": \"lines\", \"name\": \"Spread\", \"showlegend\": false, \"type\": \"scatter\", \"x\": [0, 1, 2, 3, 4, 5, 6, 7, 8, 9, 10, 11, 12, 13, 14, 15, 16, 17, 18, 19, 20, 21, 22, 23, 24, 25, 26, 27, 28, 29, 30, 31, 32, 33, 34, 35, 36, 37, 38, 39, 40, 41, 42, 43, 44, 45, 46, 47, 48, 49, 50, 51, 52, 53, 54, 55, 56, 57, 58, 59, 60, 61, 62, 63, 64, 65, 66, 67, 68, 69, 70, 71, 72, 73, 74, 75, 76, 77, 78, 79, 80, 81, 82, 83, 84, 85, 86, 87, 88, 89, 90, 91, 92, 93, 94, 95, 96, 97, 98, 99], \"xaxis\": \"x2\", \"y\": [-1.5769119973720565, -0.7094979245156772, -0.5401780212404668, -0.19437204063339442, \"\", -1.4169719642235044, \"\", \"\", \"\", -2.1761303714623383, -0.32214644083813954, \"\", \"\", \"\", -1.7645037413559188, -1.5063229390823722, -1.8239265907964564, -0.2631225936225558, -0.15297849890857046, \"\", \"\", \"\", -0.07738213890310122, -2.4964287285143936, -1.4206168445238974, -0.22992644113050004, \"\", \"\", \"\", \"\", -0.6403742901845395, \"\", \"\", -0.6129236357962744, \"\", -0.0156851985448333, \"\", \"\", -0.8614371491445785, \"\", \"\", \"\", -1.1328206174896778, \"\", \"\", -0.3688786372801739, \"\", \"\", -2.5831351826967275, \"\", \"\", \"\", -1.433231265355938, -0.9059439849200057, \"\", -2.2504022757289914, -4.435058940150016, \"\", -0.9934264893383307, -0.016590219155222297, \"\", -3.324421455793628, \"\", -1.6657291288444487, \"\", \"\", -2.027547286501766, -1.1372543916709719, \"\", -1.330058595767241, \"\", -1.2156444997791565, -1.3157652267058264, \"\", \"\", -1.962460255808078, \"\", -1.3826575557520577, \"\", \"\", -0.12122093976900754, \"\", -1.5183903668399525, -0.207861493623392, \"\", \"\", -1.691047537212329, -1.4835985578204132, -0.8907437298759231, -1.6555604859597834, -0.40920919984535864, \"\", \"\", -1.2200070232905236, -0.16738985021216612, -1.0404695322905204, -0.23858582615537313, \"\", \"\", \"\"], \"yaxis\": \"y2\"}],                        {\"hovermode\": \"x\", \"legend\": {\"bgcolor\": \"#F5F6F9\", \"font\": {\"color\": \"#4D5663\"}}, \"paper_bgcolor\": \"#F5F6F9\", \"plot_bgcolor\": \"#F5F6F9\", \"template\": {\"data\": {\"bar\": [{\"error_x\": {\"color\": \"#2a3f5f\"}, \"error_y\": {\"color\": \"#2a3f5f\"}, \"marker\": {\"line\": {\"color\": \"#E5ECF6\", \"width\": 0.5}}, \"type\": \"bar\"}], \"barpolar\": [{\"marker\": {\"line\": {\"color\": \"#E5ECF6\", \"width\": 0.5}}, \"type\": \"barpolar\"}], \"carpet\": [{\"aaxis\": {\"endlinecolor\": \"#2a3f5f\", \"gridcolor\": \"white\", \"linecolor\": \"white\", \"minorgridcolor\": \"white\", \"startlinecolor\": \"#2a3f5f\"}, \"baxis\": {\"endlinecolor\": \"#2a3f5f\", \"gridcolor\": \"white\", \"linecolor\": \"white\", \"minorgridcolor\": \"white\", \"startlinecolor\": \"#2a3f5f\"}, \"type\": \"carpet\"}], \"choropleth\": [{\"colorbar\": {\"outlinewidth\": 0, \"ticks\": \"\"}, \"type\": \"choropleth\"}], \"contour\": [{\"colorbar\": {\"outlinewidth\": 0, \"ticks\": \"\"}, \"colorscale\": [[0.0, \"#0d0887\"], [0.1111111111111111, \"#46039f\"], [0.2222222222222222, \"#7201a8\"], [0.3333333333333333, \"#9c179e\"], [0.4444444444444444, \"#bd3786\"], [0.5555555555555556, \"#d8576b\"], [0.6666666666666666, \"#ed7953\"], [0.7777777777777778, \"#fb9f3a\"], [0.8888888888888888, \"#fdca26\"], [1.0, \"#f0f921\"]], \"type\": \"contour\"}], \"contourcarpet\": [{\"colorbar\": {\"outlinewidth\": 0, \"ticks\": \"\"}, \"type\": \"contourcarpet\"}], \"heatmap\": [{\"colorbar\": {\"outlinewidth\": 0, \"ticks\": \"\"}, \"colorscale\": [[0.0, \"#0d0887\"], [0.1111111111111111, \"#46039f\"], [0.2222222222222222, \"#7201a8\"], [0.3333333333333333, \"#9c179e\"], [0.4444444444444444, \"#bd3786\"], [0.5555555555555556, \"#d8576b\"], [0.6666666666666666, \"#ed7953\"], [0.7777777777777778, \"#fb9f3a\"], [0.8888888888888888, \"#fdca26\"], [1.0, \"#f0f921\"]], \"type\": \"heatmap\"}], \"heatmapgl\": [{\"colorbar\": {\"outlinewidth\": 0, \"ticks\": \"\"}, \"colorscale\": [[0.0, \"#0d0887\"], [0.1111111111111111, \"#46039f\"], [0.2222222222222222, \"#7201a8\"], [0.3333333333333333, \"#9c179e\"], [0.4444444444444444, \"#bd3786\"], [0.5555555555555556, \"#d8576b\"], [0.6666666666666666, \"#ed7953\"], [0.7777777777777778, \"#fb9f3a\"], [0.8888888888888888, \"#fdca26\"], [1.0, \"#f0f921\"]], \"type\": \"heatmapgl\"}], \"histogram\": [{\"marker\": {\"colorbar\": {\"outlinewidth\": 0, \"ticks\": \"\"}}, \"type\": \"histogram\"}], \"histogram2d\": [{\"colorbar\": {\"outlinewidth\": 0, \"ticks\": \"\"}, \"colorscale\": [[0.0, \"#0d0887\"], [0.1111111111111111, \"#46039f\"], [0.2222222222222222, \"#7201a8\"], [0.3333333333333333, \"#9c179e\"], [0.4444444444444444, \"#bd3786\"], [0.5555555555555556, \"#d8576b\"], [0.6666666666666666, \"#ed7953\"], [0.7777777777777778, \"#fb9f3a\"], [0.8888888888888888, \"#fdca26\"], [1.0, \"#f0f921\"]], \"type\": \"histogram2d\"}], \"histogram2dcontour\": [{\"colorbar\": {\"outlinewidth\": 0, \"ticks\": \"\"}, \"colorscale\": [[0.0, \"#0d0887\"], [0.1111111111111111, \"#46039f\"], [0.2222222222222222, \"#7201a8\"], [0.3333333333333333, \"#9c179e\"], [0.4444444444444444, \"#bd3786\"], [0.5555555555555556, \"#d8576b\"], [0.6666666666666666, \"#ed7953\"], [0.7777777777777778, \"#fb9f3a\"], [0.8888888888888888, \"#fdca26\"], [1.0, \"#f0f921\"]], \"type\": \"histogram2dcontour\"}], \"mesh3d\": [{\"colorbar\": {\"outlinewidth\": 0, \"ticks\": \"\"}, \"type\": \"mesh3d\"}], \"parcoords\": [{\"line\": {\"colorbar\": {\"outlinewidth\": 0, \"ticks\": \"\"}}, \"type\": \"parcoords\"}], \"pie\": [{\"automargin\": true, \"type\": \"pie\"}], \"scatter\": [{\"marker\": {\"colorbar\": {\"outlinewidth\": 0, \"ticks\": \"\"}}, \"type\": \"scatter\"}], \"scatter3d\": [{\"line\": {\"colorbar\": {\"outlinewidth\": 0, \"ticks\": \"\"}}, \"marker\": {\"colorbar\": {\"outlinewidth\": 0, \"ticks\": \"\"}}, \"type\": \"scatter3d\"}], \"scattercarpet\": [{\"marker\": {\"colorbar\": {\"outlinewidth\": 0, \"ticks\": \"\"}}, \"type\": \"scattercarpet\"}], \"scattergeo\": [{\"marker\": {\"colorbar\": {\"outlinewidth\": 0, \"ticks\": \"\"}}, \"type\": \"scattergeo\"}], \"scattergl\": [{\"marker\": {\"colorbar\": {\"outlinewidth\": 0, \"ticks\": \"\"}}, \"type\": \"scattergl\"}], \"scattermapbox\": [{\"marker\": {\"colorbar\": {\"outlinewidth\": 0, \"ticks\": \"\"}}, \"type\": \"scattermapbox\"}], \"scatterpolar\": [{\"marker\": {\"colorbar\": {\"outlinewidth\": 0, \"ticks\": \"\"}}, \"type\": \"scatterpolar\"}], \"scatterpolargl\": [{\"marker\": {\"colorbar\": {\"outlinewidth\": 0, \"ticks\": \"\"}}, \"type\": \"scatterpolargl\"}], \"scatterternary\": [{\"marker\": {\"colorbar\": {\"outlinewidth\": 0, \"ticks\": \"\"}}, \"type\": \"scatterternary\"}], \"surface\": [{\"colorbar\": {\"outlinewidth\": 0, \"ticks\": \"\"}, \"colorscale\": [[0.0, \"#0d0887\"], [0.1111111111111111, \"#46039f\"], [0.2222222222222222, \"#7201a8\"], [0.3333333333333333, \"#9c179e\"], [0.4444444444444444, \"#bd3786\"], [0.5555555555555556, \"#d8576b\"], [0.6666666666666666, \"#ed7953\"], [0.7777777777777778, \"#fb9f3a\"], [0.8888888888888888, \"#fdca26\"], [1.0, \"#f0f921\"]], \"type\": \"surface\"}], \"table\": [{\"cells\": {\"fill\": {\"color\": \"#EBF0F8\"}, \"line\": {\"color\": \"white\"}}, \"header\": {\"fill\": {\"color\": \"#C8D4E3\"}, \"line\": {\"color\": \"white\"}}, \"type\": \"table\"}]}, \"layout\": {\"annotationdefaults\": {\"arrowcolor\": \"#2a3f5f\", \"arrowhead\": 0, \"arrowwidth\": 1}, \"autotypenumbers\": \"strict\", \"coloraxis\": {\"colorbar\": {\"outlinewidth\": 0, \"ticks\": \"\"}}, \"colorscale\": {\"diverging\": [[0, \"#8e0152\"], [0.1, \"#c51b7d\"], [0.2, \"#de77ae\"], [0.3, \"#f1b6da\"], [0.4, \"#fde0ef\"], [0.5, \"#f7f7f7\"], [0.6, \"#e6f5d0\"], [0.7, \"#b8e186\"], [0.8, \"#7fbc41\"], [0.9, \"#4d9221\"], [1, \"#276419\"]], \"sequential\": [[0.0, \"#0d0887\"], [0.1111111111111111, \"#46039f\"], [0.2222222222222222, \"#7201a8\"], [0.3333333333333333, \"#9c179e\"], [0.4444444444444444, \"#bd3786\"], [0.5555555555555556, \"#d8576b\"], [0.6666666666666666, \"#ed7953\"], [0.7777777777777778, \"#fb9f3a\"], [0.8888888888888888, \"#fdca26\"], [1.0, \"#f0f921\"]], \"sequentialminus\": [[0.0, \"#0d0887\"], [0.1111111111111111, \"#46039f\"], [0.2222222222222222, \"#7201a8\"], [0.3333333333333333, \"#9c179e\"], [0.4444444444444444, \"#bd3786\"], [0.5555555555555556, \"#d8576b\"], [0.6666666666666666, \"#ed7953\"], [0.7777777777777778, \"#fb9f3a\"], [0.8888888888888888, \"#fdca26\"], [1.0, \"#f0f921\"]]}, \"colorway\": [\"#636efa\", \"#EF553B\", \"#00cc96\", \"#ab63fa\", \"#FFA15A\", \"#19d3f3\", \"#FF6692\", \"#B6E880\", \"#FF97FF\", \"#FECB52\"], \"font\": {\"color\": \"#2a3f5f\"}, \"geo\": {\"bgcolor\": \"white\", \"lakecolor\": \"white\", \"landcolor\": \"#E5ECF6\", \"showlakes\": true, \"showland\": true, \"subunitcolor\": \"white\"}, \"hoverlabel\": {\"align\": \"left\"}, \"hovermode\": \"closest\", \"mapbox\": {\"style\": \"light\"}, \"paper_bgcolor\": \"white\", \"plot_bgcolor\": \"#E5ECF6\", \"polar\": {\"angularaxis\": {\"gridcolor\": \"white\", \"linecolor\": \"white\", \"ticks\": \"\"}, \"bgcolor\": \"#E5ECF6\", \"radialaxis\": {\"gridcolor\": \"white\", \"linecolor\": \"white\", \"ticks\": \"\"}}, \"scene\": {\"xaxis\": {\"backgroundcolor\": \"#E5ECF6\", \"gridcolor\": \"white\", \"gridwidth\": 2, \"linecolor\": \"white\", \"showbackground\": true, \"ticks\": \"\", \"zerolinecolor\": \"white\"}, \"yaxis\": {\"backgroundcolor\": \"#E5ECF6\", \"gridcolor\": \"white\", \"gridwidth\": 2, \"linecolor\": \"white\", \"showbackground\": true, \"ticks\": \"\", \"zerolinecolor\": \"white\"}, \"zaxis\": {\"backgroundcolor\": \"#E5ECF6\", \"gridcolor\": \"white\", \"gridwidth\": 2, \"linecolor\": \"white\", \"showbackground\": true, \"ticks\": \"\", \"zerolinecolor\": \"white\"}}, \"shapedefaults\": {\"line\": {\"color\": \"#2a3f5f\"}}, \"ternary\": {\"aaxis\": {\"gridcolor\": \"white\", \"linecolor\": \"white\", \"ticks\": \"\"}, \"baxis\": {\"gridcolor\": \"white\", \"linecolor\": \"white\", \"ticks\": \"\"}, \"bgcolor\": \"#E5ECF6\", \"caxis\": {\"gridcolor\": \"white\", \"linecolor\": \"white\", \"ticks\": \"\"}}, \"title\": {\"x\": 0.05}, \"xaxis\": {\"automargin\": true, \"gridcolor\": \"white\", \"linecolor\": \"white\", \"ticks\": \"\", \"title\": {\"standoff\": 15}, \"zerolinecolor\": \"white\", \"zerolinewidth\": 2}, \"yaxis\": {\"automargin\": true, \"gridcolor\": \"white\", \"linecolor\": \"white\", \"ticks\": \"\", \"title\": {\"standoff\": 15}, \"zerolinecolor\": \"white\", \"zerolinewidth\": 2}}}, \"title\": {\"font\": {\"color\": \"#4D5663\"}}, \"xaxis\": {\"gridcolor\": \"#E1E5ED\", \"showgrid\": true, \"tickfont\": {\"color\": \"#4D5663\"}, \"title\": {\"font\": {\"color\": \"#4D5663\"}, \"text\": \"\"}, \"zerolinecolor\": \"#E1E5ED\"}, \"xaxis2\": {\"anchor\": \"y2\", \"gridcolor\": \"#E1E5ED\", \"showgrid\": true, \"showticklabels\": false, \"tickfont\": {\"color\": \"#4D5663\"}, \"title\": {\"font\": {\"color\": \"#4D5663\"}, \"text\": \"\"}, \"zerolinecolor\": \"#E1E5ED\"}, \"yaxis\": {\"domain\": [0.3, 1], \"gridcolor\": \"#E1E5ED\", \"showgrid\": true, \"tickfont\": {\"color\": \"#4D5663\"}, \"title\": {\"font\": {\"color\": \"#4D5663\"}, \"text\": \"\"}, \"zerolinecolor\": \"#E1E5ED\"}, \"yaxis2\": {\"domain\": [0, 0.25], \"gridcolor\": \"#E1E5ED\", \"showgrid\": true, \"tickfont\": {\"color\": \"#4D5663\"}, \"title\": {\"font\": {\"color\": \"#4D5663\"}, \"text\": \"Spread\"}, \"zerolinecolor\": \"#E1E5ED\"}},                        {\"showLink\": true, \"linkText\": \"Export to plot.ly\", \"plotlyServerURL\": \"https://plot.ly\", \"responsive\": true}                    ).then(function(){\n",
       "                            \n",
       "var gd = document.getElementById('94742561-662a-46ee-b022-d1348f3547a4');\n",
       "var x = new MutationObserver(function (mutations, observer) {{\n",
       "        var display = window.getComputedStyle(gd).display;\n",
       "        if (!display || display === 'none') {{\n",
       "            console.log([gd, 'removed!']);\n",
       "            Plotly.purge(gd);\n",
       "            observer.disconnect();\n",
       "        }}\n",
       "}});\n",
       "\n",
       "// Listen for the removal of the full notebook cells\n",
       "var notebookContainer = gd.closest('#notebook-container');\n",
       "if (notebookContainer) {{\n",
       "    x.observe(notebookContainer, {childList: true});\n",
       "}}\n",
       "\n",
       "// Listen for the clearing of the current output cell\n",
       "var outputEl = gd.closest('.output');\n",
       "if (outputEl) {{\n",
       "    x.observe(outputEl, {childList: true});\n",
       "}}\n",
       "\n",
       "                        })                };                });            </script>        </div>"
      ]
     },
     "metadata": {},
     "output_type": "display_data"
    }
   ],
   "source": [
    "df[['A','B']].iplot(kind='spread')"
   ]
  },
  {
   "cell_type": "markdown",
   "metadata": {},
   "source": [
    "## histogram"
   ]
  },
  {
   "cell_type": "code",
   "execution_count": 18,
   "metadata": {},
   "outputs": [
    {
     "data": {
      "application/vnd.plotly.v1+json": {
       "config": {
        "linkText": "Export to plot.ly",
        "plotlyServerURL": "https://plot.ly",
        "showLink": true
       },
       "data": [
        {
         "histfunc": "count",
         "histnorm": "",
         "marker": {
          "color": "rgba(255, 153, 51, 1.0)",
          "line": {
           "color": "#4D5663",
           "width": 1.3
          }
         },
         "name": "A",
         "nbinsx": 25,
         "opacity": 0.8,
         "orientation": "v",
         "type": "histogram",
         "x": [
          -0.8280260723763271,
          -2.77297444794199,
          -0.38121323391729234,
          0.7880707860623422,
          2.8084929576725313,
          -0.1374432130485793,
          1.4665828322027583,
          1.7170018404039853,
          -0.006694875240469727,
          -0.35801270109138483,
          -0.7945315217293085,
          1.107530808756093,
          1.1790484531176757,
          0.36440605216798233,
          -1.5822209826572298,
          -1.2750553918693035,
          -1.2090255857903993,
          0.4590850858171039,
          -0.6285482031372056,
          1.0546402699013748,
          1.5138351311137501,
          0.8734592513564242,
          0.21901261206315306,
          -1.163953212801199,
          -0.335892690218668,
          0.4938820380998607,
          0.06783004821863114,
          1.542059648394881,
          0.49156166686043756,
          0.4633288124694026,
          -0.9489982987198811,
          0.47065989470899516,
          -0.4418890963795218,
          0.44347045975400295,
          0.8144597660455606,
          -0.6531579459403273,
          0.42815418084727563,
          -0.3588910458379977,
          -0.5335759249000853,
          0.6314714718116694,
          -0.8487016591558267,
          1.5846252025402214,
          0.17310725166180807,
          0.27059605517156654,
          -0.4694392142146777,
          0.5838091465034632,
          -0.3432331323029411,
          -0.48966126380907626,
          -2.3796874131530377,
          1.3587330456455726,
          1.1171967076671219,
          -0.20850895799541944,
          -0.3995385709353827,
          -1.8147865778734724,
          0.7161603237047958,
          -1.269138912896145,
          -1.6827178168553847,
          -0.6674891664222559,
          -0.30249711294977955,
          0.6631651824638187,
          2.291182619859816,
          -2.458340895167761,
          0.2899567568659667,
          -0.47300884042820934,
          2.09432237150058,
          0.582786511773274,
          -1.1346112433030937,
          -1.2649618327532324,
          0.34316321337446215,
          -0.19277560479566427,
          0.33379569707167217,
          -1.517505142343097,
          -0.4055330148343431,
          1.3329366341718163,
          3.0880651844214007,
          -1.3533913810566096,
          0.3437532931939382,
          -1.6575292547862113,
          0.7154451417562238,
          -0.12577120476387404,
          -0.1221947706218079,
          0.5829755695712423,
          -1.5671691676011716,
          1.1105896726371092,
          -0.09369513621117644,
          1.0955857442776014,
          -1.4282369786985993,
          -0.05097785455827381,
          -0.5972071263206464,
          -1.256475896277932,
          -1.8851731596449193,
          0.828590542968046,
          -0.4062491091331472,
          0.0807500132107527,
          0.013163707403381393,
          -0.6217284887018927,
          -0.24693675551235092,
          0.06197700019368634,
          0.5634486026666133,
          0.6059138751307764
         ]
        }
       ],
       "layout": {
        "barmode": "overlay",
        "legend": {
         "bgcolor": "#F5F6F9",
         "font": {
          "color": "#4D5663"
         }
        },
        "paper_bgcolor": "#F5F6F9",
        "plot_bgcolor": "#F5F6F9",
        "template": {
         "data": {
          "bar": [
           {
            "error_x": {
             "color": "#2a3f5f"
            },
            "error_y": {
             "color": "#2a3f5f"
            },
            "marker": {
             "line": {
              "color": "#E5ECF6",
              "width": 0.5
             }
            },
            "type": "bar"
           }
          ],
          "barpolar": [
           {
            "marker": {
             "line": {
              "color": "#E5ECF6",
              "width": 0.5
             }
            },
            "type": "barpolar"
           }
          ],
          "carpet": [
           {
            "aaxis": {
             "endlinecolor": "#2a3f5f",
             "gridcolor": "white",
             "linecolor": "white",
             "minorgridcolor": "white",
             "startlinecolor": "#2a3f5f"
            },
            "baxis": {
             "endlinecolor": "#2a3f5f",
             "gridcolor": "white",
             "linecolor": "white",
             "minorgridcolor": "white",
             "startlinecolor": "#2a3f5f"
            },
            "type": "carpet"
           }
          ],
          "choropleth": [
           {
            "colorbar": {
             "outlinewidth": 0,
             "ticks": ""
            },
            "type": "choropleth"
           }
          ],
          "contour": [
           {
            "colorbar": {
             "outlinewidth": 0,
             "ticks": ""
            },
            "colorscale": [
             [
              0,
              "#0d0887"
             ],
             [
              0.1111111111111111,
              "#46039f"
             ],
             [
              0.2222222222222222,
              "#7201a8"
             ],
             [
              0.3333333333333333,
              "#9c179e"
             ],
             [
              0.4444444444444444,
              "#bd3786"
             ],
             [
              0.5555555555555556,
              "#d8576b"
             ],
             [
              0.6666666666666666,
              "#ed7953"
             ],
             [
              0.7777777777777778,
              "#fb9f3a"
             ],
             [
              0.8888888888888888,
              "#fdca26"
             ],
             [
              1,
              "#f0f921"
             ]
            ],
            "type": "contour"
           }
          ],
          "contourcarpet": [
           {
            "colorbar": {
             "outlinewidth": 0,
             "ticks": ""
            },
            "type": "contourcarpet"
           }
          ],
          "heatmap": [
           {
            "colorbar": {
             "outlinewidth": 0,
             "ticks": ""
            },
            "colorscale": [
             [
              0,
              "#0d0887"
             ],
             [
              0.1111111111111111,
              "#46039f"
             ],
             [
              0.2222222222222222,
              "#7201a8"
             ],
             [
              0.3333333333333333,
              "#9c179e"
             ],
             [
              0.4444444444444444,
              "#bd3786"
             ],
             [
              0.5555555555555556,
              "#d8576b"
             ],
             [
              0.6666666666666666,
              "#ed7953"
             ],
             [
              0.7777777777777778,
              "#fb9f3a"
             ],
             [
              0.8888888888888888,
              "#fdca26"
             ],
             [
              1,
              "#f0f921"
             ]
            ],
            "type": "heatmap"
           }
          ],
          "heatmapgl": [
           {
            "colorbar": {
             "outlinewidth": 0,
             "ticks": ""
            },
            "colorscale": [
             [
              0,
              "#0d0887"
             ],
             [
              0.1111111111111111,
              "#46039f"
             ],
             [
              0.2222222222222222,
              "#7201a8"
             ],
             [
              0.3333333333333333,
              "#9c179e"
             ],
             [
              0.4444444444444444,
              "#bd3786"
             ],
             [
              0.5555555555555556,
              "#d8576b"
             ],
             [
              0.6666666666666666,
              "#ed7953"
             ],
             [
              0.7777777777777778,
              "#fb9f3a"
             ],
             [
              0.8888888888888888,
              "#fdca26"
             ],
             [
              1,
              "#f0f921"
             ]
            ],
            "type": "heatmapgl"
           }
          ],
          "histogram": [
           {
            "marker": {
             "colorbar": {
              "outlinewidth": 0,
              "ticks": ""
             }
            },
            "type": "histogram"
           }
          ],
          "histogram2d": [
           {
            "colorbar": {
             "outlinewidth": 0,
             "ticks": ""
            },
            "colorscale": [
             [
              0,
              "#0d0887"
             ],
             [
              0.1111111111111111,
              "#46039f"
             ],
             [
              0.2222222222222222,
              "#7201a8"
             ],
             [
              0.3333333333333333,
              "#9c179e"
             ],
             [
              0.4444444444444444,
              "#bd3786"
             ],
             [
              0.5555555555555556,
              "#d8576b"
             ],
             [
              0.6666666666666666,
              "#ed7953"
             ],
             [
              0.7777777777777778,
              "#fb9f3a"
             ],
             [
              0.8888888888888888,
              "#fdca26"
             ],
             [
              1,
              "#f0f921"
             ]
            ],
            "type": "histogram2d"
           }
          ],
          "histogram2dcontour": [
           {
            "colorbar": {
             "outlinewidth": 0,
             "ticks": ""
            },
            "colorscale": [
             [
              0,
              "#0d0887"
             ],
             [
              0.1111111111111111,
              "#46039f"
             ],
             [
              0.2222222222222222,
              "#7201a8"
             ],
             [
              0.3333333333333333,
              "#9c179e"
             ],
             [
              0.4444444444444444,
              "#bd3786"
             ],
             [
              0.5555555555555556,
              "#d8576b"
             ],
             [
              0.6666666666666666,
              "#ed7953"
             ],
             [
              0.7777777777777778,
              "#fb9f3a"
             ],
             [
              0.8888888888888888,
              "#fdca26"
             ],
             [
              1,
              "#f0f921"
             ]
            ],
            "type": "histogram2dcontour"
           }
          ],
          "mesh3d": [
           {
            "colorbar": {
             "outlinewidth": 0,
             "ticks": ""
            },
            "type": "mesh3d"
           }
          ],
          "parcoords": [
           {
            "line": {
             "colorbar": {
              "outlinewidth": 0,
              "ticks": ""
             }
            },
            "type": "parcoords"
           }
          ],
          "pie": [
           {
            "automargin": true,
            "type": "pie"
           }
          ],
          "scatter": [
           {
            "marker": {
             "colorbar": {
              "outlinewidth": 0,
              "ticks": ""
             }
            },
            "type": "scatter"
           }
          ],
          "scatter3d": [
           {
            "line": {
             "colorbar": {
              "outlinewidth": 0,
              "ticks": ""
             }
            },
            "marker": {
             "colorbar": {
              "outlinewidth": 0,
              "ticks": ""
             }
            },
            "type": "scatter3d"
           }
          ],
          "scattercarpet": [
           {
            "marker": {
             "colorbar": {
              "outlinewidth": 0,
              "ticks": ""
             }
            },
            "type": "scattercarpet"
           }
          ],
          "scattergeo": [
           {
            "marker": {
             "colorbar": {
              "outlinewidth": 0,
              "ticks": ""
             }
            },
            "type": "scattergeo"
           }
          ],
          "scattergl": [
           {
            "marker": {
             "colorbar": {
              "outlinewidth": 0,
              "ticks": ""
             }
            },
            "type": "scattergl"
           }
          ],
          "scattermapbox": [
           {
            "marker": {
             "colorbar": {
              "outlinewidth": 0,
              "ticks": ""
             }
            },
            "type": "scattermapbox"
           }
          ],
          "scatterpolar": [
           {
            "marker": {
             "colorbar": {
              "outlinewidth": 0,
              "ticks": ""
             }
            },
            "type": "scatterpolar"
           }
          ],
          "scatterpolargl": [
           {
            "marker": {
             "colorbar": {
              "outlinewidth": 0,
              "ticks": ""
             }
            },
            "type": "scatterpolargl"
           }
          ],
          "scatterternary": [
           {
            "marker": {
             "colorbar": {
              "outlinewidth": 0,
              "ticks": ""
             }
            },
            "type": "scatterternary"
           }
          ],
          "surface": [
           {
            "colorbar": {
             "outlinewidth": 0,
             "ticks": ""
            },
            "colorscale": [
             [
              0,
              "#0d0887"
             ],
             [
              0.1111111111111111,
              "#46039f"
             ],
             [
              0.2222222222222222,
              "#7201a8"
             ],
             [
              0.3333333333333333,
              "#9c179e"
             ],
             [
              0.4444444444444444,
              "#bd3786"
             ],
             [
              0.5555555555555556,
              "#d8576b"
             ],
             [
              0.6666666666666666,
              "#ed7953"
             ],
             [
              0.7777777777777778,
              "#fb9f3a"
             ],
             [
              0.8888888888888888,
              "#fdca26"
             ],
             [
              1,
              "#f0f921"
             ]
            ],
            "type": "surface"
           }
          ],
          "table": [
           {
            "cells": {
             "fill": {
              "color": "#EBF0F8"
             },
             "line": {
              "color": "white"
             }
            },
            "header": {
             "fill": {
              "color": "#C8D4E3"
             },
             "line": {
              "color": "white"
             }
            },
            "type": "table"
           }
          ]
         },
         "layout": {
          "annotationdefaults": {
           "arrowcolor": "#2a3f5f",
           "arrowhead": 0,
           "arrowwidth": 1
          },
          "autotypenumbers": "strict",
          "coloraxis": {
           "colorbar": {
            "outlinewidth": 0,
            "ticks": ""
           }
          },
          "colorscale": {
           "diverging": [
            [
             0,
             "#8e0152"
            ],
            [
             0.1,
             "#c51b7d"
            ],
            [
             0.2,
             "#de77ae"
            ],
            [
             0.3,
             "#f1b6da"
            ],
            [
             0.4,
             "#fde0ef"
            ],
            [
             0.5,
             "#f7f7f7"
            ],
            [
             0.6,
             "#e6f5d0"
            ],
            [
             0.7,
             "#b8e186"
            ],
            [
             0.8,
             "#7fbc41"
            ],
            [
             0.9,
             "#4d9221"
            ],
            [
             1,
             "#276419"
            ]
           ],
           "sequential": [
            [
             0,
             "#0d0887"
            ],
            [
             0.1111111111111111,
             "#46039f"
            ],
            [
             0.2222222222222222,
             "#7201a8"
            ],
            [
             0.3333333333333333,
             "#9c179e"
            ],
            [
             0.4444444444444444,
             "#bd3786"
            ],
            [
             0.5555555555555556,
             "#d8576b"
            ],
            [
             0.6666666666666666,
             "#ed7953"
            ],
            [
             0.7777777777777778,
             "#fb9f3a"
            ],
            [
             0.8888888888888888,
             "#fdca26"
            ],
            [
             1,
             "#f0f921"
            ]
           ],
           "sequentialminus": [
            [
             0,
             "#0d0887"
            ],
            [
             0.1111111111111111,
             "#46039f"
            ],
            [
             0.2222222222222222,
             "#7201a8"
            ],
            [
             0.3333333333333333,
             "#9c179e"
            ],
            [
             0.4444444444444444,
             "#bd3786"
            ],
            [
             0.5555555555555556,
             "#d8576b"
            ],
            [
             0.6666666666666666,
             "#ed7953"
            ],
            [
             0.7777777777777778,
             "#fb9f3a"
            ],
            [
             0.8888888888888888,
             "#fdca26"
            ],
            [
             1,
             "#f0f921"
            ]
           ]
          },
          "colorway": [
           "#636efa",
           "#EF553B",
           "#00cc96",
           "#ab63fa",
           "#FFA15A",
           "#19d3f3",
           "#FF6692",
           "#B6E880",
           "#FF97FF",
           "#FECB52"
          ],
          "font": {
           "color": "#2a3f5f"
          },
          "geo": {
           "bgcolor": "white",
           "lakecolor": "white",
           "landcolor": "#E5ECF6",
           "showlakes": true,
           "showland": true,
           "subunitcolor": "white"
          },
          "hoverlabel": {
           "align": "left"
          },
          "hovermode": "closest",
          "mapbox": {
           "style": "light"
          },
          "paper_bgcolor": "white",
          "plot_bgcolor": "#E5ECF6",
          "polar": {
           "angularaxis": {
            "gridcolor": "white",
            "linecolor": "white",
            "ticks": ""
           },
           "bgcolor": "#E5ECF6",
           "radialaxis": {
            "gridcolor": "white",
            "linecolor": "white",
            "ticks": ""
           }
          },
          "scene": {
           "xaxis": {
            "backgroundcolor": "#E5ECF6",
            "gridcolor": "white",
            "gridwidth": 2,
            "linecolor": "white",
            "showbackground": true,
            "ticks": "",
            "zerolinecolor": "white"
           },
           "yaxis": {
            "backgroundcolor": "#E5ECF6",
            "gridcolor": "white",
            "gridwidth": 2,
            "linecolor": "white",
            "showbackground": true,
            "ticks": "",
            "zerolinecolor": "white"
           },
           "zaxis": {
            "backgroundcolor": "#E5ECF6",
            "gridcolor": "white",
            "gridwidth": 2,
            "linecolor": "white",
            "showbackground": true,
            "ticks": "",
            "zerolinecolor": "white"
           }
          },
          "shapedefaults": {
           "line": {
            "color": "#2a3f5f"
           }
          },
          "ternary": {
           "aaxis": {
            "gridcolor": "white",
            "linecolor": "white",
            "ticks": ""
           },
           "baxis": {
            "gridcolor": "white",
            "linecolor": "white",
            "ticks": ""
           },
           "bgcolor": "#E5ECF6",
           "caxis": {
            "gridcolor": "white",
            "linecolor": "white",
            "ticks": ""
           }
          },
          "title": {
           "x": 0.05
          },
          "xaxis": {
           "automargin": true,
           "gridcolor": "white",
           "linecolor": "white",
           "ticks": "",
           "title": {
            "standoff": 15
           },
           "zerolinecolor": "white",
           "zerolinewidth": 2
          },
          "yaxis": {
           "automargin": true,
           "gridcolor": "white",
           "linecolor": "white",
           "ticks": "",
           "title": {
            "standoff": 15
           },
           "zerolinecolor": "white",
           "zerolinewidth": 2
          }
         }
        },
        "title": {
         "font": {
          "color": "#4D5663"
         }
        },
        "xaxis": {
         "gridcolor": "#E1E5ED",
         "showgrid": true,
         "tickfont": {
          "color": "#4D5663"
         },
         "title": {
          "font": {
           "color": "#4D5663"
          },
          "text": ""
         },
         "zerolinecolor": "#E1E5ED"
        },
        "yaxis": {
         "gridcolor": "#E1E5ED",
         "showgrid": true,
         "tickfont": {
          "color": "#4D5663"
         },
         "title": {
          "font": {
           "color": "#4D5663"
          },
          "text": ""
         },
         "zerolinecolor": "#E1E5ED"
        }
       }
      },
      "text/html": [
       "<div>                            <div id=\"dc4a0612-371d-43f9-9951-f4555a191678\" class=\"plotly-graph-div\" style=\"height:525px; width:100%;\"></div>            <script type=\"text/javascript\">                require([\"plotly\"], function(Plotly) {                    window.PLOTLYENV=window.PLOTLYENV || {};\n",
       "                    window.PLOTLYENV.BASE_URL='https://plot.ly';                                    if (document.getElementById(\"dc4a0612-371d-43f9-9951-f4555a191678\")) {                    Plotly.newPlot(                        \"dc4a0612-371d-43f9-9951-f4555a191678\",                        [{\"histfunc\": \"count\", \"histnorm\": \"\", \"marker\": {\"color\": \"rgba(255, 153, 51, 1.0)\", \"line\": {\"color\": \"#4D5663\", \"width\": 1.3}}, \"name\": \"A\", \"nbinsx\": 25, \"opacity\": 0.8, \"orientation\": \"v\", \"type\": \"histogram\", \"x\": [-0.8280260723763271, -2.77297444794199, -0.38121323391729234, 0.7880707860623422, 2.8084929576725313, -0.1374432130485793, 1.4665828322027583, 1.7170018404039853, -0.006694875240469727, -0.35801270109138483, -0.7945315217293085, 1.107530808756093, 1.1790484531176757, 0.36440605216798233, -1.5822209826572298, -1.2750553918693035, -1.2090255857903993, 0.4590850858171039, -0.6285482031372056, 1.0546402699013748, 1.5138351311137501, 0.8734592513564242, 0.21901261206315306, -1.163953212801199, -0.335892690218668, 0.4938820380998607, 0.06783004821863114, 1.542059648394881, 0.49156166686043756, 0.4633288124694026, -0.9489982987198811, 0.47065989470899516, -0.4418890963795218, 0.44347045975400295, 0.8144597660455606, -0.6531579459403273, 0.42815418084727563, -0.3588910458379977, -0.5335759249000853, 0.6314714718116694, -0.8487016591558267, 1.5846252025402214, 0.17310725166180807, 0.27059605517156654, -0.4694392142146777, 0.5838091465034632, -0.3432331323029411, -0.48966126380907626, -2.3796874131530377, 1.3587330456455726, 1.1171967076671219, -0.20850895799541944, -0.3995385709353827, -1.8147865778734724, 0.7161603237047958, -1.269138912896145, -1.6827178168553847, -0.6674891664222559, -0.30249711294977955, 0.6631651824638187, 2.291182619859816, -2.458340895167761, 0.2899567568659667, -0.47300884042820934, 2.09432237150058, 0.582786511773274, -1.1346112433030937, -1.2649618327532324, 0.34316321337446215, -0.19277560479566427, 0.33379569707167217, -1.517505142343097, -0.4055330148343431, 1.3329366341718163, 3.0880651844214007, -1.3533913810566096, 0.3437532931939382, -1.6575292547862113, 0.7154451417562238, -0.12577120476387404, -0.1221947706218079, 0.5829755695712423, -1.5671691676011716, 1.1105896726371092, -0.09369513621117644, 1.0955857442776014, -1.4282369786985993, -0.05097785455827381, -0.5972071263206464, -1.256475896277932, -1.8851731596449193, 0.828590542968046, -0.4062491091331472, 0.0807500132107527, 0.013163707403381393, -0.6217284887018927, -0.24693675551235092, 0.06197700019368634, 0.5634486026666133, 0.6059138751307764]}],                        {\"barmode\": \"overlay\", \"legend\": {\"bgcolor\": \"#F5F6F9\", \"font\": {\"color\": \"#4D5663\"}}, \"paper_bgcolor\": \"#F5F6F9\", \"plot_bgcolor\": \"#F5F6F9\", \"template\": {\"data\": {\"bar\": [{\"error_x\": {\"color\": \"#2a3f5f\"}, \"error_y\": {\"color\": \"#2a3f5f\"}, \"marker\": {\"line\": {\"color\": \"#E5ECF6\", \"width\": 0.5}}, \"type\": \"bar\"}], \"barpolar\": [{\"marker\": {\"line\": {\"color\": \"#E5ECF6\", \"width\": 0.5}}, \"type\": \"barpolar\"}], \"carpet\": [{\"aaxis\": {\"endlinecolor\": \"#2a3f5f\", \"gridcolor\": \"white\", \"linecolor\": \"white\", \"minorgridcolor\": \"white\", \"startlinecolor\": \"#2a3f5f\"}, \"baxis\": {\"endlinecolor\": \"#2a3f5f\", \"gridcolor\": \"white\", \"linecolor\": \"white\", \"minorgridcolor\": \"white\", \"startlinecolor\": \"#2a3f5f\"}, \"type\": \"carpet\"}], \"choropleth\": [{\"colorbar\": {\"outlinewidth\": 0, \"ticks\": \"\"}, \"type\": \"choropleth\"}], \"contour\": [{\"colorbar\": {\"outlinewidth\": 0, \"ticks\": \"\"}, \"colorscale\": [[0.0, \"#0d0887\"], [0.1111111111111111, \"#46039f\"], [0.2222222222222222, \"#7201a8\"], [0.3333333333333333, \"#9c179e\"], [0.4444444444444444, \"#bd3786\"], [0.5555555555555556, \"#d8576b\"], [0.6666666666666666, \"#ed7953\"], [0.7777777777777778, \"#fb9f3a\"], [0.8888888888888888, \"#fdca26\"], [1.0, \"#f0f921\"]], \"type\": \"contour\"}], \"contourcarpet\": [{\"colorbar\": {\"outlinewidth\": 0, \"ticks\": \"\"}, \"type\": \"contourcarpet\"}], \"heatmap\": [{\"colorbar\": {\"outlinewidth\": 0, \"ticks\": \"\"}, \"colorscale\": [[0.0, \"#0d0887\"], [0.1111111111111111, \"#46039f\"], [0.2222222222222222, \"#7201a8\"], [0.3333333333333333, \"#9c179e\"], [0.4444444444444444, \"#bd3786\"], [0.5555555555555556, \"#d8576b\"], [0.6666666666666666, \"#ed7953\"], [0.7777777777777778, \"#fb9f3a\"], [0.8888888888888888, \"#fdca26\"], [1.0, \"#f0f921\"]], \"type\": \"heatmap\"}], \"heatmapgl\": [{\"colorbar\": {\"outlinewidth\": 0, \"ticks\": \"\"}, \"colorscale\": [[0.0, \"#0d0887\"], [0.1111111111111111, \"#46039f\"], [0.2222222222222222, \"#7201a8\"], [0.3333333333333333, \"#9c179e\"], [0.4444444444444444, \"#bd3786\"], [0.5555555555555556, \"#d8576b\"], [0.6666666666666666, \"#ed7953\"], [0.7777777777777778, \"#fb9f3a\"], [0.8888888888888888, \"#fdca26\"], [1.0, \"#f0f921\"]], \"type\": \"heatmapgl\"}], \"histogram\": [{\"marker\": {\"colorbar\": {\"outlinewidth\": 0, \"ticks\": \"\"}}, \"type\": \"histogram\"}], \"histogram2d\": [{\"colorbar\": {\"outlinewidth\": 0, \"ticks\": \"\"}, \"colorscale\": [[0.0, \"#0d0887\"], [0.1111111111111111, \"#46039f\"], [0.2222222222222222, \"#7201a8\"], [0.3333333333333333, \"#9c179e\"], [0.4444444444444444, \"#bd3786\"], [0.5555555555555556, \"#d8576b\"], [0.6666666666666666, \"#ed7953\"], [0.7777777777777778, \"#fb9f3a\"], [0.8888888888888888, \"#fdca26\"], [1.0, \"#f0f921\"]], \"type\": \"histogram2d\"}], \"histogram2dcontour\": [{\"colorbar\": {\"outlinewidth\": 0, \"ticks\": \"\"}, \"colorscale\": [[0.0, \"#0d0887\"], [0.1111111111111111, \"#46039f\"], [0.2222222222222222, \"#7201a8\"], [0.3333333333333333, \"#9c179e\"], [0.4444444444444444, \"#bd3786\"], [0.5555555555555556, \"#d8576b\"], [0.6666666666666666, \"#ed7953\"], [0.7777777777777778, \"#fb9f3a\"], [0.8888888888888888, \"#fdca26\"], [1.0, \"#f0f921\"]], \"type\": \"histogram2dcontour\"}], \"mesh3d\": [{\"colorbar\": {\"outlinewidth\": 0, \"ticks\": \"\"}, \"type\": \"mesh3d\"}], \"parcoords\": [{\"line\": {\"colorbar\": {\"outlinewidth\": 0, \"ticks\": \"\"}}, \"type\": \"parcoords\"}], \"pie\": [{\"automargin\": true, \"type\": \"pie\"}], \"scatter\": [{\"marker\": {\"colorbar\": {\"outlinewidth\": 0, \"ticks\": \"\"}}, \"type\": \"scatter\"}], \"scatter3d\": [{\"line\": {\"colorbar\": {\"outlinewidth\": 0, \"ticks\": \"\"}}, \"marker\": {\"colorbar\": {\"outlinewidth\": 0, \"ticks\": \"\"}}, \"type\": \"scatter3d\"}], \"scattercarpet\": [{\"marker\": {\"colorbar\": {\"outlinewidth\": 0, \"ticks\": \"\"}}, \"type\": \"scattercarpet\"}], \"scattergeo\": [{\"marker\": {\"colorbar\": {\"outlinewidth\": 0, \"ticks\": \"\"}}, \"type\": \"scattergeo\"}], \"scattergl\": [{\"marker\": {\"colorbar\": {\"outlinewidth\": 0, \"ticks\": \"\"}}, \"type\": \"scattergl\"}], \"scattermapbox\": [{\"marker\": {\"colorbar\": {\"outlinewidth\": 0, \"ticks\": \"\"}}, \"type\": \"scattermapbox\"}], \"scatterpolar\": [{\"marker\": {\"colorbar\": {\"outlinewidth\": 0, \"ticks\": \"\"}}, \"type\": \"scatterpolar\"}], \"scatterpolargl\": [{\"marker\": {\"colorbar\": {\"outlinewidth\": 0, \"ticks\": \"\"}}, \"type\": \"scatterpolargl\"}], \"scatterternary\": [{\"marker\": {\"colorbar\": {\"outlinewidth\": 0, \"ticks\": \"\"}}, \"type\": \"scatterternary\"}], \"surface\": [{\"colorbar\": {\"outlinewidth\": 0, \"ticks\": \"\"}, \"colorscale\": [[0.0, \"#0d0887\"], [0.1111111111111111, \"#46039f\"], [0.2222222222222222, \"#7201a8\"], [0.3333333333333333, \"#9c179e\"], [0.4444444444444444, \"#bd3786\"], [0.5555555555555556, \"#d8576b\"], [0.6666666666666666, \"#ed7953\"], [0.7777777777777778, \"#fb9f3a\"], [0.8888888888888888, \"#fdca26\"], [1.0, \"#f0f921\"]], \"type\": \"surface\"}], \"table\": [{\"cells\": {\"fill\": {\"color\": \"#EBF0F8\"}, \"line\": {\"color\": \"white\"}}, \"header\": {\"fill\": {\"color\": \"#C8D4E3\"}, \"line\": {\"color\": \"white\"}}, \"type\": \"table\"}]}, \"layout\": {\"annotationdefaults\": {\"arrowcolor\": \"#2a3f5f\", \"arrowhead\": 0, \"arrowwidth\": 1}, \"autotypenumbers\": \"strict\", \"coloraxis\": {\"colorbar\": {\"outlinewidth\": 0, \"ticks\": \"\"}}, \"colorscale\": {\"diverging\": [[0, \"#8e0152\"], [0.1, \"#c51b7d\"], [0.2, \"#de77ae\"], [0.3, \"#f1b6da\"], [0.4, \"#fde0ef\"], [0.5, \"#f7f7f7\"], [0.6, \"#e6f5d0\"], [0.7, \"#b8e186\"], [0.8, \"#7fbc41\"], [0.9, \"#4d9221\"], [1, \"#276419\"]], \"sequential\": [[0.0, \"#0d0887\"], [0.1111111111111111, \"#46039f\"], [0.2222222222222222, \"#7201a8\"], [0.3333333333333333, \"#9c179e\"], [0.4444444444444444, \"#bd3786\"], [0.5555555555555556, \"#d8576b\"], [0.6666666666666666, \"#ed7953\"], [0.7777777777777778, \"#fb9f3a\"], [0.8888888888888888, \"#fdca26\"], [1.0, \"#f0f921\"]], \"sequentialminus\": [[0.0, \"#0d0887\"], [0.1111111111111111, \"#46039f\"], [0.2222222222222222, \"#7201a8\"], [0.3333333333333333, \"#9c179e\"], [0.4444444444444444, \"#bd3786\"], [0.5555555555555556, \"#d8576b\"], [0.6666666666666666, \"#ed7953\"], [0.7777777777777778, \"#fb9f3a\"], [0.8888888888888888, \"#fdca26\"], [1.0, \"#f0f921\"]]}, \"colorway\": [\"#636efa\", \"#EF553B\", \"#00cc96\", \"#ab63fa\", \"#FFA15A\", \"#19d3f3\", \"#FF6692\", \"#B6E880\", \"#FF97FF\", \"#FECB52\"], \"font\": {\"color\": \"#2a3f5f\"}, \"geo\": {\"bgcolor\": \"white\", \"lakecolor\": \"white\", \"landcolor\": \"#E5ECF6\", \"showlakes\": true, \"showland\": true, \"subunitcolor\": \"white\"}, \"hoverlabel\": {\"align\": \"left\"}, \"hovermode\": \"closest\", \"mapbox\": {\"style\": \"light\"}, \"paper_bgcolor\": \"white\", \"plot_bgcolor\": \"#E5ECF6\", \"polar\": {\"angularaxis\": {\"gridcolor\": \"white\", \"linecolor\": \"white\", \"ticks\": \"\"}, \"bgcolor\": \"#E5ECF6\", \"radialaxis\": {\"gridcolor\": \"white\", \"linecolor\": \"white\", \"ticks\": \"\"}}, \"scene\": {\"xaxis\": {\"backgroundcolor\": \"#E5ECF6\", \"gridcolor\": \"white\", \"gridwidth\": 2, \"linecolor\": \"white\", \"showbackground\": true, \"ticks\": \"\", \"zerolinecolor\": \"white\"}, \"yaxis\": {\"backgroundcolor\": \"#E5ECF6\", \"gridcolor\": \"white\", \"gridwidth\": 2, \"linecolor\": \"white\", \"showbackground\": true, \"ticks\": \"\", \"zerolinecolor\": \"white\"}, \"zaxis\": {\"backgroundcolor\": \"#E5ECF6\", \"gridcolor\": \"white\", \"gridwidth\": 2, \"linecolor\": \"white\", \"showbackground\": true, \"ticks\": \"\", \"zerolinecolor\": \"white\"}}, \"shapedefaults\": {\"line\": {\"color\": \"#2a3f5f\"}}, \"ternary\": {\"aaxis\": {\"gridcolor\": \"white\", \"linecolor\": \"white\", \"ticks\": \"\"}, \"baxis\": {\"gridcolor\": \"white\", \"linecolor\": \"white\", \"ticks\": \"\"}, \"bgcolor\": \"#E5ECF6\", \"caxis\": {\"gridcolor\": \"white\", \"linecolor\": \"white\", \"ticks\": \"\"}}, \"title\": {\"x\": 0.05}, \"xaxis\": {\"automargin\": true, \"gridcolor\": \"white\", \"linecolor\": \"white\", \"ticks\": \"\", \"title\": {\"standoff\": 15}, \"zerolinecolor\": \"white\", \"zerolinewidth\": 2}, \"yaxis\": {\"automargin\": true, \"gridcolor\": \"white\", \"linecolor\": \"white\", \"ticks\": \"\", \"title\": {\"standoff\": 15}, \"zerolinecolor\": \"white\", \"zerolinewidth\": 2}}}, \"title\": {\"font\": {\"color\": \"#4D5663\"}}, \"xaxis\": {\"gridcolor\": \"#E1E5ED\", \"showgrid\": true, \"tickfont\": {\"color\": \"#4D5663\"}, \"title\": {\"font\": {\"color\": \"#4D5663\"}, \"text\": \"\"}, \"zerolinecolor\": \"#E1E5ED\"}, \"yaxis\": {\"gridcolor\": \"#E1E5ED\", \"showgrid\": true, \"tickfont\": {\"color\": \"#4D5663\"}, \"title\": {\"font\": {\"color\": \"#4D5663\"}, \"text\": \"\"}, \"zerolinecolor\": \"#E1E5ED\"}},                        {\"showLink\": true, \"linkText\": \"Export to plot.ly\", \"plotlyServerURL\": \"https://plot.ly\", \"responsive\": true}                    ).then(function(){\n",
       "                            \n",
       "var gd = document.getElementById('dc4a0612-371d-43f9-9951-f4555a191678');\n",
       "var x = new MutationObserver(function (mutations, observer) {{\n",
       "        var display = window.getComputedStyle(gd).display;\n",
       "        if (!display || display === 'none') {{\n",
       "            console.log([gd, 'removed!']);\n",
       "            Plotly.purge(gd);\n",
       "            observer.disconnect();\n",
       "        }}\n",
       "}});\n",
       "\n",
       "// Listen for the removal of the full notebook cells\n",
       "var notebookContainer = gd.closest('#notebook-container');\n",
       "if (notebookContainer) {{\n",
       "    x.observe(notebookContainer, {childList: true});\n",
       "}}\n",
       "\n",
       "// Listen for the clearing of the current output cell\n",
       "var outputEl = gd.closest('.output');\n",
       "if (outputEl) {{\n",
       "    x.observe(outputEl, {childList: true});\n",
       "}}\n",
       "\n",
       "                        })                };                });            </script>        </div>"
      ]
     },
     "metadata": {},
     "output_type": "display_data"
    }
   ],
   "source": [
    "df['A'].iplot(kind='hist',bins=25)"
   ]
  },
  {
   "cell_type": "code",
   "execution_count": 19,
   "metadata": {},
   "outputs": [
    {
     "data": {
      "application/vnd.plotly.v1+json": {
       "config": {
        "linkText": "Export to plot.ly",
        "plotlyServerURL": "https://plot.ly",
        "showLink": true
       },
       "data": [
        {
         "marker": {
          "color": [
           "rgb(255, 153, 51)",
           "rgb(55, 128, 191)",
           "rgb(50, 171, 96)",
           "rgb(128, 0, 128)",
           "rgb(219, 64, 82)",
           "rgb(0, 128, 128)",
           "rgb(255, 255, 51)",
           "rgb(128, 128, 0)",
           "rgb(251, 128, 114)",
           "rgb(128, 177, 211)"
          ],
          "line": {
           "width": 1.3
          },
          "size": [
           102,
           42,
           93,
           57,
           36,
           20,
           75,
           75,
           77,
           68,
           20,
           64,
           36,
           108,
           62,
           51,
           84,
           46,
           46,
           76,
           26,
           83,
           30,
           49,
           49,
           62,
           48,
           83,
           40,
           107,
           95,
           100,
           68,
           37,
           61,
           42,
           62,
           59,
           86,
           101,
           66,
           12,
           58,
           46,
           57,
           75,
           53,
           56,
           43,
           64,
           37,
           84,
           65,
           44,
           93,
           92,
           86,
           65,
           93,
           74,
           93,
           65,
           37,
           64,
           72,
           71,
           61,
           83,
           58,
           43,
           67,
           112,
           49,
           41,
           57,
           30,
           71,
           72,
           96,
           44,
           27,
           93,
           52,
           63,
           79,
           78,
           79,
           65,
           69,
           45,
           78,
           73,
           50,
           52,
           72,
           44,
           57,
           43,
           65,
           84
          ],
          "symbol": "circle"
         },
         "mode": "markers",
         "text": "",
         "type": "scatter",
         "x": [
          -0.8280260723763271,
          -2.77297444794199,
          -0.38121323391729234,
          0.7880707860623422,
          2.8084929576725313,
          -0.1374432130485793,
          1.4665828322027583,
          1.7170018404039853,
          -0.006694875240469727,
          -0.35801270109138483,
          -0.7945315217293085,
          1.107530808756093,
          1.1790484531176757,
          0.36440605216798233,
          -1.5822209826572298,
          -1.2750553918693035,
          -1.2090255857903993,
          0.4590850858171039,
          -0.6285482031372056,
          1.0546402699013748,
          1.5138351311137501,
          0.8734592513564242,
          0.21901261206315306,
          -1.163953212801199,
          -0.335892690218668,
          0.4938820380998607,
          0.06783004821863114,
          1.542059648394881,
          0.49156166686043756,
          0.4633288124694026,
          -0.9489982987198811,
          0.47065989470899516,
          -0.4418890963795218,
          0.44347045975400295,
          0.8144597660455606,
          -0.6531579459403273,
          0.42815418084727563,
          -0.3588910458379977,
          -0.5335759249000853,
          0.6314714718116694,
          -0.8487016591558267,
          1.5846252025402214,
          0.17310725166180807,
          0.27059605517156654,
          -0.4694392142146777,
          0.5838091465034632,
          -0.3432331323029411,
          -0.48966126380907626,
          -2.3796874131530377,
          1.3587330456455726,
          1.1171967076671219,
          -0.20850895799541944,
          -0.3995385709353827,
          -1.8147865778734724,
          0.7161603237047958,
          -1.269138912896145,
          -1.6827178168553847,
          -0.6674891664222559,
          -0.30249711294977955,
          0.6631651824638187,
          2.291182619859816,
          -2.458340895167761,
          0.2899567568659667,
          -0.47300884042820934,
          2.09432237150058,
          0.582786511773274,
          -1.1346112433030937,
          -1.2649618327532324,
          0.34316321337446215,
          -0.19277560479566427,
          0.33379569707167217,
          -1.517505142343097,
          -0.4055330148343431,
          1.3329366341718163,
          3.0880651844214007,
          -1.3533913810566096,
          0.3437532931939382,
          -1.6575292547862113,
          0.7154451417562238,
          -0.12577120476387404,
          -0.1221947706218079,
          0.5829755695712423,
          -1.5671691676011716,
          1.1105896726371092,
          -0.09369513621117644,
          1.0955857442776014,
          -1.4282369786985993,
          -0.05097785455827381,
          -0.5972071263206464,
          -1.256475896277932,
          -1.8851731596449193,
          0.828590542968046,
          -0.4062491091331472,
          0.0807500132107527,
          0.013163707403381393,
          -0.6217284887018927,
          -0.24693675551235092,
          0.06197700019368634,
          0.5634486026666133,
          0.6059138751307764
         ],
         "y": [
          0.7488859249957294,
          -2.063476523426313,
          0.15896478732317448,
          0.9824428266957366,
          0.5177956680669261,
          1.2795287511749251,
          1.3168697401336789,
          -2.5769642163271804,
          -0.5223469831142037,
          1.8181176703709536,
          -0.472385080891169,
          0.5902248057458955,
          0.06501344080504949,
          -0.47080216571861333,
          0.18228275869868904,
          0.23126754721306877,
          0.6149010050060569,
          0.7222076794396597,
          -0.47556970422863515,
          0.460047800114019,
          0.20905587617029056,
          0.7386997197730129,
          0.2963947509662543,
          1.3324755157131947,
          1.0847241543052293,
          0.7238084792303607,
          0.031773286629343866,
          -0.85317652648317,
          -0.3103145393346325,
          -0.03628269694808576,
          -0.3086240085353415,
          -0.8791329349989142,
          -1.4582997557298272,
          1.0563940955502773,
          0.7624476857491007,
          -0.637472747395494,
          0.08463847795218485,
          -1.1360972676061123,
          0.3278612242444931,
          0.6074498411024112,
          -1.9401239947752962,
          -0.6993479106510858,
          1.3059278691514857,
          -0.19424188683695787,
          -1.2604848908802941,
          0.952687783783637,
          -1.546031553055093,
          -0.6993206460498765,
          0.20344776954368982,
          -0.7243873284737312,
          -0.9800294868969891,
          -0.514665260515114,
          1.0336926944205553,
          -0.9088425929534667,
          -1.2397144953831822,
          0.9812633628328463,
          2.7523411232946318,
          -0.7275897094517473,
          0.6909293763885511,
          0.679755401619041,
          -0.3870724045077387,
          0.8660805606258668,
          -1.3245161399204266,
          1.1927202884162393,
          0.08939780005427155,
          -2.806889952909305,
          0.8929360431986725,
          -0.12770744108226054,
          0.21199734276229967,
          1.1372829909715767,
          0.09620678459480445,
          -0.3018606425639405,
          0.9102322118714832,
          -2.309881595960726,
          -1.6100568373409712,
          0.6090688747514684,
          -0.6838011355845027,
          -0.2748716990341536,
          -0.4223440623301072,
          -0.8873989045199661,
          -0.0009738308528003652,
          0.10028669510880826,
          -0.048778800761219,
          1.3184511662605012,
          -2.195277463199274,
          0.34417282099715746,
          0.2628105585137296,
          1.4326207032621394,
          0.2935366035552767,
          0.39908458968185134,
          -1.4759639597995606,
          -0.560377497609232,
          -1.762548372904548,
          1.3007570365012764,
          0.1805535576155475,
          0.4187410435886277,
          -0.008350929356977793,
          -1.4548926844956653,
          -1.074772822423682,
          0.5854026103720574
         ]
        }
       ],
       "layout": {
        "legend": {
         "bgcolor": "#F5F6F9",
         "font": {
          "color": "#4D5663"
         }
        },
        "paper_bgcolor": "#F5F6F9",
        "plot_bgcolor": "#F5F6F9",
        "template": {
         "data": {
          "bar": [
           {
            "error_x": {
             "color": "#2a3f5f"
            },
            "error_y": {
             "color": "#2a3f5f"
            },
            "marker": {
             "line": {
              "color": "#E5ECF6",
              "width": 0.5
             }
            },
            "type": "bar"
           }
          ],
          "barpolar": [
           {
            "marker": {
             "line": {
              "color": "#E5ECF6",
              "width": 0.5
             }
            },
            "type": "barpolar"
           }
          ],
          "carpet": [
           {
            "aaxis": {
             "endlinecolor": "#2a3f5f",
             "gridcolor": "white",
             "linecolor": "white",
             "minorgridcolor": "white",
             "startlinecolor": "#2a3f5f"
            },
            "baxis": {
             "endlinecolor": "#2a3f5f",
             "gridcolor": "white",
             "linecolor": "white",
             "minorgridcolor": "white",
             "startlinecolor": "#2a3f5f"
            },
            "type": "carpet"
           }
          ],
          "choropleth": [
           {
            "colorbar": {
             "outlinewidth": 0,
             "ticks": ""
            },
            "type": "choropleth"
           }
          ],
          "contour": [
           {
            "colorbar": {
             "outlinewidth": 0,
             "ticks": ""
            },
            "colorscale": [
             [
              0,
              "#0d0887"
             ],
             [
              0.1111111111111111,
              "#46039f"
             ],
             [
              0.2222222222222222,
              "#7201a8"
             ],
             [
              0.3333333333333333,
              "#9c179e"
             ],
             [
              0.4444444444444444,
              "#bd3786"
             ],
             [
              0.5555555555555556,
              "#d8576b"
             ],
             [
              0.6666666666666666,
              "#ed7953"
             ],
             [
              0.7777777777777778,
              "#fb9f3a"
             ],
             [
              0.8888888888888888,
              "#fdca26"
             ],
             [
              1,
              "#f0f921"
             ]
            ],
            "type": "contour"
           }
          ],
          "contourcarpet": [
           {
            "colorbar": {
             "outlinewidth": 0,
             "ticks": ""
            },
            "type": "contourcarpet"
           }
          ],
          "heatmap": [
           {
            "colorbar": {
             "outlinewidth": 0,
             "ticks": ""
            },
            "colorscale": [
             [
              0,
              "#0d0887"
             ],
             [
              0.1111111111111111,
              "#46039f"
             ],
             [
              0.2222222222222222,
              "#7201a8"
             ],
             [
              0.3333333333333333,
              "#9c179e"
             ],
             [
              0.4444444444444444,
              "#bd3786"
             ],
             [
              0.5555555555555556,
              "#d8576b"
             ],
             [
              0.6666666666666666,
              "#ed7953"
             ],
             [
              0.7777777777777778,
              "#fb9f3a"
             ],
             [
              0.8888888888888888,
              "#fdca26"
             ],
             [
              1,
              "#f0f921"
             ]
            ],
            "type": "heatmap"
           }
          ],
          "heatmapgl": [
           {
            "colorbar": {
             "outlinewidth": 0,
             "ticks": ""
            },
            "colorscale": [
             [
              0,
              "#0d0887"
             ],
             [
              0.1111111111111111,
              "#46039f"
             ],
             [
              0.2222222222222222,
              "#7201a8"
             ],
             [
              0.3333333333333333,
              "#9c179e"
             ],
             [
              0.4444444444444444,
              "#bd3786"
             ],
             [
              0.5555555555555556,
              "#d8576b"
             ],
             [
              0.6666666666666666,
              "#ed7953"
             ],
             [
              0.7777777777777778,
              "#fb9f3a"
             ],
             [
              0.8888888888888888,
              "#fdca26"
             ],
             [
              1,
              "#f0f921"
             ]
            ],
            "type": "heatmapgl"
           }
          ],
          "histogram": [
           {
            "marker": {
             "colorbar": {
              "outlinewidth": 0,
              "ticks": ""
             }
            },
            "type": "histogram"
           }
          ],
          "histogram2d": [
           {
            "colorbar": {
             "outlinewidth": 0,
             "ticks": ""
            },
            "colorscale": [
             [
              0,
              "#0d0887"
             ],
             [
              0.1111111111111111,
              "#46039f"
             ],
             [
              0.2222222222222222,
              "#7201a8"
             ],
             [
              0.3333333333333333,
              "#9c179e"
             ],
             [
              0.4444444444444444,
              "#bd3786"
             ],
             [
              0.5555555555555556,
              "#d8576b"
             ],
             [
              0.6666666666666666,
              "#ed7953"
             ],
             [
              0.7777777777777778,
              "#fb9f3a"
             ],
             [
              0.8888888888888888,
              "#fdca26"
             ],
             [
              1,
              "#f0f921"
             ]
            ],
            "type": "histogram2d"
           }
          ],
          "histogram2dcontour": [
           {
            "colorbar": {
             "outlinewidth": 0,
             "ticks": ""
            },
            "colorscale": [
             [
              0,
              "#0d0887"
             ],
             [
              0.1111111111111111,
              "#46039f"
             ],
             [
              0.2222222222222222,
              "#7201a8"
             ],
             [
              0.3333333333333333,
              "#9c179e"
             ],
             [
              0.4444444444444444,
              "#bd3786"
             ],
             [
              0.5555555555555556,
              "#d8576b"
             ],
             [
              0.6666666666666666,
              "#ed7953"
             ],
             [
              0.7777777777777778,
              "#fb9f3a"
             ],
             [
              0.8888888888888888,
              "#fdca26"
             ],
             [
              1,
              "#f0f921"
             ]
            ],
            "type": "histogram2dcontour"
           }
          ],
          "mesh3d": [
           {
            "colorbar": {
             "outlinewidth": 0,
             "ticks": ""
            },
            "type": "mesh3d"
           }
          ],
          "parcoords": [
           {
            "line": {
             "colorbar": {
              "outlinewidth": 0,
              "ticks": ""
             }
            },
            "type": "parcoords"
           }
          ],
          "pie": [
           {
            "automargin": true,
            "type": "pie"
           }
          ],
          "scatter": [
           {
            "marker": {
             "colorbar": {
              "outlinewidth": 0,
              "ticks": ""
             }
            },
            "type": "scatter"
           }
          ],
          "scatter3d": [
           {
            "line": {
             "colorbar": {
              "outlinewidth": 0,
              "ticks": ""
             }
            },
            "marker": {
             "colorbar": {
              "outlinewidth": 0,
              "ticks": ""
             }
            },
            "type": "scatter3d"
           }
          ],
          "scattercarpet": [
           {
            "marker": {
             "colorbar": {
              "outlinewidth": 0,
              "ticks": ""
             }
            },
            "type": "scattercarpet"
           }
          ],
          "scattergeo": [
           {
            "marker": {
             "colorbar": {
              "outlinewidth": 0,
              "ticks": ""
             }
            },
            "type": "scattergeo"
           }
          ],
          "scattergl": [
           {
            "marker": {
             "colorbar": {
              "outlinewidth": 0,
              "ticks": ""
             }
            },
            "type": "scattergl"
           }
          ],
          "scattermapbox": [
           {
            "marker": {
             "colorbar": {
              "outlinewidth": 0,
              "ticks": ""
             }
            },
            "type": "scattermapbox"
           }
          ],
          "scatterpolar": [
           {
            "marker": {
             "colorbar": {
              "outlinewidth": 0,
              "ticks": ""
             }
            },
            "type": "scatterpolar"
           }
          ],
          "scatterpolargl": [
           {
            "marker": {
             "colorbar": {
              "outlinewidth": 0,
              "ticks": ""
             }
            },
            "type": "scatterpolargl"
           }
          ],
          "scatterternary": [
           {
            "marker": {
             "colorbar": {
              "outlinewidth": 0,
              "ticks": ""
             }
            },
            "type": "scatterternary"
           }
          ],
          "surface": [
           {
            "colorbar": {
             "outlinewidth": 0,
             "ticks": ""
            },
            "colorscale": [
             [
              0,
              "#0d0887"
             ],
             [
              0.1111111111111111,
              "#46039f"
             ],
             [
              0.2222222222222222,
              "#7201a8"
             ],
             [
              0.3333333333333333,
              "#9c179e"
             ],
             [
              0.4444444444444444,
              "#bd3786"
             ],
             [
              0.5555555555555556,
              "#d8576b"
             ],
             [
              0.6666666666666666,
              "#ed7953"
             ],
             [
              0.7777777777777778,
              "#fb9f3a"
             ],
             [
              0.8888888888888888,
              "#fdca26"
             ],
             [
              1,
              "#f0f921"
             ]
            ],
            "type": "surface"
           }
          ],
          "table": [
           {
            "cells": {
             "fill": {
              "color": "#EBF0F8"
             },
             "line": {
              "color": "white"
             }
            },
            "header": {
             "fill": {
              "color": "#C8D4E3"
             },
             "line": {
              "color": "white"
             }
            },
            "type": "table"
           }
          ]
         },
         "layout": {
          "annotationdefaults": {
           "arrowcolor": "#2a3f5f",
           "arrowhead": 0,
           "arrowwidth": 1
          },
          "autotypenumbers": "strict",
          "coloraxis": {
           "colorbar": {
            "outlinewidth": 0,
            "ticks": ""
           }
          },
          "colorscale": {
           "diverging": [
            [
             0,
             "#8e0152"
            ],
            [
             0.1,
             "#c51b7d"
            ],
            [
             0.2,
             "#de77ae"
            ],
            [
             0.3,
             "#f1b6da"
            ],
            [
             0.4,
             "#fde0ef"
            ],
            [
             0.5,
             "#f7f7f7"
            ],
            [
             0.6,
             "#e6f5d0"
            ],
            [
             0.7,
             "#b8e186"
            ],
            [
             0.8,
             "#7fbc41"
            ],
            [
             0.9,
             "#4d9221"
            ],
            [
             1,
             "#276419"
            ]
           ],
           "sequential": [
            [
             0,
             "#0d0887"
            ],
            [
             0.1111111111111111,
             "#46039f"
            ],
            [
             0.2222222222222222,
             "#7201a8"
            ],
            [
             0.3333333333333333,
             "#9c179e"
            ],
            [
             0.4444444444444444,
             "#bd3786"
            ],
            [
             0.5555555555555556,
             "#d8576b"
            ],
            [
             0.6666666666666666,
             "#ed7953"
            ],
            [
             0.7777777777777778,
             "#fb9f3a"
            ],
            [
             0.8888888888888888,
             "#fdca26"
            ],
            [
             1,
             "#f0f921"
            ]
           ],
           "sequentialminus": [
            [
             0,
             "#0d0887"
            ],
            [
             0.1111111111111111,
             "#46039f"
            ],
            [
             0.2222222222222222,
             "#7201a8"
            ],
            [
             0.3333333333333333,
             "#9c179e"
            ],
            [
             0.4444444444444444,
             "#bd3786"
            ],
            [
             0.5555555555555556,
             "#d8576b"
            ],
            [
             0.6666666666666666,
             "#ed7953"
            ],
            [
             0.7777777777777778,
             "#fb9f3a"
            ],
            [
             0.8888888888888888,
             "#fdca26"
            ],
            [
             1,
             "#f0f921"
            ]
           ]
          },
          "colorway": [
           "#636efa",
           "#EF553B",
           "#00cc96",
           "#ab63fa",
           "#FFA15A",
           "#19d3f3",
           "#FF6692",
           "#B6E880",
           "#FF97FF",
           "#FECB52"
          ],
          "font": {
           "color": "#2a3f5f"
          },
          "geo": {
           "bgcolor": "white",
           "lakecolor": "white",
           "landcolor": "#E5ECF6",
           "showlakes": true,
           "showland": true,
           "subunitcolor": "white"
          },
          "hoverlabel": {
           "align": "left"
          },
          "hovermode": "closest",
          "mapbox": {
           "style": "light"
          },
          "paper_bgcolor": "white",
          "plot_bgcolor": "#E5ECF6",
          "polar": {
           "angularaxis": {
            "gridcolor": "white",
            "linecolor": "white",
            "ticks": ""
           },
           "bgcolor": "#E5ECF6",
           "radialaxis": {
            "gridcolor": "white",
            "linecolor": "white",
            "ticks": ""
           }
          },
          "scene": {
           "xaxis": {
            "backgroundcolor": "#E5ECF6",
            "gridcolor": "white",
            "gridwidth": 2,
            "linecolor": "white",
            "showbackground": true,
            "ticks": "",
            "zerolinecolor": "white"
           },
           "yaxis": {
            "backgroundcolor": "#E5ECF6",
            "gridcolor": "white",
            "gridwidth": 2,
            "linecolor": "white",
            "showbackground": true,
            "ticks": "",
            "zerolinecolor": "white"
           },
           "zaxis": {
            "backgroundcolor": "#E5ECF6",
            "gridcolor": "white",
            "gridwidth": 2,
            "linecolor": "white",
            "showbackground": true,
            "ticks": "",
            "zerolinecolor": "white"
           }
          },
          "shapedefaults": {
           "line": {
            "color": "#2a3f5f"
           }
          },
          "ternary": {
           "aaxis": {
            "gridcolor": "white",
            "linecolor": "white",
            "ticks": ""
           },
           "baxis": {
            "gridcolor": "white",
            "linecolor": "white",
            "ticks": ""
           },
           "bgcolor": "#E5ECF6",
           "caxis": {
            "gridcolor": "white",
            "linecolor": "white",
            "ticks": ""
           }
          },
          "title": {
           "x": 0.05
          },
          "xaxis": {
           "automargin": true,
           "gridcolor": "white",
           "linecolor": "white",
           "ticks": "",
           "title": {
            "standoff": 15
           },
           "zerolinecolor": "white",
           "zerolinewidth": 2
          },
          "yaxis": {
           "automargin": true,
           "gridcolor": "white",
           "linecolor": "white",
           "ticks": "",
           "title": {
            "standoff": 15
           },
           "zerolinecolor": "white",
           "zerolinewidth": 2
          }
         }
        },
        "title": {
         "font": {
          "color": "#4D5663"
         }
        },
        "xaxis": {
         "gridcolor": "#E1E5ED",
         "showgrid": true,
         "tickfont": {
          "color": "#4D5663"
         },
         "title": {
          "font": {
           "color": "#4D5663"
          },
          "text": ""
         },
         "zerolinecolor": "#E1E5ED"
        },
        "yaxis": {
         "gridcolor": "#E1E5ED",
         "showgrid": true,
         "tickfont": {
          "color": "#4D5663"
         },
         "title": {
          "font": {
           "color": "#4D5663"
          },
          "text": ""
         },
         "zerolinecolor": "#E1E5ED"
        }
       }
      },
      "text/html": [
       "<div>                            <div id=\"43b8cc94-0b42-4788-8c6f-3d2c62f065db\" class=\"plotly-graph-div\" style=\"height:525px; width:100%;\"></div>            <script type=\"text/javascript\">                require([\"plotly\"], function(Plotly) {                    window.PLOTLYENV=window.PLOTLYENV || {};\n",
       "                    window.PLOTLYENV.BASE_URL='https://plot.ly';                                    if (document.getElementById(\"43b8cc94-0b42-4788-8c6f-3d2c62f065db\")) {                    Plotly.newPlot(                        \"43b8cc94-0b42-4788-8c6f-3d2c62f065db\",                        [{\"marker\": {\"color\": [\"rgb(255, 153, 51)\", \"rgb(55, 128, 191)\", \"rgb(50, 171, 96)\", \"rgb(128, 0, 128)\", \"rgb(219, 64, 82)\", \"rgb(0, 128, 128)\", \"rgb(255, 255, 51)\", \"rgb(128, 128, 0)\", \"rgb(251, 128, 114)\", \"rgb(128, 177, 211)\"], \"line\": {\"width\": 1.3}, \"size\": [102, 42, 93, 57, 36, 20, 75, 75, 77, 68, 20, 64, 36, 108, 62, 51, 84, 46, 46, 76, 26, 83, 30, 49, 49, 62, 48, 83, 40, 107, 95, 100, 68, 37, 61, 42, 62, 59, 86, 101, 66, 12, 58, 46, 57, 75, 53, 56, 43, 64, 37, 84, 65, 44, 93, 92, 86, 65, 93, 74, 93, 65, 37, 64, 72, 71, 61, 83, 58, 43, 67, 112, 49, 41, 57, 30, 71, 72, 96, 44, 27, 93, 52, 63, 79, 78, 79, 65, 69, 45, 78, 73, 50, 52, 72, 44, 57, 43, 65, 84], \"symbol\": \"circle\"}, \"mode\": \"markers\", \"text\": \"\", \"type\": \"scatter\", \"x\": [-0.8280260723763271, -2.77297444794199, -0.38121323391729234, 0.7880707860623422, 2.8084929576725313, -0.1374432130485793, 1.4665828322027583, 1.7170018404039853, -0.006694875240469727, -0.35801270109138483, -0.7945315217293085, 1.107530808756093, 1.1790484531176757, 0.36440605216798233, -1.5822209826572298, -1.2750553918693035, -1.2090255857903993, 0.4590850858171039, -0.6285482031372056, 1.0546402699013748, 1.5138351311137501, 0.8734592513564242, 0.21901261206315306, -1.163953212801199, -0.335892690218668, 0.4938820380998607, 0.06783004821863114, 1.542059648394881, 0.49156166686043756, 0.4633288124694026, -0.9489982987198811, 0.47065989470899516, -0.4418890963795218, 0.44347045975400295, 0.8144597660455606, -0.6531579459403273, 0.42815418084727563, -0.3588910458379977, -0.5335759249000853, 0.6314714718116694, -0.8487016591558267, 1.5846252025402214, 0.17310725166180807, 0.27059605517156654, -0.4694392142146777, 0.5838091465034632, -0.3432331323029411, -0.48966126380907626, -2.3796874131530377, 1.3587330456455726, 1.1171967076671219, -0.20850895799541944, -0.3995385709353827, -1.8147865778734724, 0.7161603237047958, -1.269138912896145, -1.6827178168553847, -0.6674891664222559, -0.30249711294977955, 0.6631651824638187, 2.291182619859816, -2.458340895167761, 0.2899567568659667, -0.47300884042820934, 2.09432237150058, 0.582786511773274, -1.1346112433030937, -1.2649618327532324, 0.34316321337446215, -0.19277560479566427, 0.33379569707167217, -1.517505142343097, -0.4055330148343431, 1.3329366341718163, 3.0880651844214007, -1.3533913810566096, 0.3437532931939382, -1.6575292547862113, 0.7154451417562238, -0.12577120476387404, -0.1221947706218079, 0.5829755695712423, -1.5671691676011716, 1.1105896726371092, -0.09369513621117644, 1.0955857442776014, -1.4282369786985993, -0.05097785455827381, -0.5972071263206464, -1.256475896277932, -1.8851731596449193, 0.828590542968046, -0.4062491091331472, 0.0807500132107527, 0.013163707403381393, -0.6217284887018927, -0.24693675551235092, 0.06197700019368634, 0.5634486026666133, 0.6059138751307764], \"y\": [0.7488859249957294, -2.063476523426313, 0.15896478732317448, 0.9824428266957366, 0.5177956680669261, 1.2795287511749251, 1.3168697401336789, -2.5769642163271804, -0.5223469831142037, 1.8181176703709536, -0.472385080891169, 0.5902248057458955, 0.06501344080504949, -0.47080216571861333, 0.18228275869868904, 0.23126754721306877, 0.6149010050060569, 0.7222076794396597, -0.47556970422863515, 0.460047800114019, 0.20905587617029056, 0.7386997197730129, 0.2963947509662543, 1.3324755157131947, 1.0847241543052293, 0.7238084792303607, 0.031773286629343866, -0.85317652648317, -0.3103145393346325, -0.03628269694808576, -0.3086240085353415, -0.8791329349989142, -1.4582997557298272, 1.0563940955502773, 0.7624476857491007, -0.637472747395494, 0.08463847795218485, -1.1360972676061123, 0.3278612242444931, 0.6074498411024112, -1.9401239947752962, -0.6993479106510858, 1.3059278691514857, -0.19424188683695787, -1.2604848908802941, 0.952687783783637, -1.546031553055093, -0.6993206460498765, 0.20344776954368982, -0.7243873284737312, -0.9800294868969891, -0.514665260515114, 1.0336926944205553, -0.9088425929534667, -1.2397144953831822, 0.9812633628328463, 2.7523411232946318, -0.7275897094517473, 0.6909293763885511, 0.679755401619041, -0.3870724045077387, 0.8660805606258668, -1.3245161399204266, 1.1927202884162393, 0.08939780005427155, -2.806889952909305, 0.8929360431986725, -0.12770744108226054, 0.21199734276229967, 1.1372829909715767, 0.09620678459480445, -0.3018606425639405, 0.9102322118714832, -2.309881595960726, -1.6100568373409712, 0.6090688747514684, -0.6838011355845027, -0.2748716990341536, -0.4223440623301072, -0.8873989045199661, -0.0009738308528003652, 0.10028669510880826, -0.048778800761219, 1.3184511662605012, -2.195277463199274, 0.34417282099715746, 0.2628105585137296, 1.4326207032621394, 0.2935366035552767, 0.39908458968185134, -1.4759639597995606, -0.560377497609232, -1.762548372904548, 1.3007570365012764, 0.1805535576155475, 0.4187410435886277, -0.008350929356977793, -1.4548926844956653, -1.074772822423682, 0.5854026103720574]}],                        {\"legend\": {\"bgcolor\": \"#F5F6F9\", \"font\": {\"color\": \"#4D5663\"}}, \"paper_bgcolor\": \"#F5F6F9\", \"plot_bgcolor\": \"#F5F6F9\", \"template\": {\"data\": {\"bar\": [{\"error_x\": {\"color\": \"#2a3f5f\"}, \"error_y\": {\"color\": \"#2a3f5f\"}, \"marker\": {\"line\": {\"color\": \"#E5ECF6\", \"width\": 0.5}}, \"type\": \"bar\"}], \"barpolar\": [{\"marker\": {\"line\": {\"color\": \"#E5ECF6\", \"width\": 0.5}}, \"type\": \"barpolar\"}], \"carpet\": [{\"aaxis\": {\"endlinecolor\": \"#2a3f5f\", \"gridcolor\": \"white\", \"linecolor\": \"white\", \"minorgridcolor\": \"white\", \"startlinecolor\": \"#2a3f5f\"}, \"baxis\": {\"endlinecolor\": \"#2a3f5f\", \"gridcolor\": \"white\", \"linecolor\": \"white\", \"minorgridcolor\": \"white\", \"startlinecolor\": \"#2a3f5f\"}, \"type\": \"carpet\"}], \"choropleth\": [{\"colorbar\": {\"outlinewidth\": 0, \"ticks\": \"\"}, \"type\": \"choropleth\"}], \"contour\": [{\"colorbar\": {\"outlinewidth\": 0, \"ticks\": \"\"}, \"colorscale\": [[0.0, \"#0d0887\"], [0.1111111111111111, \"#46039f\"], [0.2222222222222222, \"#7201a8\"], [0.3333333333333333, \"#9c179e\"], [0.4444444444444444, \"#bd3786\"], [0.5555555555555556, \"#d8576b\"], [0.6666666666666666, \"#ed7953\"], [0.7777777777777778, \"#fb9f3a\"], [0.8888888888888888, \"#fdca26\"], [1.0, \"#f0f921\"]], \"type\": \"contour\"}], \"contourcarpet\": [{\"colorbar\": {\"outlinewidth\": 0, \"ticks\": \"\"}, \"type\": \"contourcarpet\"}], \"heatmap\": [{\"colorbar\": {\"outlinewidth\": 0, \"ticks\": \"\"}, \"colorscale\": [[0.0, \"#0d0887\"], [0.1111111111111111, \"#46039f\"], [0.2222222222222222, \"#7201a8\"], [0.3333333333333333, \"#9c179e\"], [0.4444444444444444, \"#bd3786\"], [0.5555555555555556, \"#d8576b\"], [0.6666666666666666, \"#ed7953\"], [0.7777777777777778, \"#fb9f3a\"], [0.8888888888888888, \"#fdca26\"], [1.0, \"#f0f921\"]], \"type\": \"heatmap\"}], \"heatmapgl\": [{\"colorbar\": {\"outlinewidth\": 0, \"ticks\": \"\"}, \"colorscale\": [[0.0, \"#0d0887\"], [0.1111111111111111, \"#46039f\"], [0.2222222222222222, \"#7201a8\"], [0.3333333333333333, \"#9c179e\"], [0.4444444444444444, \"#bd3786\"], [0.5555555555555556, \"#d8576b\"], [0.6666666666666666, \"#ed7953\"], [0.7777777777777778, \"#fb9f3a\"], [0.8888888888888888, \"#fdca26\"], [1.0, \"#f0f921\"]], \"type\": \"heatmapgl\"}], \"histogram\": [{\"marker\": {\"colorbar\": {\"outlinewidth\": 0, \"ticks\": \"\"}}, \"type\": \"histogram\"}], \"histogram2d\": [{\"colorbar\": {\"outlinewidth\": 0, \"ticks\": \"\"}, \"colorscale\": [[0.0, \"#0d0887\"], [0.1111111111111111, \"#46039f\"], [0.2222222222222222, \"#7201a8\"], [0.3333333333333333, \"#9c179e\"], [0.4444444444444444, \"#bd3786\"], [0.5555555555555556, \"#d8576b\"], [0.6666666666666666, \"#ed7953\"], [0.7777777777777778, \"#fb9f3a\"], [0.8888888888888888, \"#fdca26\"], [1.0, \"#f0f921\"]], \"type\": \"histogram2d\"}], \"histogram2dcontour\": [{\"colorbar\": {\"outlinewidth\": 0, \"ticks\": \"\"}, \"colorscale\": [[0.0, \"#0d0887\"], [0.1111111111111111, \"#46039f\"], [0.2222222222222222, \"#7201a8\"], [0.3333333333333333, \"#9c179e\"], [0.4444444444444444, \"#bd3786\"], [0.5555555555555556, \"#d8576b\"], [0.6666666666666666, \"#ed7953\"], [0.7777777777777778, \"#fb9f3a\"], [0.8888888888888888, \"#fdca26\"], [1.0, \"#f0f921\"]], \"type\": \"histogram2dcontour\"}], \"mesh3d\": [{\"colorbar\": {\"outlinewidth\": 0, \"ticks\": \"\"}, \"type\": \"mesh3d\"}], \"parcoords\": [{\"line\": {\"colorbar\": {\"outlinewidth\": 0, \"ticks\": \"\"}}, \"type\": \"parcoords\"}], \"pie\": [{\"automargin\": true, \"type\": \"pie\"}], \"scatter\": [{\"marker\": {\"colorbar\": {\"outlinewidth\": 0, \"ticks\": \"\"}}, \"type\": \"scatter\"}], \"scatter3d\": [{\"line\": {\"colorbar\": {\"outlinewidth\": 0, \"ticks\": \"\"}}, \"marker\": {\"colorbar\": {\"outlinewidth\": 0, \"ticks\": \"\"}}, \"type\": \"scatter3d\"}], \"scattercarpet\": [{\"marker\": {\"colorbar\": {\"outlinewidth\": 0, \"ticks\": \"\"}}, \"type\": \"scattercarpet\"}], \"scattergeo\": [{\"marker\": {\"colorbar\": {\"outlinewidth\": 0, \"ticks\": \"\"}}, \"type\": \"scattergeo\"}], \"scattergl\": [{\"marker\": {\"colorbar\": {\"outlinewidth\": 0, \"ticks\": \"\"}}, \"type\": \"scattergl\"}], \"scattermapbox\": [{\"marker\": {\"colorbar\": {\"outlinewidth\": 0, \"ticks\": \"\"}}, \"type\": \"scattermapbox\"}], \"scatterpolar\": [{\"marker\": {\"colorbar\": {\"outlinewidth\": 0, \"ticks\": \"\"}}, \"type\": \"scatterpolar\"}], \"scatterpolargl\": [{\"marker\": {\"colorbar\": {\"outlinewidth\": 0, \"ticks\": \"\"}}, \"type\": \"scatterpolargl\"}], \"scatterternary\": [{\"marker\": {\"colorbar\": {\"outlinewidth\": 0, \"ticks\": \"\"}}, \"type\": \"scatterternary\"}], \"surface\": [{\"colorbar\": {\"outlinewidth\": 0, \"ticks\": \"\"}, \"colorscale\": [[0.0, \"#0d0887\"], [0.1111111111111111, \"#46039f\"], [0.2222222222222222, \"#7201a8\"], [0.3333333333333333, \"#9c179e\"], [0.4444444444444444, \"#bd3786\"], [0.5555555555555556, \"#d8576b\"], [0.6666666666666666, \"#ed7953\"], [0.7777777777777778, \"#fb9f3a\"], [0.8888888888888888, \"#fdca26\"], [1.0, \"#f0f921\"]], \"type\": \"surface\"}], \"table\": [{\"cells\": {\"fill\": {\"color\": \"#EBF0F8\"}, \"line\": {\"color\": \"white\"}}, \"header\": {\"fill\": {\"color\": \"#C8D4E3\"}, \"line\": {\"color\": \"white\"}}, \"type\": \"table\"}]}, \"layout\": {\"annotationdefaults\": {\"arrowcolor\": \"#2a3f5f\", \"arrowhead\": 0, \"arrowwidth\": 1}, \"autotypenumbers\": \"strict\", \"coloraxis\": {\"colorbar\": {\"outlinewidth\": 0, \"ticks\": \"\"}}, \"colorscale\": {\"diverging\": [[0, \"#8e0152\"], [0.1, \"#c51b7d\"], [0.2, \"#de77ae\"], [0.3, \"#f1b6da\"], [0.4, \"#fde0ef\"], [0.5, \"#f7f7f7\"], [0.6, \"#e6f5d0\"], [0.7, \"#b8e186\"], [0.8, \"#7fbc41\"], [0.9, \"#4d9221\"], [1, \"#276419\"]], \"sequential\": [[0.0, \"#0d0887\"], [0.1111111111111111, \"#46039f\"], [0.2222222222222222, \"#7201a8\"], [0.3333333333333333, \"#9c179e\"], [0.4444444444444444, \"#bd3786\"], [0.5555555555555556, \"#d8576b\"], [0.6666666666666666, \"#ed7953\"], [0.7777777777777778, \"#fb9f3a\"], [0.8888888888888888, \"#fdca26\"], [1.0, \"#f0f921\"]], \"sequentialminus\": [[0.0, \"#0d0887\"], [0.1111111111111111, \"#46039f\"], [0.2222222222222222, \"#7201a8\"], [0.3333333333333333, \"#9c179e\"], [0.4444444444444444, \"#bd3786\"], [0.5555555555555556, \"#d8576b\"], [0.6666666666666666, \"#ed7953\"], [0.7777777777777778, \"#fb9f3a\"], [0.8888888888888888, \"#fdca26\"], [1.0, \"#f0f921\"]]}, \"colorway\": [\"#636efa\", \"#EF553B\", \"#00cc96\", \"#ab63fa\", \"#FFA15A\", \"#19d3f3\", \"#FF6692\", \"#B6E880\", \"#FF97FF\", \"#FECB52\"], \"font\": {\"color\": \"#2a3f5f\"}, \"geo\": {\"bgcolor\": \"white\", \"lakecolor\": \"white\", \"landcolor\": \"#E5ECF6\", \"showlakes\": true, \"showland\": true, \"subunitcolor\": \"white\"}, \"hoverlabel\": {\"align\": \"left\"}, \"hovermode\": \"closest\", \"mapbox\": {\"style\": \"light\"}, \"paper_bgcolor\": \"white\", \"plot_bgcolor\": \"#E5ECF6\", \"polar\": {\"angularaxis\": {\"gridcolor\": \"white\", \"linecolor\": \"white\", \"ticks\": \"\"}, \"bgcolor\": \"#E5ECF6\", \"radialaxis\": {\"gridcolor\": \"white\", \"linecolor\": \"white\", \"ticks\": \"\"}}, \"scene\": {\"xaxis\": {\"backgroundcolor\": \"#E5ECF6\", \"gridcolor\": \"white\", \"gridwidth\": 2, \"linecolor\": \"white\", \"showbackground\": true, \"ticks\": \"\", \"zerolinecolor\": \"white\"}, \"yaxis\": {\"backgroundcolor\": \"#E5ECF6\", \"gridcolor\": \"white\", \"gridwidth\": 2, \"linecolor\": \"white\", \"showbackground\": true, \"ticks\": \"\", \"zerolinecolor\": \"white\"}, \"zaxis\": {\"backgroundcolor\": \"#E5ECF6\", \"gridcolor\": \"white\", \"gridwidth\": 2, \"linecolor\": \"white\", \"showbackground\": true, \"ticks\": \"\", \"zerolinecolor\": \"white\"}}, \"shapedefaults\": {\"line\": {\"color\": \"#2a3f5f\"}}, \"ternary\": {\"aaxis\": {\"gridcolor\": \"white\", \"linecolor\": \"white\", \"ticks\": \"\"}, \"baxis\": {\"gridcolor\": \"white\", \"linecolor\": \"white\", \"ticks\": \"\"}, \"bgcolor\": \"#E5ECF6\", \"caxis\": {\"gridcolor\": \"white\", \"linecolor\": \"white\", \"ticks\": \"\"}}, \"title\": {\"x\": 0.05}, \"xaxis\": {\"automargin\": true, \"gridcolor\": \"white\", \"linecolor\": \"white\", \"ticks\": \"\", \"title\": {\"standoff\": 15}, \"zerolinecolor\": \"white\", \"zerolinewidth\": 2}, \"yaxis\": {\"automargin\": true, \"gridcolor\": \"white\", \"linecolor\": \"white\", \"ticks\": \"\", \"title\": {\"standoff\": 15}, \"zerolinecolor\": \"white\", \"zerolinewidth\": 2}}}, \"title\": {\"font\": {\"color\": \"#4D5663\"}}, \"xaxis\": {\"gridcolor\": \"#E1E5ED\", \"showgrid\": true, \"tickfont\": {\"color\": \"#4D5663\"}, \"title\": {\"font\": {\"color\": \"#4D5663\"}, \"text\": \"\"}, \"zerolinecolor\": \"#E1E5ED\"}, \"yaxis\": {\"gridcolor\": \"#E1E5ED\", \"showgrid\": true, \"tickfont\": {\"color\": \"#4D5663\"}, \"title\": {\"font\": {\"color\": \"#4D5663\"}, \"text\": \"\"}, \"zerolinecolor\": \"#E1E5ED\"}},                        {\"showLink\": true, \"linkText\": \"Export to plot.ly\", \"plotlyServerURL\": \"https://plot.ly\", \"responsive\": true}                    ).then(function(){\n",
       "                            \n",
       "var gd = document.getElementById('43b8cc94-0b42-4788-8c6f-3d2c62f065db');\n",
       "var x = new MutationObserver(function (mutations, observer) {{\n",
       "        var display = window.getComputedStyle(gd).display;\n",
       "        if (!display || display === 'none') {{\n",
       "            console.log([gd, 'removed!']);\n",
       "            Plotly.purge(gd);\n",
       "            observer.disconnect();\n",
       "        }}\n",
       "}});\n",
       "\n",
       "// Listen for the removal of the full notebook cells\n",
       "var notebookContainer = gd.closest('#notebook-container');\n",
       "if (notebookContainer) {{\n",
       "    x.observe(notebookContainer, {childList: true});\n",
       "}}\n",
       "\n",
       "// Listen for the clearing of the current output cell\n",
       "var outputEl = gd.closest('.output');\n",
       "if (outputEl) {{\n",
       "    x.observe(outputEl, {childList: true});\n",
       "}}\n",
       "\n",
       "                        })                };                });            </script>        </div>"
      ]
     },
     "metadata": {},
     "output_type": "display_data"
    }
   ],
   "source": [
    "df.iplot(kind='bubble',x='A',y='B',size='C')"
   ]
  },
  {
   "cell_type": "markdown",
   "metadata": {},
   "source": [
    "## scatter_matrix()\n",
    "\n",
    "Similar to sns.pairplot()"
   ]
  },
  {
   "cell_type": "code",
   "execution_count": 20,
   "metadata": {},
   "outputs": [
    {
     "data": {
      "application/vnd.plotly.v1+json": {
       "config": {
        "linkText": "Export to plot.ly",
        "plotlyServerURL": "https://plot.ly",
        "showLink": true
       },
       "data": [
        {
         "histfunc": "count",
         "histnorm": "",
         "marker": {
          "color": "rgba(255, 153, 51, 1.0)",
          "line": {
           "color": "#4D5663",
           "width": 1.3
          }
         },
         "name": "A",
         "nbinsx": 10,
         "opacity": 0.8,
         "orientation": "v",
         "type": "histogram",
         "x": [
          -0.8280260723763271,
          -2.77297444794199,
          -0.38121323391729234,
          0.7880707860623422,
          2.8084929576725313,
          -0.1374432130485793,
          1.4665828322027583,
          1.7170018404039853,
          -0.006694875240469727,
          -0.35801270109138483,
          -0.7945315217293085,
          1.107530808756093,
          1.1790484531176757,
          0.36440605216798233,
          -1.5822209826572298,
          -1.2750553918693035,
          -1.2090255857903993,
          0.4590850858171039,
          -0.6285482031372056,
          1.0546402699013748,
          1.5138351311137501,
          0.8734592513564242,
          0.21901261206315306,
          -1.163953212801199,
          -0.335892690218668,
          0.4938820380998607,
          0.06783004821863114,
          1.542059648394881,
          0.49156166686043756,
          0.4633288124694026,
          -0.9489982987198811,
          0.47065989470899516,
          -0.4418890963795218,
          0.44347045975400295,
          0.8144597660455606,
          -0.6531579459403273,
          0.42815418084727563,
          -0.3588910458379977,
          -0.5335759249000853,
          0.6314714718116694,
          -0.8487016591558267,
          1.5846252025402214,
          0.17310725166180807,
          0.27059605517156654,
          -0.4694392142146777,
          0.5838091465034632,
          -0.3432331323029411,
          -0.48966126380907626,
          -2.3796874131530377,
          1.3587330456455726,
          1.1171967076671219,
          -0.20850895799541944,
          -0.3995385709353827,
          -1.8147865778734724,
          0.7161603237047958,
          -1.269138912896145,
          -1.6827178168553847,
          -0.6674891664222559,
          -0.30249711294977955,
          0.6631651824638187,
          2.291182619859816,
          -2.458340895167761,
          0.2899567568659667,
          -0.47300884042820934,
          2.09432237150058,
          0.582786511773274,
          -1.1346112433030937,
          -1.2649618327532324,
          0.34316321337446215,
          -0.19277560479566427,
          0.33379569707167217,
          -1.517505142343097,
          -0.4055330148343431,
          1.3329366341718163,
          3.0880651844214007,
          -1.3533913810566096,
          0.3437532931939382,
          -1.6575292547862113,
          0.7154451417562238,
          -0.12577120476387404,
          -0.1221947706218079,
          0.5829755695712423,
          -1.5671691676011716,
          1.1105896726371092,
          -0.09369513621117644,
          1.0955857442776014,
          -1.4282369786985993,
          -0.05097785455827381,
          -0.5972071263206464,
          -1.256475896277932,
          -1.8851731596449193,
          0.828590542968046,
          -0.4062491091331472,
          0.0807500132107527,
          0.013163707403381393,
          -0.6217284887018927,
          -0.24693675551235092,
          0.06197700019368634,
          0.5634486026666133,
          0.6059138751307764
         ],
         "xaxis": "x",
         "yaxis": "y"
        },
        {
         "line": {
          "color": "rgba(128, 128, 128, 1.0)",
          "dash": "solid",
          "shape": "linear",
          "width": 1.3
         },
         "marker": {
          "size": 2,
          "symbol": "circle"
         },
         "mode": "markers",
         "name": "A",
         "text": "",
         "type": "scatter",
         "x": [
          0.7488859249957294,
          -2.063476523426313,
          0.15896478732317448,
          0.9824428266957366,
          0.5177956680669261,
          1.2795287511749251,
          1.3168697401336789,
          -2.5769642163271804,
          -0.5223469831142037,
          1.8181176703709536,
          -0.472385080891169,
          0.5902248057458955,
          0.06501344080504949,
          -0.47080216571861333,
          0.18228275869868904,
          0.23126754721306877,
          0.6149010050060569,
          0.7222076794396597,
          -0.47556970422863515,
          0.460047800114019,
          0.20905587617029056,
          0.7386997197730129,
          0.2963947509662543,
          1.3324755157131947,
          1.0847241543052293,
          0.7238084792303607,
          0.031773286629343866,
          -0.85317652648317,
          -0.3103145393346325,
          -0.03628269694808576,
          -0.3086240085353415,
          -0.8791329349989142,
          -1.4582997557298272,
          1.0563940955502773,
          0.7624476857491007,
          -0.637472747395494,
          0.08463847795218485,
          -1.1360972676061123,
          0.3278612242444931,
          0.6074498411024112,
          -1.9401239947752962,
          -0.6993479106510858,
          1.3059278691514857,
          -0.19424188683695787,
          -1.2604848908802941,
          0.952687783783637,
          -1.546031553055093,
          -0.6993206460498765,
          0.20344776954368982,
          -0.7243873284737312,
          -0.9800294868969891,
          -0.514665260515114,
          1.0336926944205553,
          -0.9088425929534667,
          -1.2397144953831822,
          0.9812633628328463,
          2.7523411232946318,
          -0.7275897094517473,
          0.6909293763885511,
          0.679755401619041,
          -0.3870724045077387,
          0.8660805606258668,
          -1.3245161399204266,
          1.1927202884162393,
          0.08939780005427155,
          -2.806889952909305,
          0.8929360431986725,
          -0.12770744108226054,
          0.21199734276229967,
          1.1372829909715767,
          0.09620678459480445,
          -0.3018606425639405,
          0.9102322118714832,
          -2.309881595960726,
          -1.6100568373409712,
          0.6090688747514684,
          -0.6838011355845027,
          -0.2748716990341536,
          -0.4223440623301072,
          -0.8873989045199661,
          -0.0009738308528003652,
          0.10028669510880826,
          -0.048778800761219,
          1.3184511662605012,
          -2.195277463199274,
          0.34417282099715746,
          0.2628105585137296,
          1.4326207032621394,
          0.2935366035552767,
          0.39908458968185134,
          -1.4759639597995606,
          -0.560377497609232,
          -1.762548372904548,
          1.3007570365012764,
          0.1805535576155475,
          0.4187410435886277,
          -0.008350929356977793,
          -1.4548926844956653,
          -1.074772822423682,
          0.5854026103720574
         ],
         "xaxis": "x2",
         "y": [
          -0.8280260723763271,
          -2.77297444794199,
          -0.38121323391729234,
          0.7880707860623422,
          2.8084929576725313,
          -0.1374432130485793,
          1.4665828322027583,
          1.7170018404039853,
          -0.006694875240469727,
          -0.35801270109138483,
          -0.7945315217293085,
          1.107530808756093,
          1.1790484531176757,
          0.36440605216798233,
          -1.5822209826572298,
          -1.2750553918693035,
          -1.2090255857903993,
          0.4590850858171039,
          -0.6285482031372056,
          1.0546402699013748,
          1.5138351311137501,
          0.8734592513564242,
          0.21901261206315306,
          -1.163953212801199,
          -0.335892690218668,
          0.4938820380998607,
          0.06783004821863114,
          1.542059648394881,
          0.49156166686043756,
          0.4633288124694026,
          -0.9489982987198811,
          0.47065989470899516,
          -0.4418890963795218,
          0.44347045975400295,
          0.8144597660455606,
          -0.6531579459403273,
          0.42815418084727563,
          -0.3588910458379977,
          -0.5335759249000853,
          0.6314714718116694,
          -0.8487016591558267,
          1.5846252025402214,
          0.17310725166180807,
          0.27059605517156654,
          -0.4694392142146777,
          0.5838091465034632,
          -0.3432331323029411,
          -0.48966126380907626,
          -2.3796874131530377,
          1.3587330456455726,
          1.1171967076671219,
          -0.20850895799541944,
          -0.3995385709353827,
          -1.8147865778734724,
          0.7161603237047958,
          -1.269138912896145,
          -1.6827178168553847,
          -0.6674891664222559,
          -0.30249711294977955,
          0.6631651824638187,
          2.291182619859816,
          -2.458340895167761,
          0.2899567568659667,
          -0.47300884042820934,
          2.09432237150058,
          0.582786511773274,
          -1.1346112433030937,
          -1.2649618327532324,
          0.34316321337446215,
          -0.19277560479566427,
          0.33379569707167217,
          -1.517505142343097,
          -0.4055330148343431,
          1.3329366341718163,
          3.0880651844214007,
          -1.3533913810566096,
          0.3437532931939382,
          -1.6575292547862113,
          0.7154451417562238,
          -0.12577120476387404,
          -0.1221947706218079,
          0.5829755695712423,
          -1.5671691676011716,
          1.1105896726371092,
          -0.09369513621117644,
          1.0955857442776014,
          -1.4282369786985993,
          -0.05097785455827381,
          -0.5972071263206464,
          -1.256475896277932,
          -1.8851731596449193,
          0.828590542968046,
          -0.4062491091331472,
          0.0807500132107527,
          0.013163707403381393,
          -0.6217284887018927,
          -0.24693675551235092,
          0.06197700019368634,
          0.5634486026666133,
          0.6059138751307764
         ],
         "yaxis": "y2"
        },
        {
         "line": {
          "color": "rgba(128, 128, 128, 1.0)",
          "dash": "solid",
          "shape": "linear",
          "width": 1.3
         },
         "marker": {
          "size": 2,
          "symbol": "circle"
         },
         "mode": "markers",
         "name": "A",
         "text": "",
         "type": "scatter",
         "x": [
          1.7253801114530336,
          -0.8804409276344874,
          1.331116657890689,
          -0.21149950462188108,
          -1.167445572451072,
          -1.86682032962182,
          0.5550567292479028,
          0.5452866270236787,
          0.6339309155415728,
          0.231164891408304,
          -1.8305006882314347,
          0.06471049469239389,
          -1.1266744570399325,
          2.005310295649881,
          -0.028482335853937907,
          -0.47676328581315613,
          0.9303557807580285,
          -0.6960540968339621,
          -0.7265111451351663,
          0.6186778710316426,
          -1.5656749798051184,
          0.9086002976698601,
          -1.4057548790859178,
          -0.5775605048283244,
          -0.5714808957081108,
          -0.006524474517459756,
          -0.6090064439259069,
          0.8926472711827771,
          -0.9760585243827213,
          1.9663547435352045,
          1.4326657468524446,
          1.662004463772016,
          0.24510231590545106,
          -1.1140187962778287,
          -0.051942121865523286,
          -0.8724806670184981,
          -0.028508923489273388,
          -0.1319408669048997,
          1.0530214539978553,
          1.6995103988035576,
          0.17594259773996168,
          -2.2182295179966953,
          -0.18040527071059057,
          -0.6997057487838385,
          -0.2142205109056815,
          0.5487184958860298,
          -0.4079902648528655,
          -0.26977067737465493,
          -0.8243829409981692,
          0.0867872600282909,
          -1.0847228525825072,
          0.9540307463204664,
          0.10576031593004116,
          -0.7907611436276919,
          1.3570657440455447,
          1.31366121472068,
          1.0328400142798095,
          0.10777043870564415,
          1.3405761225949349,
          0.5325162439920655,
          1.3572146232639517,
          0.09864623747508508,
          -1.0844817479277369,
          0.06991885791354406,
          0.4330280919942761,
          0.3949368133459405,
          -0.07470513451635608,
          0.8947229547408788,
          -0.20101177512636403,
          -0.829289771380396,
          0.22612152082460252,
          2.1519403226862326,
          -0.5992918280704882,
          -0.915734701343928,
          -0.24813388814972398,
          -1.3952127945941872,
          0.37273712169823314,
          0.4067064042074707,
          1.488984685385158,
          -0.8106816010319763,
          -1.5421325647403865,
          1.330753230343414,
          -0.4338579419715875,
          0.023564367195433637,
          0.7189964343463359,
          0.6665475964066954,
          0.7161413728329881,
          0.1229643812477501,
          0.29786048037526636,
          -0.7587902514620694,
          0.676306827021562,
          0.472869803432536,
          -0.5311331200629258,
          -0.4414394903929416,
          0.43122606826674764,
          -0.7984767291316012,
          -0.21167247168939404,
          -0.8418568493843376,
          0.1003033539435394,
          0.9639176565339589
         ],
         "xaxis": "x3",
         "y": [
          -0.8280260723763271,
          -2.77297444794199,
          -0.38121323391729234,
          0.7880707860623422,
          2.8084929576725313,
          -0.1374432130485793,
          1.4665828322027583,
          1.7170018404039853,
          -0.006694875240469727,
          -0.35801270109138483,
          -0.7945315217293085,
          1.107530808756093,
          1.1790484531176757,
          0.36440605216798233,
          -1.5822209826572298,
          -1.2750553918693035,
          -1.2090255857903993,
          0.4590850858171039,
          -0.6285482031372056,
          1.0546402699013748,
          1.5138351311137501,
          0.8734592513564242,
          0.21901261206315306,
          -1.163953212801199,
          -0.335892690218668,
          0.4938820380998607,
          0.06783004821863114,
          1.542059648394881,
          0.49156166686043756,
          0.4633288124694026,
          -0.9489982987198811,
          0.47065989470899516,
          -0.4418890963795218,
          0.44347045975400295,
          0.8144597660455606,
          -0.6531579459403273,
          0.42815418084727563,
          -0.3588910458379977,
          -0.5335759249000853,
          0.6314714718116694,
          -0.8487016591558267,
          1.5846252025402214,
          0.17310725166180807,
          0.27059605517156654,
          -0.4694392142146777,
          0.5838091465034632,
          -0.3432331323029411,
          -0.48966126380907626,
          -2.3796874131530377,
          1.3587330456455726,
          1.1171967076671219,
          -0.20850895799541944,
          -0.3995385709353827,
          -1.8147865778734724,
          0.7161603237047958,
          -1.269138912896145,
          -1.6827178168553847,
          -0.6674891664222559,
          -0.30249711294977955,
          0.6631651824638187,
          2.291182619859816,
          -2.458340895167761,
          0.2899567568659667,
          -0.47300884042820934,
          2.09432237150058,
          0.582786511773274,
          -1.1346112433030937,
          -1.2649618327532324,
          0.34316321337446215,
          -0.19277560479566427,
          0.33379569707167217,
          -1.517505142343097,
          -0.4055330148343431,
          1.3329366341718163,
          3.0880651844214007,
          -1.3533913810566096,
          0.3437532931939382,
          -1.6575292547862113,
          0.7154451417562238,
          -0.12577120476387404,
          -0.1221947706218079,
          0.5829755695712423,
          -1.5671691676011716,
          1.1105896726371092,
          -0.09369513621117644,
          1.0955857442776014,
          -1.4282369786985993,
          -0.05097785455827381,
          -0.5972071263206464,
          -1.256475896277932,
          -1.8851731596449193,
          0.828590542968046,
          -0.4062491091331472,
          0.0807500132107527,
          0.013163707403381393,
          -0.6217284887018927,
          -0.24693675551235092,
          0.06197700019368634,
          0.5634486026666133,
          0.6059138751307764
         ],
         "yaxis": "y3"
        },
        {
         "line": {
          "color": "rgba(128, 128, 128, 1.0)",
          "dash": "solid",
          "shape": "linear",
          "width": 1.3
         },
         "marker": {
          "size": 2,
          "symbol": "circle"
         },
         "mode": "markers",
         "name": "A",
         "text": "",
         "type": "scatter",
         "x": [
          0.4882068764644425,
          -0.1730599122555562,
          -0.18029327282843913,
          0.08897401757083999,
          0.4759079771296569,
          -0.7475729640986748,
          -0.6314103667912152,
          -0.5429540933252955,
          -0.6867032832812933,
          0.003516713451322575,
          0.2690133393221728,
          1.9113918370343146,
          0.8942333609097131,
          -0.6147020080793911,
          -0.29627748478840876,
          -0.7135564071003545,
          1.3901561233784447,
          -0.5446223145677315,
          0.665946983365099,
          -0.7496721950249093,
          -0.40733460856123066,
          0.27465116526722494,
          1.5320952066625422,
          1.7492770935729696,
          -1.1543261651182537,
          -1.184155527301778,
          0.028700526904036155,
          1.2438773766120852,
          0.4365147943692492,
          1.1408167992468035,
          -1.8258998355515466,
          1.052927076581993,
          -0.25881136499559954,
          1.1633980352981832,
          -1.1276238025508922,
          0.29249241538744025,
          -0.9939865758424621,
          0.8345157084831906,
          0.10678369466768305,
          0.6418979095760036,
          0.9729734554120418,
          -1.728577051930168,
          -2.046106191789923,
          -2.3617950208986094,
          1.5542527388434406,
          0.11607119589178173,
          -1.5037217035024932,
          -0.2330021546379168,
          0.9294035212277092,
          -0.6546411181672671,
          0.37836134228099827,
          -0.7874206814909359,
          1.0745567164294885,
          -0.8421542414903073,
          1.507068399271997,
          0.04221631656382646,
          0.9985323800813999,
          0.07813153273720085,
          0.3582652484185667,
          -0.26568314239766294,
          2.0566410122848993,
          0.23062388105590104,
          -0.6224371068334607,
          2.8343397633466263,
          -1.0235495065224018,
          -0.7326214364645792,
          -0.9588926845494297,
          0.1324900332792681,
          0.13374143364652147,
          0.8303828681263521,
          -0.401954368463575,
          -0.2993793998301332,
          -1.1751482554395292,
          -0.615421356355059,
          -0.3806859547104433,
          0.6297112168337228,
          -0.49686252054116276,
          -0.3710424946031853,
          0.862727439889303,
          -0.5545510889849203,
          3.2613233609225665,
          1.03433897470513,
          -0.20151325723595134,
          -0.026146515903826384,
          -0.19179514842935289,
          -0.8657989069062361,
          -0.011837114522481318,
          -0.9300513393433796,
          0.6085583810153283,
          -0.6222195978714236,
          -1.0247791883432427,
          2.1371485346759966,
          -0.9251541260596596,
          -0.17952317807502466,
          -0.5969096817635869,
          -0.9875194195098052,
          0.5458507291811573,
          1.118252469599825,
          -0.06419951244882167,
          0.031654006904315884
         ],
         "xaxis": "x4",
         "y": [
          -0.8280260723763271,
          -2.77297444794199,
          -0.38121323391729234,
          0.7880707860623422,
          2.8084929576725313,
          -0.1374432130485793,
          1.4665828322027583,
          1.7170018404039853,
          -0.006694875240469727,
          -0.35801270109138483,
          -0.7945315217293085,
          1.107530808756093,
          1.1790484531176757,
          0.36440605216798233,
          -1.5822209826572298,
          -1.2750553918693035,
          -1.2090255857903993,
          0.4590850858171039,
          -0.6285482031372056,
          1.0546402699013748,
          1.5138351311137501,
          0.8734592513564242,
          0.21901261206315306,
          -1.163953212801199,
          -0.335892690218668,
          0.4938820380998607,
          0.06783004821863114,
          1.542059648394881,
          0.49156166686043756,
          0.4633288124694026,
          -0.9489982987198811,
          0.47065989470899516,
          -0.4418890963795218,
          0.44347045975400295,
          0.8144597660455606,
          -0.6531579459403273,
          0.42815418084727563,
          -0.3588910458379977,
          -0.5335759249000853,
          0.6314714718116694,
          -0.8487016591558267,
          1.5846252025402214,
          0.17310725166180807,
          0.27059605517156654,
          -0.4694392142146777,
          0.5838091465034632,
          -0.3432331323029411,
          -0.48966126380907626,
          -2.3796874131530377,
          1.3587330456455726,
          1.1171967076671219,
          -0.20850895799541944,
          -0.3995385709353827,
          -1.8147865778734724,
          0.7161603237047958,
          -1.269138912896145,
          -1.6827178168553847,
          -0.6674891664222559,
          -0.30249711294977955,
          0.6631651824638187,
          2.291182619859816,
          -2.458340895167761,
          0.2899567568659667,
          -0.47300884042820934,
          2.09432237150058,
          0.582786511773274,
          -1.1346112433030937,
          -1.2649618327532324,
          0.34316321337446215,
          -0.19277560479566427,
          0.33379569707167217,
          -1.517505142343097,
          -0.4055330148343431,
          1.3329366341718163,
          3.0880651844214007,
          -1.3533913810566096,
          0.3437532931939382,
          -1.6575292547862113,
          0.7154451417562238,
          -0.12577120476387404,
          -0.1221947706218079,
          0.5829755695712423,
          -1.5671691676011716,
          1.1105896726371092,
          -0.09369513621117644,
          1.0955857442776014,
          -1.4282369786985993,
          -0.05097785455827381,
          -0.5972071263206464,
          -1.256475896277932,
          -1.8851731596449193,
          0.828590542968046,
          -0.4062491091331472,
          0.0807500132107527,
          0.013163707403381393,
          -0.6217284887018927,
          -0.24693675551235092,
          0.06197700019368634,
          0.5634486026666133,
          0.6059138751307764
         ],
         "yaxis": "y4"
        },
        {
         "line": {
          "color": "rgba(128, 128, 128, 1.0)",
          "dash": "solid",
          "shape": "linear",
          "width": 1.3
         },
         "marker": {
          "size": 2,
          "symbol": "circle"
         },
         "mode": "markers",
         "name": "B",
         "text": "",
         "type": "scatter",
         "x": [
          -0.8280260723763271,
          -2.77297444794199,
          -0.38121323391729234,
          0.7880707860623422,
          2.8084929576725313,
          -0.1374432130485793,
          1.4665828322027583,
          1.7170018404039853,
          -0.006694875240469727,
          -0.35801270109138483,
          -0.7945315217293085,
          1.107530808756093,
          1.1790484531176757,
          0.36440605216798233,
          -1.5822209826572298,
          -1.2750553918693035,
          -1.2090255857903993,
          0.4590850858171039,
          -0.6285482031372056,
          1.0546402699013748,
          1.5138351311137501,
          0.8734592513564242,
          0.21901261206315306,
          -1.163953212801199,
          -0.335892690218668,
          0.4938820380998607,
          0.06783004821863114,
          1.542059648394881,
          0.49156166686043756,
          0.4633288124694026,
          -0.9489982987198811,
          0.47065989470899516,
          -0.4418890963795218,
          0.44347045975400295,
          0.8144597660455606,
          -0.6531579459403273,
          0.42815418084727563,
          -0.3588910458379977,
          -0.5335759249000853,
          0.6314714718116694,
          -0.8487016591558267,
          1.5846252025402214,
          0.17310725166180807,
          0.27059605517156654,
          -0.4694392142146777,
          0.5838091465034632,
          -0.3432331323029411,
          -0.48966126380907626,
          -2.3796874131530377,
          1.3587330456455726,
          1.1171967076671219,
          -0.20850895799541944,
          -0.3995385709353827,
          -1.8147865778734724,
          0.7161603237047958,
          -1.269138912896145,
          -1.6827178168553847,
          -0.6674891664222559,
          -0.30249711294977955,
          0.6631651824638187,
          2.291182619859816,
          -2.458340895167761,
          0.2899567568659667,
          -0.47300884042820934,
          2.09432237150058,
          0.582786511773274,
          -1.1346112433030937,
          -1.2649618327532324,
          0.34316321337446215,
          -0.19277560479566427,
          0.33379569707167217,
          -1.517505142343097,
          -0.4055330148343431,
          1.3329366341718163,
          3.0880651844214007,
          -1.3533913810566096,
          0.3437532931939382,
          -1.6575292547862113,
          0.7154451417562238,
          -0.12577120476387404,
          -0.1221947706218079,
          0.5829755695712423,
          -1.5671691676011716,
          1.1105896726371092,
          -0.09369513621117644,
          1.0955857442776014,
          -1.4282369786985993,
          -0.05097785455827381,
          -0.5972071263206464,
          -1.256475896277932,
          -1.8851731596449193,
          0.828590542968046,
          -0.4062491091331472,
          0.0807500132107527,
          0.013163707403381393,
          -0.6217284887018927,
          -0.24693675551235092,
          0.06197700019368634,
          0.5634486026666133,
          0.6059138751307764
         ],
         "xaxis": "x5",
         "y": [
          0.7488859249957294,
          -2.063476523426313,
          0.15896478732317448,
          0.9824428266957366,
          0.5177956680669261,
          1.2795287511749251,
          1.3168697401336789,
          -2.5769642163271804,
          -0.5223469831142037,
          1.8181176703709536,
          -0.472385080891169,
          0.5902248057458955,
          0.06501344080504949,
          -0.47080216571861333,
          0.18228275869868904,
          0.23126754721306877,
          0.6149010050060569,
          0.7222076794396597,
          -0.47556970422863515,
          0.460047800114019,
          0.20905587617029056,
          0.7386997197730129,
          0.2963947509662543,
          1.3324755157131947,
          1.0847241543052293,
          0.7238084792303607,
          0.031773286629343866,
          -0.85317652648317,
          -0.3103145393346325,
          -0.03628269694808576,
          -0.3086240085353415,
          -0.8791329349989142,
          -1.4582997557298272,
          1.0563940955502773,
          0.7624476857491007,
          -0.637472747395494,
          0.08463847795218485,
          -1.1360972676061123,
          0.3278612242444931,
          0.6074498411024112,
          -1.9401239947752962,
          -0.6993479106510858,
          1.3059278691514857,
          -0.19424188683695787,
          -1.2604848908802941,
          0.952687783783637,
          -1.546031553055093,
          -0.6993206460498765,
          0.20344776954368982,
          -0.7243873284737312,
          -0.9800294868969891,
          -0.514665260515114,
          1.0336926944205553,
          -0.9088425929534667,
          -1.2397144953831822,
          0.9812633628328463,
          2.7523411232946318,
          -0.7275897094517473,
          0.6909293763885511,
          0.679755401619041,
          -0.3870724045077387,
          0.8660805606258668,
          -1.3245161399204266,
          1.1927202884162393,
          0.08939780005427155,
          -2.806889952909305,
          0.8929360431986725,
          -0.12770744108226054,
          0.21199734276229967,
          1.1372829909715767,
          0.09620678459480445,
          -0.3018606425639405,
          0.9102322118714832,
          -2.309881595960726,
          -1.6100568373409712,
          0.6090688747514684,
          -0.6838011355845027,
          -0.2748716990341536,
          -0.4223440623301072,
          -0.8873989045199661,
          -0.0009738308528003652,
          0.10028669510880826,
          -0.048778800761219,
          1.3184511662605012,
          -2.195277463199274,
          0.34417282099715746,
          0.2628105585137296,
          1.4326207032621394,
          0.2935366035552767,
          0.39908458968185134,
          -1.4759639597995606,
          -0.560377497609232,
          -1.762548372904548,
          1.3007570365012764,
          0.1805535576155475,
          0.4187410435886277,
          -0.008350929356977793,
          -1.4548926844956653,
          -1.074772822423682,
          0.5854026103720574
         ],
         "yaxis": "y5"
        },
        {
         "histfunc": "count",
         "histnorm": "",
         "marker": {
          "color": "rgba(55, 128, 191, 1.0)",
          "line": {
           "color": "#4D5663",
           "width": 1.3
          }
         },
         "name": "B",
         "nbinsx": 10,
         "opacity": 0.8,
         "orientation": "v",
         "type": "histogram",
         "x": [
          0.7488859249957294,
          -2.063476523426313,
          0.15896478732317448,
          0.9824428266957366,
          0.5177956680669261,
          1.2795287511749251,
          1.3168697401336789,
          -2.5769642163271804,
          -0.5223469831142037,
          1.8181176703709536,
          -0.472385080891169,
          0.5902248057458955,
          0.06501344080504949,
          -0.47080216571861333,
          0.18228275869868904,
          0.23126754721306877,
          0.6149010050060569,
          0.7222076794396597,
          -0.47556970422863515,
          0.460047800114019,
          0.20905587617029056,
          0.7386997197730129,
          0.2963947509662543,
          1.3324755157131947,
          1.0847241543052293,
          0.7238084792303607,
          0.031773286629343866,
          -0.85317652648317,
          -0.3103145393346325,
          -0.03628269694808576,
          -0.3086240085353415,
          -0.8791329349989142,
          -1.4582997557298272,
          1.0563940955502773,
          0.7624476857491007,
          -0.637472747395494,
          0.08463847795218485,
          -1.1360972676061123,
          0.3278612242444931,
          0.6074498411024112,
          -1.9401239947752962,
          -0.6993479106510858,
          1.3059278691514857,
          -0.19424188683695787,
          -1.2604848908802941,
          0.952687783783637,
          -1.546031553055093,
          -0.6993206460498765,
          0.20344776954368982,
          -0.7243873284737312,
          -0.9800294868969891,
          -0.514665260515114,
          1.0336926944205553,
          -0.9088425929534667,
          -1.2397144953831822,
          0.9812633628328463,
          2.7523411232946318,
          -0.7275897094517473,
          0.6909293763885511,
          0.679755401619041,
          -0.3870724045077387,
          0.8660805606258668,
          -1.3245161399204266,
          1.1927202884162393,
          0.08939780005427155,
          -2.806889952909305,
          0.8929360431986725,
          -0.12770744108226054,
          0.21199734276229967,
          1.1372829909715767,
          0.09620678459480445,
          -0.3018606425639405,
          0.9102322118714832,
          -2.309881595960726,
          -1.6100568373409712,
          0.6090688747514684,
          -0.6838011355845027,
          -0.2748716990341536,
          -0.4223440623301072,
          -0.8873989045199661,
          -0.0009738308528003652,
          0.10028669510880826,
          -0.048778800761219,
          1.3184511662605012,
          -2.195277463199274,
          0.34417282099715746,
          0.2628105585137296,
          1.4326207032621394,
          0.2935366035552767,
          0.39908458968185134,
          -1.4759639597995606,
          -0.560377497609232,
          -1.762548372904548,
          1.3007570365012764,
          0.1805535576155475,
          0.4187410435886277,
          -0.008350929356977793,
          -1.4548926844956653,
          -1.074772822423682,
          0.5854026103720574
         ],
         "xaxis": "x6",
         "yaxis": "y6"
        },
        {
         "line": {
          "color": "rgba(128, 128, 128, 1.0)",
          "dash": "solid",
          "shape": "linear",
          "width": 1.3
         },
         "marker": {
          "size": 2,
          "symbol": "circle"
         },
         "mode": "markers",
         "name": "B",
         "text": "",
         "type": "scatter",
         "x": [
          1.7253801114530336,
          -0.8804409276344874,
          1.331116657890689,
          -0.21149950462188108,
          -1.167445572451072,
          -1.86682032962182,
          0.5550567292479028,
          0.5452866270236787,
          0.6339309155415728,
          0.231164891408304,
          -1.8305006882314347,
          0.06471049469239389,
          -1.1266744570399325,
          2.005310295649881,
          -0.028482335853937907,
          -0.47676328581315613,
          0.9303557807580285,
          -0.6960540968339621,
          -0.7265111451351663,
          0.6186778710316426,
          -1.5656749798051184,
          0.9086002976698601,
          -1.4057548790859178,
          -0.5775605048283244,
          -0.5714808957081108,
          -0.006524474517459756,
          -0.6090064439259069,
          0.8926472711827771,
          -0.9760585243827213,
          1.9663547435352045,
          1.4326657468524446,
          1.662004463772016,
          0.24510231590545106,
          -1.1140187962778287,
          -0.051942121865523286,
          -0.8724806670184981,
          -0.028508923489273388,
          -0.1319408669048997,
          1.0530214539978553,
          1.6995103988035576,
          0.17594259773996168,
          -2.2182295179966953,
          -0.18040527071059057,
          -0.6997057487838385,
          -0.2142205109056815,
          0.5487184958860298,
          -0.4079902648528655,
          -0.26977067737465493,
          -0.8243829409981692,
          0.0867872600282909,
          -1.0847228525825072,
          0.9540307463204664,
          0.10576031593004116,
          -0.7907611436276919,
          1.3570657440455447,
          1.31366121472068,
          1.0328400142798095,
          0.10777043870564415,
          1.3405761225949349,
          0.5325162439920655,
          1.3572146232639517,
          0.09864623747508508,
          -1.0844817479277369,
          0.06991885791354406,
          0.4330280919942761,
          0.3949368133459405,
          -0.07470513451635608,
          0.8947229547408788,
          -0.20101177512636403,
          -0.829289771380396,
          0.22612152082460252,
          2.1519403226862326,
          -0.5992918280704882,
          -0.915734701343928,
          -0.24813388814972398,
          -1.3952127945941872,
          0.37273712169823314,
          0.4067064042074707,
          1.488984685385158,
          -0.8106816010319763,
          -1.5421325647403865,
          1.330753230343414,
          -0.4338579419715875,
          0.023564367195433637,
          0.7189964343463359,
          0.6665475964066954,
          0.7161413728329881,
          0.1229643812477501,
          0.29786048037526636,
          -0.7587902514620694,
          0.676306827021562,
          0.472869803432536,
          -0.5311331200629258,
          -0.4414394903929416,
          0.43122606826674764,
          -0.7984767291316012,
          -0.21167247168939404,
          -0.8418568493843376,
          0.1003033539435394,
          0.9639176565339589
         ],
         "xaxis": "x7",
         "y": [
          0.7488859249957294,
          -2.063476523426313,
          0.15896478732317448,
          0.9824428266957366,
          0.5177956680669261,
          1.2795287511749251,
          1.3168697401336789,
          -2.5769642163271804,
          -0.5223469831142037,
          1.8181176703709536,
          -0.472385080891169,
          0.5902248057458955,
          0.06501344080504949,
          -0.47080216571861333,
          0.18228275869868904,
          0.23126754721306877,
          0.6149010050060569,
          0.7222076794396597,
          -0.47556970422863515,
          0.460047800114019,
          0.20905587617029056,
          0.7386997197730129,
          0.2963947509662543,
          1.3324755157131947,
          1.0847241543052293,
          0.7238084792303607,
          0.031773286629343866,
          -0.85317652648317,
          -0.3103145393346325,
          -0.03628269694808576,
          -0.3086240085353415,
          -0.8791329349989142,
          -1.4582997557298272,
          1.0563940955502773,
          0.7624476857491007,
          -0.637472747395494,
          0.08463847795218485,
          -1.1360972676061123,
          0.3278612242444931,
          0.6074498411024112,
          -1.9401239947752962,
          -0.6993479106510858,
          1.3059278691514857,
          -0.19424188683695787,
          -1.2604848908802941,
          0.952687783783637,
          -1.546031553055093,
          -0.6993206460498765,
          0.20344776954368982,
          -0.7243873284737312,
          -0.9800294868969891,
          -0.514665260515114,
          1.0336926944205553,
          -0.9088425929534667,
          -1.2397144953831822,
          0.9812633628328463,
          2.7523411232946318,
          -0.7275897094517473,
          0.6909293763885511,
          0.679755401619041,
          -0.3870724045077387,
          0.8660805606258668,
          -1.3245161399204266,
          1.1927202884162393,
          0.08939780005427155,
          -2.806889952909305,
          0.8929360431986725,
          -0.12770744108226054,
          0.21199734276229967,
          1.1372829909715767,
          0.09620678459480445,
          -0.3018606425639405,
          0.9102322118714832,
          -2.309881595960726,
          -1.6100568373409712,
          0.6090688747514684,
          -0.6838011355845027,
          -0.2748716990341536,
          -0.4223440623301072,
          -0.8873989045199661,
          -0.0009738308528003652,
          0.10028669510880826,
          -0.048778800761219,
          1.3184511662605012,
          -2.195277463199274,
          0.34417282099715746,
          0.2628105585137296,
          1.4326207032621394,
          0.2935366035552767,
          0.39908458968185134,
          -1.4759639597995606,
          -0.560377497609232,
          -1.762548372904548,
          1.3007570365012764,
          0.1805535576155475,
          0.4187410435886277,
          -0.008350929356977793,
          -1.4548926844956653,
          -1.074772822423682,
          0.5854026103720574
         ],
         "yaxis": "y7"
        },
        {
         "line": {
          "color": "rgba(128, 128, 128, 1.0)",
          "dash": "solid",
          "shape": "linear",
          "width": 1.3
         },
         "marker": {
          "size": 2,
          "symbol": "circle"
         },
         "mode": "markers",
         "name": "B",
         "text": "",
         "type": "scatter",
         "x": [
          0.4882068764644425,
          -0.1730599122555562,
          -0.18029327282843913,
          0.08897401757083999,
          0.4759079771296569,
          -0.7475729640986748,
          -0.6314103667912152,
          -0.5429540933252955,
          -0.6867032832812933,
          0.003516713451322575,
          0.2690133393221728,
          1.9113918370343146,
          0.8942333609097131,
          -0.6147020080793911,
          -0.29627748478840876,
          -0.7135564071003545,
          1.3901561233784447,
          -0.5446223145677315,
          0.665946983365099,
          -0.7496721950249093,
          -0.40733460856123066,
          0.27465116526722494,
          1.5320952066625422,
          1.7492770935729696,
          -1.1543261651182537,
          -1.184155527301778,
          0.028700526904036155,
          1.2438773766120852,
          0.4365147943692492,
          1.1408167992468035,
          -1.8258998355515466,
          1.052927076581993,
          -0.25881136499559954,
          1.1633980352981832,
          -1.1276238025508922,
          0.29249241538744025,
          -0.9939865758424621,
          0.8345157084831906,
          0.10678369466768305,
          0.6418979095760036,
          0.9729734554120418,
          -1.728577051930168,
          -2.046106191789923,
          -2.3617950208986094,
          1.5542527388434406,
          0.11607119589178173,
          -1.5037217035024932,
          -0.2330021546379168,
          0.9294035212277092,
          -0.6546411181672671,
          0.37836134228099827,
          -0.7874206814909359,
          1.0745567164294885,
          -0.8421542414903073,
          1.507068399271997,
          0.04221631656382646,
          0.9985323800813999,
          0.07813153273720085,
          0.3582652484185667,
          -0.26568314239766294,
          2.0566410122848993,
          0.23062388105590104,
          -0.6224371068334607,
          2.8343397633466263,
          -1.0235495065224018,
          -0.7326214364645792,
          -0.9588926845494297,
          0.1324900332792681,
          0.13374143364652147,
          0.8303828681263521,
          -0.401954368463575,
          -0.2993793998301332,
          -1.1751482554395292,
          -0.615421356355059,
          -0.3806859547104433,
          0.6297112168337228,
          -0.49686252054116276,
          -0.3710424946031853,
          0.862727439889303,
          -0.5545510889849203,
          3.2613233609225665,
          1.03433897470513,
          -0.20151325723595134,
          -0.026146515903826384,
          -0.19179514842935289,
          -0.8657989069062361,
          -0.011837114522481318,
          -0.9300513393433796,
          0.6085583810153283,
          -0.6222195978714236,
          -1.0247791883432427,
          2.1371485346759966,
          -0.9251541260596596,
          -0.17952317807502466,
          -0.5969096817635869,
          -0.9875194195098052,
          0.5458507291811573,
          1.118252469599825,
          -0.06419951244882167,
          0.031654006904315884
         ],
         "xaxis": "x8",
         "y": [
          0.7488859249957294,
          -2.063476523426313,
          0.15896478732317448,
          0.9824428266957366,
          0.5177956680669261,
          1.2795287511749251,
          1.3168697401336789,
          -2.5769642163271804,
          -0.5223469831142037,
          1.8181176703709536,
          -0.472385080891169,
          0.5902248057458955,
          0.06501344080504949,
          -0.47080216571861333,
          0.18228275869868904,
          0.23126754721306877,
          0.6149010050060569,
          0.7222076794396597,
          -0.47556970422863515,
          0.460047800114019,
          0.20905587617029056,
          0.7386997197730129,
          0.2963947509662543,
          1.3324755157131947,
          1.0847241543052293,
          0.7238084792303607,
          0.031773286629343866,
          -0.85317652648317,
          -0.3103145393346325,
          -0.03628269694808576,
          -0.3086240085353415,
          -0.8791329349989142,
          -1.4582997557298272,
          1.0563940955502773,
          0.7624476857491007,
          -0.637472747395494,
          0.08463847795218485,
          -1.1360972676061123,
          0.3278612242444931,
          0.6074498411024112,
          -1.9401239947752962,
          -0.6993479106510858,
          1.3059278691514857,
          -0.19424188683695787,
          -1.2604848908802941,
          0.952687783783637,
          -1.546031553055093,
          -0.6993206460498765,
          0.20344776954368982,
          -0.7243873284737312,
          -0.9800294868969891,
          -0.514665260515114,
          1.0336926944205553,
          -0.9088425929534667,
          -1.2397144953831822,
          0.9812633628328463,
          2.7523411232946318,
          -0.7275897094517473,
          0.6909293763885511,
          0.679755401619041,
          -0.3870724045077387,
          0.8660805606258668,
          -1.3245161399204266,
          1.1927202884162393,
          0.08939780005427155,
          -2.806889952909305,
          0.8929360431986725,
          -0.12770744108226054,
          0.21199734276229967,
          1.1372829909715767,
          0.09620678459480445,
          -0.3018606425639405,
          0.9102322118714832,
          -2.309881595960726,
          -1.6100568373409712,
          0.6090688747514684,
          -0.6838011355845027,
          -0.2748716990341536,
          -0.4223440623301072,
          -0.8873989045199661,
          -0.0009738308528003652,
          0.10028669510880826,
          -0.048778800761219,
          1.3184511662605012,
          -2.195277463199274,
          0.34417282099715746,
          0.2628105585137296,
          1.4326207032621394,
          0.2935366035552767,
          0.39908458968185134,
          -1.4759639597995606,
          -0.560377497609232,
          -1.762548372904548,
          1.3007570365012764,
          0.1805535576155475,
          0.4187410435886277,
          -0.008350929356977793,
          -1.4548926844956653,
          -1.074772822423682,
          0.5854026103720574
         ],
         "yaxis": "y8"
        },
        {
         "line": {
          "color": "rgba(128, 128, 128, 1.0)",
          "dash": "solid",
          "shape": "linear",
          "width": 1.3
         },
         "marker": {
          "size": 2,
          "symbol": "circle"
         },
         "mode": "markers",
         "name": "C",
         "text": "",
         "type": "scatter",
         "x": [
          -0.8280260723763271,
          -2.77297444794199,
          -0.38121323391729234,
          0.7880707860623422,
          2.8084929576725313,
          -0.1374432130485793,
          1.4665828322027583,
          1.7170018404039853,
          -0.006694875240469727,
          -0.35801270109138483,
          -0.7945315217293085,
          1.107530808756093,
          1.1790484531176757,
          0.36440605216798233,
          -1.5822209826572298,
          -1.2750553918693035,
          -1.2090255857903993,
          0.4590850858171039,
          -0.6285482031372056,
          1.0546402699013748,
          1.5138351311137501,
          0.8734592513564242,
          0.21901261206315306,
          -1.163953212801199,
          -0.335892690218668,
          0.4938820380998607,
          0.06783004821863114,
          1.542059648394881,
          0.49156166686043756,
          0.4633288124694026,
          -0.9489982987198811,
          0.47065989470899516,
          -0.4418890963795218,
          0.44347045975400295,
          0.8144597660455606,
          -0.6531579459403273,
          0.42815418084727563,
          -0.3588910458379977,
          -0.5335759249000853,
          0.6314714718116694,
          -0.8487016591558267,
          1.5846252025402214,
          0.17310725166180807,
          0.27059605517156654,
          -0.4694392142146777,
          0.5838091465034632,
          -0.3432331323029411,
          -0.48966126380907626,
          -2.3796874131530377,
          1.3587330456455726,
          1.1171967076671219,
          -0.20850895799541944,
          -0.3995385709353827,
          -1.8147865778734724,
          0.7161603237047958,
          -1.269138912896145,
          -1.6827178168553847,
          -0.6674891664222559,
          -0.30249711294977955,
          0.6631651824638187,
          2.291182619859816,
          -2.458340895167761,
          0.2899567568659667,
          -0.47300884042820934,
          2.09432237150058,
          0.582786511773274,
          -1.1346112433030937,
          -1.2649618327532324,
          0.34316321337446215,
          -0.19277560479566427,
          0.33379569707167217,
          -1.517505142343097,
          -0.4055330148343431,
          1.3329366341718163,
          3.0880651844214007,
          -1.3533913810566096,
          0.3437532931939382,
          -1.6575292547862113,
          0.7154451417562238,
          -0.12577120476387404,
          -0.1221947706218079,
          0.5829755695712423,
          -1.5671691676011716,
          1.1105896726371092,
          -0.09369513621117644,
          1.0955857442776014,
          -1.4282369786985993,
          -0.05097785455827381,
          -0.5972071263206464,
          -1.256475896277932,
          -1.8851731596449193,
          0.828590542968046,
          -0.4062491091331472,
          0.0807500132107527,
          0.013163707403381393,
          -0.6217284887018927,
          -0.24693675551235092,
          0.06197700019368634,
          0.5634486026666133,
          0.6059138751307764
         ],
         "xaxis": "x9",
         "y": [
          1.7253801114530336,
          -0.8804409276344874,
          1.331116657890689,
          -0.21149950462188108,
          -1.167445572451072,
          -1.86682032962182,
          0.5550567292479028,
          0.5452866270236787,
          0.6339309155415728,
          0.231164891408304,
          -1.8305006882314347,
          0.06471049469239389,
          -1.1266744570399325,
          2.005310295649881,
          -0.028482335853937907,
          -0.47676328581315613,
          0.9303557807580285,
          -0.6960540968339621,
          -0.7265111451351663,
          0.6186778710316426,
          -1.5656749798051184,
          0.9086002976698601,
          -1.4057548790859178,
          -0.5775605048283244,
          -0.5714808957081108,
          -0.006524474517459756,
          -0.6090064439259069,
          0.8926472711827771,
          -0.9760585243827213,
          1.9663547435352045,
          1.4326657468524446,
          1.662004463772016,
          0.24510231590545106,
          -1.1140187962778287,
          -0.051942121865523286,
          -0.8724806670184981,
          -0.028508923489273388,
          -0.1319408669048997,
          1.0530214539978553,
          1.6995103988035576,
          0.17594259773996168,
          -2.2182295179966953,
          -0.18040527071059057,
          -0.6997057487838385,
          -0.2142205109056815,
          0.5487184958860298,
          -0.4079902648528655,
          -0.26977067737465493,
          -0.8243829409981692,
          0.0867872600282909,
          -1.0847228525825072,
          0.9540307463204664,
          0.10576031593004116,
          -0.7907611436276919,
          1.3570657440455447,
          1.31366121472068,
          1.0328400142798095,
          0.10777043870564415,
          1.3405761225949349,
          0.5325162439920655,
          1.3572146232639517,
          0.09864623747508508,
          -1.0844817479277369,
          0.06991885791354406,
          0.4330280919942761,
          0.3949368133459405,
          -0.07470513451635608,
          0.8947229547408788,
          -0.20101177512636403,
          -0.829289771380396,
          0.22612152082460252,
          2.1519403226862326,
          -0.5992918280704882,
          -0.915734701343928,
          -0.24813388814972398,
          -1.3952127945941872,
          0.37273712169823314,
          0.4067064042074707,
          1.488984685385158,
          -0.8106816010319763,
          -1.5421325647403865,
          1.330753230343414,
          -0.4338579419715875,
          0.023564367195433637,
          0.7189964343463359,
          0.6665475964066954,
          0.7161413728329881,
          0.1229643812477501,
          0.29786048037526636,
          -0.7587902514620694,
          0.676306827021562,
          0.472869803432536,
          -0.5311331200629258,
          -0.4414394903929416,
          0.43122606826674764,
          -0.7984767291316012,
          -0.21167247168939404,
          -0.8418568493843376,
          0.1003033539435394,
          0.9639176565339589
         ],
         "yaxis": "y9"
        },
        {
         "line": {
          "color": "rgba(128, 128, 128, 1.0)",
          "dash": "solid",
          "shape": "linear",
          "width": 1.3
         },
         "marker": {
          "size": 2,
          "symbol": "circle"
         },
         "mode": "markers",
         "name": "C",
         "text": "",
         "type": "scatter",
         "x": [
          0.7488859249957294,
          -2.063476523426313,
          0.15896478732317448,
          0.9824428266957366,
          0.5177956680669261,
          1.2795287511749251,
          1.3168697401336789,
          -2.5769642163271804,
          -0.5223469831142037,
          1.8181176703709536,
          -0.472385080891169,
          0.5902248057458955,
          0.06501344080504949,
          -0.47080216571861333,
          0.18228275869868904,
          0.23126754721306877,
          0.6149010050060569,
          0.7222076794396597,
          -0.47556970422863515,
          0.460047800114019,
          0.20905587617029056,
          0.7386997197730129,
          0.2963947509662543,
          1.3324755157131947,
          1.0847241543052293,
          0.7238084792303607,
          0.031773286629343866,
          -0.85317652648317,
          -0.3103145393346325,
          -0.03628269694808576,
          -0.3086240085353415,
          -0.8791329349989142,
          -1.4582997557298272,
          1.0563940955502773,
          0.7624476857491007,
          -0.637472747395494,
          0.08463847795218485,
          -1.1360972676061123,
          0.3278612242444931,
          0.6074498411024112,
          -1.9401239947752962,
          -0.6993479106510858,
          1.3059278691514857,
          -0.19424188683695787,
          -1.2604848908802941,
          0.952687783783637,
          -1.546031553055093,
          -0.6993206460498765,
          0.20344776954368982,
          -0.7243873284737312,
          -0.9800294868969891,
          -0.514665260515114,
          1.0336926944205553,
          -0.9088425929534667,
          -1.2397144953831822,
          0.9812633628328463,
          2.7523411232946318,
          -0.7275897094517473,
          0.6909293763885511,
          0.679755401619041,
          -0.3870724045077387,
          0.8660805606258668,
          -1.3245161399204266,
          1.1927202884162393,
          0.08939780005427155,
          -2.806889952909305,
          0.8929360431986725,
          -0.12770744108226054,
          0.21199734276229967,
          1.1372829909715767,
          0.09620678459480445,
          -0.3018606425639405,
          0.9102322118714832,
          -2.309881595960726,
          -1.6100568373409712,
          0.6090688747514684,
          -0.6838011355845027,
          -0.2748716990341536,
          -0.4223440623301072,
          -0.8873989045199661,
          -0.0009738308528003652,
          0.10028669510880826,
          -0.048778800761219,
          1.3184511662605012,
          -2.195277463199274,
          0.34417282099715746,
          0.2628105585137296,
          1.4326207032621394,
          0.2935366035552767,
          0.39908458968185134,
          -1.4759639597995606,
          -0.560377497609232,
          -1.762548372904548,
          1.3007570365012764,
          0.1805535576155475,
          0.4187410435886277,
          -0.008350929356977793,
          -1.4548926844956653,
          -1.074772822423682,
          0.5854026103720574
         ],
         "xaxis": "x10",
         "y": [
          1.7253801114530336,
          -0.8804409276344874,
          1.331116657890689,
          -0.21149950462188108,
          -1.167445572451072,
          -1.86682032962182,
          0.5550567292479028,
          0.5452866270236787,
          0.6339309155415728,
          0.231164891408304,
          -1.8305006882314347,
          0.06471049469239389,
          -1.1266744570399325,
          2.005310295649881,
          -0.028482335853937907,
          -0.47676328581315613,
          0.9303557807580285,
          -0.6960540968339621,
          -0.7265111451351663,
          0.6186778710316426,
          -1.5656749798051184,
          0.9086002976698601,
          -1.4057548790859178,
          -0.5775605048283244,
          -0.5714808957081108,
          -0.006524474517459756,
          -0.6090064439259069,
          0.8926472711827771,
          -0.9760585243827213,
          1.9663547435352045,
          1.4326657468524446,
          1.662004463772016,
          0.24510231590545106,
          -1.1140187962778287,
          -0.051942121865523286,
          -0.8724806670184981,
          -0.028508923489273388,
          -0.1319408669048997,
          1.0530214539978553,
          1.6995103988035576,
          0.17594259773996168,
          -2.2182295179966953,
          -0.18040527071059057,
          -0.6997057487838385,
          -0.2142205109056815,
          0.5487184958860298,
          -0.4079902648528655,
          -0.26977067737465493,
          -0.8243829409981692,
          0.0867872600282909,
          -1.0847228525825072,
          0.9540307463204664,
          0.10576031593004116,
          -0.7907611436276919,
          1.3570657440455447,
          1.31366121472068,
          1.0328400142798095,
          0.10777043870564415,
          1.3405761225949349,
          0.5325162439920655,
          1.3572146232639517,
          0.09864623747508508,
          -1.0844817479277369,
          0.06991885791354406,
          0.4330280919942761,
          0.3949368133459405,
          -0.07470513451635608,
          0.8947229547408788,
          -0.20101177512636403,
          -0.829289771380396,
          0.22612152082460252,
          2.1519403226862326,
          -0.5992918280704882,
          -0.915734701343928,
          -0.24813388814972398,
          -1.3952127945941872,
          0.37273712169823314,
          0.4067064042074707,
          1.488984685385158,
          -0.8106816010319763,
          -1.5421325647403865,
          1.330753230343414,
          -0.4338579419715875,
          0.023564367195433637,
          0.7189964343463359,
          0.6665475964066954,
          0.7161413728329881,
          0.1229643812477501,
          0.29786048037526636,
          -0.7587902514620694,
          0.676306827021562,
          0.472869803432536,
          -0.5311331200629258,
          -0.4414394903929416,
          0.43122606826674764,
          -0.7984767291316012,
          -0.21167247168939404,
          -0.8418568493843376,
          0.1003033539435394,
          0.9639176565339589
         ],
         "yaxis": "y10"
        },
        {
         "histfunc": "count",
         "histnorm": "",
         "marker": {
          "color": "rgba(50, 171, 96, 1.0)",
          "line": {
           "color": "#4D5663",
           "width": 1.3
          }
         },
         "name": "C",
         "nbinsx": 10,
         "opacity": 0.8,
         "orientation": "v",
         "type": "histogram",
         "x": [
          1.7253801114530336,
          -0.8804409276344874,
          1.331116657890689,
          -0.21149950462188108,
          -1.167445572451072,
          -1.86682032962182,
          0.5550567292479028,
          0.5452866270236787,
          0.6339309155415728,
          0.231164891408304,
          -1.8305006882314347,
          0.06471049469239389,
          -1.1266744570399325,
          2.005310295649881,
          -0.028482335853937907,
          -0.47676328581315613,
          0.9303557807580285,
          -0.6960540968339621,
          -0.7265111451351663,
          0.6186778710316426,
          -1.5656749798051184,
          0.9086002976698601,
          -1.4057548790859178,
          -0.5775605048283244,
          -0.5714808957081108,
          -0.006524474517459756,
          -0.6090064439259069,
          0.8926472711827771,
          -0.9760585243827213,
          1.9663547435352045,
          1.4326657468524446,
          1.662004463772016,
          0.24510231590545106,
          -1.1140187962778287,
          -0.051942121865523286,
          -0.8724806670184981,
          -0.028508923489273388,
          -0.1319408669048997,
          1.0530214539978553,
          1.6995103988035576,
          0.17594259773996168,
          -2.2182295179966953,
          -0.18040527071059057,
          -0.6997057487838385,
          -0.2142205109056815,
          0.5487184958860298,
          -0.4079902648528655,
          -0.26977067737465493,
          -0.8243829409981692,
          0.0867872600282909,
          -1.0847228525825072,
          0.9540307463204664,
          0.10576031593004116,
          -0.7907611436276919,
          1.3570657440455447,
          1.31366121472068,
          1.0328400142798095,
          0.10777043870564415,
          1.3405761225949349,
          0.5325162439920655,
          1.3572146232639517,
          0.09864623747508508,
          -1.0844817479277369,
          0.06991885791354406,
          0.4330280919942761,
          0.3949368133459405,
          -0.07470513451635608,
          0.8947229547408788,
          -0.20101177512636403,
          -0.829289771380396,
          0.22612152082460252,
          2.1519403226862326,
          -0.5992918280704882,
          -0.915734701343928,
          -0.24813388814972398,
          -1.3952127945941872,
          0.37273712169823314,
          0.4067064042074707,
          1.488984685385158,
          -0.8106816010319763,
          -1.5421325647403865,
          1.330753230343414,
          -0.4338579419715875,
          0.023564367195433637,
          0.7189964343463359,
          0.6665475964066954,
          0.7161413728329881,
          0.1229643812477501,
          0.29786048037526636,
          -0.7587902514620694,
          0.676306827021562,
          0.472869803432536,
          -0.5311331200629258,
          -0.4414394903929416,
          0.43122606826674764,
          -0.7984767291316012,
          -0.21167247168939404,
          -0.8418568493843376,
          0.1003033539435394,
          0.9639176565339589
         ],
         "xaxis": "x11",
         "yaxis": "y11"
        },
        {
         "line": {
          "color": "rgba(128, 128, 128, 1.0)",
          "dash": "solid",
          "shape": "linear",
          "width": 1.3
         },
         "marker": {
          "size": 2,
          "symbol": "circle"
         },
         "mode": "markers",
         "name": "C",
         "text": "",
         "type": "scatter",
         "x": [
          0.4882068764644425,
          -0.1730599122555562,
          -0.18029327282843913,
          0.08897401757083999,
          0.4759079771296569,
          -0.7475729640986748,
          -0.6314103667912152,
          -0.5429540933252955,
          -0.6867032832812933,
          0.003516713451322575,
          0.2690133393221728,
          1.9113918370343146,
          0.8942333609097131,
          -0.6147020080793911,
          -0.29627748478840876,
          -0.7135564071003545,
          1.3901561233784447,
          -0.5446223145677315,
          0.665946983365099,
          -0.7496721950249093,
          -0.40733460856123066,
          0.27465116526722494,
          1.5320952066625422,
          1.7492770935729696,
          -1.1543261651182537,
          -1.184155527301778,
          0.028700526904036155,
          1.2438773766120852,
          0.4365147943692492,
          1.1408167992468035,
          -1.8258998355515466,
          1.052927076581993,
          -0.25881136499559954,
          1.1633980352981832,
          -1.1276238025508922,
          0.29249241538744025,
          -0.9939865758424621,
          0.8345157084831906,
          0.10678369466768305,
          0.6418979095760036,
          0.9729734554120418,
          -1.728577051930168,
          -2.046106191789923,
          -2.3617950208986094,
          1.5542527388434406,
          0.11607119589178173,
          -1.5037217035024932,
          -0.2330021546379168,
          0.9294035212277092,
          -0.6546411181672671,
          0.37836134228099827,
          -0.7874206814909359,
          1.0745567164294885,
          -0.8421542414903073,
          1.507068399271997,
          0.04221631656382646,
          0.9985323800813999,
          0.07813153273720085,
          0.3582652484185667,
          -0.26568314239766294,
          2.0566410122848993,
          0.23062388105590104,
          -0.6224371068334607,
          2.8343397633466263,
          -1.0235495065224018,
          -0.7326214364645792,
          -0.9588926845494297,
          0.1324900332792681,
          0.13374143364652147,
          0.8303828681263521,
          -0.401954368463575,
          -0.2993793998301332,
          -1.1751482554395292,
          -0.615421356355059,
          -0.3806859547104433,
          0.6297112168337228,
          -0.49686252054116276,
          -0.3710424946031853,
          0.862727439889303,
          -0.5545510889849203,
          3.2613233609225665,
          1.03433897470513,
          -0.20151325723595134,
          -0.026146515903826384,
          -0.19179514842935289,
          -0.8657989069062361,
          -0.011837114522481318,
          -0.9300513393433796,
          0.6085583810153283,
          -0.6222195978714236,
          -1.0247791883432427,
          2.1371485346759966,
          -0.9251541260596596,
          -0.17952317807502466,
          -0.5969096817635869,
          -0.9875194195098052,
          0.5458507291811573,
          1.118252469599825,
          -0.06419951244882167,
          0.031654006904315884
         ],
         "xaxis": "x12",
         "y": [
          1.7253801114530336,
          -0.8804409276344874,
          1.331116657890689,
          -0.21149950462188108,
          -1.167445572451072,
          -1.86682032962182,
          0.5550567292479028,
          0.5452866270236787,
          0.6339309155415728,
          0.231164891408304,
          -1.8305006882314347,
          0.06471049469239389,
          -1.1266744570399325,
          2.005310295649881,
          -0.028482335853937907,
          -0.47676328581315613,
          0.9303557807580285,
          -0.6960540968339621,
          -0.7265111451351663,
          0.6186778710316426,
          -1.5656749798051184,
          0.9086002976698601,
          -1.4057548790859178,
          -0.5775605048283244,
          -0.5714808957081108,
          -0.006524474517459756,
          -0.6090064439259069,
          0.8926472711827771,
          -0.9760585243827213,
          1.9663547435352045,
          1.4326657468524446,
          1.662004463772016,
          0.24510231590545106,
          -1.1140187962778287,
          -0.051942121865523286,
          -0.8724806670184981,
          -0.028508923489273388,
          -0.1319408669048997,
          1.0530214539978553,
          1.6995103988035576,
          0.17594259773996168,
          -2.2182295179966953,
          -0.18040527071059057,
          -0.6997057487838385,
          -0.2142205109056815,
          0.5487184958860298,
          -0.4079902648528655,
          -0.26977067737465493,
          -0.8243829409981692,
          0.0867872600282909,
          -1.0847228525825072,
          0.9540307463204664,
          0.10576031593004116,
          -0.7907611436276919,
          1.3570657440455447,
          1.31366121472068,
          1.0328400142798095,
          0.10777043870564415,
          1.3405761225949349,
          0.5325162439920655,
          1.3572146232639517,
          0.09864623747508508,
          -1.0844817479277369,
          0.06991885791354406,
          0.4330280919942761,
          0.3949368133459405,
          -0.07470513451635608,
          0.8947229547408788,
          -0.20101177512636403,
          -0.829289771380396,
          0.22612152082460252,
          2.1519403226862326,
          -0.5992918280704882,
          -0.915734701343928,
          -0.24813388814972398,
          -1.3952127945941872,
          0.37273712169823314,
          0.4067064042074707,
          1.488984685385158,
          -0.8106816010319763,
          -1.5421325647403865,
          1.330753230343414,
          -0.4338579419715875,
          0.023564367195433637,
          0.7189964343463359,
          0.6665475964066954,
          0.7161413728329881,
          0.1229643812477501,
          0.29786048037526636,
          -0.7587902514620694,
          0.676306827021562,
          0.472869803432536,
          -0.5311331200629258,
          -0.4414394903929416,
          0.43122606826674764,
          -0.7984767291316012,
          -0.21167247168939404,
          -0.8418568493843376,
          0.1003033539435394,
          0.9639176565339589
         ],
         "yaxis": "y12"
        },
        {
         "line": {
          "color": "rgba(128, 128, 128, 1.0)",
          "dash": "solid",
          "shape": "linear",
          "width": 1.3
         },
         "marker": {
          "size": 2,
          "symbol": "circle"
         },
         "mode": "markers",
         "name": "D",
         "text": "",
         "type": "scatter",
         "x": [
          -0.8280260723763271,
          -2.77297444794199,
          -0.38121323391729234,
          0.7880707860623422,
          2.8084929576725313,
          -0.1374432130485793,
          1.4665828322027583,
          1.7170018404039853,
          -0.006694875240469727,
          -0.35801270109138483,
          -0.7945315217293085,
          1.107530808756093,
          1.1790484531176757,
          0.36440605216798233,
          -1.5822209826572298,
          -1.2750553918693035,
          -1.2090255857903993,
          0.4590850858171039,
          -0.6285482031372056,
          1.0546402699013748,
          1.5138351311137501,
          0.8734592513564242,
          0.21901261206315306,
          -1.163953212801199,
          -0.335892690218668,
          0.4938820380998607,
          0.06783004821863114,
          1.542059648394881,
          0.49156166686043756,
          0.4633288124694026,
          -0.9489982987198811,
          0.47065989470899516,
          -0.4418890963795218,
          0.44347045975400295,
          0.8144597660455606,
          -0.6531579459403273,
          0.42815418084727563,
          -0.3588910458379977,
          -0.5335759249000853,
          0.6314714718116694,
          -0.8487016591558267,
          1.5846252025402214,
          0.17310725166180807,
          0.27059605517156654,
          -0.4694392142146777,
          0.5838091465034632,
          -0.3432331323029411,
          -0.48966126380907626,
          -2.3796874131530377,
          1.3587330456455726,
          1.1171967076671219,
          -0.20850895799541944,
          -0.3995385709353827,
          -1.8147865778734724,
          0.7161603237047958,
          -1.269138912896145,
          -1.6827178168553847,
          -0.6674891664222559,
          -0.30249711294977955,
          0.6631651824638187,
          2.291182619859816,
          -2.458340895167761,
          0.2899567568659667,
          -0.47300884042820934,
          2.09432237150058,
          0.582786511773274,
          -1.1346112433030937,
          -1.2649618327532324,
          0.34316321337446215,
          -0.19277560479566427,
          0.33379569707167217,
          -1.517505142343097,
          -0.4055330148343431,
          1.3329366341718163,
          3.0880651844214007,
          -1.3533913810566096,
          0.3437532931939382,
          -1.6575292547862113,
          0.7154451417562238,
          -0.12577120476387404,
          -0.1221947706218079,
          0.5829755695712423,
          -1.5671691676011716,
          1.1105896726371092,
          -0.09369513621117644,
          1.0955857442776014,
          -1.4282369786985993,
          -0.05097785455827381,
          -0.5972071263206464,
          -1.256475896277932,
          -1.8851731596449193,
          0.828590542968046,
          -0.4062491091331472,
          0.0807500132107527,
          0.013163707403381393,
          -0.6217284887018927,
          -0.24693675551235092,
          0.06197700019368634,
          0.5634486026666133,
          0.6059138751307764
         ],
         "xaxis": "x13",
         "y": [
          0.4882068764644425,
          -0.1730599122555562,
          -0.18029327282843913,
          0.08897401757083999,
          0.4759079771296569,
          -0.7475729640986748,
          -0.6314103667912152,
          -0.5429540933252955,
          -0.6867032832812933,
          0.003516713451322575,
          0.2690133393221728,
          1.9113918370343146,
          0.8942333609097131,
          -0.6147020080793911,
          -0.29627748478840876,
          -0.7135564071003545,
          1.3901561233784447,
          -0.5446223145677315,
          0.665946983365099,
          -0.7496721950249093,
          -0.40733460856123066,
          0.27465116526722494,
          1.5320952066625422,
          1.7492770935729696,
          -1.1543261651182537,
          -1.184155527301778,
          0.028700526904036155,
          1.2438773766120852,
          0.4365147943692492,
          1.1408167992468035,
          -1.8258998355515466,
          1.052927076581993,
          -0.25881136499559954,
          1.1633980352981832,
          -1.1276238025508922,
          0.29249241538744025,
          -0.9939865758424621,
          0.8345157084831906,
          0.10678369466768305,
          0.6418979095760036,
          0.9729734554120418,
          -1.728577051930168,
          -2.046106191789923,
          -2.3617950208986094,
          1.5542527388434406,
          0.11607119589178173,
          -1.5037217035024932,
          -0.2330021546379168,
          0.9294035212277092,
          -0.6546411181672671,
          0.37836134228099827,
          -0.7874206814909359,
          1.0745567164294885,
          -0.8421542414903073,
          1.507068399271997,
          0.04221631656382646,
          0.9985323800813999,
          0.07813153273720085,
          0.3582652484185667,
          -0.26568314239766294,
          2.0566410122848993,
          0.23062388105590104,
          -0.6224371068334607,
          2.8343397633466263,
          -1.0235495065224018,
          -0.7326214364645792,
          -0.9588926845494297,
          0.1324900332792681,
          0.13374143364652147,
          0.8303828681263521,
          -0.401954368463575,
          -0.2993793998301332,
          -1.1751482554395292,
          -0.615421356355059,
          -0.3806859547104433,
          0.6297112168337228,
          -0.49686252054116276,
          -0.3710424946031853,
          0.862727439889303,
          -0.5545510889849203,
          3.2613233609225665,
          1.03433897470513,
          -0.20151325723595134,
          -0.026146515903826384,
          -0.19179514842935289,
          -0.8657989069062361,
          -0.011837114522481318,
          -0.9300513393433796,
          0.6085583810153283,
          -0.6222195978714236,
          -1.0247791883432427,
          2.1371485346759966,
          -0.9251541260596596,
          -0.17952317807502466,
          -0.5969096817635869,
          -0.9875194195098052,
          0.5458507291811573,
          1.118252469599825,
          -0.06419951244882167,
          0.031654006904315884
         ],
         "yaxis": "y13"
        },
        {
         "line": {
          "color": "rgba(128, 128, 128, 1.0)",
          "dash": "solid",
          "shape": "linear",
          "width": 1.3
         },
         "marker": {
          "size": 2,
          "symbol": "circle"
         },
         "mode": "markers",
         "name": "D",
         "text": "",
         "type": "scatter",
         "x": [
          0.7488859249957294,
          -2.063476523426313,
          0.15896478732317448,
          0.9824428266957366,
          0.5177956680669261,
          1.2795287511749251,
          1.3168697401336789,
          -2.5769642163271804,
          -0.5223469831142037,
          1.8181176703709536,
          -0.472385080891169,
          0.5902248057458955,
          0.06501344080504949,
          -0.47080216571861333,
          0.18228275869868904,
          0.23126754721306877,
          0.6149010050060569,
          0.7222076794396597,
          -0.47556970422863515,
          0.460047800114019,
          0.20905587617029056,
          0.7386997197730129,
          0.2963947509662543,
          1.3324755157131947,
          1.0847241543052293,
          0.7238084792303607,
          0.031773286629343866,
          -0.85317652648317,
          -0.3103145393346325,
          -0.03628269694808576,
          -0.3086240085353415,
          -0.8791329349989142,
          -1.4582997557298272,
          1.0563940955502773,
          0.7624476857491007,
          -0.637472747395494,
          0.08463847795218485,
          -1.1360972676061123,
          0.3278612242444931,
          0.6074498411024112,
          -1.9401239947752962,
          -0.6993479106510858,
          1.3059278691514857,
          -0.19424188683695787,
          -1.2604848908802941,
          0.952687783783637,
          -1.546031553055093,
          -0.6993206460498765,
          0.20344776954368982,
          -0.7243873284737312,
          -0.9800294868969891,
          -0.514665260515114,
          1.0336926944205553,
          -0.9088425929534667,
          -1.2397144953831822,
          0.9812633628328463,
          2.7523411232946318,
          -0.7275897094517473,
          0.6909293763885511,
          0.679755401619041,
          -0.3870724045077387,
          0.8660805606258668,
          -1.3245161399204266,
          1.1927202884162393,
          0.08939780005427155,
          -2.806889952909305,
          0.8929360431986725,
          -0.12770744108226054,
          0.21199734276229967,
          1.1372829909715767,
          0.09620678459480445,
          -0.3018606425639405,
          0.9102322118714832,
          -2.309881595960726,
          -1.6100568373409712,
          0.6090688747514684,
          -0.6838011355845027,
          -0.2748716990341536,
          -0.4223440623301072,
          -0.8873989045199661,
          -0.0009738308528003652,
          0.10028669510880826,
          -0.048778800761219,
          1.3184511662605012,
          -2.195277463199274,
          0.34417282099715746,
          0.2628105585137296,
          1.4326207032621394,
          0.2935366035552767,
          0.39908458968185134,
          -1.4759639597995606,
          -0.560377497609232,
          -1.762548372904548,
          1.3007570365012764,
          0.1805535576155475,
          0.4187410435886277,
          -0.008350929356977793,
          -1.4548926844956653,
          -1.074772822423682,
          0.5854026103720574
         ],
         "xaxis": "x14",
         "y": [
          0.4882068764644425,
          -0.1730599122555562,
          -0.18029327282843913,
          0.08897401757083999,
          0.4759079771296569,
          -0.7475729640986748,
          -0.6314103667912152,
          -0.5429540933252955,
          -0.6867032832812933,
          0.003516713451322575,
          0.2690133393221728,
          1.9113918370343146,
          0.8942333609097131,
          -0.6147020080793911,
          -0.29627748478840876,
          -0.7135564071003545,
          1.3901561233784447,
          -0.5446223145677315,
          0.665946983365099,
          -0.7496721950249093,
          -0.40733460856123066,
          0.27465116526722494,
          1.5320952066625422,
          1.7492770935729696,
          -1.1543261651182537,
          -1.184155527301778,
          0.028700526904036155,
          1.2438773766120852,
          0.4365147943692492,
          1.1408167992468035,
          -1.8258998355515466,
          1.052927076581993,
          -0.25881136499559954,
          1.1633980352981832,
          -1.1276238025508922,
          0.29249241538744025,
          -0.9939865758424621,
          0.8345157084831906,
          0.10678369466768305,
          0.6418979095760036,
          0.9729734554120418,
          -1.728577051930168,
          -2.046106191789923,
          -2.3617950208986094,
          1.5542527388434406,
          0.11607119589178173,
          -1.5037217035024932,
          -0.2330021546379168,
          0.9294035212277092,
          -0.6546411181672671,
          0.37836134228099827,
          -0.7874206814909359,
          1.0745567164294885,
          -0.8421542414903073,
          1.507068399271997,
          0.04221631656382646,
          0.9985323800813999,
          0.07813153273720085,
          0.3582652484185667,
          -0.26568314239766294,
          2.0566410122848993,
          0.23062388105590104,
          -0.6224371068334607,
          2.8343397633466263,
          -1.0235495065224018,
          -0.7326214364645792,
          -0.9588926845494297,
          0.1324900332792681,
          0.13374143364652147,
          0.8303828681263521,
          -0.401954368463575,
          -0.2993793998301332,
          -1.1751482554395292,
          -0.615421356355059,
          -0.3806859547104433,
          0.6297112168337228,
          -0.49686252054116276,
          -0.3710424946031853,
          0.862727439889303,
          -0.5545510889849203,
          3.2613233609225665,
          1.03433897470513,
          -0.20151325723595134,
          -0.026146515903826384,
          -0.19179514842935289,
          -0.8657989069062361,
          -0.011837114522481318,
          -0.9300513393433796,
          0.6085583810153283,
          -0.6222195978714236,
          -1.0247791883432427,
          2.1371485346759966,
          -0.9251541260596596,
          -0.17952317807502466,
          -0.5969096817635869,
          -0.9875194195098052,
          0.5458507291811573,
          1.118252469599825,
          -0.06419951244882167,
          0.031654006904315884
         ],
         "yaxis": "y14"
        },
        {
         "line": {
          "color": "rgba(128, 128, 128, 1.0)",
          "dash": "solid",
          "shape": "linear",
          "width": 1.3
         },
         "marker": {
          "size": 2,
          "symbol": "circle"
         },
         "mode": "markers",
         "name": "D",
         "text": "",
         "type": "scatter",
         "x": [
          1.7253801114530336,
          -0.8804409276344874,
          1.331116657890689,
          -0.21149950462188108,
          -1.167445572451072,
          -1.86682032962182,
          0.5550567292479028,
          0.5452866270236787,
          0.6339309155415728,
          0.231164891408304,
          -1.8305006882314347,
          0.06471049469239389,
          -1.1266744570399325,
          2.005310295649881,
          -0.028482335853937907,
          -0.47676328581315613,
          0.9303557807580285,
          -0.6960540968339621,
          -0.7265111451351663,
          0.6186778710316426,
          -1.5656749798051184,
          0.9086002976698601,
          -1.4057548790859178,
          -0.5775605048283244,
          -0.5714808957081108,
          -0.006524474517459756,
          -0.6090064439259069,
          0.8926472711827771,
          -0.9760585243827213,
          1.9663547435352045,
          1.4326657468524446,
          1.662004463772016,
          0.24510231590545106,
          -1.1140187962778287,
          -0.051942121865523286,
          -0.8724806670184981,
          -0.028508923489273388,
          -0.1319408669048997,
          1.0530214539978553,
          1.6995103988035576,
          0.17594259773996168,
          -2.2182295179966953,
          -0.18040527071059057,
          -0.6997057487838385,
          -0.2142205109056815,
          0.5487184958860298,
          -0.4079902648528655,
          -0.26977067737465493,
          -0.8243829409981692,
          0.0867872600282909,
          -1.0847228525825072,
          0.9540307463204664,
          0.10576031593004116,
          -0.7907611436276919,
          1.3570657440455447,
          1.31366121472068,
          1.0328400142798095,
          0.10777043870564415,
          1.3405761225949349,
          0.5325162439920655,
          1.3572146232639517,
          0.09864623747508508,
          -1.0844817479277369,
          0.06991885791354406,
          0.4330280919942761,
          0.3949368133459405,
          -0.07470513451635608,
          0.8947229547408788,
          -0.20101177512636403,
          -0.829289771380396,
          0.22612152082460252,
          2.1519403226862326,
          -0.5992918280704882,
          -0.915734701343928,
          -0.24813388814972398,
          -1.3952127945941872,
          0.37273712169823314,
          0.4067064042074707,
          1.488984685385158,
          -0.8106816010319763,
          -1.5421325647403865,
          1.330753230343414,
          -0.4338579419715875,
          0.023564367195433637,
          0.7189964343463359,
          0.6665475964066954,
          0.7161413728329881,
          0.1229643812477501,
          0.29786048037526636,
          -0.7587902514620694,
          0.676306827021562,
          0.472869803432536,
          -0.5311331200629258,
          -0.4414394903929416,
          0.43122606826674764,
          -0.7984767291316012,
          -0.21167247168939404,
          -0.8418568493843376,
          0.1003033539435394,
          0.9639176565339589
         ],
         "xaxis": "x15",
         "y": [
          0.4882068764644425,
          -0.1730599122555562,
          -0.18029327282843913,
          0.08897401757083999,
          0.4759079771296569,
          -0.7475729640986748,
          -0.6314103667912152,
          -0.5429540933252955,
          -0.6867032832812933,
          0.003516713451322575,
          0.2690133393221728,
          1.9113918370343146,
          0.8942333609097131,
          -0.6147020080793911,
          -0.29627748478840876,
          -0.7135564071003545,
          1.3901561233784447,
          -0.5446223145677315,
          0.665946983365099,
          -0.7496721950249093,
          -0.40733460856123066,
          0.27465116526722494,
          1.5320952066625422,
          1.7492770935729696,
          -1.1543261651182537,
          -1.184155527301778,
          0.028700526904036155,
          1.2438773766120852,
          0.4365147943692492,
          1.1408167992468035,
          -1.8258998355515466,
          1.052927076581993,
          -0.25881136499559954,
          1.1633980352981832,
          -1.1276238025508922,
          0.29249241538744025,
          -0.9939865758424621,
          0.8345157084831906,
          0.10678369466768305,
          0.6418979095760036,
          0.9729734554120418,
          -1.728577051930168,
          -2.046106191789923,
          -2.3617950208986094,
          1.5542527388434406,
          0.11607119589178173,
          -1.5037217035024932,
          -0.2330021546379168,
          0.9294035212277092,
          -0.6546411181672671,
          0.37836134228099827,
          -0.7874206814909359,
          1.0745567164294885,
          -0.8421542414903073,
          1.507068399271997,
          0.04221631656382646,
          0.9985323800813999,
          0.07813153273720085,
          0.3582652484185667,
          -0.26568314239766294,
          2.0566410122848993,
          0.23062388105590104,
          -0.6224371068334607,
          2.8343397633466263,
          -1.0235495065224018,
          -0.7326214364645792,
          -0.9588926845494297,
          0.1324900332792681,
          0.13374143364652147,
          0.8303828681263521,
          -0.401954368463575,
          -0.2993793998301332,
          -1.1751482554395292,
          -0.615421356355059,
          -0.3806859547104433,
          0.6297112168337228,
          -0.49686252054116276,
          -0.3710424946031853,
          0.862727439889303,
          -0.5545510889849203,
          3.2613233609225665,
          1.03433897470513,
          -0.20151325723595134,
          -0.026146515903826384,
          -0.19179514842935289,
          -0.8657989069062361,
          -0.011837114522481318,
          -0.9300513393433796,
          0.6085583810153283,
          -0.6222195978714236,
          -1.0247791883432427,
          2.1371485346759966,
          -0.9251541260596596,
          -0.17952317807502466,
          -0.5969096817635869,
          -0.9875194195098052,
          0.5458507291811573,
          1.118252469599825,
          -0.06419951244882167,
          0.031654006904315884
         ],
         "yaxis": "y15"
        },
        {
         "histfunc": "count",
         "histnorm": "",
         "marker": {
          "color": "rgba(128, 0, 128, 1.0)",
          "line": {
           "color": "#4D5663",
           "width": 1.3
          }
         },
         "name": "D",
         "nbinsx": 10,
         "opacity": 0.8,
         "orientation": "v",
         "type": "histogram",
         "x": [
          0.4882068764644425,
          -0.1730599122555562,
          -0.18029327282843913,
          0.08897401757083999,
          0.4759079771296569,
          -0.7475729640986748,
          -0.6314103667912152,
          -0.5429540933252955,
          -0.6867032832812933,
          0.003516713451322575,
          0.2690133393221728,
          1.9113918370343146,
          0.8942333609097131,
          -0.6147020080793911,
          -0.29627748478840876,
          -0.7135564071003545,
          1.3901561233784447,
          -0.5446223145677315,
          0.665946983365099,
          -0.7496721950249093,
          -0.40733460856123066,
          0.27465116526722494,
          1.5320952066625422,
          1.7492770935729696,
          -1.1543261651182537,
          -1.184155527301778,
          0.028700526904036155,
          1.2438773766120852,
          0.4365147943692492,
          1.1408167992468035,
          -1.8258998355515466,
          1.052927076581993,
          -0.25881136499559954,
          1.1633980352981832,
          -1.1276238025508922,
          0.29249241538744025,
          -0.9939865758424621,
          0.8345157084831906,
          0.10678369466768305,
          0.6418979095760036,
          0.9729734554120418,
          -1.728577051930168,
          -2.046106191789923,
          -2.3617950208986094,
          1.5542527388434406,
          0.11607119589178173,
          -1.5037217035024932,
          -0.2330021546379168,
          0.9294035212277092,
          -0.6546411181672671,
          0.37836134228099827,
          -0.7874206814909359,
          1.0745567164294885,
          -0.8421542414903073,
          1.507068399271997,
          0.04221631656382646,
          0.9985323800813999,
          0.07813153273720085,
          0.3582652484185667,
          -0.26568314239766294,
          2.0566410122848993,
          0.23062388105590104,
          -0.6224371068334607,
          2.8343397633466263,
          -1.0235495065224018,
          -0.7326214364645792,
          -0.9588926845494297,
          0.1324900332792681,
          0.13374143364652147,
          0.8303828681263521,
          -0.401954368463575,
          -0.2993793998301332,
          -1.1751482554395292,
          -0.615421356355059,
          -0.3806859547104433,
          0.6297112168337228,
          -0.49686252054116276,
          -0.3710424946031853,
          0.862727439889303,
          -0.5545510889849203,
          3.2613233609225665,
          1.03433897470513,
          -0.20151325723595134,
          -0.026146515903826384,
          -0.19179514842935289,
          -0.8657989069062361,
          -0.011837114522481318,
          -0.9300513393433796,
          0.6085583810153283,
          -0.6222195978714236,
          -1.0247791883432427,
          2.1371485346759966,
          -0.9251541260596596,
          -0.17952317807502466,
          -0.5969096817635869,
          -0.9875194195098052,
          0.5458507291811573,
          1.118252469599825,
          -0.06419951244882167,
          0.031654006904315884
         ],
         "xaxis": "x16",
         "yaxis": "y16"
        }
       ],
       "layout": {
        "bargap": 0.02,
        "legend": {
         "bgcolor": "#F5F6F9",
         "font": {
          "color": "#4D5663"
         }
        },
        "paper_bgcolor": "#F5F6F9",
        "plot_bgcolor": "#F5F6F9",
        "showlegend": false,
        "template": {
         "data": {
          "bar": [
           {
            "error_x": {
             "color": "#2a3f5f"
            },
            "error_y": {
             "color": "#2a3f5f"
            },
            "marker": {
             "line": {
              "color": "#E5ECF6",
              "width": 0.5
             }
            },
            "type": "bar"
           }
          ],
          "barpolar": [
           {
            "marker": {
             "line": {
              "color": "#E5ECF6",
              "width": 0.5
             }
            },
            "type": "barpolar"
           }
          ],
          "carpet": [
           {
            "aaxis": {
             "endlinecolor": "#2a3f5f",
             "gridcolor": "white",
             "linecolor": "white",
             "minorgridcolor": "white",
             "startlinecolor": "#2a3f5f"
            },
            "baxis": {
             "endlinecolor": "#2a3f5f",
             "gridcolor": "white",
             "linecolor": "white",
             "minorgridcolor": "white",
             "startlinecolor": "#2a3f5f"
            },
            "type": "carpet"
           }
          ],
          "choropleth": [
           {
            "colorbar": {
             "outlinewidth": 0,
             "ticks": ""
            },
            "type": "choropleth"
           }
          ],
          "contour": [
           {
            "colorbar": {
             "outlinewidth": 0,
             "ticks": ""
            },
            "colorscale": [
             [
              0,
              "#0d0887"
             ],
             [
              0.1111111111111111,
              "#46039f"
             ],
             [
              0.2222222222222222,
              "#7201a8"
             ],
             [
              0.3333333333333333,
              "#9c179e"
             ],
             [
              0.4444444444444444,
              "#bd3786"
             ],
             [
              0.5555555555555556,
              "#d8576b"
             ],
             [
              0.6666666666666666,
              "#ed7953"
             ],
             [
              0.7777777777777778,
              "#fb9f3a"
             ],
             [
              0.8888888888888888,
              "#fdca26"
             ],
             [
              1,
              "#f0f921"
             ]
            ],
            "type": "contour"
           }
          ],
          "contourcarpet": [
           {
            "colorbar": {
             "outlinewidth": 0,
             "ticks": ""
            },
            "type": "contourcarpet"
           }
          ],
          "heatmap": [
           {
            "colorbar": {
             "outlinewidth": 0,
             "ticks": ""
            },
            "colorscale": [
             [
              0,
              "#0d0887"
             ],
             [
              0.1111111111111111,
              "#46039f"
             ],
             [
              0.2222222222222222,
              "#7201a8"
             ],
             [
              0.3333333333333333,
              "#9c179e"
             ],
             [
              0.4444444444444444,
              "#bd3786"
             ],
             [
              0.5555555555555556,
              "#d8576b"
             ],
             [
              0.6666666666666666,
              "#ed7953"
             ],
             [
              0.7777777777777778,
              "#fb9f3a"
             ],
             [
              0.8888888888888888,
              "#fdca26"
             ],
             [
              1,
              "#f0f921"
             ]
            ],
            "type": "heatmap"
           }
          ],
          "heatmapgl": [
           {
            "colorbar": {
             "outlinewidth": 0,
             "ticks": ""
            },
            "colorscale": [
             [
              0,
              "#0d0887"
             ],
             [
              0.1111111111111111,
              "#46039f"
             ],
             [
              0.2222222222222222,
              "#7201a8"
             ],
             [
              0.3333333333333333,
              "#9c179e"
             ],
             [
              0.4444444444444444,
              "#bd3786"
             ],
             [
              0.5555555555555556,
              "#d8576b"
             ],
             [
              0.6666666666666666,
              "#ed7953"
             ],
             [
              0.7777777777777778,
              "#fb9f3a"
             ],
             [
              0.8888888888888888,
              "#fdca26"
             ],
             [
              1,
              "#f0f921"
             ]
            ],
            "type": "heatmapgl"
           }
          ],
          "histogram": [
           {
            "marker": {
             "colorbar": {
              "outlinewidth": 0,
              "ticks": ""
             }
            },
            "type": "histogram"
           }
          ],
          "histogram2d": [
           {
            "colorbar": {
             "outlinewidth": 0,
             "ticks": ""
            },
            "colorscale": [
             [
              0,
              "#0d0887"
             ],
             [
              0.1111111111111111,
              "#46039f"
             ],
             [
              0.2222222222222222,
              "#7201a8"
             ],
             [
              0.3333333333333333,
              "#9c179e"
             ],
             [
              0.4444444444444444,
              "#bd3786"
             ],
             [
              0.5555555555555556,
              "#d8576b"
             ],
             [
              0.6666666666666666,
              "#ed7953"
             ],
             [
              0.7777777777777778,
              "#fb9f3a"
             ],
             [
              0.8888888888888888,
              "#fdca26"
             ],
             [
              1,
              "#f0f921"
             ]
            ],
            "type": "histogram2d"
           }
          ],
          "histogram2dcontour": [
           {
            "colorbar": {
             "outlinewidth": 0,
             "ticks": ""
            },
            "colorscale": [
             [
              0,
              "#0d0887"
             ],
             [
              0.1111111111111111,
              "#46039f"
             ],
             [
              0.2222222222222222,
              "#7201a8"
             ],
             [
              0.3333333333333333,
              "#9c179e"
             ],
             [
              0.4444444444444444,
              "#bd3786"
             ],
             [
              0.5555555555555556,
              "#d8576b"
             ],
             [
              0.6666666666666666,
              "#ed7953"
             ],
             [
              0.7777777777777778,
              "#fb9f3a"
             ],
             [
              0.8888888888888888,
              "#fdca26"
             ],
             [
              1,
              "#f0f921"
             ]
            ],
            "type": "histogram2dcontour"
           }
          ],
          "mesh3d": [
           {
            "colorbar": {
             "outlinewidth": 0,
             "ticks": ""
            },
            "type": "mesh3d"
           }
          ],
          "parcoords": [
           {
            "line": {
             "colorbar": {
              "outlinewidth": 0,
              "ticks": ""
             }
            },
            "type": "parcoords"
           }
          ],
          "pie": [
           {
            "automargin": true,
            "type": "pie"
           }
          ],
          "scatter": [
           {
            "marker": {
             "colorbar": {
              "outlinewidth": 0,
              "ticks": ""
             }
            },
            "type": "scatter"
           }
          ],
          "scatter3d": [
           {
            "line": {
             "colorbar": {
              "outlinewidth": 0,
              "ticks": ""
             }
            },
            "marker": {
             "colorbar": {
              "outlinewidth": 0,
              "ticks": ""
             }
            },
            "type": "scatter3d"
           }
          ],
          "scattercarpet": [
           {
            "marker": {
             "colorbar": {
              "outlinewidth": 0,
              "ticks": ""
             }
            },
            "type": "scattercarpet"
           }
          ],
          "scattergeo": [
           {
            "marker": {
             "colorbar": {
              "outlinewidth": 0,
              "ticks": ""
             }
            },
            "type": "scattergeo"
           }
          ],
          "scattergl": [
           {
            "marker": {
             "colorbar": {
              "outlinewidth": 0,
              "ticks": ""
             }
            },
            "type": "scattergl"
           }
          ],
          "scattermapbox": [
           {
            "marker": {
             "colorbar": {
              "outlinewidth": 0,
              "ticks": ""
             }
            },
            "type": "scattermapbox"
           }
          ],
          "scatterpolar": [
           {
            "marker": {
             "colorbar": {
              "outlinewidth": 0,
              "ticks": ""
             }
            },
            "type": "scatterpolar"
           }
          ],
          "scatterpolargl": [
           {
            "marker": {
             "colorbar": {
              "outlinewidth": 0,
              "ticks": ""
             }
            },
            "type": "scatterpolargl"
           }
          ],
          "scatterternary": [
           {
            "marker": {
             "colorbar": {
              "outlinewidth": 0,
              "ticks": ""
             }
            },
            "type": "scatterternary"
           }
          ],
          "surface": [
           {
            "colorbar": {
             "outlinewidth": 0,
             "ticks": ""
            },
            "colorscale": [
             [
              0,
              "#0d0887"
             ],
             [
              0.1111111111111111,
              "#46039f"
             ],
             [
              0.2222222222222222,
              "#7201a8"
             ],
             [
              0.3333333333333333,
              "#9c179e"
             ],
             [
              0.4444444444444444,
              "#bd3786"
             ],
             [
              0.5555555555555556,
              "#d8576b"
             ],
             [
              0.6666666666666666,
              "#ed7953"
             ],
             [
              0.7777777777777778,
              "#fb9f3a"
             ],
             [
              0.8888888888888888,
              "#fdca26"
             ],
             [
              1,
              "#f0f921"
             ]
            ],
            "type": "surface"
           }
          ],
          "table": [
           {
            "cells": {
             "fill": {
              "color": "#EBF0F8"
             },
             "line": {
              "color": "white"
             }
            },
            "header": {
             "fill": {
              "color": "#C8D4E3"
             },
             "line": {
              "color": "white"
             }
            },
            "type": "table"
           }
          ]
         },
         "layout": {
          "annotationdefaults": {
           "arrowcolor": "#2a3f5f",
           "arrowhead": 0,
           "arrowwidth": 1
          },
          "autotypenumbers": "strict",
          "coloraxis": {
           "colorbar": {
            "outlinewidth": 0,
            "ticks": ""
           }
          },
          "colorscale": {
           "diverging": [
            [
             0,
             "#8e0152"
            ],
            [
             0.1,
             "#c51b7d"
            ],
            [
             0.2,
             "#de77ae"
            ],
            [
             0.3,
             "#f1b6da"
            ],
            [
             0.4,
             "#fde0ef"
            ],
            [
             0.5,
             "#f7f7f7"
            ],
            [
             0.6,
             "#e6f5d0"
            ],
            [
             0.7,
             "#b8e186"
            ],
            [
             0.8,
             "#7fbc41"
            ],
            [
             0.9,
             "#4d9221"
            ],
            [
             1,
             "#276419"
            ]
           ],
           "sequential": [
            [
             0,
             "#0d0887"
            ],
            [
             0.1111111111111111,
             "#46039f"
            ],
            [
             0.2222222222222222,
             "#7201a8"
            ],
            [
             0.3333333333333333,
             "#9c179e"
            ],
            [
             0.4444444444444444,
             "#bd3786"
            ],
            [
             0.5555555555555556,
             "#d8576b"
            ],
            [
             0.6666666666666666,
             "#ed7953"
            ],
            [
             0.7777777777777778,
             "#fb9f3a"
            ],
            [
             0.8888888888888888,
             "#fdca26"
            ],
            [
             1,
             "#f0f921"
            ]
           ],
           "sequentialminus": [
            [
             0,
             "#0d0887"
            ],
            [
             0.1111111111111111,
             "#46039f"
            ],
            [
             0.2222222222222222,
             "#7201a8"
            ],
            [
             0.3333333333333333,
             "#9c179e"
            ],
            [
             0.4444444444444444,
             "#bd3786"
            ],
            [
             0.5555555555555556,
             "#d8576b"
            ],
            [
             0.6666666666666666,
             "#ed7953"
            ],
            [
             0.7777777777777778,
             "#fb9f3a"
            ],
            [
             0.8888888888888888,
             "#fdca26"
            ],
            [
             1,
             "#f0f921"
            ]
           ]
          },
          "colorway": [
           "#636efa",
           "#EF553B",
           "#00cc96",
           "#ab63fa",
           "#FFA15A",
           "#19d3f3",
           "#FF6692",
           "#B6E880",
           "#FF97FF",
           "#FECB52"
          ],
          "font": {
           "color": "#2a3f5f"
          },
          "geo": {
           "bgcolor": "white",
           "lakecolor": "white",
           "landcolor": "#E5ECF6",
           "showlakes": true,
           "showland": true,
           "subunitcolor": "white"
          },
          "hoverlabel": {
           "align": "left"
          },
          "hovermode": "closest",
          "mapbox": {
           "style": "light"
          },
          "paper_bgcolor": "white",
          "plot_bgcolor": "#E5ECF6",
          "polar": {
           "angularaxis": {
            "gridcolor": "white",
            "linecolor": "white",
            "ticks": ""
           },
           "bgcolor": "#E5ECF6",
           "radialaxis": {
            "gridcolor": "white",
            "linecolor": "white",
            "ticks": ""
           }
          },
          "scene": {
           "xaxis": {
            "backgroundcolor": "#E5ECF6",
            "gridcolor": "white",
            "gridwidth": 2,
            "linecolor": "white",
            "showbackground": true,
            "ticks": "",
            "zerolinecolor": "white"
           },
           "yaxis": {
            "backgroundcolor": "#E5ECF6",
            "gridcolor": "white",
            "gridwidth": 2,
            "linecolor": "white",
            "showbackground": true,
            "ticks": "",
            "zerolinecolor": "white"
           },
           "zaxis": {
            "backgroundcolor": "#E5ECF6",
            "gridcolor": "white",
            "gridwidth": 2,
            "linecolor": "white",
            "showbackground": true,
            "ticks": "",
            "zerolinecolor": "white"
           }
          },
          "shapedefaults": {
           "line": {
            "color": "#2a3f5f"
           }
          },
          "ternary": {
           "aaxis": {
            "gridcolor": "white",
            "linecolor": "white",
            "ticks": ""
           },
           "baxis": {
            "gridcolor": "white",
            "linecolor": "white",
            "ticks": ""
           },
           "bgcolor": "#E5ECF6",
           "caxis": {
            "gridcolor": "white",
            "linecolor": "white",
            "ticks": ""
           }
          },
          "title": {
           "x": 0.05
          },
          "xaxis": {
           "automargin": true,
           "gridcolor": "white",
           "linecolor": "white",
           "ticks": "",
           "title": {
            "standoff": 15
           },
           "zerolinecolor": "white",
           "zerolinewidth": 2
          },
          "yaxis": {
           "automargin": true,
           "gridcolor": "white",
           "linecolor": "white",
           "ticks": "",
           "title": {
            "standoff": 15
           },
           "zerolinecolor": "white",
           "zerolinewidth": 2
          }
         }
        },
        "title": {
         "font": {
          "color": "#4D5663"
         }
        },
        "xaxis": {
         "anchor": "y",
         "domain": [
          0,
          0.2125
         ],
         "gridcolor": "#E1E5ED",
         "showgrid": false,
         "tickfont": {
          "color": "#4D5663"
         },
         "title": {
          "font": {
           "color": "#4D5663"
          },
          "text": ""
         },
         "zerolinecolor": "#E1E5ED"
        },
        "xaxis10": {
         "anchor": "y10",
         "domain": [
          0.2625,
          0.475
         ],
         "gridcolor": "#E1E5ED",
         "showgrid": false,
         "tickfont": {
          "color": "#4D5663"
         },
         "title": {
          "font": {
           "color": "#4D5663"
          },
          "text": ""
         },
         "zerolinecolor": "#E1E5ED"
        },
        "xaxis11": {
         "anchor": "y11",
         "domain": [
          0.525,
          0.7375
         ],
         "gridcolor": "#E1E5ED",
         "showgrid": false,
         "tickfont": {
          "color": "#4D5663"
         },
         "title": {
          "font": {
           "color": "#4D5663"
          },
          "text": ""
         },
         "zerolinecolor": "#E1E5ED"
        },
        "xaxis12": {
         "anchor": "y12",
         "domain": [
          0.7875,
          1
         ],
         "gridcolor": "#E1E5ED",
         "showgrid": false,
         "tickfont": {
          "color": "#4D5663"
         },
         "title": {
          "font": {
           "color": "#4D5663"
          },
          "text": ""
         },
         "zerolinecolor": "#E1E5ED"
        },
        "xaxis13": {
         "anchor": "y13",
         "domain": [
          0,
          0.2125
         ],
         "gridcolor": "#E1E5ED",
         "showgrid": false,
         "tickfont": {
          "color": "#4D5663"
         },
         "title": {
          "font": {
           "color": "#4D5663"
          },
          "text": ""
         },
         "zerolinecolor": "#E1E5ED"
        },
        "xaxis14": {
         "anchor": "y14",
         "domain": [
          0.2625,
          0.475
         ],
         "gridcolor": "#E1E5ED",
         "showgrid": false,
         "tickfont": {
          "color": "#4D5663"
         },
         "title": {
          "font": {
           "color": "#4D5663"
          },
          "text": ""
         },
         "zerolinecolor": "#E1E5ED"
        },
        "xaxis15": {
         "anchor": "y15",
         "domain": [
          0.525,
          0.7375
         ],
         "gridcolor": "#E1E5ED",
         "showgrid": false,
         "tickfont": {
          "color": "#4D5663"
         },
         "title": {
          "font": {
           "color": "#4D5663"
          },
          "text": ""
         },
         "zerolinecolor": "#E1E5ED"
        },
        "xaxis16": {
         "anchor": "y16",
         "domain": [
          0.7875,
          1
         ],
         "gridcolor": "#E1E5ED",
         "showgrid": false,
         "tickfont": {
          "color": "#4D5663"
         },
         "title": {
          "font": {
           "color": "#4D5663"
          },
          "text": ""
         },
         "zerolinecolor": "#E1E5ED"
        },
        "xaxis2": {
         "anchor": "y2",
         "domain": [
          0.2625,
          0.475
         ],
         "gridcolor": "#E1E5ED",
         "showgrid": false,
         "tickfont": {
          "color": "#4D5663"
         },
         "title": {
          "font": {
           "color": "#4D5663"
          },
          "text": ""
         },
         "zerolinecolor": "#E1E5ED"
        },
        "xaxis3": {
         "anchor": "y3",
         "domain": [
          0.525,
          0.7375
         ],
         "gridcolor": "#E1E5ED",
         "showgrid": false,
         "tickfont": {
          "color": "#4D5663"
         },
         "title": {
          "font": {
           "color": "#4D5663"
          },
          "text": ""
         },
         "zerolinecolor": "#E1E5ED"
        },
        "xaxis4": {
         "anchor": "y4",
         "domain": [
          0.7875,
          1
         ],
         "gridcolor": "#E1E5ED",
         "showgrid": false,
         "tickfont": {
          "color": "#4D5663"
         },
         "title": {
          "font": {
           "color": "#4D5663"
          },
          "text": ""
         },
         "zerolinecolor": "#E1E5ED"
        },
        "xaxis5": {
         "anchor": "y5",
         "domain": [
          0,
          0.2125
         ],
         "gridcolor": "#E1E5ED",
         "showgrid": false,
         "tickfont": {
          "color": "#4D5663"
         },
         "title": {
          "font": {
           "color": "#4D5663"
          },
          "text": ""
         },
         "zerolinecolor": "#E1E5ED"
        },
        "xaxis6": {
         "anchor": "y6",
         "domain": [
          0.2625,
          0.475
         ],
         "gridcolor": "#E1E5ED",
         "showgrid": false,
         "tickfont": {
          "color": "#4D5663"
         },
         "title": {
          "font": {
           "color": "#4D5663"
          },
          "text": ""
         },
         "zerolinecolor": "#E1E5ED"
        },
        "xaxis7": {
         "anchor": "y7",
         "domain": [
          0.525,
          0.7375
         ],
         "gridcolor": "#E1E5ED",
         "showgrid": false,
         "tickfont": {
          "color": "#4D5663"
         },
         "title": {
          "font": {
           "color": "#4D5663"
          },
          "text": ""
         },
         "zerolinecolor": "#E1E5ED"
        },
        "xaxis8": {
         "anchor": "y8",
         "domain": [
          0.7875,
          1
         ],
         "gridcolor": "#E1E5ED",
         "showgrid": false,
         "tickfont": {
          "color": "#4D5663"
         },
         "title": {
          "font": {
           "color": "#4D5663"
          },
          "text": ""
         },
         "zerolinecolor": "#E1E5ED"
        },
        "xaxis9": {
         "anchor": "y9",
         "domain": [
          0,
          0.2125
         ],
         "gridcolor": "#E1E5ED",
         "showgrid": false,
         "tickfont": {
          "color": "#4D5663"
         },
         "title": {
          "font": {
           "color": "#4D5663"
          },
          "text": ""
         },
         "zerolinecolor": "#E1E5ED"
        },
        "yaxis": {
         "anchor": "x",
         "domain": [
          0.8025,
          1
         ],
         "gridcolor": "#E1E5ED",
         "showgrid": false,
         "tickfont": {
          "color": "#4D5663"
         },
         "title": {
          "font": {
           "color": "#4D5663"
          },
          "text": ""
         },
         "zerolinecolor": "#E1E5ED"
        },
        "yaxis10": {
         "anchor": "x10",
         "domain": [
          0.2675,
          0.465
         ],
         "gridcolor": "#E1E5ED",
         "showgrid": false,
         "tickfont": {
          "color": "#4D5663"
         },
         "title": {
          "font": {
           "color": "#4D5663"
          },
          "text": ""
         },
         "zerolinecolor": "#E1E5ED"
        },
        "yaxis11": {
         "anchor": "x11",
         "domain": [
          0.2675,
          0.465
         ],
         "gridcolor": "#E1E5ED",
         "showgrid": false,
         "tickfont": {
          "color": "#4D5663"
         },
         "title": {
          "font": {
           "color": "#4D5663"
          },
          "text": ""
         },
         "zerolinecolor": "#E1E5ED"
        },
        "yaxis12": {
         "anchor": "x12",
         "domain": [
          0.2675,
          0.465
         ],
         "gridcolor": "#E1E5ED",
         "showgrid": false,
         "tickfont": {
          "color": "#4D5663"
         },
         "title": {
          "font": {
           "color": "#4D5663"
          },
          "text": ""
         },
         "zerolinecolor": "#E1E5ED"
        },
        "yaxis13": {
         "anchor": "x13",
         "domain": [
          0,
          0.1975
         ],
         "gridcolor": "#E1E5ED",
         "showgrid": false,
         "tickfont": {
          "color": "#4D5663"
         },
         "title": {
          "font": {
           "color": "#4D5663"
          },
          "text": ""
         },
         "zerolinecolor": "#E1E5ED"
        },
        "yaxis14": {
         "anchor": "x14",
         "domain": [
          0,
          0.1975
         ],
         "gridcolor": "#E1E5ED",
         "showgrid": false,
         "tickfont": {
          "color": "#4D5663"
         },
         "title": {
          "font": {
           "color": "#4D5663"
          },
          "text": ""
         },
         "zerolinecolor": "#E1E5ED"
        },
        "yaxis15": {
         "anchor": "x15",
         "domain": [
          0,
          0.1975
         ],
         "gridcolor": "#E1E5ED",
         "showgrid": false,
         "tickfont": {
          "color": "#4D5663"
         },
         "title": {
          "font": {
           "color": "#4D5663"
          },
          "text": ""
         },
         "zerolinecolor": "#E1E5ED"
        },
        "yaxis16": {
         "anchor": "x16",
         "domain": [
          0,
          0.1975
         ],
         "gridcolor": "#E1E5ED",
         "showgrid": false,
         "tickfont": {
          "color": "#4D5663"
         },
         "title": {
          "font": {
           "color": "#4D5663"
          },
          "text": ""
         },
         "zerolinecolor": "#E1E5ED"
        },
        "yaxis2": {
         "anchor": "x2",
         "domain": [
          0.8025,
          1
         ],
         "gridcolor": "#E1E5ED",
         "showgrid": false,
         "tickfont": {
          "color": "#4D5663"
         },
         "title": {
          "font": {
           "color": "#4D5663"
          },
          "text": ""
         },
         "zerolinecolor": "#E1E5ED"
        },
        "yaxis3": {
         "anchor": "x3",
         "domain": [
          0.8025,
          1
         ],
         "gridcolor": "#E1E5ED",
         "showgrid": false,
         "tickfont": {
          "color": "#4D5663"
         },
         "title": {
          "font": {
           "color": "#4D5663"
          },
          "text": ""
         },
         "zerolinecolor": "#E1E5ED"
        },
        "yaxis4": {
         "anchor": "x4",
         "domain": [
          0.8025,
          1
         ],
         "gridcolor": "#E1E5ED",
         "showgrid": false,
         "tickfont": {
          "color": "#4D5663"
         },
         "title": {
          "font": {
           "color": "#4D5663"
          },
          "text": ""
         },
         "zerolinecolor": "#E1E5ED"
        },
        "yaxis5": {
         "anchor": "x5",
         "domain": [
          0.535,
          0.7325
         ],
         "gridcolor": "#E1E5ED",
         "showgrid": false,
         "tickfont": {
          "color": "#4D5663"
         },
         "title": {
          "font": {
           "color": "#4D5663"
          },
          "text": ""
         },
         "zerolinecolor": "#E1E5ED"
        },
        "yaxis6": {
         "anchor": "x6",
         "domain": [
          0.535,
          0.7325
         ],
         "gridcolor": "#E1E5ED",
         "showgrid": false,
         "tickfont": {
          "color": "#4D5663"
         },
         "title": {
          "font": {
           "color": "#4D5663"
          },
          "text": ""
         },
         "zerolinecolor": "#E1E5ED"
        },
        "yaxis7": {
         "anchor": "x7",
         "domain": [
          0.535,
          0.7325
         ],
         "gridcolor": "#E1E5ED",
         "showgrid": false,
         "tickfont": {
          "color": "#4D5663"
         },
         "title": {
          "font": {
           "color": "#4D5663"
          },
          "text": ""
         },
         "zerolinecolor": "#E1E5ED"
        },
        "yaxis8": {
         "anchor": "x8",
         "domain": [
          0.535,
          0.7325
         ],
         "gridcolor": "#E1E5ED",
         "showgrid": false,
         "tickfont": {
          "color": "#4D5663"
         },
         "title": {
          "font": {
           "color": "#4D5663"
          },
          "text": ""
         },
         "zerolinecolor": "#E1E5ED"
        },
        "yaxis9": {
         "anchor": "x9",
         "domain": [
          0.2675,
          0.465
         ],
         "gridcolor": "#E1E5ED",
         "showgrid": false,
         "tickfont": {
          "color": "#4D5663"
         },
         "title": {
          "font": {
           "color": "#4D5663"
          },
          "text": ""
         },
         "zerolinecolor": "#E1E5ED"
        }
       }
      },
      "text/html": [
       "<div>                            <div id=\"b0002bda-4b52-4eb4-838b-8c1a31765b15\" class=\"plotly-graph-div\" style=\"height:525px; width:100%;\"></div>            <script type=\"text/javascript\">                require([\"plotly\"], function(Plotly) {                    window.PLOTLYENV=window.PLOTLYENV || {};\n",
       "                    window.PLOTLYENV.BASE_URL='https://plot.ly';                                    if (document.getElementById(\"b0002bda-4b52-4eb4-838b-8c1a31765b15\")) {                    Plotly.newPlot(                        \"b0002bda-4b52-4eb4-838b-8c1a31765b15\",                        [{\"histfunc\": \"count\", \"histnorm\": \"\", \"marker\": {\"color\": \"rgba(255, 153, 51, 1.0)\", \"line\": {\"color\": \"#4D5663\", \"width\": 1.3}}, \"name\": \"A\", \"nbinsx\": 10, \"opacity\": 0.8, \"orientation\": \"v\", \"type\": \"histogram\", \"x\": [-0.8280260723763271, -2.77297444794199, -0.38121323391729234, 0.7880707860623422, 2.8084929576725313, -0.1374432130485793, 1.4665828322027583, 1.7170018404039853, -0.006694875240469727, -0.35801270109138483, -0.7945315217293085, 1.107530808756093, 1.1790484531176757, 0.36440605216798233, -1.5822209826572298, -1.2750553918693035, -1.2090255857903993, 0.4590850858171039, -0.6285482031372056, 1.0546402699013748, 1.5138351311137501, 0.8734592513564242, 0.21901261206315306, -1.163953212801199, -0.335892690218668, 0.4938820380998607, 0.06783004821863114, 1.542059648394881, 0.49156166686043756, 0.4633288124694026, -0.9489982987198811, 0.47065989470899516, -0.4418890963795218, 0.44347045975400295, 0.8144597660455606, -0.6531579459403273, 0.42815418084727563, -0.3588910458379977, -0.5335759249000853, 0.6314714718116694, -0.8487016591558267, 1.5846252025402214, 0.17310725166180807, 0.27059605517156654, -0.4694392142146777, 0.5838091465034632, -0.3432331323029411, -0.48966126380907626, -2.3796874131530377, 1.3587330456455726, 1.1171967076671219, -0.20850895799541944, -0.3995385709353827, -1.8147865778734724, 0.7161603237047958, -1.269138912896145, -1.6827178168553847, -0.6674891664222559, -0.30249711294977955, 0.6631651824638187, 2.291182619859816, -2.458340895167761, 0.2899567568659667, -0.47300884042820934, 2.09432237150058, 0.582786511773274, -1.1346112433030937, -1.2649618327532324, 0.34316321337446215, -0.19277560479566427, 0.33379569707167217, -1.517505142343097, -0.4055330148343431, 1.3329366341718163, 3.0880651844214007, -1.3533913810566096, 0.3437532931939382, -1.6575292547862113, 0.7154451417562238, -0.12577120476387404, -0.1221947706218079, 0.5829755695712423, -1.5671691676011716, 1.1105896726371092, -0.09369513621117644, 1.0955857442776014, -1.4282369786985993, -0.05097785455827381, -0.5972071263206464, -1.256475896277932, -1.8851731596449193, 0.828590542968046, -0.4062491091331472, 0.0807500132107527, 0.013163707403381393, -0.6217284887018927, -0.24693675551235092, 0.06197700019368634, 0.5634486026666133, 0.6059138751307764], \"xaxis\": \"x\", \"yaxis\": \"y\"}, {\"line\": {\"color\": \"rgba(128, 128, 128, 1.0)\", \"dash\": \"solid\", \"shape\": \"linear\", \"width\": 1.3}, \"marker\": {\"size\": 2, \"symbol\": \"circle\"}, \"mode\": \"markers\", \"name\": \"A\", \"text\": \"\", \"type\": \"scatter\", \"x\": [0.7488859249957294, -2.063476523426313, 0.15896478732317448, 0.9824428266957366, 0.5177956680669261, 1.2795287511749251, 1.3168697401336789, -2.5769642163271804, -0.5223469831142037, 1.8181176703709536, -0.472385080891169, 0.5902248057458955, 0.06501344080504949, -0.47080216571861333, 0.18228275869868904, 0.23126754721306877, 0.6149010050060569, 0.7222076794396597, -0.47556970422863515, 0.460047800114019, 0.20905587617029056, 0.7386997197730129, 0.2963947509662543, 1.3324755157131947, 1.0847241543052293, 0.7238084792303607, 0.031773286629343866, -0.85317652648317, -0.3103145393346325, -0.03628269694808576, -0.3086240085353415, -0.8791329349989142, -1.4582997557298272, 1.0563940955502773, 0.7624476857491007, -0.637472747395494, 0.08463847795218485, -1.1360972676061123, 0.3278612242444931, 0.6074498411024112, -1.9401239947752962, -0.6993479106510858, 1.3059278691514857, -0.19424188683695787, -1.2604848908802941, 0.952687783783637, -1.546031553055093, -0.6993206460498765, 0.20344776954368982, -0.7243873284737312, -0.9800294868969891, -0.514665260515114, 1.0336926944205553, -0.9088425929534667, -1.2397144953831822, 0.9812633628328463, 2.7523411232946318, -0.7275897094517473, 0.6909293763885511, 0.679755401619041, -0.3870724045077387, 0.8660805606258668, -1.3245161399204266, 1.1927202884162393, 0.08939780005427155, -2.806889952909305, 0.8929360431986725, -0.12770744108226054, 0.21199734276229967, 1.1372829909715767, 0.09620678459480445, -0.3018606425639405, 0.9102322118714832, -2.309881595960726, -1.6100568373409712, 0.6090688747514684, -0.6838011355845027, -0.2748716990341536, -0.4223440623301072, -0.8873989045199661, -0.0009738308528003652, 0.10028669510880826, -0.048778800761219, 1.3184511662605012, -2.195277463199274, 0.34417282099715746, 0.2628105585137296, 1.4326207032621394, 0.2935366035552767, 0.39908458968185134, -1.4759639597995606, -0.560377497609232, -1.762548372904548, 1.3007570365012764, 0.1805535576155475, 0.4187410435886277, -0.008350929356977793, -1.4548926844956653, -1.074772822423682, 0.5854026103720574], \"xaxis\": \"x2\", \"y\": [-0.8280260723763271, -2.77297444794199, -0.38121323391729234, 0.7880707860623422, 2.8084929576725313, -0.1374432130485793, 1.4665828322027583, 1.7170018404039853, -0.006694875240469727, -0.35801270109138483, -0.7945315217293085, 1.107530808756093, 1.1790484531176757, 0.36440605216798233, -1.5822209826572298, -1.2750553918693035, -1.2090255857903993, 0.4590850858171039, -0.6285482031372056, 1.0546402699013748, 1.5138351311137501, 0.8734592513564242, 0.21901261206315306, -1.163953212801199, -0.335892690218668, 0.4938820380998607, 0.06783004821863114, 1.542059648394881, 0.49156166686043756, 0.4633288124694026, -0.9489982987198811, 0.47065989470899516, -0.4418890963795218, 0.44347045975400295, 0.8144597660455606, -0.6531579459403273, 0.42815418084727563, -0.3588910458379977, -0.5335759249000853, 0.6314714718116694, -0.8487016591558267, 1.5846252025402214, 0.17310725166180807, 0.27059605517156654, -0.4694392142146777, 0.5838091465034632, -0.3432331323029411, -0.48966126380907626, -2.3796874131530377, 1.3587330456455726, 1.1171967076671219, -0.20850895799541944, -0.3995385709353827, -1.8147865778734724, 0.7161603237047958, -1.269138912896145, -1.6827178168553847, -0.6674891664222559, -0.30249711294977955, 0.6631651824638187, 2.291182619859816, -2.458340895167761, 0.2899567568659667, -0.47300884042820934, 2.09432237150058, 0.582786511773274, -1.1346112433030937, -1.2649618327532324, 0.34316321337446215, -0.19277560479566427, 0.33379569707167217, -1.517505142343097, -0.4055330148343431, 1.3329366341718163, 3.0880651844214007, -1.3533913810566096, 0.3437532931939382, -1.6575292547862113, 0.7154451417562238, -0.12577120476387404, -0.1221947706218079, 0.5829755695712423, -1.5671691676011716, 1.1105896726371092, -0.09369513621117644, 1.0955857442776014, -1.4282369786985993, -0.05097785455827381, -0.5972071263206464, -1.256475896277932, -1.8851731596449193, 0.828590542968046, -0.4062491091331472, 0.0807500132107527, 0.013163707403381393, -0.6217284887018927, -0.24693675551235092, 0.06197700019368634, 0.5634486026666133, 0.6059138751307764], \"yaxis\": \"y2\"}, {\"line\": {\"color\": \"rgba(128, 128, 128, 1.0)\", \"dash\": \"solid\", \"shape\": \"linear\", \"width\": 1.3}, \"marker\": {\"size\": 2, \"symbol\": \"circle\"}, \"mode\": \"markers\", \"name\": \"A\", \"text\": \"\", \"type\": \"scatter\", \"x\": [1.7253801114530336, -0.8804409276344874, 1.331116657890689, -0.21149950462188108, -1.167445572451072, -1.86682032962182, 0.5550567292479028, 0.5452866270236787, 0.6339309155415728, 0.231164891408304, -1.8305006882314347, 0.06471049469239389, -1.1266744570399325, 2.005310295649881, -0.028482335853937907, -0.47676328581315613, 0.9303557807580285, -0.6960540968339621, -0.7265111451351663, 0.6186778710316426, -1.5656749798051184, 0.9086002976698601, -1.4057548790859178, -0.5775605048283244, -0.5714808957081108, -0.006524474517459756, -0.6090064439259069, 0.8926472711827771, -0.9760585243827213, 1.9663547435352045, 1.4326657468524446, 1.662004463772016, 0.24510231590545106, -1.1140187962778287, -0.051942121865523286, -0.8724806670184981, -0.028508923489273388, -0.1319408669048997, 1.0530214539978553, 1.6995103988035576, 0.17594259773996168, -2.2182295179966953, -0.18040527071059057, -0.6997057487838385, -0.2142205109056815, 0.5487184958860298, -0.4079902648528655, -0.26977067737465493, -0.8243829409981692, 0.0867872600282909, -1.0847228525825072, 0.9540307463204664, 0.10576031593004116, -0.7907611436276919, 1.3570657440455447, 1.31366121472068, 1.0328400142798095, 0.10777043870564415, 1.3405761225949349, 0.5325162439920655, 1.3572146232639517, 0.09864623747508508, -1.0844817479277369, 0.06991885791354406, 0.4330280919942761, 0.3949368133459405, -0.07470513451635608, 0.8947229547408788, -0.20101177512636403, -0.829289771380396, 0.22612152082460252, 2.1519403226862326, -0.5992918280704882, -0.915734701343928, -0.24813388814972398, -1.3952127945941872, 0.37273712169823314, 0.4067064042074707, 1.488984685385158, -0.8106816010319763, -1.5421325647403865, 1.330753230343414, -0.4338579419715875, 0.023564367195433637, 0.7189964343463359, 0.6665475964066954, 0.7161413728329881, 0.1229643812477501, 0.29786048037526636, -0.7587902514620694, 0.676306827021562, 0.472869803432536, -0.5311331200629258, -0.4414394903929416, 0.43122606826674764, -0.7984767291316012, -0.21167247168939404, -0.8418568493843376, 0.1003033539435394, 0.9639176565339589], \"xaxis\": \"x3\", \"y\": [-0.8280260723763271, -2.77297444794199, -0.38121323391729234, 0.7880707860623422, 2.8084929576725313, -0.1374432130485793, 1.4665828322027583, 1.7170018404039853, -0.006694875240469727, -0.35801270109138483, -0.7945315217293085, 1.107530808756093, 1.1790484531176757, 0.36440605216798233, -1.5822209826572298, -1.2750553918693035, -1.2090255857903993, 0.4590850858171039, -0.6285482031372056, 1.0546402699013748, 1.5138351311137501, 0.8734592513564242, 0.21901261206315306, -1.163953212801199, -0.335892690218668, 0.4938820380998607, 0.06783004821863114, 1.542059648394881, 0.49156166686043756, 0.4633288124694026, -0.9489982987198811, 0.47065989470899516, -0.4418890963795218, 0.44347045975400295, 0.8144597660455606, -0.6531579459403273, 0.42815418084727563, -0.3588910458379977, -0.5335759249000853, 0.6314714718116694, -0.8487016591558267, 1.5846252025402214, 0.17310725166180807, 0.27059605517156654, -0.4694392142146777, 0.5838091465034632, -0.3432331323029411, -0.48966126380907626, -2.3796874131530377, 1.3587330456455726, 1.1171967076671219, -0.20850895799541944, -0.3995385709353827, -1.8147865778734724, 0.7161603237047958, -1.269138912896145, -1.6827178168553847, -0.6674891664222559, -0.30249711294977955, 0.6631651824638187, 2.291182619859816, -2.458340895167761, 0.2899567568659667, -0.47300884042820934, 2.09432237150058, 0.582786511773274, -1.1346112433030937, -1.2649618327532324, 0.34316321337446215, -0.19277560479566427, 0.33379569707167217, -1.517505142343097, -0.4055330148343431, 1.3329366341718163, 3.0880651844214007, -1.3533913810566096, 0.3437532931939382, -1.6575292547862113, 0.7154451417562238, -0.12577120476387404, -0.1221947706218079, 0.5829755695712423, -1.5671691676011716, 1.1105896726371092, -0.09369513621117644, 1.0955857442776014, -1.4282369786985993, -0.05097785455827381, -0.5972071263206464, -1.256475896277932, -1.8851731596449193, 0.828590542968046, -0.4062491091331472, 0.0807500132107527, 0.013163707403381393, -0.6217284887018927, -0.24693675551235092, 0.06197700019368634, 0.5634486026666133, 0.6059138751307764], \"yaxis\": \"y3\"}, {\"line\": {\"color\": \"rgba(128, 128, 128, 1.0)\", \"dash\": \"solid\", \"shape\": \"linear\", \"width\": 1.3}, \"marker\": {\"size\": 2, \"symbol\": \"circle\"}, \"mode\": \"markers\", \"name\": \"A\", \"text\": \"\", \"type\": \"scatter\", \"x\": [0.4882068764644425, -0.1730599122555562, -0.18029327282843913, 0.08897401757083999, 0.4759079771296569, -0.7475729640986748, -0.6314103667912152, -0.5429540933252955, -0.6867032832812933, 0.003516713451322575, 0.2690133393221728, 1.9113918370343146, 0.8942333609097131, -0.6147020080793911, -0.29627748478840876, -0.7135564071003545, 1.3901561233784447, -0.5446223145677315, 0.665946983365099, -0.7496721950249093, -0.40733460856123066, 0.27465116526722494, 1.5320952066625422, 1.7492770935729696, -1.1543261651182537, -1.184155527301778, 0.028700526904036155, 1.2438773766120852, 0.4365147943692492, 1.1408167992468035, -1.8258998355515466, 1.052927076581993, -0.25881136499559954, 1.1633980352981832, -1.1276238025508922, 0.29249241538744025, -0.9939865758424621, 0.8345157084831906, 0.10678369466768305, 0.6418979095760036, 0.9729734554120418, -1.728577051930168, -2.046106191789923, -2.3617950208986094, 1.5542527388434406, 0.11607119589178173, -1.5037217035024932, -0.2330021546379168, 0.9294035212277092, -0.6546411181672671, 0.37836134228099827, -0.7874206814909359, 1.0745567164294885, -0.8421542414903073, 1.507068399271997, 0.04221631656382646, 0.9985323800813999, 0.07813153273720085, 0.3582652484185667, -0.26568314239766294, 2.0566410122848993, 0.23062388105590104, -0.6224371068334607, 2.8343397633466263, -1.0235495065224018, -0.7326214364645792, -0.9588926845494297, 0.1324900332792681, 0.13374143364652147, 0.8303828681263521, -0.401954368463575, -0.2993793998301332, -1.1751482554395292, -0.615421356355059, -0.3806859547104433, 0.6297112168337228, -0.49686252054116276, -0.3710424946031853, 0.862727439889303, -0.5545510889849203, 3.2613233609225665, 1.03433897470513, -0.20151325723595134, -0.026146515903826384, -0.19179514842935289, -0.8657989069062361, -0.011837114522481318, -0.9300513393433796, 0.6085583810153283, -0.6222195978714236, -1.0247791883432427, 2.1371485346759966, -0.9251541260596596, -0.17952317807502466, -0.5969096817635869, -0.9875194195098052, 0.5458507291811573, 1.118252469599825, -0.06419951244882167, 0.031654006904315884], \"xaxis\": \"x4\", \"y\": [-0.8280260723763271, -2.77297444794199, -0.38121323391729234, 0.7880707860623422, 2.8084929576725313, -0.1374432130485793, 1.4665828322027583, 1.7170018404039853, -0.006694875240469727, -0.35801270109138483, -0.7945315217293085, 1.107530808756093, 1.1790484531176757, 0.36440605216798233, -1.5822209826572298, -1.2750553918693035, -1.2090255857903993, 0.4590850858171039, -0.6285482031372056, 1.0546402699013748, 1.5138351311137501, 0.8734592513564242, 0.21901261206315306, -1.163953212801199, -0.335892690218668, 0.4938820380998607, 0.06783004821863114, 1.542059648394881, 0.49156166686043756, 0.4633288124694026, -0.9489982987198811, 0.47065989470899516, -0.4418890963795218, 0.44347045975400295, 0.8144597660455606, -0.6531579459403273, 0.42815418084727563, -0.3588910458379977, -0.5335759249000853, 0.6314714718116694, -0.8487016591558267, 1.5846252025402214, 0.17310725166180807, 0.27059605517156654, -0.4694392142146777, 0.5838091465034632, -0.3432331323029411, -0.48966126380907626, -2.3796874131530377, 1.3587330456455726, 1.1171967076671219, -0.20850895799541944, -0.3995385709353827, -1.8147865778734724, 0.7161603237047958, -1.269138912896145, -1.6827178168553847, -0.6674891664222559, -0.30249711294977955, 0.6631651824638187, 2.291182619859816, -2.458340895167761, 0.2899567568659667, -0.47300884042820934, 2.09432237150058, 0.582786511773274, -1.1346112433030937, -1.2649618327532324, 0.34316321337446215, -0.19277560479566427, 0.33379569707167217, -1.517505142343097, -0.4055330148343431, 1.3329366341718163, 3.0880651844214007, -1.3533913810566096, 0.3437532931939382, -1.6575292547862113, 0.7154451417562238, -0.12577120476387404, -0.1221947706218079, 0.5829755695712423, -1.5671691676011716, 1.1105896726371092, -0.09369513621117644, 1.0955857442776014, -1.4282369786985993, -0.05097785455827381, -0.5972071263206464, -1.256475896277932, -1.8851731596449193, 0.828590542968046, -0.4062491091331472, 0.0807500132107527, 0.013163707403381393, -0.6217284887018927, -0.24693675551235092, 0.06197700019368634, 0.5634486026666133, 0.6059138751307764], \"yaxis\": \"y4\"}, {\"line\": {\"color\": \"rgba(128, 128, 128, 1.0)\", \"dash\": \"solid\", \"shape\": \"linear\", \"width\": 1.3}, \"marker\": {\"size\": 2, \"symbol\": \"circle\"}, \"mode\": \"markers\", \"name\": \"B\", \"text\": \"\", \"type\": \"scatter\", \"x\": [-0.8280260723763271, -2.77297444794199, -0.38121323391729234, 0.7880707860623422, 2.8084929576725313, -0.1374432130485793, 1.4665828322027583, 1.7170018404039853, -0.006694875240469727, -0.35801270109138483, -0.7945315217293085, 1.107530808756093, 1.1790484531176757, 0.36440605216798233, -1.5822209826572298, -1.2750553918693035, -1.2090255857903993, 0.4590850858171039, -0.6285482031372056, 1.0546402699013748, 1.5138351311137501, 0.8734592513564242, 0.21901261206315306, -1.163953212801199, -0.335892690218668, 0.4938820380998607, 0.06783004821863114, 1.542059648394881, 0.49156166686043756, 0.4633288124694026, -0.9489982987198811, 0.47065989470899516, -0.4418890963795218, 0.44347045975400295, 0.8144597660455606, -0.6531579459403273, 0.42815418084727563, -0.3588910458379977, -0.5335759249000853, 0.6314714718116694, -0.8487016591558267, 1.5846252025402214, 0.17310725166180807, 0.27059605517156654, -0.4694392142146777, 0.5838091465034632, -0.3432331323029411, -0.48966126380907626, -2.3796874131530377, 1.3587330456455726, 1.1171967076671219, -0.20850895799541944, -0.3995385709353827, -1.8147865778734724, 0.7161603237047958, -1.269138912896145, -1.6827178168553847, -0.6674891664222559, -0.30249711294977955, 0.6631651824638187, 2.291182619859816, -2.458340895167761, 0.2899567568659667, -0.47300884042820934, 2.09432237150058, 0.582786511773274, -1.1346112433030937, -1.2649618327532324, 0.34316321337446215, -0.19277560479566427, 0.33379569707167217, -1.517505142343097, -0.4055330148343431, 1.3329366341718163, 3.0880651844214007, -1.3533913810566096, 0.3437532931939382, -1.6575292547862113, 0.7154451417562238, -0.12577120476387404, -0.1221947706218079, 0.5829755695712423, -1.5671691676011716, 1.1105896726371092, -0.09369513621117644, 1.0955857442776014, -1.4282369786985993, -0.05097785455827381, -0.5972071263206464, -1.256475896277932, -1.8851731596449193, 0.828590542968046, -0.4062491091331472, 0.0807500132107527, 0.013163707403381393, -0.6217284887018927, -0.24693675551235092, 0.06197700019368634, 0.5634486026666133, 0.6059138751307764], \"xaxis\": \"x5\", \"y\": [0.7488859249957294, -2.063476523426313, 0.15896478732317448, 0.9824428266957366, 0.5177956680669261, 1.2795287511749251, 1.3168697401336789, -2.5769642163271804, -0.5223469831142037, 1.8181176703709536, -0.472385080891169, 0.5902248057458955, 0.06501344080504949, -0.47080216571861333, 0.18228275869868904, 0.23126754721306877, 0.6149010050060569, 0.7222076794396597, -0.47556970422863515, 0.460047800114019, 0.20905587617029056, 0.7386997197730129, 0.2963947509662543, 1.3324755157131947, 1.0847241543052293, 0.7238084792303607, 0.031773286629343866, -0.85317652648317, -0.3103145393346325, -0.03628269694808576, -0.3086240085353415, -0.8791329349989142, -1.4582997557298272, 1.0563940955502773, 0.7624476857491007, -0.637472747395494, 0.08463847795218485, -1.1360972676061123, 0.3278612242444931, 0.6074498411024112, -1.9401239947752962, -0.6993479106510858, 1.3059278691514857, -0.19424188683695787, -1.2604848908802941, 0.952687783783637, -1.546031553055093, -0.6993206460498765, 0.20344776954368982, -0.7243873284737312, -0.9800294868969891, -0.514665260515114, 1.0336926944205553, -0.9088425929534667, -1.2397144953831822, 0.9812633628328463, 2.7523411232946318, -0.7275897094517473, 0.6909293763885511, 0.679755401619041, -0.3870724045077387, 0.8660805606258668, -1.3245161399204266, 1.1927202884162393, 0.08939780005427155, -2.806889952909305, 0.8929360431986725, -0.12770744108226054, 0.21199734276229967, 1.1372829909715767, 0.09620678459480445, -0.3018606425639405, 0.9102322118714832, -2.309881595960726, -1.6100568373409712, 0.6090688747514684, -0.6838011355845027, -0.2748716990341536, -0.4223440623301072, -0.8873989045199661, -0.0009738308528003652, 0.10028669510880826, -0.048778800761219, 1.3184511662605012, -2.195277463199274, 0.34417282099715746, 0.2628105585137296, 1.4326207032621394, 0.2935366035552767, 0.39908458968185134, -1.4759639597995606, -0.560377497609232, -1.762548372904548, 1.3007570365012764, 0.1805535576155475, 0.4187410435886277, -0.008350929356977793, -1.4548926844956653, -1.074772822423682, 0.5854026103720574], \"yaxis\": \"y5\"}, {\"histfunc\": \"count\", \"histnorm\": \"\", \"marker\": {\"color\": \"rgba(55, 128, 191, 1.0)\", \"line\": {\"color\": \"#4D5663\", \"width\": 1.3}}, \"name\": \"B\", \"nbinsx\": 10, \"opacity\": 0.8, \"orientation\": \"v\", \"type\": \"histogram\", \"x\": [0.7488859249957294, -2.063476523426313, 0.15896478732317448, 0.9824428266957366, 0.5177956680669261, 1.2795287511749251, 1.3168697401336789, -2.5769642163271804, -0.5223469831142037, 1.8181176703709536, -0.472385080891169, 0.5902248057458955, 0.06501344080504949, -0.47080216571861333, 0.18228275869868904, 0.23126754721306877, 0.6149010050060569, 0.7222076794396597, -0.47556970422863515, 0.460047800114019, 0.20905587617029056, 0.7386997197730129, 0.2963947509662543, 1.3324755157131947, 1.0847241543052293, 0.7238084792303607, 0.031773286629343866, -0.85317652648317, -0.3103145393346325, -0.03628269694808576, -0.3086240085353415, -0.8791329349989142, -1.4582997557298272, 1.0563940955502773, 0.7624476857491007, -0.637472747395494, 0.08463847795218485, -1.1360972676061123, 0.3278612242444931, 0.6074498411024112, -1.9401239947752962, -0.6993479106510858, 1.3059278691514857, -0.19424188683695787, -1.2604848908802941, 0.952687783783637, -1.546031553055093, -0.6993206460498765, 0.20344776954368982, -0.7243873284737312, -0.9800294868969891, -0.514665260515114, 1.0336926944205553, -0.9088425929534667, -1.2397144953831822, 0.9812633628328463, 2.7523411232946318, -0.7275897094517473, 0.6909293763885511, 0.679755401619041, -0.3870724045077387, 0.8660805606258668, -1.3245161399204266, 1.1927202884162393, 0.08939780005427155, -2.806889952909305, 0.8929360431986725, -0.12770744108226054, 0.21199734276229967, 1.1372829909715767, 0.09620678459480445, -0.3018606425639405, 0.9102322118714832, -2.309881595960726, -1.6100568373409712, 0.6090688747514684, -0.6838011355845027, -0.2748716990341536, -0.4223440623301072, -0.8873989045199661, -0.0009738308528003652, 0.10028669510880826, -0.048778800761219, 1.3184511662605012, -2.195277463199274, 0.34417282099715746, 0.2628105585137296, 1.4326207032621394, 0.2935366035552767, 0.39908458968185134, -1.4759639597995606, -0.560377497609232, -1.762548372904548, 1.3007570365012764, 0.1805535576155475, 0.4187410435886277, -0.008350929356977793, -1.4548926844956653, -1.074772822423682, 0.5854026103720574], \"xaxis\": \"x6\", \"yaxis\": \"y6\"}, {\"line\": {\"color\": \"rgba(128, 128, 128, 1.0)\", \"dash\": \"solid\", \"shape\": \"linear\", \"width\": 1.3}, \"marker\": {\"size\": 2, \"symbol\": \"circle\"}, \"mode\": \"markers\", \"name\": \"B\", \"text\": \"\", \"type\": \"scatter\", \"x\": [1.7253801114530336, -0.8804409276344874, 1.331116657890689, -0.21149950462188108, -1.167445572451072, -1.86682032962182, 0.5550567292479028, 0.5452866270236787, 0.6339309155415728, 0.231164891408304, -1.8305006882314347, 0.06471049469239389, -1.1266744570399325, 2.005310295649881, -0.028482335853937907, -0.47676328581315613, 0.9303557807580285, -0.6960540968339621, -0.7265111451351663, 0.6186778710316426, -1.5656749798051184, 0.9086002976698601, -1.4057548790859178, -0.5775605048283244, -0.5714808957081108, -0.006524474517459756, -0.6090064439259069, 0.8926472711827771, -0.9760585243827213, 1.9663547435352045, 1.4326657468524446, 1.662004463772016, 0.24510231590545106, -1.1140187962778287, -0.051942121865523286, -0.8724806670184981, -0.028508923489273388, -0.1319408669048997, 1.0530214539978553, 1.6995103988035576, 0.17594259773996168, -2.2182295179966953, -0.18040527071059057, -0.6997057487838385, -0.2142205109056815, 0.5487184958860298, -0.4079902648528655, -0.26977067737465493, -0.8243829409981692, 0.0867872600282909, -1.0847228525825072, 0.9540307463204664, 0.10576031593004116, -0.7907611436276919, 1.3570657440455447, 1.31366121472068, 1.0328400142798095, 0.10777043870564415, 1.3405761225949349, 0.5325162439920655, 1.3572146232639517, 0.09864623747508508, -1.0844817479277369, 0.06991885791354406, 0.4330280919942761, 0.3949368133459405, -0.07470513451635608, 0.8947229547408788, -0.20101177512636403, -0.829289771380396, 0.22612152082460252, 2.1519403226862326, -0.5992918280704882, -0.915734701343928, -0.24813388814972398, -1.3952127945941872, 0.37273712169823314, 0.4067064042074707, 1.488984685385158, -0.8106816010319763, -1.5421325647403865, 1.330753230343414, -0.4338579419715875, 0.023564367195433637, 0.7189964343463359, 0.6665475964066954, 0.7161413728329881, 0.1229643812477501, 0.29786048037526636, -0.7587902514620694, 0.676306827021562, 0.472869803432536, -0.5311331200629258, -0.4414394903929416, 0.43122606826674764, -0.7984767291316012, -0.21167247168939404, -0.8418568493843376, 0.1003033539435394, 0.9639176565339589], \"xaxis\": \"x7\", \"y\": [0.7488859249957294, -2.063476523426313, 0.15896478732317448, 0.9824428266957366, 0.5177956680669261, 1.2795287511749251, 1.3168697401336789, -2.5769642163271804, -0.5223469831142037, 1.8181176703709536, -0.472385080891169, 0.5902248057458955, 0.06501344080504949, -0.47080216571861333, 0.18228275869868904, 0.23126754721306877, 0.6149010050060569, 0.7222076794396597, -0.47556970422863515, 0.460047800114019, 0.20905587617029056, 0.7386997197730129, 0.2963947509662543, 1.3324755157131947, 1.0847241543052293, 0.7238084792303607, 0.031773286629343866, -0.85317652648317, -0.3103145393346325, -0.03628269694808576, -0.3086240085353415, -0.8791329349989142, -1.4582997557298272, 1.0563940955502773, 0.7624476857491007, -0.637472747395494, 0.08463847795218485, -1.1360972676061123, 0.3278612242444931, 0.6074498411024112, -1.9401239947752962, -0.6993479106510858, 1.3059278691514857, -0.19424188683695787, -1.2604848908802941, 0.952687783783637, -1.546031553055093, -0.6993206460498765, 0.20344776954368982, -0.7243873284737312, -0.9800294868969891, -0.514665260515114, 1.0336926944205553, -0.9088425929534667, -1.2397144953831822, 0.9812633628328463, 2.7523411232946318, -0.7275897094517473, 0.6909293763885511, 0.679755401619041, -0.3870724045077387, 0.8660805606258668, -1.3245161399204266, 1.1927202884162393, 0.08939780005427155, -2.806889952909305, 0.8929360431986725, -0.12770744108226054, 0.21199734276229967, 1.1372829909715767, 0.09620678459480445, -0.3018606425639405, 0.9102322118714832, -2.309881595960726, -1.6100568373409712, 0.6090688747514684, -0.6838011355845027, -0.2748716990341536, -0.4223440623301072, -0.8873989045199661, -0.0009738308528003652, 0.10028669510880826, -0.048778800761219, 1.3184511662605012, -2.195277463199274, 0.34417282099715746, 0.2628105585137296, 1.4326207032621394, 0.2935366035552767, 0.39908458968185134, -1.4759639597995606, -0.560377497609232, -1.762548372904548, 1.3007570365012764, 0.1805535576155475, 0.4187410435886277, -0.008350929356977793, -1.4548926844956653, -1.074772822423682, 0.5854026103720574], \"yaxis\": \"y7\"}, {\"line\": {\"color\": \"rgba(128, 128, 128, 1.0)\", \"dash\": \"solid\", \"shape\": \"linear\", \"width\": 1.3}, \"marker\": {\"size\": 2, \"symbol\": \"circle\"}, \"mode\": \"markers\", \"name\": \"B\", \"text\": \"\", \"type\": \"scatter\", \"x\": [0.4882068764644425, -0.1730599122555562, -0.18029327282843913, 0.08897401757083999, 0.4759079771296569, -0.7475729640986748, -0.6314103667912152, -0.5429540933252955, -0.6867032832812933, 0.003516713451322575, 0.2690133393221728, 1.9113918370343146, 0.8942333609097131, -0.6147020080793911, -0.29627748478840876, -0.7135564071003545, 1.3901561233784447, -0.5446223145677315, 0.665946983365099, -0.7496721950249093, -0.40733460856123066, 0.27465116526722494, 1.5320952066625422, 1.7492770935729696, -1.1543261651182537, -1.184155527301778, 0.028700526904036155, 1.2438773766120852, 0.4365147943692492, 1.1408167992468035, -1.8258998355515466, 1.052927076581993, -0.25881136499559954, 1.1633980352981832, -1.1276238025508922, 0.29249241538744025, -0.9939865758424621, 0.8345157084831906, 0.10678369466768305, 0.6418979095760036, 0.9729734554120418, -1.728577051930168, -2.046106191789923, -2.3617950208986094, 1.5542527388434406, 0.11607119589178173, -1.5037217035024932, -0.2330021546379168, 0.9294035212277092, -0.6546411181672671, 0.37836134228099827, -0.7874206814909359, 1.0745567164294885, -0.8421542414903073, 1.507068399271997, 0.04221631656382646, 0.9985323800813999, 0.07813153273720085, 0.3582652484185667, -0.26568314239766294, 2.0566410122848993, 0.23062388105590104, -0.6224371068334607, 2.8343397633466263, -1.0235495065224018, -0.7326214364645792, -0.9588926845494297, 0.1324900332792681, 0.13374143364652147, 0.8303828681263521, -0.401954368463575, -0.2993793998301332, -1.1751482554395292, -0.615421356355059, -0.3806859547104433, 0.6297112168337228, -0.49686252054116276, -0.3710424946031853, 0.862727439889303, -0.5545510889849203, 3.2613233609225665, 1.03433897470513, -0.20151325723595134, -0.026146515903826384, -0.19179514842935289, -0.8657989069062361, -0.011837114522481318, -0.9300513393433796, 0.6085583810153283, -0.6222195978714236, -1.0247791883432427, 2.1371485346759966, -0.9251541260596596, -0.17952317807502466, -0.5969096817635869, -0.9875194195098052, 0.5458507291811573, 1.118252469599825, -0.06419951244882167, 0.031654006904315884], \"xaxis\": \"x8\", \"y\": [0.7488859249957294, -2.063476523426313, 0.15896478732317448, 0.9824428266957366, 0.5177956680669261, 1.2795287511749251, 1.3168697401336789, -2.5769642163271804, -0.5223469831142037, 1.8181176703709536, -0.472385080891169, 0.5902248057458955, 0.06501344080504949, -0.47080216571861333, 0.18228275869868904, 0.23126754721306877, 0.6149010050060569, 0.7222076794396597, -0.47556970422863515, 0.460047800114019, 0.20905587617029056, 0.7386997197730129, 0.2963947509662543, 1.3324755157131947, 1.0847241543052293, 0.7238084792303607, 0.031773286629343866, -0.85317652648317, -0.3103145393346325, -0.03628269694808576, -0.3086240085353415, -0.8791329349989142, -1.4582997557298272, 1.0563940955502773, 0.7624476857491007, -0.637472747395494, 0.08463847795218485, -1.1360972676061123, 0.3278612242444931, 0.6074498411024112, -1.9401239947752962, -0.6993479106510858, 1.3059278691514857, -0.19424188683695787, -1.2604848908802941, 0.952687783783637, -1.546031553055093, -0.6993206460498765, 0.20344776954368982, -0.7243873284737312, -0.9800294868969891, -0.514665260515114, 1.0336926944205553, -0.9088425929534667, -1.2397144953831822, 0.9812633628328463, 2.7523411232946318, -0.7275897094517473, 0.6909293763885511, 0.679755401619041, -0.3870724045077387, 0.8660805606258668, -1.3245161399204266, 1.1927202884162393, 0.08939780005427155, -2.806889952909305, 0.8929360431986725, -0.12770744108226054, 0.21199734276229967, 1.1372829909715767, 0.09620678459480445, -0.3018606425639405, 0.9102322118714832, -2.309881595960726, -1.6100568373409712, 0.6090688747514684, -0.6838011355845027, -0.2748716990341536, -0.4223440623301072, -0.8873989045199661, -0.0009738308528003652, 0.10028669510880826, -0.048778800761219, 1.3184511662605012, -2.195277463199274, 0.34417282099715746, 0.2628105585137296, 1.4326207032621394, 0.2935366035552767, 0.39908458968185134, -1.4759639597995606, -0.560377497609232, -1.762548372904548, 1.3007570365012764, 0.1805535576155475, 0.4187410435886277, -0.008350929356977793, -1.4548926844956653, -1.074772822423682, 0.5854026103720574], \"yaxis\": \"y8\"}, {\"line\": {\"color\": \"rgba(128, 128, 128, 1.0)\", \"dash\": \"solid\", \"shape\": \"linear\", \"width\": 1.3}, \"marker\": {\"size\": 2, \"symbol\": \"circle\"}, \"mode\": \"markers\", \"name\": \"C\", \"text\": \"\", \"type\": \"scatter\", \"x\": [-0.8280260723763271, -2.77297444794199, -0.38121323391729234, 0.7880707860623422, 2.8084929576725313, -0.1374432130485793, 1.4665828322027583, 1.7170018404039853, -0.006694875240469727, -0.35801270109138483, -0.7945315217293085, 1.107530808756093, 1.1790484531176757, 0.36440605216798233, -1.5822209826572298, -1.2750553918693035, -1.2090255857903993, 0.4590850858171039, -0.6285482031372056, 1.0546402699013748, 1.5138351311137501, 0.8734592513564242, 0.21901261206315306, -1.163953212801199, -0.335892690218668, 0.4938820380998607, 0.06783004821863114, 1.542059648394881, 0.49156166686043756, 0.4633288124694026, -0.9489982987198811, 0.47065989470899516, -0.4418890963795218, 0.44347045975400295, 0.8144597660455606, -0.6531579459403273, 0.42815418084727563, -0.3588910458379977, -0.5335759249000853, 0.6314714718116694, -0.8487016591558267, 1.5846252025402214, 0.17310725166180807, 0.27059605517156654, -0.4694392142146777, 0.5838091465034632, -0.3432331323029411, -0.48966126380907626, -2.3796874131530377, 1.3587330456455726, 1.1171967076671219, -0.20850895799541944, -0.3995385709353827, -1.8147865778734724, 0.7161603237047958, -1.269138912896145, -1.6827178168553847, -0.6674891664222559, -0.30249711294977955, 0.6631651824638187, 2.291182619859816, -2.458340895167761, 0.2899567568659667, -0.47300884042820934, 2.09432237150058, 0.582786511773274, -1.1346112433030937, -1.2649618327532324, 0.34316321337446215, -0.19277560479566427, 0.33379569707167217, -1.517505142343097, -0.4055330148343431, 1.3329366341718163, 3.0880651844214007, -1.3533913810566096, 0.3437532931939382, -1.6575292547862113, 0.7154451417562238, -0.12577120476387404, -0.1221947706218079, 0.5829755695712423, -1.5671691676011716, 1.1105896726371092, -0.09369513621117644, 1.0955857442776014, -1.4282369786985993, -0.05097785455827381, -0.5972071263206464, -1.256475896277932, -1.8851731596449193, 0.828590542968046, -0.4062491091331472, 0.0807500132107527, 0.013163707403381393, -0.6217284887018927, -0.24693675551235092, 0.06197700019368634, 0.5634486026666133, 0.6059138751307764], \"xaxis\": \"x9\", \"y\": [1.7253801114530336, -0.8804409276344874, 1.331116657890689, -0.21149950462188108, -1.167445572451072, -1.86682032962182, 0.5550567292479028, 0.5452866270236787, 0.6339309155415728, 0.231164891408304, -1.8305006882314347, 0.06471049469239389, -1.1266744570399325, 2.005310295649881, -0.028482335853937907, -0.47676328581315613, 0.9303557807580285, -0.6960540968339621, -0.7265111451351663, 0.6186778710316426, -1.5656749798051184, 0.9086002976698601, -1.4057548790859178, -0.5775605048283244, -0.5714808957081108, -0.006524474517459756, -0.6090064439259069, 0.8926472711827771, -0.9760585243827213, 1.9663547435352045, 1.4326657468524446, 1.662004463772016, 0.24510231590545106, -1.1140187962778287, -0.051942121865523286, -0.8724806670184981, -0.028508923489273388, -0.1319408669048997, 1.0530214539978553, 1.6995103988035576, 0.17594259773996168, -2.2182295179966953, -0.18040527071059057, -0.6997057487838385, -0.2142205109056815, 0.5487184958860298, -0.4079902648528655, -0.26977067737465493, -0.8243829409981692, 0.0867872600282909, -1.0847228525825072, 0.9540307463204664, 0.10576031593004116, -0.7907611436276919, 1.3570657440455447, 1.31366121472068, 1.0328400142798095, 0.10777043870564415, 1.3405761225949349, 0.5325162439920655, 1.3572146232639517, 0.09864623747508508, -1.0844817479277369, 0.06991885791354406, 0.4330280919942761, 0.3949368133459405, -0.07470513451635608, 0.8947229547408788, -0.20101177512636403, -0.829289771380396, 0.22612152082460252, 2.1519403226862326, -0.5992918280704882, -0.915734701343928, -0.24813388814972398, -1.3952127945941872, 0.37273712169823314, 0.4067064042074707, 1.488984685385158, -0.8106816010319763, -1.5421325647403865, 1.330753230343414, -0.4338579419715875, 0.023564367195433637, 0.7189964343463359, 0.6665475964066954, 0.7161413728329881, 0.1229643812477501, 0.29786048037526636, -0.7587902514620694, 0.676306827021562, 0.472869803432536, -0.5311331200629258, -0.4414394903929416, 0.43122606826674764, -0.7984767291316012, -0.21167247168939404, -0.8418568493843376, 0.1003033539435394, 0.9639176565339589], \"yaxis\": \"y9\"}, {\"line\": {\"color\": \"rgba(128, 128, 128, 1.0)\", \"dash\": \"solid\", \"shape\": \"linear\", \"width\": 1.3}, \"marker\": {\"size\": 2, \"symbol\": \"circle\"}, \"mode\": \"markers\", \"name\": \"C\", \"text\": \"\", \"type\": \"scatter\", \"x\": [0.7488859249957294, -2.063476523426313, 0.15896478732317448, 0.9824428266957366, 0.5177956680669261, 1.2795287511749251, 1.3168697401336789, -2.5769642163271804, -0.5223469831142037, 1.8181176703709536, -0.472385080891169, 0.5902248057458955, 0.06501344080504949, -0.47080216571861333, 0.18228275869868904, 0.23126754721306877, 0.6149010050060569, 0.7222076794396597, -0.47556970422863515, 0.460047800114019, 0.20905587617029056, 0.7386997197730129, 0.2963947509662543, 1.3324755157131947, 1.0847241543052293, 0.7238084792303607, 0.031773286629343866, -0.85317652648317, -0.3103145393346325, -0.03628269694808576, -0.3086240085353415, -0.8791329349989142, -1.4582997557298272, 1.0563940955502773, 0.7624476857491007, -0.637472747395494, 0.08463847795218485, -1.1360972676061123, 0.3278612242444931, 0.6074498411024112, -1.9401239947752962, -0.6993479106510858, 1.3059278691514857, -0.19424188683695787, -1.2604848908802941, 0.952687783783637, -1.546031553055093, -0.6993206460498765, 0.20344776954368982, -0.7243873284737312, -0.9800294868969891, -0.514665260515114, 1.0336926944205553, -0.9088425929534667, -1.2397144953831822, 0.9812633628328463, 2.7523411232946318, -0.7275897094517473, 0.6909293763885511, 0.679755401619041, -0.3870724045077387, 0.8660805606258668, -1.3245161399204266, 1.1927202884162393, 0.08939780005427155, -2.806889952909305, 0.8929360431986725, -0.12770744108226054, 0.21199734276229967, 1.1372829909715767, 0.09620678459480445, -0.3018606425639405, 0.9102322118714832, -2.309881595960726, -1.6100568373409712, 0.6090688747514684, -0.6838011355845027, -0.2748716990341536, -0.4223440623301072, -0.8873989045199661, -0.0009738308528003652, 0.10028669510880826, -0.048778800761219, 1.3184511662605012, -2.195277463199274, 0.34417282099715746, 0.2628105585137296, 1.4326207032621394, 0.2935366035552767, 0.39908458968185134, -1.4759639597995606, -0.560377497609232, -1.762548372904548, 1.3007570365012764, 0.1805535576155475, 0.4187410435886277, -0.008350929356977793, -1.4548926844956653, -1.074772822423682, 0.5854026103720574], \"xaxis\": \"x10\", \"y\": [1.7253801114530336, -0.8804409276344874, 1.331116657890689, -0.21149950462188108, -1.167445572451072, -1.86682032962182, 0.5550567292479028, 0.5452866270236787, 0.6339309155415728, 0.231164891408304, -1.8305006882314347, 0.06471049469239389, -1.1266744570399325, 2.005310295649881, -0.028482335853937907, -0.47676328581315613, 0.9303557807580285, -0.6960540968339621, -0.7265111451351663, 0.6186778710316426, -1.5656749798051184, 0.9086002976698601, -1.4057548790859178, -0.5775605048283244, -0.5714808957081108, -0.006524474517459756, -0.6090064439259069, 0.8926472711827771, -0.9760585243827213, 1.9663547435352045, 1.4326657468524446, 1.662004463772016, 0.24510231590545106, -1.1140187962778287, -0.051942121865523286, -0.8724806670184981, -0.028508923489273388, -0.1319408669048997, 1.0530214539978553, 1.6995103988035576, 0.17594259773996168, -2.2182295179966953, -0.18040527071059057, -0.6997057487838385, -0.2142205109056815, 0.5487184958860298, -0.4079902648528655, -0.26977067737465493, -0.8243829409981692, 0.0867872600282909, -1.0847228525825072, 0.9540307463204664, 0.10576031593004116, -0.7907611436276919, 1.3570657440455447, 1.31366121472068, 1.0328400142798095, 0.10777043870564415, 1.3405761225949349, 0.5325162439920655, 1.3572146232639517, 0.09864623747508508, -1.0844817479277369, 0.06991885791354406, 0.4330280919942761, 0.3949368133459405, -0.07470513451635608, 0.8947229547408788, -0.20101177512636403, -0.829289771380396, 0.22612152082460252, 2.1519403226862326, -0.5992918280704882, -0.915734701343928, -0.24813388814972398, -1.3952127945941872, 0.37273712169823314, 0.4067064042074707, 1.488984685385158, -0.8106816010319763, -1.5421325647403865, 1.330753230343414, -0.4338579419715875, 0.023564367195433637, 0.7189964343463359, 0.6665475964066954, 0.7161413728329881, 0.1229643812477501, 0.29786048037526636, -0.7587902514620694, 0.676306827021562, 0.472869803432536, -0.5311331200629258, -0.4414394903929416, 0.43122606826674764, -0.7984767291316012, -0.21167247168939404, -0.8418568493843376, 0.1003033539435394, 0.9639176565339589], \"yaxis\": \"y10\"}, {\"histfunc\": \"count\", \"histnorm\": \"\", \"marker\": {\"color\": \"rgba(50, 171, 96, 1.0)\", \"line\": {\"color\": \"#4D5663\", \"width\": 1.3}}, \"name\": \"C\", \"nbinsx\": 10, \"opacity\": 0.8, \"orientation\": \"v\", \"type\": \"histogram\", \"x\": [1.7253801114530336, -0.8804409276344874, 1.331116657890689, -0.21149950462188108, -1.167445572451072, -1.86682032962182, 0.5550567292479028, 0.5452866270236787, 0.6339309155415728, 0.231164891408304, -1.8305006882314347, 0.06471049469239389, -1.1266744570399325, 2.005310295649881, -0.028482335853937907, -0.47676328581315613, 0.9303557807580285, -0.6960540968339621, -0.7265111451351663, 0.6186778710316426, -1.5656749798051184, 0.9086002976698601, -1.4057548790859178, -0.5775605048283244, -0.5714808957081108, -0.006524474517459756, -0.6090064439259069, 0.8926472711827771, -0.9760585243827213, 1.9663547435352045, 1.4326657468524446, 1.662004463772016, 0.24510231590545106, -1.1140187962778287, -0.051942121865523286, -0.8724806670184981, -0.028508923489273388, -0.1319408669048997, 1.0530214539978553, 1.6995103988035576, 0.17594259773996168, -2.2182295179966953, -0.18040527071059057, -0.6997057487838385, -0.2142205109056815, 0.5487184958860298, -0.4079902648528655, -0.26977067737465493, -0.8243829409981692, 0.0867872600282909, -1.0847228525825072, 0.9540307463204664, 0.10576031593004116, -0.7907611436276919, 1.3570657440455447, 1.31366121472068, 1.0328400142798095, 0.10777043870564415, 1.3405761225949349, 0.5325162439920655, 1.3572146232639517, 0.09864623747508508, -1.0844817479277369, 0.06991885791354406, 0.4330280919942761, 0.3949368133459405, -0.07470513451635608, 0.8947229547408788, -0.20101177512636403, -0.829289771380396, 0.22612152082460252, 2.1519403226862326, -0.5992918280704882, -0.915734701343928, -0.24813388814972398, -1.3952127945941872, 0.37273712169823314, 0.4067064042074707, 1.488984685385158, -0.8106816010319763, -1.5421325647403865, 1.330753230343414, -0.4338579419715875, 0.023564367195433637, 0.7189964343463359, 0.6665475964066954, 0.7161413728329881, 0.1229643812477501, 0.29786048037526636, -0.7587902514620694, 0.676306827021562, 0.472869803432536, -0.5311331200629258, -0.4414394903929416, 0.43122606826674764, -0.7984767291316012, -0.21167247168939404, -0.8418568493843376, 0.1003033539435394, 0.9639176565339589], \"xaxis\": \"x11\", \"yaxis\": \"y11\"}, {\"line\": {\"color\": \"rgba(128, 128, 128, 1.0)\", \"dash\": \"solid\", \"shape\": \"linear\", \"width\": 1.3}, \"marker\": {\"size\": 2, \"symbol\": \"circle\"}, \"mode\": \"markers\", \"name\": \"C\", \"text\": \"\", \"type\": \"scatter\", \"x\": [0.4882068764644425, -0.1730599122555562, -0.18029327282843913, 0.08897401757083999, 0.4759079771296569, -0.7475729640986748, -0.6314103667912152, -0.5429540933252955, -0.6867032832812933, 0.003516713451322575, 0.2690133393221728, 1.9113918370343146, 0.8942333609097131, -0.6147020080793911, -0.29627748478840876, -0.7135564071003545, 1.3901561233784447, -0.5446223145677315, 0.665946983365099, -0.7496721950249093, -0.40733460856123066, 0.27465116526722494, 1.5320952066625422, 1.7492770935729696, -1.1543261651182537, -1.184155527301778, 0.028700526904036155, 1.2438773766120852, 0.4365147943692492, 1.1408167992468035, -1.8258998355515466, 1.052927076581993, -0.25881136499559954, 1.1633980352981832, -1.1276238025508922, 0.29249241538744025, -0.9939865758424621, 0.8345157084831906, 0.10678369466768305, 0.6418979095760036, 0.9729734554120418, -1.728577051930168, -2.046106191789923, -2.3617950208986094, 1.5542527388434406, 0.11607119589178173, -1.5037217035024932, -0.2330021546379168, 0.9294035212277092, -0.6546411181672671, 0.37836134228099827, -0.7874206814909359, 1.0745567164294885, -0.8421542414903073, 1.507068399271997, 0.04221631656382646, 0.9985323800813999, 0.07813153273720085, 0.3582652484185667, -0.26568314239766294, 2.0566410122848993, 0.23062388105590104, -0.6224371068334607, 2.8343397633466263, -1.0235495065224018, -0.7326214364645792, -0.9588926845494297, 0.1324900332792681, 0.13374143364652147, 0.8303828681263521, -0.401954368463575, -0.2993793998301332, -1.1751482554395292, -0.615421356355059, -0.3806859547104433, 0.6297112168337228, -0.49686252054116276, -0.3710424946031853, 0.862727439889303, -0.5545510889849203, 3.2613233609225665, 1.03433897470513, -0.20151325723595134, -0.026146515903826384, -0.19179514842935289, -0.8657989069062361, -0.011837114522481318, -0.9300513393433796, 0.6085583810153283, -0.6222195978714236, -1.0247791883432427, 2.1371485346759966, -0.9251541260596596, -0.17952317807502466, -0.5969096817635869, -0.9875194195098052, 0.5458507291811573, 1.118252469599825, -0.06419951244882167, 0.031654006904315884], \"xaxis\": \"x12\", \"y\": [1.7253801114530336, -0.8804409276344874, 1.331116657890689, -0.21149950462188108, -1.167445572451072, -1.86682032962182, 0.5550567292479028, 0.5452866270236787, 0.6339309155415728, 0.231164891408304, -1.8305006882314347, 0.06471049469239389, -1.1266744570399325, 2.005310295649881, -0.028482335853937907, -0.47676328581315613, 0.9303557807580285, -0.6960540968339621, -0.7265111451351663, 0.6186778710316426, -1.5656749798051184, 0.9086002976698601, -1.4057548790859178, -0.5775605048283244, -0.5714808957081108, -0.006524474517459756, -0.6090064439259069, 0.8926472711827771, -0.9760585243827213, 1.9663547435352045, 1.4326657468524446, 1.662004463772016, 0.24510231590545106, -1.1140187962778287, -0.051942121865523286, -0.8724806670184981, -0.028508923489273388, -0.1319408669048997, 1.0530214539978553, 1.6995103988035576, 0.17594259773996168, -2.2182295179966953, -0.18040527071059057, -0.6997057487838385, -0.2142205109056815, 0.5487184958860298, -0.4079902648528655, -0.26977067737465493, -0.8243829409981692, 0.0867872600282909, -1.0847228525825072, 0.9540307463204664, 0.10576031593004116, -0.7907611436276919, 1.3570657440455447, 1.31366121472068, 1.0328400142798095, 0.10777043870564415, 1.3405761225949349, 0.5325162439920655, 1.3572146232639517, 0.09864623747508508, -1.0844817479277369, 0.06991885791354406, 0.4330280919942761, 0.3949368133459405, -0.07470513451635608, 0.8947229547408788, -0.20101177512636403, -0.829289771380396, 0.22612152082460252, 2.1519403226862326, -0.5992918280704882, -0.915734701343928, -0.24813388814972398, -1.3952127945941872, 0.37273712169823314, 0.4067064042074707, 1.488984685385158, -0.8106816010319763, -1.5421325647403865, 1.330753230343414, -0.4338579419715875, 0.023564367195433637, 0.7189964343463359, 0.6665475964066954, 0.7161413728329881, 0.1229643812477501, 0.29786048037526636, -0.7587902514620694, 0.676306827021562, 0.472869803432536, -0.5311331200629258, -0.4414394903929416, 0.43122606826674764, -0.7984767291316012, -0.21167247168939404, -0.8418568493843376, 0.1003033539435394, 0.9639176565339589], \"yaxis\": \"y12\"}, {\"line\": {\"color\": \"rgba(128, 128, 128, 1.0)\", \"dash\": \"solid\", \"shape\": \"linear\", \"width\": 1.3}, \"marker\": {\"size\": 2, \"symbol\": \"circle\"}, \"mode\": \"markers\", \"name\": \"D\", \"text\": \"\", \"type\": \"scatter\", \"x\": [-0.8280260723763271, -2.77297444794199, -0.38121323391729234, 0.7880707860623422, 2.8084929576725313, -0.1374432130485793, 1.4665828322027583, 1.7170018404039853, -0.006694875240469727, -0.35801270109138483, -0.7945315217293085, 1.107530808756093, 1.1790484531176757, 0.36440605216798233, -1.5822209826572298, -1.2750553918693035, -1.2090255857903993, 0.4590850858171039, -0.6285482031372056, 1.0546402699013748, 1.5138351311137501, 0.8734592513564242, 0.21901261206315306, -1.163953212801199, -0.335892690218668, 0.4938820380998607, 0.06783004821863114, 1.542059648394881, 0.49156166686043756, 0.4633288124694026, -0.9489982987198811, 0.47065989470899516, -0.4418890963795218, 0.44347045975400295, 0.8144597660455606, -0.6531579459403273, 0.42815418084727563, -0.3588910458379977, -0.5335759249000853, 0.6314714718116694, -0.8487016591558267, 1.5846252025402214, 0.17310725166180807, 0.27059605517156654, -0.4694392142146777, 0.5838091465034632, -0.3432331323029411, -0.48966126380907626, -2.3796874131530377, 1.3587330456455726, 1.1171967076671219, -0.20850895799541944, -0.3995385709353827, -1.8147865778734724, 0.7161603237047958, -1.269138912896145, -1.6827178168553847, -0.6674891664222559, -0.30249711294977955, 0.6631651824638187, 2.291182619859816, -2.458340895167761, 0.2899567568659667, -0.47300884042820934, 2.09432237150058, 0.582786511773274, -1.1346112433030937, -1.2649618327532324, 0.34316321337446215, -0.19277560479566427, 0.33379569707167217, -1.517505142343097, -0.4055330148343431, 1.3329366341718163, 3.0880651844214007, -1.3533913810566096, 0.3437532931939382, -1.6575292547862113, 0.7154451417562238, -0.12577120476387404, -0.1221947706218079, 0.5829755695712423, -1.5671691676011716, 1.1105896726371092, -0.09369513621117644, 1.0955857442776014, -1.4282369786985993, -0.05097785455827381, -0.5972071263206464, -1.256475896277932, -1.8851731596449193, 0.828590542968046, -0.4062491091331472, 0.0807500132107527, 0.013163707403381393, -0.6217284887018927, -0.24693675551235092, 0.06197700019368634, 0.5634486026666133, 0.6059138751307764], \"xaxis\": \"x13\", \"y\": [0.4882068764644425, -0.1730599122555562, -0.18029327282843913, 0.08897401757083999, 0.4759079771296569, -0.7475729640986748, -0.6314103667912152, -0.5429540933252955, -0.6867032832812933, 0.003516713451322575, 0.2690133393221728, 1.9113918370343146, 0.8942333609097131, -0.6147020080793911, -0.29627748478840876, -0.7135564071003545, 1.3901561233784447, -0.5446223145677315, 0.665946983365099, -0.7496721950249093, -0.40733460856123066, 0.27465116526722494, 1.5320952066625422, 1.7492770935729696, -1.1543261651182537, -1.184155527301778, 0.028700526904036155, 1.2438773766120852, 0.4365147943692492, 1.1408167992468035, -1.8258998355515466, 1.052927076581993, -0.25881136499559954, 1.1633980352981832, -1.1276238025508922, 0.29249241538744025, -0.9939865758424621, 0.8345157084831906, 0.10678369466768305, 0.6418979095760036, 0.9729734554120418, -1.728577051930168, -2.046106191789923, -2.3617950208986094, 1.5542527388434406, 0.11607119589178173, -1.5037217035024932, -0.2330021546379168, 0.9294035212277092, -0.6546411181672671, 0.37836134228099827, -0.7874206814909359, 1.0745567164294885, -0.8421542414903073, 1.507068399271997, 0.04221631656382646, 0.9985323800813999, 0.07813153273720085, 0.3582652484185667, -0.26568314239766294, 2.0566410122848993, 0.23062388105590104, -0.6224371068334607, 2.8343397633466263, -1.0235495065224018, -0.7326214364645792, -0.9588926845494297, 0.1324900332792681, 0.13374143364652147, 0.8303828681263521, -0.401954368463575, -0.2993793998301332, -1.1751482554395292, -0.615421356355059, -0.3806859547104433, 0.6297112168337228, -0.49686252054116276, -0.3710424946031853, 0.862727439889303, -0.5545510889849203, 3.2613233609225665, 1.03433897470513, -0.20151325723595134, -0.026146515903826384, -0.19179514842935289, -0.8657989069062361, -0.011837114522481318, -0.9300513393433796, 0.6085583810153283, -0.6222195978714236, -1.0247791883432427, 2.1371485346759966, -0.9251541260596596, -0.17952317807502466, -0.5969096817635869, -0.9875194195098052, 0.5458507291811573, 1.118252469599825, -0.06419951244882167, 0.031654006904315884], \"yaxis\": \"y13\"}, {\"line\": {\"color\": \"rgba(128, 128, 128, 1.0)\", \"dash\": \"solid\", \"shape\": \"linear\", \"width\": 1.3}, \"marker\": {\"size\": 2, \"symbol\": \"circle\"}, \"mode\": \"markers\", \"name\": \"D\", \"text\": \"\", \"type\": \"scatter\", \"x\": [0.7488859249957294, -2.063476523426313, 0.15896478732317448, 0.9824428266957366, 0.5177956680669261, 1.2795287511749251, 1.3168697401336789, -2.5769642163271804, -0.5223469831142037, 1.8181176703709536, -0.472385080891169, 0.5902248057458955, 0.06501344080504949, -0.47080216571861333, 0.18228275869868904, 0.23126754721306877, 0.6149010050060569, 0.7222076794396597, -0.47556970422863515, 0.460047800114019, 0.20905587617029056, 0.7386997197730129, 0.2963947509662543, 1.3324755157131947, 1.0847241543052293, 0.7238084792303607, 0.031773286629343866, -0.85317652648317, -0.3103145393346325, -0.03628269694808576, -0.3086240085353415, -0.8791329349989142, -1.4582997557298272, 1.0563940955502773, 0.7624476857491007, -0.637472747395494, 0.08463847795218485, -1.1360972676061123, 0.3278612242444931, 0.6074498411024112, -1.9401239947752962, -0.6993479106510858, 1.3059278691514857, -0.19424188683695787, -1.2604848908802941, 0.952687783783637, -1.546031553055093, -0.6993206460498765, 0.20344776954368982, -0.7243873284737312, -0.9800294868969891, -0.514665260515114, 1.0336926944205553, -0.9088425929534667, -1.2397144953831822, 0.9812633628328463, 2.7523411232946318, -0.7275897094517473, 0.6909293763885511, 0.679755401619041, -0.3870724045077387, 0.8660805606258668, -1.3245161399204266, 1.1927202884162393, 0.08939780005427155, -2.806889952909305, 0.8929360431986725, -0.12770744108226054, 0.21199734276229967, 1.1372829909715767, 0.09620678459480445, -0.3018606425639405, 0.9102322118714832, -2.309881595960726, -1.6100568373409712, 0.6090688747514684, -0.6838011355845027, -0.2748716990341536, -0.4223440623301072, -0.8873989045199661, -0.0009738308528003652, 0.10028669510880826, -0.048778800761219, 1.3184511662605012, -2.195277463199274, 0.34417282099715746, 0.2628105585137296, 1.4326207032621394, 0.2935366035552767, 0.39908458968185134, -1.4759639597995606, -0.560377497609232, -1.762548372904548, 1.3007570365012764, 0.1805535576155475, 0.4187410435886277, -0.008350929356977793, -1.4548926844956653, -1.074772822423682, 0.5854026103720574], \"xaxis\": \"x14\", \"y\": [0.4882068764644425, -0.1730599122555562, -0.18029327282843913, 0.08897401757083999, 0.4759079771296569, -0.7475729640986748, -0.6314103667912152, -0.5429540933252955, -0.6867032832812933, 0.003516713451322575, 0.2690133393221728, 1.9113918370343146, 0.8942333609097131, -0.6147020080793911, -0.29627748478840876, -0.7135564071003545, 1.3901561233784447, -0.5446223145677315, 0.665946983365099, -0.7496721950249093, -0.40733460856123066, 0.27465116526722494, 1.5320952066625422, 1.7492770935729696, -1.1543261651182537, -1.184155527301778, 0.028700526904036155, 1.2438773766120852, 0.4365147943692492, 1.1408167992468035, -1.8258998355515466, 1.052927076581993, -0.25881136499559954, 1.1633980352981832, -1.1276238025508922, 0.29249241538744025, -0.9939865758424621, 0.8345157084831906, 0.10678369466768305, 0.6418979095760036, 0.9729734554120418, -1.728577051930168, -2.046106191789923, -2.3617950208986094, 1.5542527388434406, 0.11607119589178173, -1.5037217035024932, -0.2330021546379168, 0.9294035212277092, -0.6546411181672671, 0.37836134228099827, -0.7874206814909359, 1.0745567164294885, -0.8421542414903073, 1.507068399271997, 0.04221631656382646, 0.9985323800813999, 0.07813153273720085, 0.3582652484185667, -0.26568314239766294, 2.0566410122848993, 0.23062388105590104, -0.6224371068334607, 2.8343397633466263, -1.0235495065224018, -0.7326214364645792, -0.9588926845494297, 0.1324900332792681, 0.13374143364652147, 0.8303828681263521, -0.401954368463575, -0.2993793998301332, -1.1751482554395292, -0.615421356355059, -0.3806859547104433, 0.6297112168337228, -0.49686252054116276, -0.3710424946031853, 0.862727439889303, -0.5545510889849203, 3.2613233609225665, 1.03433897470513, -0.20151325723595134, -0.026146515903826384, -0.19179514842935289, -0.8657989069062361, -0.011837114522481318, -0.9300513393433796, 0.6085583810153283, -0.6222195978714236, -1.0247791883432427, 2.1371485346759966, -0.9251541260596596, -0.17952317807502466, -0.5969096817635869, -0.9875194195098052, 0.5458507291811573, 1.118252469599825, -0.06419951244882167, 0.031654006904315884], \"yaxis\": \"y14\"}, {\"line\": {\"color\": \"rgba(128, 128, 128, 1.0)\", \"dash\": \"solid\", \"shape\": \"linear\", \"width\": 1.3}, \"marker\": {\"size\": 2, \"symbol\": \"circle\"}, \"mode\": \"markers\", \"name\": \"D\", \"text\": \"\", \"type\": \"scatter\", \"x\": [1.7253801114530336, -0.8804409276344874, 1.331116657890689, -0.21149950462188108, -1.167445572451072, -1.86682032962182, 0.5550567292479028, 0.5452866270236787, 0.6339309155415728, 0.231164891408304, -1.8305006882314347, 0.06471049469239389, -1.1266744570399325, 2.005310295649881, -0.028482335853937907, -0.47676328581315613, 0.9303557807580285, -0.6960540968339621, -0.7265111451351663, 0.6186778710316426, -1.5656749798051184, 0.9086002976698601, -1.4057548790859178, -0.5775605048283244, -0.5714808957081108, -0.006524474517459756, -0.6090064439259069, 0.8926472711827771, -0.9760585243827213, 1.9663547435352045, 1.4326657468524446, 1.662004463772016, 0.24510231590545106, -1.1140187962778287, -0.051942121865523286, -0.8724806670184981, -0.028508923489273388, -0.1319408669048997, 1.0530214539978553, 1.6995103988035576, 0.17594259773996168, -2.2182295179966953, -0.18040527071059057, -0.6997057487838385, -0.2142205109056815, 0.5487184958860298, -0.4079902648528655, -0.26977067737465493, -0.8243829409981692, 0.0867872600282909, -1.0847228525825072, 0.9540307463204664, 0.10576031593004116, -0.7907611436276919, 1.3570657440455447, 1.31366121472068, 1.0328400142798095, 0.10777043870564415, 1.3405761225949349, 0.5325162439920655, 1.3572146232639517, 0.09864623747508508, -1.0844817479277369, 0.06991885791354406, 0.4330280919942761, 0.3949368133459405, -0.07470513451635608, 0.8947229547408788, -0.20101177512636403, -0.829289771380396, 0.22612152082460252, 2.1519403226862326, -0.5992918280704882, -0.915734701343928, -0.24813388814972398, -1.3952127945941872, 0.37273712169823314, 0.4067064042074707, 1.488984685385158, -0.8106816010319763, -1.5421325647403865, 1.330753230343414, -0.4338579419715875, 0.023564367195433637, 0.7189964343463359, 0.6665475964066954, 0.7161413728329881, 0.1229643812477501, 0.29786048037526636, -0.7587902514620694, 0.676306827021562, 0.472869803432536, -0.5311331200629258, -0.4414394903929416, 0.43122606826674764, -0.7984767291316012, -0.21167247168939404, -0.8418568493843376, 0.1003033539435394, 0.9639176565339589], \"xaxis\": \"x15\", \"y\": [0.4882068764644425, -0.1730599122555562, -0.18029327282843913, 0.08897401757083999, 0.4759079771296569, -0.7475729640986748, -0.6314103667912152, -0.5429540933252955, -0.6867032832812933, 0.003516713451322575, 0.2690133393221728, 1.9113918370343146, 0.8942333609097131, -0.6147020080793911, -0.29627748478840876, -0.7135564071003545, 1.3901561233784447, -0.5446223145677315, 0.665946983365099, -0.7496721950249093, -0.40733460856123066, 0.27465116526722494, 1.5320952066625422, 1.7492770935729696, -1.1543261651182537, -1.184155527301778, 0.028700526904036155, 1.2438773766120852, 0.4365147943692492, 1.1408167992468035, -1.8258998355515466, 1.052927076581993, -0.25881136499559954, 1.1633980352981832, -1.1276238025508922, 0.29249241538744025, -0.9939865758424621, 0.8345157084831906, 0.10678369466768305, 0.6418979095760036, 0.9729734554120418, -1.728577051930168, -2.046106191789923, -2.3617950208986094, 1.5542527388434406, 0.11607119589178173, -1.5037217035024932, -0.2330021546379168, 0.9294035212277092, -0.6546411181672671, 0.37836134228099827, -0.7874206814909359, 1.0745567164294885, -0.8421542414903073, 1.507068399271997, 0.04221631656382646, 0.9985323800813999, 0.07813153273720085, 0.3582652484185667, -0.26568314239766294, 2.0566410122848993, 0.23062388105590104, -0.6224371068334607, 2.8343397633466263, -1.0235495065224018, -0.7326214364645792, -0.9588926845494297, 0.1324900332792681, 0.13374143364652147, 0.8303828681263521, -0.401954368463575, -0.2993793998301332, -1.1751482554395292, -0.615421356355059, -0.3806859547104433, 0.6297112168337228, -0.49686252054116276, -0.3710424946031853, 0.862727439889303, -0.5545510889849203, 3.2613233609225665, 1.03433897470513, -0.20151325723595134, -0.026146515903826384, -0.19179514842935289, -0.8657989069062361, -0.011837114522481318, -0.9300513393433796, 0.6085583810153283, -0.6222195978714236, -1.0247791883432427, 2.1371485346759966, -0.9251541260596596, -0.17952317807502466, -0.5969096817635869, -0.9875194195098052, 0.5458507291811573, 1.118252469599825, -0.06419951244882167, 0.031654006904315884], \"yaxis\": \"y15\"}, {\"histfunc\": \"count\", \"histnorm\": \"\", \"marker\": {\"color\": \"rgba(128, 0, 128, 1.0)\", \"line\": {\"color\": \"#4D5663\", \"width\": 1.3}}, \"name\": \"D\", \"nbinsx\": 10, \"opacity\": 0.8, \"orientation\": \"v\", \"type\": \"histogram\", \"x\": [0.4882068764644425, -0.1730599122555562, -0.18029327282843913, 0.08897401757083999, 0.4759079771296569, -0.7475729640986748, -0.6314103667912152, -0.5429540933252955, -0.6867032832812933, 0.003516713451322575, 0.2690133393221728, 1.9113918370343146, 0.8942333609097131, -0.6147020080793911, -0.29627748478840876, -0.7135564071003545, 1.3901561233784447, -0.5446223145677315, 0.665946983365099, -0.7496721950249093, -0.40733460856123066, 0.27465116526722494, 1.5320952066625422, 1.7492770935729696, -1.1543261651182537, -1.184155527301778, 0.028700526904036155, 1.2438773766120852, 0.4365147943692492, 1.1408167992468035, -1.8258998355515466, 1.052927076581993, -0.25881136499559954, 1.1633980352981832, -1.1276238025508922, 0.29249241538744025, -0.9939865758424621, 0.8345157084831906, 0.10678369466768305, 0.6418979095760036, 0.9729734554120418, -1.728577051930168, -2.046106191789923, -2.3617950208986094, 1.5542527388434406, 0.11607119589178173, -1.5037217035024932, -0.2330021546379168, 0.9294035212277092, -0.6546411181672671, 0.37836134228099827, -0.7874206814909359, 1.0745567164294885, -0.8421542414903073, 1.507068399271997, 0.04221631656382646, 0.9985323800813999, 0.07813153273720085, 0.3582652484185667, -0.26568314239766294, 2.0566410122848993, 0.23062388105590104, -0.6224371068334607, 2.8343397633466263, -1.0235495065224018, -0.7326214364645792, -0.9588926845494297, 0.1324900332792681, 0.13374143364652147, 0.8303828681263521, -0.401954368463575, -0.2993793998301332, -1.1751482554395292, -0.615421356355059, -0.3806859547104433, 0.6297112168337228, -0.49686252054116276, -0.3710424946031853, 0.862727439889303, -0.5545510889849203, 3.2613233609225665, 1.03433897470513, -0.20151325723595134, -0.026146515903826384, -0.19179514842935289, -0.8657989069062361, -0.011837114522481318, -0.9300513393433796, 0.6085583810153283, -0.6222195978714236, -1.0247791883432427, 2.1371485346759966, -0.9251541260596596, -0.17952317807502466, -0.5969096817635869, -0.9875194195098052, 0.5458507291811573, 1.118252469599825, -0.06419951244882167, 0.031654006904315884], \"xaxis\": \"x16\", \"yaxis\": \"y16\"}],                        {\"bargap\": 0.02, \"legend\": {\"bgcolor\": \"#F5F6F9\", \"font\": {\"color\": \"#4D5663\"}}, \"paper_bgcolor\": \"#F5F6F9\", \"plot_bgcolor\": \"#F5F6F9\", \"showlegend\": false, \"template\": {\"data\": {\"bar\": [{\"error_x\": {\"color\": \"#2a3f5f\"}, \"error_y\": {\"color\": \"#2a3f5f\"}, \"marker\": {\"line\": {\"color\": \"#E5ECF6\", \"width\": 0.5}}, \"type\": \"bar\"}], \"barpolar\": [{\"marker\": {\"line\": {\"color\": \"#E5ECF6\", \"width\": 0.5}}, \"type\": \"barpolar\"}], \"carpet\": [{\"aaxis\": {\"endlinecolor\": \"#2a3f5f\", \"gridcolor\": \"white\", \"linecolor\": \"white\", \"minorgridcolor\": \"white\", \"startlinecolor\": \"#2a3f5f\"}, \"baxis\": {\"endlinecolor\": \"#2a3f5f\", \"gridcolor\": \"white\", \"linecolor\": \"white\", \"minorgridcolor\": \"white\", \"startlinecolor\": \"#2a3f5f\"}, \"type\": \"carpet\"}], \"choropleth\": [{\"colorbar\": {\"outlinewidth\": 0, \"ticks\": \"\"}, \"type\": \"choropleth\"}], \"contour\": [{\"colorbar\": {\"outlinewidth\": 0, \"ticks\": \"\"}, \"colorscale\": [[0.0, \"#0d0887\"], [0.1111111111111111, \"#46039f\"], [0.2222222222222222, \"#7201a8\"], [0.3333333333333333, \"#9c179e\"], [0.4444444444444444, \"#bd3786\"], [0.5555555555555556, \"#d8576b\"], [0.6666666666666666, \"#ed7953\"], [0.7777777777777778, \"#fb9f3a\"], [0.8888888888888888, \"#fdca26\"], [1.0, \"#f0f921\"]], \"type\": \"contour\"}], \"contourcarpet\": [{\"colorbar\": {\"outlinewidth\": 0, \"ticks\": \"\"}, \"type\": \"contourcarpet\"}], \"heatmap\": [{\"colorbar\": {\"outlinewidth\": 0, \"ticks\": \"\"}, \"colorscale\": [[0.0, \"#0d0887\"], [0.1111111111111111, \"#46039f\"], [0.2222222222222222, \"#7201a8\"], [0.3333333333333333, \"#9c179e\"], [0.4444444444444444, \"#bd3786\"], [0.5555555555555556, \"#d8576b\"], [0.6666666666666666, \"#ed7953\"], [0.7777777777777778, \"#fb9f3a\"], [0.8888888888888888, \"#fdca26\"], [1.0, \"#f0f921\"]], \"type\": \"heatmap\"}], \"heatmapgl\": [{\"colorbar\": {\"outlinewidth\": 0, \"ticks\": \"\"}, \"colorscale\": [[0.0, \"#0d0887\"], [0.1111111111111111, \"#46039f\"], [0.2222222222222222, \"#7201a8\"], [0.3333333333333333, \"#9c179e\"], [0.4444444444444444, \"#bd3786\"], [0.5555555555555556, \"#d8576b\"], [0.6666666666666666, \"#ed7953\"], [0.7777777777777778, \"#fb9f3a\"], [0.8888888888888888, \"#fdca26\"], [1.0, \"#f0f921\"]], \"type\": \"heatmapgl\"}], \"histogram\": [{\"marker\": {\"colorbar\": {\"outlinewidth\": 0, \"ticks\": \"\"}}, \"type\": \"histogram\"}], \"histogram2d\": [{\"colorbar\": {\"outlinewidth\": 0, \"ticks\": \"\"}, \"colorscale\": [[0.0, \"#0d0887\"], [0.1111111111111111, \"#46039f\"], [0.2222222222222222, \"#7201a8\"], [0.3333333333333333, \"#9c179e\"], [0.4444444444444444, \"#bd3786\"], [0.5555555555555556, \"#d8576b\"], [0.6666666666666666, \"#ed7953\"], [0.7777777777777778, \"#fb9f3a\"], [0.8888888888888888, \"#fdca26\"], [1.0, \"#f0f921\"]], \"type\": \"histogram2d\"}], \"histogram2dcontour\": [{\"colorbar\": {\"outlinewidth\": 0, \"ticks\": \"\"}, \"colorscale\": [[0.0, \"#0d0887\"], [0.1111111111111111, \"#46039f\"], [0.2222222222222222, \"#7201a8\"], [0.3333333333333333, \"#9c179e\"], [0.4444444444444444, \"#bd3786\"], [0.5555555555555556, \"#d8576b\"], [0.6666666666666666, \"#ed7953\"], [0.7777777777777778, \"#fb9f3a\"], [0.8888888888888888, \"#fdca26\"], [1.0, \"#f0f921\"]], \"type\": \"histogram2dcontour\"}], \"mesh3d\": [{\"colorbar\": {\"outlinewidth\": 0, \"ticks\": \"\"}, \"type\": \"mesh3d\"}], \"parcoords\": [{\"line\": {\"colorbar\": {\"outlinewidth\": 0, \"ticks\": \"\"}}, \"type\": \"parcoords\"}], \"pie\": [{\"automargin\": true, \"type\": \"pie\"}], \"scatter\": [{\"marker\": {\"colorbar\": {\"outlinewidth\": 0, \"ticks\": \"\"}}, \"type\": \"scatter\"}], \"scatter3d\": [{\"line\": {\"colorbar\": {\"outlinewidth\": 0, \"ticks\": \"\"}}, \"marker\": {\"colorbar\": {\"outlinewidth\": 0, \"ticks\": \"\"}}, \"type\": \"scatter3d\"}], \"scattercarpet\": [{\"marker\": {\"colorbar\": {\"outlinewidth\": 0, \"ticks\": \"\"}}, \"type\": \"scattercarpet\"}], \"scattergeo\": [{\"marker\": {\"colorbar\": {\"outlinewidth\": 0, \"ticks\": \"\"}}, \"type\": \"scattergeo\"}], \"scattergl\": [{\"marker\": {\"colorbar\": {\"outlinewidth\": 0, \"ticks\": \"\"}}, \"type\": \"scattergl\"}], \"scattermapbox\": [{\"marker\": {\"colorbar\": {\"outlinewidth\": 0, \"ticks\": \"\"}}, \"type\": \"scattermapbox\"}], \"scatterpolar\": [{\"marker\": {\"colorbar\": {\"outlinewidth\": 0, \"ticks\": \"\"}}, \"type\": \"scatterpolar\"}], \"scatterpolargl\": [{\"marker\": {\"colorbar\": {\"outlinewidth\": 0, \"ticks\": \"\"}}, \"type\": \"scatterpolargl\"}], \"scatterternary\": [{\"marker\": {\"colorbar\": {\"outlinewidth\": 0, \"ticks\": \"\"}}, \"type\": \"scatterternary\"}], \"surface\": [{\"colorbar\": {\"outlinewidth\": 0, \"ticks\": \"\"}, \"colorscale\": [[0.0, \"#0d0887\"], [0.1111111111111111, \"#46039f\"], [0.2222222222222222, \"#7201a8\"], [0.3333333333333333, \"#9c179e\"], [0.4444444444444444, \"#bd3786\"], [0.5555555555555556, \"#d8576b\"], [0.6666666666666666, \"#ed7953\"], [0.7777777777777778, \"#fb9f3a\"], [0.8888888888888888, \"#fdca26\"], [1.0, \"#f0f921\"]], \"type\": \"surface\"}], \"table\": [{\"cells\": {\"fill\": {\"color\": \"#EBF0F8\"}, \"line\": {\"color\": \"white\"}}, \"header\": {\"fill\": {\"color\": \"#C8D4E3\"}, \"line\": {\"color\": \"white\"}}, \"type\": \"table\"}]}, \"layout\": {\"annotationdefaults\": {\"arrowcolor\": \"#2a3f5f\", \"arrowhead\": 0, \"arrowwidth\": 1}, \"autotypenumbers\": \"strict\", \"coloraxis\": {\"colorbar\": {\"outlinewidth\": 0, \"ticks\": \"\"}}, \"colorscale\": {\"diverging\": [[0, \"#8e0152\"], [0.1, \"#c51b7d\"], [0.2, \"#de77ae\"], [0.3, \"#f1b6da\"], [0.4, \"#fde0ef\"], [0.5, \"#f7f7f7\"], [0.6, \"#e6f5d0\"], [0.7, \"#b8e186\"], [0.8, \"#7fbc41\"], [0.9, \"#4d9221\"], [1, \"#276419\"]], \"sequential\": [[0.0, \"#0d0887\"], [0.1111111111111111, \"#46039f\"], [0.2222222222222222, \"#7201a8\"], [0.3333333333333333, \"#9c179e\"], [0.4444444444444444, \"#bd3786\"], [0.5555555555555556, \"#d8576b\"], [0.6666666666666666, \"#ed7953\"], [0.7777777777777778, \"#fb9f3a\"], [0.8888888888888888, \"#fdca26\"], [1.0, \"#f0f921\"]], \"sequentialminus\": [[0.0, \"#0d0887\"], [0.1111111111111111, \"#46039f\"], [0.2222222222222222, \"#7201a8\"], [0.3333333333333333, \"#9c179e\"], [0.4444444444444444, \"#bd3786\"], [0.5555555555555556, \"#d8576b\"], [0.6666666666666666, \"#ed7953\"], [0.7777777777777778, \"#fb9f3a\"], [0.8888888888888888, \"#fdca26\"], [1.0, \"#f0f921\"]]}, \"colorway\": [\"#636efa\", \"#EF553B\", \"#00cc96\", \"#ab63fa\", \"#FFA15A\", \"#19d3f3\", \"#FF6692\", \"#B6E880\", \"#FF97FF\", \"#FECB52\"], \"font\": {\"color\": \"#2a3f5f\"}, \"geo\": {\"bgcolor\": \"white\", \"lakecolor\": \"white\", \"landcolor\": \"#E5ECF6\", \"showlakes\": true, \"showland\": true, \"subunitcolor\": \"white\"}, \"hoverlabel\": {\"align\": \"left\"}, \"hovermode\": \"closest\", \"mapbox\": {\"style\": \"light\"}, \"paper_bgcolor\": \"white\", \"plot_bgcolor\": \"#E5ECF6\", \"polar\": {\"angularaxis\": {\"gridcolor\": \"white\", \"linecolor\": \"white\", \"ticks\": \"\"}, \"bgcolor\": \"#E5ECF6\", \"radialaxis\": {\"gridcolor\": \"white\", \"linecolor\": \"white\", \"ticks\": \"\"}}, \"scene\": {\"xaxis\": {\"backgroundcolor\": \"#E5ECF6\", \"gridcolor\": \"white\", \"gridwidth\": 2, \"linecolor\": \"white\", \"showbackground\": true, \"ticks\": \"\", \"zerolinecolor\": \"white\"}, \"yaxis\": {\"backgroundcolor\": \"#E5ECF6\", \"gridcolor\": \"white\", \"gridwidth\": 2, \"linecolor\": \"white\", \"showbackground\": true, \"ticks\": \"\", \"zerolinecolor\": \"white\"}, \"zaxis\": {\"backgroundcolor\": \"#E5ECF6\", \"gridcolor\": \"white\", \"gridwidth\": 2, \"linecolor\": \"white\", \"showbackground\": true, \"ticks\": \"\", \"zerolinecolor\": \"white\"}}, \"shapedefaults\": {\"line\": {\"color\": \"#2a3f5f\"}}, \"ternary\": {\"aaxis\": {\"gridcolor\": \"white\", \"linecolor\": \"white\", \"ticks\": \"\"}, \"baxis\": {\"gridcolor\": \"white\", \"linecolor\": \"white\", \"ticks\": \"\"}, \"bgcolor\": \"#E5ECF6\", \"caxis\": {\"gridcolor\": \"white\", \"linecolor\": \"white\", \"ticks\": \"\"}}, \"title\": {\"x\": 0.05}, \"xaxis\": {\"automargin\": true, \"gridcolor\": \"white\", \"linecolor\": \"white\", \"ticks\": \"\", \"title\": {\"standoff\": 15}, \"zerolinecolor\": \"white\", \"zerolinewidth\": 2}, \"yaxis\": {\"automargin\": true, \"gridcolor\": \"white\", \"linecolor\": \"white\", \"ticks\": \"\", \"title\": {\"standoff\": 15}, \"zerolinecolor\": \"white\", \"zerolinewidth\": 2}}}, \"title\": {\"font\": {\"color\": \"#4D5663\"}}, \"xaxis\": {\"anchor\": \"y\", \"domain\": [0.0, 0.2125], \"gridcolor\": \"#E1E5ED\", \"showgrid\": false, \"tickfont\": {\"color\": \"#4D5663\"}, \"title\": {\"font\": {\"color\": \"#4D5663\"}, \"text\": \"\"}, \"zerolinecolor\": \"#E1E5ED\"}, \"xaxis10\": {\"anchor\": \"y10\", \"domain\": [0.2625, 0.475], \"gridcolor\": \"#E1E5ED\", \"showgrid\": false, \"tickfont\": {\"color\": \"#4D5663\"}, \"title\": {\"font\": {\"color\": \"#4D5663\"}, \"text\": \"\"}, \"zerolinecolor\": \"#E1E5ED\"}, \"xaxis11\": {\"anchor\": \"y11\", \"domain\": [0.525, 0.7375], \"gridcolor\": \"#E1E5ED\", \"showgrid\": false, \"tickfont\": {\"color\": \"#4D5663\"}, \"title\": {\"font\": {\"color\": \"#4D5663\"}, \"text\": \"\"}, \"zerolinecolor\": \"#E1E5ED\"}, \"xaxis12\": {\"anchor\": \"y12\", \"domain\": [0.7875, 1.0], \"gridcolor\": \"#E1E5ED\", \"showgrid\": false, \"tickfont\": {\"color\": \"#4D5663\"}, \"title\": {\"font\": {\"color\": \"#4D5663\"}, \"text\": \"\"}, \"zerolinecolor\": \"#E1E5ED\"}, \"xaxis13\": {\"anchor\": \"y13\", \"domain\": [0.0, 0.2125], \"gridcolor\": \"#E1E5ED\", \"showgrid\": false, \"tickfont\": {\"color\": \"#4D5663\"}, \"title\": {\"font\": {\"color\": \"#4D5663\"}, \"text\": \"\"}, \"zerolinecolor\": \"#E1E5ED\"}, \"xaxis14\": {\"anchor\": \"y14\", \"domain\": [0.2625, 0.475], \"gridcolor\": \"#E1E5ED\", \"showgrid\": false, \"tickfont\": {\"color\": \"#4D5663\"}, \"title\": {\"font\": {\"color\": \"#4D5663\"}, \"text\": \"\"}, \"zerolinecolor\": \"#E1E5ED\"}, \"xaxis15\": {\"anchor\": \"y15\", \"domain\": [0.525, 0.7375], \"gridcolor\": \"#E1E5ED\", \"showgrid\": false, \"tickfont\": {\"color\": \"#4D5663\"}, \"title\": {\"font\": {\"color\": \"#4D5663\"}, \"text\": \"\"}, \"zerolinecolor\": \"#E1E5ED\"}, \"xaxis16\": {\"anchor\": \"y16\", \"domain\": [0.7875, 1.0], \"gridcolor\": \"#E1E5ED\", \"showgrid\": false, \"tickfont\": {\"color\": \"#4D5663\"}, \"title\": {\"font\": {\"color\": \"#4D5663\"}, \"text\": \"\"}, \"zerolinecolor\": \"#E1E5ED\"}, \"xaxis2\": {\"anchor\": \"y2\", \"domain\": [0.2625, 0.475], \"gridcolor\": \"#E1E5ED\", \"showgrid\": false, \"tickfont\": {\"color\": \"#4D5663\"}, \"title\": {\"font\": {\"color\": \"#4D5663\"}, \"text\": \"\"}, \"zerolinecolor\": \"#E1E5ED\"}, \"xaxis3\": {\"anchor\": \"y3\", \"domain\": [0.525, 0.7375], \"gridcolor\": \"#E1E5ED\", \"showgrid\": false, \"tickfont\": {\"color\": \"#4D5663\"}, \"title\": {\"font\": {\"color\": \"#4D5663\"}, \"text\": \"\"}, \"zerolinecolor\": \"#E1E5ED\"}, \"xaxis4\": {\"anchor\": \"y4\", \"domain\": [0.7875, 1.0], \"gridcolor\": \"#E1E5ED\", \"showgrid\": false, \"tickfont\": {\"color\": \"#4D5663\"}, \"title\": {\"font\": {\"color\": \"#4D5663\"}, \"text\": \"\"}, \"zerolinecolor\": \"#E1E5ED\"}, \"xaxis5\": {\"anchor\": \"y5\", \"domain\": [0.0, 0.2125], \"gridcolor\": \"#E1E5ED\", \"showgrid\": false, \"tickfont\": {\"color\": \"#4D5663\"}, \"title\": {\"font\": {\"color\": \"#4D5663\"}, \"text\": \"\"}, \"zerolinecolor\": \"#E1E5ED\"}, \"xaxis6\": {\"anchor\": \"y6\", \"domain\": [0.2625, 0.475], \"gridcolor\": \"#E1E5ED\", \"showgrid\": false, \"tickfont\": {\"color\": \"#4D5663\"}, \"title\": {\"font\": {\"color\": \"#4D5663\"}, \"text\": \"\"}, \"zerolinecolor\": \"#E1E5ED\"}, \"xaxis7\": {\"anchor\": \"y7\", \"domain\": [0.525, 0.7375], \"gridcolor\": \"#E1E5ED\", \"showgrid\": false, \"tickfont\": {\"color\": \"#4D5663\"}, \"title\": {\"font\": {\"color\": \"#4D5663\"}, \"text\": \"\"}, \"zerolinecolor\": \"#E1E5ED\"}, \"xaxis8\": {\"anchor\": \"y8\", \"domain\": [0.7875, 1.0], \"gridcolor\": \"#E1E5ED\", \"showgrid\": false, \"tickfont\": {\"color\": \"#4D5663\"}, \"title\": {\"font\": {\"color\": \"#4D5663\"}, \"text\": \"\"}, \"zerolinecolor\": \"#E1E5ED\"}, \"xaxis9\": {\"anchor\": \"y9\", \"domain\": [0.0, 0.2125], \"gridcolor\": \"#E1E5ED\", \"showgrid\": false, \"tickfont\": {\"color\": \"#4D5663\"}, \"title\": {\"font\": {\"color\": \"#4D5663\"}, \"text\": \"\"}, \"zerolinecolor\": \"#E1E5ED\"}, \"yaxis\": {\"anchor\": \"x\", \"domain\": [0.8025, 1.0], \"gridcolor\": \"#E1E5ED\", \"showgrid\": false, \"tickfont\": {\"color\": \"#4D5663\"}, \"title\": {\"font\": {\"color\": \"#4D5663\"}, \"text\": \"\"}, \"zerolinecolor\": \"#E1E5ED\"}, \"yaxis10\": {\"anchor\": \"x10\", \"domain\": [0.2675, 0.465], \"gridcolor\": \"#E1E5ED\", \"showgrid\": false, \"tickfont\": {\"color\": \"#4D5663\"}, \"title\": {\"font\": {\"color\": \"#4D5663\"}, \"text\": \"\"}, \"zerolinecolor\": \"#E1E5ED\"}, \"yaxis11\": {\"anchor\": \"x11\", \"domain\": [0.2675, 0.465], \"gridcolor\": \"#E1E5ED\", \"showgrid\": false, \"tickfont\": {\"color\": \"#4D5663\"}, \"title\": {\"font\": {\"color\": \"#4D5663\"}, \"text\": \"\"}, \"zerolinecolor\": \"#E1E5ED\"}, \"yaxis12\": {\"anchor\": \"x12\", \"domain\": [0.2675, 0.465], \"gridcolor\": \"#E1E5ED\", \"showgrid\": false, \"tickfont\": {\"color\": \"#4D5663\"}, \"title\": {\"font\": {\"color\": \"#4D5663\"}, \"text\": \"\"}, \"zerolinecolor\": \"#E1E5ED\"}, \"yaxis13\": {\"anchor\": \"x13\", \"domain\": [0.0, 0.1975], \"gridcolor\": \"#E1E5ED\", \"showgrid\": false, \"tickfont\": {\"color\": \"#4D5663\"}, \"title\": {\"font\": {\"color\": \"#4D5663\"}, \"text\": \"\"}, \"zerolinecolor\": \"#E1E5ED\"}, \"yaxis14\": {\"anchor\": \"x14\", \"domain\": [0.0, 0.1975], \"gridcolor\": \"#E1E5ED\", \"showgrid\": false, \"tickfont\": {\"color\": \"#4D5663\"}, \"title\": {\"font\": {\"color\": \"#4D5663\"}, \"text\": \"\"}, \"zerolinecolor\": \"#E1E5ED\"}, \"yaxis15\": {\"anchor\": \"x15\", \"domain\": [0.0, 0.1975], \"gridcolor\": \"#E1E5ED\", \"showgrid\": false, \"tickfont\": {\"color\": \"#4D5663\"}, \"title\": {\"font\": {\"color\": \"#4D5663\"}, \"text\": \"\"}, \"zerolinecolor\": \"#E1E5ED\"}, \"yaxis16\": {\"anchor\": \"x16\", \"domain\": [0.0, 0.1975], \"gridcolor\": \"#E1E5ED\", \"showgrid\": false, \"tickfont\": {\"color\": \"#4D5663\"}, \"title\": {\"font\": {\"color\": \"#4D5663\"}, \"text\": \"\"}, \"zerolinecolor\": \"#E1E5ED\"}, \"yaxis2\": {\"anchor\": \"x2\", \"domain\": [0.8025, 1.0], \"gridcolor\": \"#E1E5ED\", \"showgrid\": false, \"tickfont\": {\"color\": \"#4D5663\"}, \"title\": {\"font\": {\"color\": \"#4D5663\"}, \"text\": \"\"}, \"zerolinecolor\": \"#E1E5ED\"}, \"yaxis3\": {\"anchor\": \"x3\", \"domain\": [0.8025, 1.0], \"gridcolor\": \"#E1E5ED\", \"showgrid\": false, \"tickfont\": {\"color\": \"#4D5663\"}, \"title\": {\"font\": {\"color\": \"#4D5663\"}, \"text\": \"\"}, \"zerolinecolor\": \"#E1E5ED\"}, \"yaxis4\": {\"anchor\": \"x4\", \"domain\": [0.8025, 1.0], \"gridcolor\": \"#E1E5ED\", \"showgrid\": false, \"tickfont\": {\"color\": \"#4D5663\"}, \"title\": {\"font\": {\"color\": \"#4D5663\"}, \"text\": \"\"}, \"zerolinecolor\": \"#E1E5ED\"}, \"yaxis5\": {\"anchor\": \"x5\", \"domain\": [0.535, 0.7325], \"gridcolor\": \"#E1E5ED\", \"showgrid\": false, \"tickfont\": {\"color\": \"#4D5663\"}, \"title\": {\"font\": {\"color\": \"#4D5663\"}, \"text\": \"\"}, \"zerolinecolor\": \"#E1E5ED\"}, \"yaxis6\": {\"anchor\": \"x6\", \"domain\": [0.535, 0.7325], \"gridcolor\": \"#E1E5ED\", \"showgrid\": false, \"tickfont\": {\"color\": \"#4D5663\"}, \"title\": {\"font\": {\"color\": \"#4D5663\"}, \"text\": \"\"}, \"zerolinecolor\": \"#E1E5ED\"}, \"yaxis7\": {\"anchor\": \"x7\", \"domain\": [0.535, 0.7325], \"gridcolor\": \"#E1E5ED\", \"showgrid\": false, \"tickfont\": {\"color\": \"#4D5663\"}, \"title\": {\"font\": {\"color\": \"#4D5663\"}, \"text\": \"\"}, \"zerolinecolor\": \"#E1E5ED\"}, \"yaxis8\": {\"anchor\": \"x8\", \"domain\": [0.535, 0.7325], \"gridcolor\": \"#E1E5ED\", \"showgrid\": false, \"tickfont\": {\"color\": \"#4D5663\"}, \"title\": {\"font\": {\"color\": \"#4D5663\"}, \"text\": \"\"}, \"zerolinecolor\": \"#E1E5ED\"}, \"yaxis9\": {\"anchor\": \"x9\", \"domain\": [0.2675, 0.465], \"gridcolor\": \"#E1E5ED\", \"showgrid\": false, \"tickfont\": {\"color\": \"#4D5663\"}, \"title\": {\"font\": {\"color\": \"#4D5663\"}, \"text\": \"\"}, \"zerolinecolor\": \"#E1E5ED\"}},                        {\"showLink\": true, \"linkText\": \"Export to plot.ly\", \"plotlyServerURL\": \"https://plot.ly\", \"responsive\": true}                    ).then(function(){\n",
       "                            \n",
       "var gd = document.getElementById('b0002bda-4b52-4eb4-838b-8c1a31765b15');\n",
       "var x = new MutationObserver(function (mutations, observer) {{\n",
       "        var display = window.getComputedStyle(gd).display;\n",
       "        if (!display || display === 'none') {{\n",
       "            console.log([gd, 'removed!']);\n",
       "            Plotly.purge(gd);\n",
       "            observer.disconnect();\n",
       "        }}\n",
       "}});\n",
       "\n",
       "// Listen for the removal of the full notebook cells\n",
       "var notebookContainer = gd.closest('#notebook-container');\n",
       "if (notebookContainer) {{\n",
       "    x.observe(notebookContainer, {childList: true});\n",
       "}}\n",
       "\n",
       "// Listen for the clearing of the current output cell\n",
       "var outputEl = gd.closest('.output');\n",
       "if (outputEl) {{\n",
       "    x.observe(outputEl, {childList: true});\n",
       "}}\n",
       "\n",
       "                        })                };                });            </script>        </div>"
      ]
     },
     "metadata": {},
     "output_type": "display_data"
    }
   ],
   "source": [
    "df.scatter_matrix()"
   ]
  },
  {
   "cell_type": "markdown",
   "metadata": {
    "collapsed": true
   },
   "source": [
    "# Great Job!"
   ]
  }
 ],
 "metadata": {
  "kernelspec": {
   "display_name": "Python 3",
   "language": "python",
   "name": "python3"
  },
  "language_info": {
   "codemirror_mode": {
    "name": "ipython",
    "version": 3
   },
   "file_extension": ".py",
   "mimetype": "text/x-python",
   "name": "python",
   "nbconvert_exporter": "python",
   "pygments_lexer": "ipython3",
   "version": "3.8.3"
  }
 },
 "nbformat": 4,
 "nbformat_minor": 1
}
